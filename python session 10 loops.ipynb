{
 "cells": [
  {
   "cell_type": "markdown",
   "id": "15b51533-42ff-49fc-abb3-352d0b71e45b",
   "metadata": {},
   "source": [
    "**Loops**"
   ]
  },
  {
   "cell_type": "code",
   "execution_count": null,
   "id": "1c9590a7-db20-4a2b-8acc-27d8883cbc8a",
   "metadata": {},
   "outputs": [],
   "source": [
    "-   loops\n",
    "- iterate a piece of code until the condition satisfy\n",
    "- we can run a code normally\n",
    "- we can run a code by using function wrapper(functions)\n",
    "- we can run a code multiple times(loops)\n",
    "- we can run a code by using condition(conditions)"
   ]
  },
  {
   "cell_type": "code",
   "execution_count": 18,
   "id": "420d9770-9334-44a5-a19f-565cfa5c8b37",
   "metadata": {},
   "outputs": [
    {
     "name": "stdout",
     "output_type": "stream",
     "text": [
      "30\n"
     ]
    }
   ],
   "source": [
    "a=10\n",
    "b=20\n",
    "c=a+b\n",
    "print(c)"
   ]
  },
  {
   "cell_type": "code",
   "execution_count": 19,
   "id": "9115bad3-b1d1-4b3c-952a-9adba8ab3ead",
   "metadata": {},
   "outputs": [
    {
     "name": "stdout",
     "output_type": "stream",
     "text": [
      "30\n"
     ]
    }
   ],
   "source": [
    "if True:\n",
    "    a=10\n",
    "    b=20\n",
    "    c=a+b\n",
    "    print(c)"
   ]
  },
  {
   "cell_type": "code",
   "execution_count": 20,
   "id": "5a094763-aa45-4cad-97f4-780eb911b64b",
   "metadata": {},
   "outputs": [
    {
     "name": "stdout",
     "output_type": "stream",
     "text": [
      "30\n"
     ]
    }
   ],
   "source": [
    "def add():\n",
    "    a=10\n",
    "    b=20\n",
    "    c=a+b\n",
    "    print(c)\n",
    "\n",
    "add()"
   ]
  },
  {
   "cell_type": "code",
   "execution_count": 17,
   "id": "6c70b9c2-6887-41e6-8c34-1ac64c2741fa",
   "metadata": {},
   "outputs": [
    {
     "name": "stdin",
     "output_type": "stream",
     "text": [
      "enter the salary 4500\n",
      "enter the tax_per 3\n"
     ]
    },
    {
     "name": "stdout",
     "output_type": "stream",
     "text": [
      "135.0\n"
     ]
    }
   ],
   "source": [
    "salary=eval(input('enter the salary'))\n",
    "tax_per=eval(input('enter the tax_per'))\n",
    "tax_amount=salary*tax_per/100\n",
    "print(tax_amount)"
   ]
  },
  {
   "cell_type": "code",
   "execution_count": 16,
   "id": "cf80a45d-5c3c-4b47-ab9b-1d462efdb6fc",
   "metadata": {},
   "outputs": [
    {
     "name": "stdin",
     "output_type": "stream",
     "text": [
      "enter the salary 30000\n",
      "enter the tax_per 15\n"
     ]
    },
    {
     "name": "stdout",
     "output_type": "stream",
     "text": [
      "4500.0\n"
     ]
    }
   ],
   "source": [
    "def tax():\n",
    "    salary=eval(input('enter the salary'))\n",
    "    tax_per=eval(input('enter the tax_per'))\n",
    "    tax_amount=salary*tax_per/100\n",
    "    print(tax_amount)\n",
    "\n",
    "tax()"
   ]
  },
  {
   "cell_type": "markdown",
   "id": "b229e73b-dfd1-4b4f-acc2-79b12e43e0ee",
   "metadata": {},
   "source": [
    "- For loop\n",
    "\n",
    "- While loops\n",
    "\n",
    "- any loop\n",
    "\n",
    "    - Initial point to start the loop\n",
    "\n",
    "    - increment or decrement\n",
    "\n",
    "    - condition to stop the loop"
   ]
  },
  {
   "cell_type": "code",
   "execution_count": null,
   "id": "a0c1b94b-7b6a-4c1c-9ba3-1471828e8153",
   "metadata": {},
   "outputs": [],
   "source": [
    "**for loop**"
   ]
  },
  {
   "cell_type": "code",
   "execution_count": null,
   "id": "90fe236f-d740-4a56-b2bc-8829a009bf1e",
   "metadata": {},
   "outputs": [],
   "source": [
    "# pattern 1"
   ]
  },
  {
   "cell_type": "code",
   "execution_count": null,
   "id": "01bc3159-5af4-49ae-91e0-9364bd5e828a",
   "metadata": {},
   "outputs": [],
   "source": [
    "range(stop)"
   ]
  },
  {
   "cell_type": "code",
   "execution_count": null,
   "id": "3a8c0e40-3d8d-4589-8601-99acdf000ed2",
   "metadata": {},
   "outputs": [],
   "source": [
    "# syntax\n",
    "for i in range(<value>):\n",
    "    # start write your code"
   ]
  },
  {
   "cell_type": "code",
   "execution_count": null,
   "id": "83b08b29-b93a-44df-9a3e-9a52256754b4",
   "metadata": {},
   "outputs": [],
   "source": [
    "- whenever you see the word range it belongs to math family\n",
    "- inside range we need to provide one value ex: range(3)\n",
    "- if you provide only one value\n",
    "    - start value=0\n",
    "    - increment =+1\n",
    "    - last = stop-1\n",
    "\n",
    "range(3)\n",
    "    - start value =0\n",
    "    - increment = 1\n",
    "    - last = 3-1=2\n",
    "    - answer are : 0 1 2\n",
    "- note in python the index always atart with zero"
   ]
  },
  {
   "cell_type": "code",
   "execution_count": 1,
   "id": "73df5109-96fe-453a-bdbe-6bf3b12759db",
   "metadata": {},
   "outputs": [
    {
     "name": "stdout",
     "output_type": "stream",
     "text": [
      "0\n",
      "1\n",
      "2\n"
     ]
    }
   ],
   "source": [
    "for i in range(3):\n",
    "    print(i)"
   ]
  },
  {
   "cell_type": "code",
   "execution_count": 3,
   "id": "7d34cf98-278d-49c3-8e64-11c627051c82",
   "metadata": {},
   "outputs": [
    {
     "name": "stdout",
     "output_type": "stream",
     "text": [
      "0\n",
      "0\n"
     ]
    }
   ],
   "source": [
    "print(0)\n",
    "print(1)\n",
    "print(2)\n",
    "print(3)\n",
    "\n",
    "print(i)"
   ]
  },
  {
   "cell_type": "code",
   "execution_count": 4,
   "id": "f211250f-a83e-4bf0-9701-05f69affc034",
   "metadata": {},
   "outputs": [
    {
     "name": "stdout",
     "output_type": "stream",
     "text": [
      "hello\n",
      "hello\n",
      "hello\n",
      "hello\n",
      "hello\n"
     ]
    }
   ],
   "source": [
    "# i want to print hello 5 times\n",
    "\n",
    "for i in range(5):\n",
    "    print(\"hello\")"
   ]
  },
  {
   "cell_type": "code",
   "execution_count": 7,
   "id": "203a7156-3e7b-44e0-b63d-e448fa819b81",
   "metadata": {},
   "outputs": [
    {
     "name": "stdout",
     "output_type": "stream",
     "text": [
      "60 is even\n",
      "87 is odd\n",
      "23 is odd\n"
     ]
    }
   ],
   "source": [
    "# for example\n",
    "# take a random number between 1 to 100\n",
    "# print it is a even number or odd number\n",
    "# you need to print 3 random number\n",
    "\n",
    "import random\n",
    "for i in range(3):\n",
    "    num=random.randint(1,100)\n",
    "    if num%2==0:\n",
    "        print(f\"{num} is even\")\n",
    "    else:\n",
    "        print(f\"{num} is odd\")"
   ]
  },
  {
   "cell_type": "code",
   "execution_count": 9,
   "id": "f92e376a-7b66-419d-af14-b511bb4626fd",
   "metadata": {},
   "outputs": [
    {
     "name": "stdout",
     "output_type": "stream",
     "text": [
      "0\n",
      "1\n",
      "2\n",
      "3\n",
      "4\n",
      "5\n",
      "6\n",
      "7\n",
      "8\n",
      "9\n"
     ]
    }
   ],
   "source": [
    "for i in range(10):\n",
    "    print(i)"
   ]
  },
  {
   "cell_type": "code",
   "execution_count": null,
   "id": "c399fa9b-0279-4938-84f7-f8d48f50ef3e",
   "metadata": {},
   "outputs": [],
   "source": []
  },
  {
   "cell_type": "code",
   "execution_count": 10,
   "id": "e6e88e09-5e63-4d36-9f1b-7e76e80fa740",
   "metadata": {},
   "outputs": [
    {
     "name": "stdout",
     "output_type": "stream",
     "text": [
      "0 1 2 3 4 5 6 7 8 9 "
     ]
    }
   ],
   "source": [
    "for i in range(10):\n",
    "    print(i,end=' ')"
   ]
  },
  {
   "cell_type": "code",
   "execution_count": null,
   "id": "b765c193-7c03-4291-b433-490a0f912128",
   "metadata": {},
   "outputs": [],
   "source": [
    "# sep:will separator multiple values in same print\n",
    "# end: combine the multiple print statement"
   ]
  },
  {
   "cell_type": "code",
   "execution_count": null,
   "id": "07d19323-d2a5-4d8e-bc04-a399c2713295",
   "metadata": {},
   "outputs": [],
   "source": [
    "$Pattern-2$\n",
    "\n",
    "**range(start,atop)**\n",
    "\n",
    "- range(10,20):\n",
    "    - start value =10\n",
    "    - increment =1\n",
    "    - last =stop-2 =20-1=19\n",
    "    - ans =10,11,12,13,14,15,16,17,18,19"
   ]
  },
  {
   "cell_type": "code",
   "execution_count": 11,
   "id": "469c32f4-fef8-4f9d-9754-9c3394306f00",
   "metadata": {},
   "outputs": [
    {
     "name": "stdout",
     "output_type": "stream",
     "text": [
      "10  11  12  13  14  15  16  17  18  19  "
     ]
    }
   ],
   "source": [
    "for i in range(10,20):\n",
    "    print(i,end='  ')"
   ]
  },
  {
   "cell_type": "code",
   "execution_count": 13,
   "id": "7ceab67d-42e0-42a2-9d3e-fec3e4498b5b",
   "metadata": {},
   "outputs": [
    {
     "name": "stdout",
     "output_type": "stream",
     "text": [
      "square of 26 is 400\n",
      "square of 22 is 441\n",
      "square of 22 is 484\n",
      "square of 26 is 529\n",
      "square of 26 is 576\n",
      "square of 20 is 625\n"
     ]
    }
   ],
   "source": [
    "# wap ask the user print the square of the number between\n",
    "# 20 to 25\n",
    "\n",
    "import random\n",
    "for i in range(20,26):\n",
    "    num=random.randint(20,26)\n",
    "    print(f\"square of {num} is {i*i}\")\n"
   ]
  },
  {
   "cell_type": "code",
   "execution_count": 12,
   "id": "b35e3008-9f03-4386-ac4a-b1fa752ad4d0",
   "metadata": {},
   "outputs": [
    {
     "name": "stdout",
     "output_type": "stream",
     "text": [
      "the square of 20 is 400\n",
      "the square of 21 is 441\n",
      "the square of 22 is 484\n",
      "the square of 23 is 529\n",
      "the square of 24 is 576\n",
      "the square of 25 is 625\n"
     ]
    }
   ],
   "source": [
    "import random\n",
    "for i in range(20,26):\n",
    "    print(f\"the square of {i} is {i*i}\")"
   ]
  },
  {
   "cell_type": "code",
   "execution_count": 13,
   "id": "4d163d89-f05a-49a4-ab49-8649c7ae8931",
   "metadata": {},
   "outputs": [
    {
     "name": "stdout",
     "output_type": "stream",
     "text": [
      "400 441 484 529 576 "
     ]
    }
   ],
   "source": [
    "for i in range(20,25):\n",
    "    print(i*i,end=' ')"
   ]
  },
  {
   "cell_type": "code",
   "execution_count": 14,
   "id": "d251c883-4529-4fa7-a6f9-607a56aee04a",
   "metadata": {},
   "outputs": [
    {
     "name": "stdout",
     "output_type": "stream",
     "text": [
      "1 is odd\n",
      "2 is even\n",
      "3 is odd\n",
      "4 is even\n",
      "5 is odd\n",
      "6 is even\n",
      "7 is odd\n",
      "8 is even\n",
      "9 is odd\n"
     ]
    }
   ],
   "source": [
    "# wap ask the user \n",
    "for i in range(1,10):\n",
    "    if i%2==0:\n",
    "        print(f\"{i} is even\")\n",
    "\n",
    "    else:\n",
    "        print(f\"{i} is odd\")"
   ]
  },
  {
   "cell_type": "code",
   "execution_count": 8,
   "id": "bd036c53-6f90-4075-a2a6-9eeba6ed05d5",
   "metadata": {},
   "outputs": [
    {
     "name": "stdout",
     "output_type": "stream",
     "text": [
      "76 is even\n",
      "20 is even\n",
      "118 is even\n",
      "28 is even\n",
      "109 is odd\n",
      "40 is even\n",
      "119 is odd\n",
      "78 is even\n",
      "113 is odd\n",
      "146 is even\n",
      "105 is odd\n",
      "51 is odd\n",
      "44 is even\n",
      "23 is odd\n",
      "107 is odd\n",
      "28 is even\n",
      "119 is odd\n",
      "76 is even\n",
      "69 is odd\n"
     ]
    }
   ],
   "source": [
    "import random\n",
    "for i in range(1001,1020):\n",
    "    num=random.randint(1,150)\n",
    "    if num%2==0:\n",
    "        print(f\"{num} is even\")\n",
    "\n",
    "    else:\n",
    "        print(f\"{num} is odd\")"
   ]
  },
  {
   "cell_type": "code",
   "execution_count": null,
   "id": "d30667b6-0efb-4cad-8b94-03de290a7184",
   "metadata": {},
   "outputs": [],
   "source": [
    "$pattern-3$\n",
    "- start value = start value\n",
    "- step value\n",
    "    - positive step value\n",
    "        if step value is positive:increment\n",
    "        last= stop-1\n",
    "    - negative step value\n",
    "        if step value is negative:decrement\n",
    "        last=stop+1"
   ]
  },
  {
   "cell_type": "code",
   "execution_count": 20,
   "id": "c356a9ab-5c6d-41e4-b1af-aa8986d5d340",
   "metadata": {},
   "outputs": [
    {
     "name": "stdout",
     "output_type": "stream",
     "text": [
      "2  4  6  8  10  12  14  16  18  "
     ]
    }
   ],
   "source": [
    "# case-1\n",
    "for i in range(2,20,2):\n",
    "    print(i,end='  ')\n",
    "\n",
    "# start=1\n",
    "# step=+ve 2\n",
    "# last= Stop-1= 20-1=19\n",
    "# 2,4,6,8,"
   ]
  },
  {
   "cell_type": "code",
   "execution_count": 18,
   "id": "2bc4ae8d-2c1b-43f3-b869-7b67b83f4e14",
   "metadata": {},
   "outputs": [
    {
     "name": "stdout",
     "output_type": "stream",
     "text": [
      "10  "
     ]
    }
   ],
   "source": [
    "for i in range(10,20,30):\n",
    "    print(i,end='  ')\n",
    "\n",
    "# start=10\n",
    "# step=+ve 10\n",
    "# last= stop-1= 20-1=19\n",
    "#"
   ]
  },
  {
   "cell_type": "code",
   "execution_count": 1,
   "id": "5ae1fcb6-c388-4ed5-92c1-ac8c005acda7",
   "metadata": {},
   "outputs": [],
   "source": [
    "# case-2:\n",
    "for i in range(2,20,-2):\n",
    "    print(i,end='  ')\n",
    "\n",
    "# start=2\n",
    "# step= -2 negative \n",
    "# last= stop+1  20+1=21"
   ]
  },
  {
   "cell_type": "code",
   "execution_count": 19,
   "id": "99df99d5-4757-491b-9ce6-4bdf5b00a83c",
   "metadata": {},
   "outputs": [
    {
     "name": "stdout",
     "output_type": "stream",
     "text": [
      "20  18  16  14  12  10  8  6  4  "
     ]
    }
   ],
   "source": [
    "# case-3:\n",
    "for i in range(20,2,-2):\n",
    "    print(i,end='  ')\n",
    "\n",
    "# start=22\n",
    "# step= -2 negative \n",
    "# last= stop+1  2+1=3"
   ]
  },
  {
   "cell_type": "code",
   "execution_count": 14,
   "id": "4572c96f-a5ab-408e-9373-5de50a04ddfe",
   "metadata": {},
   "outputs": [],
   "source": [
    "# case-4:\n",
    "for i in range(-20,2,-2):\n",
    "    print(i,end='  ')\n",
    "\n",
    "# start= -20\n",
    "# step= -2 negative \n",
    "# last= stop+1  2+1=3"
   ]
  },
  {
   "cell_type": "code",
   "execution_count": null,
   "id": "d5b94cc8-7038-48f4-9347-c03a2d87ef46",
   "metadata": {},
   "outputs": [],
   "source": [
    "range(3,20,2) # p\n",
    "range(3,20,-2) # np\n",
    "range(3,-20,2) # np"
   ]
  },
  {
   "cell_type": "code",
   "execution_count": 3,
   "id": "08354bc1-4903-438b-a9d4-a16bbc8902c7",
   "metadata": {},
   "outputs": [
    {
     "name": "stdin",
     "output_type": "stream",
     "text": [
      "enter the number 5\n"
     ]
    },
    {
     "name": "stdout",
     "output_type": "stream",
     "text": [
      "the square of 5, 0\n"
     ]
    },
    {
     "name": "stdin",
     "output_type": "stream",
     "text": [
      "enter the number 53\n"
     ]
    },
    {
     "name": "stdout",
     "output_type": "stream",
     "text": [
      "the square of 53, 1\n"
     ]
    },
    {
     "name": "stdin",
     "output_type": "stream",
     "text": [
      "enter the number 53\n"
     ]
    },
    {
     "name": "stdout",
     "output_type": "stream",
     "text": [
      "the square of 53, 4\n"
     ]
    }
   ],
   "source": [
    "# wap ask the user enter the number three times find the square of the number\n",
    "\n",
    "for i in range(3):\n",
    "    num=eval(input(\"enter the number\"))\n",
    "    print(f\"the square of {num}, {i*i}\")"
   ]
  },
  {
   "cell_type": "code",
   "execution_count": 6,
   "id": "dd074ff5-0262-452a-a4cd-3d00d85cb0dd",
   "metadata": {},
   "outputs": [
    {
     "name": "stdin",
     "output_type": "stream",
     "text": [
      "enter the table 14\n"
     ]
    },
    {
     "name": "stdout",
     "output_type": "stream",
     "text": [
      "14 x 1 = 14\n",
      "14 x 2 = 28\n",
      "14 x 3 = 42\n",
      "14 x 4 = 56\n",
      "14 x 5 = 70\n",
      "14 x 6 = 84\n",
      "14 x 7 = 98\n",
      "14 x 8 = 112\n",
      "14 x 9 = 126\n",
      "14 x 10 = 140\n"
     ]
    }
   ],
   "source": [
    "# print the 14th table\n",
    "# ans   14 x 1 = 14\n",
    "num=eval(input(\"enter the table\"))\n",
    "for i in range(1,11):\n",
    "    val=i*num\n",
    "    print(f\"{num} x {i} = {val}\")"
   ]
  },
  {
   "cell_type": "code",
   "execution_count": 14,
   "id": "d116fb93-9214-43c6-9a93-7968bfc6d7c5",
   "metadata": {},
   "outputs": [
    {
     "name": "stdin",
     "output_type": "stream",
     "text": [
      "factor number i want is: 75\n"
     ]
    },
    {
     "name": "stdout",
     "output_type": "stream",
     "text": [
      "1 is the divisor of 75\n",
      "3 is the divisor of 75\n",
      "5 is the divisor of 75\n",
      "15 is the divisor of 75\n",
      "25 is the divisor of 75\n",
      "75 is the divisor of 75\n"
     ]
    }
   ],
   "source": [
    "# find the factors of 75\n",
    "num=eval(input(\"factor number i want is:\"))\n",
    "for i in range(1,num+1):\n",
    "    if num%i==0:\n",
    "        print(f\"{i} is the divisor of {num}\")"
   ]
  },
  {
   "cell_type": "code",
   "execution_count": 13,
   "id": "cc4d1452-e4ab-4cf0-94b3-2c9051087f0d",
   "metadata": {},
   "outputs": [
    {
     "name": "stdout",
     "output_type": "stream",
     "text": [
      "1\n",
      "3\n",
      "6\n",
      "10\n",
      "15\n",
      "21\n",
      "28\n",
      "36\n",
      "45\n",
      "55\n"
     ]
    }
   ],
   "source": [
    "# write the sum of first 10 natural number\n",
    "summ=0\n",
    "for i in range(1,11):\n",
    "    summ=summ+i\n",
    "    print(summ)"
   ]
  },
  {
   "cell_type": "code",
   "execution_count": 18,
   "id": "eeec8c6a-2a8f-4763-974f-1bd14a6908d2",
   "metadata": {},
   "outputs": [
    {
     "name": "stdout",
     "output_type": "stream",
     "text": [
      "0 + 1 = 1\n",
      "1 + 2 = 3\n",
      "3 + 3 = 6\n",
      "6 + 4 = 10\n",
      "10 + 5 = 15\n",
      "15 + 6 = 21\n",
      "21 + 7 = 28\n",
      "28 + 8 = 36\n",
      "36 + 9 = 45\n",
      "45 + 10 = 55\n"
     ]
    }
   ],
   "source": [
    "summ=0\n",
    "for i in range(1,11):\n",
    "    summ=summ+i\n",
    "    print(f\"{summ-i} + {i} = {summ}\")"
   ]
  },
  {
   "cell_type": "code",
   "execution_count": null,
   "id": "19622dcb-869d-401d-a426-a08c7739caaf",
   "metadata": {},
   "outputs": [],
   "source": [
    "**summation wrapper**\n",
    "- initially we need to keep  summ=0\n",
    "- make surethat do not provide **sum**\n",
    "- because sum is a keyword\n",
    "- inside for loop"
   ]
  },
  {
   "cell_type": "code",
   "execution_count": null,
   "id": "46e3a88c-e65a-4da4-a745-2d81a05980ba",
   "metadata": {},
   "outputs": [],
   "source": [
    "summ=0\n",
    "for i in range(1,11):\n",
    "    val=summ\n",
    "    summ=summ+i\n",
    "    print(f\"{summ} + {i} = {summ}\")"
   ]
  },
  {
   "cell_type": "code",
   "execution_count": 19,
   "id": "75f960ea-b36f-4ffb-b228-81305fea8954",
   "metadata": {},
   "outputs": [
    {
     "name": "stdout",
     "output_type": "stream",
     "text": [
      "55\n"
     ]
    }
   ],
   "source": [
    "summ=0\n",
    "for i in range(1,11):\n",
    "    summ=summ+i\n",
    "print(summ)"
   ]
  },
  {
   "cell_type": "code",
   "execution_count": 20,
   "id": "6be245a8-aaec-465a-855c-bc5db063c242",
   "metadata": {},
   "outputs": [
    {
     "name": "stdout",
     "output_type": "stream",
     "text": [
      "0\n",
      "1\n",
      "2\n"
     ]
    },
    {
     "data": {
      "text/plain": [
       "2"
      ]
     },
     "execution_count": 20,
     "metadata": {},
     "output_type": "execute_result"
    }
   ],
   "source": [
    "for i in range(3):\n",
    "    print(i)\n",
    "\n",
    "i"
   ]
  },
  {
   "cell_type": "markdown",
   "id": "683fc8d7-b7e4-4dfe-affc-8f1383d5dbea",
   "metadata": {},
   "source": [
    "**note**\n",
    "- if we print answer from out of for loop, last answer will print"
   ]
  },
  {
   "cell_type": "code",
   "execution_count": 22,
   "id": "569da370-79a7-4b0b-920f-74062901c8dc",
   "metadata": {},
   "outputs": [
    {
     "name": "stdin",
     "output_type": "stream",
     "text": [
      "enter the number 10\n"
     ]
    },
    {
     "name": "stdout",
     "output_type": "stream",
     "text": [
      "16.5\n"
     ]
    }
   ],
   "source": [
    "#average of first 1 to 10 number\n",
    "# avg=summation of all the numbers/total number\n",
    "\n",
    "N=eval(input(\"enter the number\"))\n",
    "for i in range(1,N+1):\n",
    "    summ=summ+i\n",
    "print(summ/N)"
   ]
  },
  {
   "cell_type": "code",
   "execution_count": null,
   "id": "1802be18-774d-41a4-823f-ebda17365185",
   "metadata": {},
   "outputs": [],
   "source": [
    "counter wrapper\n",
    "- before for loop initialize with count=0\n",
    "- under for loop count=count+1\n",
    "- counter always increase by 1 only"
   ]
  },
  {
   "cell_type": "code",
   "execution_count": 25,
   "id": "b9177c95-0abf-4e5b-9220-580741455881",
   "metadata": {},
   "outputs": [
    {
     "name": "stdin",
     "output_type": "stream",
     "text": [
      "factor number i want is: 75\n"
     ]
    },
    {
     "name": "stdout",
     "output_type": "stream",
     "text": [
      "the number divisior for 75 is 6\n"
     ]
    }
   ],
   "source": [
    "# find the number of divisior of 75\n",
    "# 1,3,5,15,25,75\n",
    "# number=6\n",
    "count=0\n",
    "num=eval(input(\"factor number i want is:\"))\n",
    "for i in range(1,num+1):\n",
    "    if num%i==0:\n",
    "        count=count+1\n",
    "\n",
    "print(f\"the number divisior for {num} is {count}\")"
   ]
  },
  {
   "cell_type": "code",
   "execution_count": null,
   "id": "07842577-edf8-42ed-b0df-74ccf4d5e606",
   "metadata": {},
   "outputs": [
    {
     "name": "stdin",
     "output_type": "stream",
     "text": [
      "factor number i want is: 75\n"
     ]
    }
   ],
   "source": [
    "count=0\n",
    "i=1\n",
    "num=eval(input(\"factor number i want is:\"))\n",
    "while i<num+1:\n",
    "    if num%i==0:\n",
    "        count=count+1\n",
    "\n",
    "print(f\"the number divisior for {num} is {count}\")\n",
    "i=i+1"
   ]
  },
  {
   "cell_type": "code",
   "execution_count": 26,
   "id": "6d5e45f4-0ad5-4cd9-8440-88953da2ef52",
   "metadata": {},
   "outputs": [
    {
     "name": "stdin",
     "output_type": "stream",
     "text": [
      "enter the number between 1 to 10: 5\n"
     ]
    },
    {
     "name": "stdout",
     "output_type": "stream",
     "text": [
      "fail\n"
     ]
    },
    {
     "name": "stdin",
     "output_type": "stream",
     "text": [
      "enter the number between 1 to 10: 5\n"
     ]
    },
    {
     "name": "stdout",
     "output_type": "stream",
     "text": [
      "fail\n"
     ]
    },
    {
     "name": "stdin",
     "output_type": "stream",
     "text": [
      "enter the number between 1 to 10: 8\n"
     ]
    },
    {
     "name": "stdout",
     "output_type": "stream",
     "text": [
      "fail\n"
     ]
    }
   ],
   "source": [
    "# enter the user get a random number 1 to 10 : num1\n",
    "# ask the user enter a number : num2\n",
    "# if num1==num2 then print won\n",
    "# else print fail\n",
    "import random\n",
    "for i in range(3):\n",
    "    num1=random.randint(1,10)\n",
    "    num2=eval(input(\"enter the number between 1 to 10:\"))\n",
    "    if num1==num2:\n",
    "        print(\"won\")\n",
    "\n",
    "    else:\n",
    "        print(\"fail\")"
   ]
  },
  {
   "cell_type": "code",
   "execution_count": null,
   "id": "3eef3b87-6063-4b0d-9ace-ef071abdb3d1",
   "metadata": {},
   "outputs": [],
   "source": [
    "case 2 whenever you won the "
   ]
  },
  {
   "cell_type": "code",
   "execution_count": 2,
   "id": "56895bf4-7c98-4f68-bae8-687b857a4a8a",
   "metadata": {},
   "outputs": [
    {
     "name": "stdin",
     "output_type": "stream",
     "text": [
      "enter the number between 1 to 10: 5\n"
     ]
    },
    {
     "name": "stdout",
     "output_type": "stream",
     "text": [
      "won\n"
     ]
    },
    {
     "data": {
      "text/plain": [
       "2"
      ]
     },
     "execution_count": 2,
     "metadata": {},
     "output_type": "execute_result"
    }
   ],
   "source": [
    "import random\n",
    "for i in range(3):\n",
    "    num1=random.randint(1,10)\n",
    "    num2=eval(input(\"enter the number between 1 to 10:\"))\n",
    "    if num1==num2:\n",
    "        print(\"won\")\n",
    "        break\n",
    "\n",
    "    else:\n",
    "        print(\"fail\")\n",
    "\n",
    "2"
   ]
  },
  {
   "cell_type": "code",
   "execution_count": null,
   "id": "6371468a-3f42-4297-9839-496c7242e494",
   "metadata": {},
   "outputs": [],
   "source": [
    "case- 3\n",
    "# suppose i want to give 4 chances\n",
    "# everytime you fail I want to display\n",
    "#      number of chances left\n",
    "#if all the chance you are used\n",
    "#      try again after 24 hours\n",
    "\n",
    "# if you are win"
   ]
  }
 ],
 "metadata": {
  "kernelspec": {
   "display_name": "Python 3 (ipykernel)",
   "language": "python",
   "name": "python3"
  },
  "language_info": {
   "codemirror_mode": {
    "name": "ipython",
    "version": 3
   },
   "file_extension": ".py",
   "mimetype": "text/x-python",
   "name": "python",
   "nbconvert_exporter": "python",
   "pygments_lexer": "ipython3",
   "version": "3.11.7"
  }
 },
 "nbformat": 4,
 "nbformat_minor": 5
}
