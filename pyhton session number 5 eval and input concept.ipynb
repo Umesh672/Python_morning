{
 "cells": [
  {
   "cell_type": "markdown",
   "id": "592f3d7e-fd2a-444b-9809-edc72e5b4057",
   "metadata": {},
   "source": [
    "$input ketword$"
   ]
  },
  {
   "cell_type": "markdown",
   "id": "713d097b-e7a5-43ad-a06d-75485df2499a",
   "metadata": {},
   "source": [
    "$input$\n",
    "- input keyword is used to take the values from user"
   ]
  },
  {
   "cell_type": "code",
   "execution_count": 3,
   "id": "fbd25f10-0b5c-4315-923a-a28c72ec281f",
   "metadata": {},
   "outputs": [
    {
     "name": "stdin",
     "output_type": "stream",
     "text": [
      "enter the radius 10\n",
      "enter the pi: 3.14\n"
     ]
    },
    {
     "name": "stdout",
     "output_type": "stream",
     "text": [
      "Area of circle is:314.0\n",
      "Area of circle is:314.0\n"
     ]
    }
   ],
   "source": [
    "radius=eval(input(\"enter the radius\"))\n",
    "pi_value=eval(input(\"enter the pi:\"))\n",
    "area=pi_value*radius*radius\n",
    "print(\"Area of circle is:{}\".format(area))\n",
    "print(f\"Area of circle is:{area}\")"
   ]
  },
  {
   "cell_type": "code",
   "execution_count": null,
   "id": "3127024c-21fe-479c-b484-d795dedae1f4",
   "metadata": {},
   "outputs": [],
   "source": []
  }
 ],
 "metadata": {
  "kernelspec": {
   "display_name": "Python 3 (ipykernel)",
   "language": "python",
   "name": "python3"
  },
  "language_info": {
   "codemirror_mode": {
    "name": "ipython",
    "version": 3
   },
   "file_extension": ".py",
   "mimetype": "text/x-python",
   "name": "python",
   "nbconvert_exporter": "python",
   "pygments_lexer": "ipython3",
   "version": "3.11.7"
  }
 },
 "nbformat": 4,
 "nbformat_minor": 5
}
