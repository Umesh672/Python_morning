{
 "cells": [
  {
   "cell_type": "markdown",
   "id": "5a181133-0496-4698-aaba-9c0a74d8aca6",
   "metadata": {},
   "source": [
    "# conditional statements"
   ]
  },
  {
   "cell_type": "markdown",
   "id": "4276d924-fe45-4464-ac26-bd6d8f03ad75",
   "metadata": {},
   "source": [
    "- condition statement means we want to run the code lines based on condition\n",
    "- if rain comes I will not go to school other wise I will go to movie\n",
    "- rain si there will effect one process\n",
    "- rain is not there will effect another process\n",
    "\n",
    "- if\n",
    "- elif\n",
    "- else"
   ]
  },
  {
   "cell_type": "markdown",
   "id": "c4d9867a-5ee5-469a-9dd6-17f539ad7e88",
   "metadata": {},
   "source": [
    "**if**"
   ]
  },
  {
   "cell_type": "code",
   "execution_count": 36,
   "id": "c5834e85-503f-4613-b8bb-319a9ff4cea7",
   "metadata": {},
   "outputs": [
    {
     "ename": "SyntaxError",
     "evalue": "invalid syntax (1906054598.py, line 2)",
     "output_type": "error",
     "traceback": [
      "\u001b[1;36m  Cell \u001b[1;32mIn[36], line 2\u001b[1;36m\u001b[0m\n\u001b[1;33m    if <condition>:\u001b[0m\n\u001b[1;37m       ^\u001b[0m\n\u001b[1;31mSyntaxError\u001b[0m\u001b[1;31m:\u001b[0m invalid syntax\n"
     ]
    }
   ],
   "source": [
    "# syntax\n",
    "if <condition>:\n",
    "    <code line 1>\n",
    "    <code line 2>"
   ]
  },
  {
   "cell_type": "markdown",
   "id": "ed12dd1c-a665-46e3-99de-7f5f6f9ca0d4",
   "metadata": {},
   "source": [
    "- whenever any line start with keywords(green color) at the end of the line we have \n",
    "- whenever we have a colon(:) the next line starts with some gaps\n",
    "- and this gap is called **indentation**\n",
    "- how amany lines we are maintaining gap() that all are under one area"
   ]
  },
  {
   "cell_type": "markdown",
   "id": "555fc421-351d-4a99-be73-d42111548360",
   "metadata": {},
   "source": [
    "- if is a conditional statement, it will check the condition is true or false\n",
    "- if that condition will true then only it will enter inside the if area\n",
    "- if condition is false then it will not enter\n",
    "- and it eill not execute those code line"
   ]
  },
  {
   "cell_type": "code",
   "execution_count": 2,
   "id": "7bab91dd-f242-4d54-87ec-284d938679f0",
   "metadata": {},
   "outputs": [
    {
     "data": {
      "text/plain": [
       "True"
      ]
     },
     "execution_count": 2,
     "metadata": {},
     "output_type": "execute_result"
    }
   ],
   "source": [
    "100>10"
   ]
  },
  {
   "cell_type": "code",
   "execution_count": 7,
   "id": "d6d06281-2bbf-4419-a6e1-239e95870f3d",
   "metadata": {},
   "outputs": [
    {
     "name": "stdout",
     "output_type": "stream",
     "text": [
      "hello\n"
     ]
    }
   ],
   "source": [
    "if 100>10:           # if true\n",
    "    print(\"hello\")"
   ]
  },
  {
   "cell_type": "code",
   "execution_count": 5,
   "id": "fd182503-d086-4350-a5aa-a5a2dbde604f",
   "metadata": {},
   "outputs": [
    {
     "name": "stdout",
     "output_type": "stream",
     "text": [
      "hello\n"
     ]
    }
   ],
   "source": [
    "if 100>10:\n",
    "    print(\"hello\")"
   ]
  },
  {
   "cell_type": "markdown",
   "id": "3f4197d3-7e15-419a-a052-664a4dfa0222",
   "metadata": {},
   "source": [
    "**mistake 1**\n",
    "- indentation"
   ]
  },
  {
   "cell_type": "code",
   "execution_count": 6,
   "id": "7207fad5-dda2-40a7-9b34-ce88925896d2",
   "metadata": {},
   "outputs": [
    {
     "name": "stdout",
     "output_type": "stream",
     "text": [
      "hello\n"
     ]
    }
   ],
   "source": [
    "if 100>10:\n",
    "    print(\"hello\")"
   ]
  },
  {
   "cell_type": "code",
   "execution_count": null,
   "id": "c56d3a73-41e8-472f-a735-bba59a16cb44",
   "metadata": {},
   "outputs": [],
   "source": [
    "indentation require 4 spaces"
   ]
  },
  {
   "cell_type": "markdown",
   "id": "5b3ee800-4361-4d59-9c1f-d95c888fae3e",
   "metadata": {},
   "source": [
    "**mistake 2**\n",
    "- colon is missing (:)"
   ]
  },
  {
   "cell_type": "code",
   "execution_count": 8,
   "id": "e7b22fdb-d946-4d97-afed-3edfa8fcc531",
   "metadata": {},
   "outputs": [
    {
     "ename": "SyntaxError",
     "evalue": "expected ':' (4173596931.py, line 1)",
     "output_type": "error",
     "traceback": [
      "\u001b[1;36m  Cell \u001b[1;32mIn[8], line 1\u001b[1;36m\u001b[0m\n\u001b[1;33m    if 100>10\u001b[0m\n\u001b[1;37m             ^\u001b[0m\n\u001b[1;31mSyntaxError\u001b[0m\u001b[1;31m:\u001b[0m expected ':'\n"
     ]
    }
   ],
   "source": [
    "if 100>10\n",
    "    print(\"hello\")"
   ]
  },
  {
   "cell_type": "markdown",
   "id": "4fe4ddb7-067c-44f5-89e5-62a5650e1f42",
   "metadata": {},
   "source": [
    "**mistake 3**\n",
    "- if will expect a condition"
   ]
  },
  {
   "cell_type": "code",
   "execution_count": null,
   "id": "04376b2f-e87a-48d8-beb1-576c6fc25410",
   "metadata": {},
   "outputs": [],
   "source": [
    "if:\n",
    " print(\"hello\")"
   ]
  },
  {
   "cell_type": "markdown",
   "id": "13bd9d81-55d0-4a7e-993e-db4d9a270167",
   "metadata": {},
   "source": [
    "**mistake 4**\n",
    "- missing brackets"
   ]
  },
  {
   "cell_type": "code",
   "execution_count": 9,
   "id": "c7564cb6-90a1-41aa-8494-6b3964dd6901",
   "metadata": {},
   "outputs": [
    {
     "ename": "SyntaxError",
     "evalue": "Missing parentheses in call to 'print'. Did you mean print(...)? (3394095289.py, line 2)",
     "output_type": "error",
     "traceback": [
      "\u001b[1;36m  Cell \u001b[1;32mIn[9], line 2\u001b[1;36m\u001b[0m\n\u001b[1;33m    print \"hello\"\u001b[0m\n\u001b[1;37m    ^\u001b[0m\n\u001b[1;31mSyntaxError\u001b[0m\u001b[1;31m:\u001b[0m Missing parentheses in call to 'print'. Did you mean print(...)?\n"
     ]
    }
   ],
   "source": [
    "if 100>10:\n",
    "    print \"hello\""
   ]
  },
  {
   "cell_type": "markdown",
   "id": "743dead3-bdc4-4f5a-940c-e702a92ab799",
   "metadata": {},
   "source": [
    "**mistake 5**\n",
    "- never assign a variable to a print statement\n",
    "- print we are using for print answer"
   ]
  },
  {
   "cell_type": "markdown",
   "id": "324d70a0-0d22-4da7-8bc9-b202e2938313",
   "metadata": {},
   "source": [
    "**mistake 6**\n",
    "- all type of syntax error\n",
    "- spelling mistakes"
   ]
  },
  {
   "cell_type": "code",
   "execution_count": 10,
   "id": "857d232e-01c5-4085-8da4-49121190fec3",
   "metadata": {},
   "outputs": [
    {
     "name": "stdout",
     "output_type": "stream",
     "text": [
      "hello\n",
      "good morning\n",
      "okay\n",
      "bye\n"
     ]
    }
   ],
   "source": [
    "if 100>10:\n",
    "    print(\"hello\")\n",
    "    print('good morning')\n",
    "####################################\n",
    "print(\"okay\")\n",
    "print(\"bye\")"
   ]
  },
  {
   "cell_type": "code",
   "execution_count": 11,
   "id": "91712fa5-ca75-45cc-9e34-025dca00b090",
   "metadata": {},
   "outputs": [
    {
     "name": "stdout",
     "output_type": "stream",
     "text": [
      "10\n",
      "20\n",
      "hello\n",
      "good morning\n",
      "okay\n",
      "bye\n"
     ]
    }
   ],
   "source": [
    "print(10)\n",
    "print(20)\n",
    "##############################\n",
    "if 100>10:\n",
    "    print(\"hello\")\n",
    "    print('good morning')\n",
    "##############################\n",
    "print(\"okay\")\n",
    "print(\"bye\")"
   ]
  },
  {
   "cell_type": "code",
   "execution_count": 12,
   "id": "0ecbd882-4a95-42ea-a4ff-a2ccf6d000ec",
   "metadata": {},
   "outputs": [
    {
     "name": "stdout",
     "output_type": "stream",
     "text": [
      "hello\n",
      "good morning\n",
      "okay\n",
      "bye\n"
     ]
    }
   ],
   "source": [
    "if 100:\n",
    "    print(\"hello\")\n",
    "    print('good morning')\n",
    "print(\"okay\")\n",
    "print(\"bye\")"
   ]
  },
  {
   "cell_type": "code",
   "execution_count": 13,
   "id": "6869d9d1-52fc-4d77-8dd3-3d4a2b784031",
   "metadata": {},
   "outputs": [
    {
     "name": "stdout",
     "output_type": "stream",
     "text": [
      "10\n",
      "20\n",
      "okay\n",
      "bye\n"
     ]
    }
   ],
   "source": [
    "print(10)\n",
    "print(20)\n",
    "##############################\n",
    "if 100<10:\n",
    "    print(\"hello\")\n",
    "    print('good morning')\n",
    "##############################\n",
    "print(\"okay\")\n",
    "print(\"bye\")"
   ]
  },
  {
   "cell_type": "code",
   "execution_count": 16,
   "id": "ebdc008a-98c8-407e-b085-7193bd0e61a1",
   "metadata": {},
   "outputs": [
    {
     "name": "stdout",
     "output_type": "stream",
     "text": [
      "10\n",
      "20\n"
     ]
    },
    {
     "ename": "NameError",
     "evalue": "name 'true' is not defined",
     "output_type": "error",
     "traceback": [
      "\u001b[1;31m---------------------------------------------------------------------------\u001b[0m",
      "\u001b[1;31mNameError\u001b[0m                                 Traceback (most recent call last)",
      "Cell \u001b[1;32mIn[16], line 3\u001b[0m\n\u001b[0;32m      1\u001b[0m \u001b[38;5;28mprint\u001b[39m(\u001b[38;5;241m10\u001b[39m)\n\u001b[0;32m      2\u001b[0m \u001b[38;5;28mprint\u001b[39m(\u001b[38;5;241m20\u001b[39m)\n\u001b[1;32m----> 3\u001b[0m \u001b[38;5;28;01mif\u001b[39;00m true:\n\u001b[0;32m      4\u001b[0m     \u001b[38;5;28mprint\u001b[39m(\u001b[38;5;124m\"\u001b[39m\u001b[38;5;124mhello\u001b[39m\u001b[38;5;124m\"\u001b[39m)\n\u001b[0;32m      5\u001b[0m     \u001b[38;5;28mprint\u001b[39m(\u001b[38;5;124m'\u001b[39m\u001b[38;5;124mgood morning\u001b[39m\u001b[38;5;124m'\u001b[39m)\n",
      "\u001b[1;31mNameError\u001b[0m: name 'true' is not defined"
     ]
    }
   ],
   "source": [
    "print(10)\n",
    "print(20)\n",
    "if true:\n",
    "    print(\"hello\")\n",
    "    print('good morning')\n",
    "print(\"okay\")\n",
    "print(\"bye\")"
   ]
  },
  {
   "cell_type": "code",
   "execution_count": 17,
   "id": "920f9986-14c4-47d5-aac5-ebb7e5321e66",
   "metadata": {},
   "outputs": [
    {
     "name": "stdout",
     "output_type": "stream",
     "text": [
      "10\n",
      "20\n",
      "okay\n",
      "bye\n"
     ]
    }
   ],
   "source": [
    "print(10)\n",
    "print(20)\n",
    "if '':\n",
    "    print(\"hello\")\n",
    "    print('good morning')\n",
    "print(\"okay\")\n",
    "print(\"bye\")"
   ]
  },
  {
   "cell_type": "code",
   "execution_count": 19,
   "id": "9759b63c-398f-4ad0-854d-300118e30932",
   "metadata": {},
   "outputs": [
    {
     "name": "stdout",
     "output_type": "stream",
     "text": [
      "10\n",
      "20\n",
      "okay\n",
      "bye\n"
     ]
    }
   ],
   "source": [
    "print(10)\n",
    "print(20)\n",
    "if False:\n",
    "    print(\"hello\")\n",
    "    print('good morning')\n",
    "print(\"okay\")\n",
    "print(\"bye\")"
   ]
  },
  {
   "cell_type": "code",
   "execution_count": 20,
   "id": "abb1aafa-8f0f-430a-ab4a-4062e0faa7ac",
   "metadata": {},
   "outputs": [
    {
     "name": "stdout",
     "output_type": "stream",
     "text": [
      "10\n",
      "20\n",
      "hello\n",
      "good morning\n",
      "okay\n",
      "bye\n"
     ]
    }
   ],
   "source": [
    "print(10)\n",
    "print(20)\n",
    "if True:\n",
    "    print(\"hello\")\n",
    "    print('good morning')\n",
    "print(\"okay\")\n",
    "print(\"bye\")"
   ]
  },
  {
   "cell_type": "code",
   "execution_count": 21,
   "id": "c4e2d1d5-e671-4bc6-82ba-c44f396c2f4e",
   "metadata": {},
   "outputs": [
    {
     "name": "stdout",
     "output_type": "stream",
     "text": [
      "10\n",
      "20\n",
      "okay\n",
      "bye\n"
     ]
    }
   ],
   "source": [
    "print(10)\n",
    "print(20)\n",
    "if 0:\n",
    "    print(\"hello\")\n",
    "    print('good morning')\n",
    "print(\"okay\")\n",
    "print(\"bye\")"
   ]
  },
  {
   "cell_type": "code",
   "execution_count": 22,
   "id": "dbbfdf49-4f37-4cb3-ae38-a369e6f80ad2",
   "metadata": {},
   "outputs": [
    {
     "data": {
      "text/plain": [
       "False"
      ]
     },
     "execution_count": 22,
     "metadata": {},
     "output_type": "execute_result"
    }
   ],
   "source": [
    "bool(0)"
   ]
  },
  {
   "cell_type": "code",
   "execution_count": 23,
   "id": "aa2ff4b5-e041-456b-b6d4-5e3f85711620",
   "metadata": {},
   "outputs": [
    {
     "data": {
      "text/plain": [
       "True"
      ]
     },
     "execution_count": 23,
     "metadata": {},
     "output_type": "execute_result"
    }
   ],
   "source": [
    "bool(100)"
   ]
  },
  {
   "cell_type": "code",
   "execution_count": null,
   "id": "94cf641c-8543-4413-b250-3e1911b0961a",
   "metadata": {},
   "outputs": [],
   "source": [
    "if - else\n",
    "- if required condition\n",
    "- if that condition is true, then it will execute if block\n",
    "- otherwise it can directally go to else block\n",
    "- so else block does not required any condition"
   ]
  },
  {
   "cell_type": "code",
   "execution_count": null,
   "id": "e7119f07-d9e9-4bf6-9caf-94e81760b193",
   "metadata": {},
   "outputs": [],
   "source": [
    "#  syntax\n",
    "if <condition>:\n",
    "    <code line>\n",
    "else:\n",
    "        <code line>"
   ]
  },
  {
   "cell_type": "code",
   "execution_count": 24,
   "id": "00f09fae-4e57-47c7-9d67-ecb7bc1bef84",
   "metadata": {},
   "outputs": [
    {
     "name": "stdout",
     "output_type": "stream",
     "text": [
      "correct\n"
     ]
    }
   ],
   "source": [
    "if 100>10:\n",
    "    print(\"correct\")\n",
    "else:\n",
    "    print(\"wrong\")"
   ]
  },
  {
   "cell_type": "code",
   "execution_count": 26,
   "id": "577892ab-27e0-47d6-9461-3fe3f0ee5366",
   "metadata": {},
   "outputs": [
    {
     "ename": "SyntaxError",
     "evalue": "invalid syntax (266357076.py, line 4)",
     "output_type": "error",
     "traceback": [
      "\u001b[1;36m  Cell \u001b[1;32mIn[26], line 4\u001b[1;36m\u001b[0m\n\u001b[1;33m    else:\u001b[0m\n\u001b[1;37m    ^\u001b[0m\n\u001b[1;31mSyntaxError\u001b[0m\u001b[1;31m:\u001b[0m invalid syntax\n"
     ]
    }
   ],
   "source": [
    "if 100>10:\n",
    "    print(\"correct\")\n",
    "print(\"middle\")\n",
    "else:\n",
    "    print(\"wrong\")\n",
    "print(\"bye\")"
   ]
  },
  {
   "cell_type": "code",
   "execution_count": 27,
   "id": "7e3c1f37-206a-4c4d-82c2-33994c8b1279",
   "metadata": {},
   "outputs": [
    {
     "name": "stdout",
     "output_type": "stream",
     "text": [
      "10\n"
     ]
    }
   ],
   "source": [
    "if True:\n",
    "    a=10\n",
    "    b=0\n",
    "    print(a)\n",
    "    print(b)\n",
    "    c=a+b\n",
    "    print(c)\n",
    "    d=b/a\n",
    "    print(d)"
   ]
  },
  {
   "cell_type": "code",
   "execution_count": 28,
   "id": "6d5e52b2-2ee8-44bf-b597-eeadd97794cf",
   "metadata": {},
   "outputs": [
    {
     "data": {
      "text/plain": [
       "1.25"
      ]
     },
     "execution_count": 28,
     "metadata": {},
     "output_type": "execute_result"
    }
   ],
   "source": [
    "5/4"
   ]
  },
  {
   "cell_type": "code",
   "execution_count": 29,
   "id": "57aaee22-8611-4940-84e1-e5aa28be3123",
   "metadata": {},
   "outputs": [
    {
     "data": {
      "text/plain": [
       "1"
      ]
     },
     "execution_count": 29,
     "metadata": {},
     "output_type": "execute_result"
    }
   ],
   "source": [
    "5//4  # floor division"
   ]
  },
  {
   "cell_type": "code",
   "execution_count": 30,
   "id": "73d76cc1-f2a4-4082-a0c6-7892fb3b66f7",
   "metadata": {},
   "outputs": [
    {
     "data": {
      "text/plain": [
       "1"
      ]
     },
     "execution_count": 30,
     "metadata": {},
     "output_type": "execute_result"
    }
   ],
   "source": [
    "5%4 # remainder modulus operator"
   ]
  },
  {
   "cell_type": "code",
   "execution_count": 34,
   "id": "3bd5cfb3-fe7a-4229-89c3-ec1339129fda",
   "metadata": {},
   "outputs": [
    {
     "name": "stdin",
     "output_type": "stream",
     "text": [
      "enter the number 25\n"
     ]
    },
    {
     "name": "stdout",
     "output_type": "stream",
     "text": [
      "the 25 is odd\n"
     ]
    }
   ],
   "source": [
    "# wap ask the user enter a number\n",
    "# find it is a even number or odd number\n",
    "num=eval(input(\"enter the number\"))\n",
    "if num%2==0:\n",
    "    print(f\"the {num} is even\")\n",
    "else:\n",
    "    print(f\"the {num} is odd\")"
   ]
  },
  {
   "cell_type": "code",
   "execution_count": null,
   "id": "a2b4996b-5740-44de-bf61-00fdecd2aa7e",
   "metadata": {},
   "outputs": [],
   "source": []
  }
 ],
 "metadata": {
  "kernelspec": {
   "display_name": "Python 3 (ipykernel)",
   "language": "python",
   "name": "python3"
  },
  "language_info": {
   "codemirror_mode": {
    "name": "ipython",
    "version": 3
   },
   "file_extension": ".py",
   "mimetype": "text/x-python",
   "name": "python",
   "nbconvert_exporter": "python",
   "pygments_lexer": "ipython3",
   "version": "3.11.7"
  }
 },
 "nbformat": 4,
 "nbformat_minor": 5
}
