{
 "cells": [
  {
   "cell_type": "markdown",
   "id": "bb578cc9-d1fc-489e-8641-a1558c2b06d7",
   "metadata": {},
   "source": [
    "** data types **\n",
    "- in python tyoe declare not required\n",
    "- python will automatically takes the type based on provided value\n",
    "- we have many data types \n",
    "- the main data types are\n",
    "    - integer\n",
    "    -"
   ]
  },
  {
   "cell_type": "markdown",
   "id": "6c75b7b8-f04f-486f-966a-cf28ce1086fd",
   "metadata": {},
   "source": [
    "**integer**"
   ]
  },
  {
   "cell_type": "markdown",
   "id": "1662a58f-1f07-4d07-8699-91f28757fedf",
   "metadata": {},
   "source": [
    "- binary representation\n",
    "- octa\n",
    "- hexa"
   ]
  },
  {
   "cell_type": "code",
   "execution_count": 2,
   "id": "0f7987c3-ed7c-41f2-84b7-daa792454ecc",
   "metadata": {},
   "outputs": [
    {
     "data": {
      "text/plain": [
       "7"
      ]
     },
     "execution_count": 2,
     "metadata": {},
     "output_type": "execute_result"
    }
   ],
   "source": [
    "0b111"
   ]
  },
  {
   "cell_type": "markdown",
   "id": "bb71e841-a6c7-4bb4-b7ea-b15e7a14486f",
   "metadata": {},
   "source": [
    "**binary**\n",
    "- bi means 2\n",
    "- so it requires 2 digits\n",
    "- generally we have 0 1 2 3 4 5 6 7 8 9\n",
    "- so it will represent with only 0 and 1\n",
    "- representation is 0b10, 0b0111,0B111\n",
    "- wrong representation is 0b102, "
   ]
  },
  {
   "cell_type": "code",
   "execution_count": 1,
   "id": "602c5eff-4d2f-48fe-8f50-be23e6fed4a2",
   "metadata": {},
   "outputs": [],
   "source": [
    "import os"
   ]
  },
  {
   "cell_type": "code",
   "execution_count": 2,
   "id": "40194ea7-bcbe-4643-a8f8-8c7f5537b7fd",
   "metadata": {},
   "outputs": [
    {
     "data": {
      "text/plain": [
       "'C:\\\\Users\\\\ukush\\\\Documents\\\\Naresh IT\\\\Python'"
      ]
     },
     "execution_count": 2,
     "metadata": {},
     "output_type": "execute_result"
    }
   ],
   "source": [
    "os.getcwd()\n",
    "\n",
    "# fet current working directory\n",
    "# it will give the path\n",
    "# where the python file located"
   ]
  },
  {
   "cell_type": "code",
   "execution_count": 4,
   "id": "5a48e762-5c63-453f-9a1c-0858a1ef40ca",
   "metadata": {},
   "outputs": [
    {
     "data": {
      "text/plain": [
       "'C:\\\\Users\\\\ukush\\\\Documents\\\\Naresh IT\\\\Python'"
      ]
     },
     "execution_count": 4,
     "metadata": {},
     "output_type": "execute_result"
    }
   ],
   "source": [
    "os.getcwd()"
   ]
  },
  {
   "cell_type": "code",
   "execution_count": 5,
   "id": "d0018e68-2bec-47ba-908e-0faafc409f54",
   "metadata": {},
   "outputs": [
    {
     "data": {
      "text/plain": [
       "15"
      ]
     },
     "execution_count": 5,
     "metadata": {},
     "output_type": "execute_result"
    }
   ],
   "source": [
    "# binary\n",
    "\n",
    "0b1111"
   ]
  },
  {
   "cell_type": "code",
   "execution_count": null,
   "id": "5a6a1dd2-4da5-41c8-806f-8ead2ea1c6fb",
   "metadata": {},
   "outputs": [],
   "source": [
    "8     4    2     1     num\n",
    "\n",
    "0     0    0     0     0\n",
    "0     0    0     1     1\n",
    "0     0    1     0     2\n",
    "0     0    1     1     3\n",
    "0     1    0     0     4\n",
    "0     1    0     1     5\n",
    "0     1    1     0     6\n",
    "0     1    1     1     7\n",
    "1     0    0     0     8\n",
    "1     0    0     1     9\n",
    "1     0    1     0     10\n",
    "1     0    1     1     11\n",
    "1     1    0     0     12  \n",
    "1     1    0     1     13\n",
    "1     1    1     0     14\n",
    "1     1    1     1     15"
   ]
  },
  {
   "cell_type": "code",
   "execution_count": 6,
   "id": "34a1f499-e2bf-4895-a563-0de8627787c5",
   "metadata": {},
   "outputs": [
    {
     "data": {
      "text/plain": [
       "29"
      ]
     },
     "execution_count": 6,
     "metadata": {},
     "output_type": "execute_result"
    }
   ],
   "source": [
    "0b11101"
   ]
  },
  {
   "cell_type": "code",
   "execution_count": 7,
   "id": "1a181971-8ae1-488b-82fd-190859c3f78e",
   "metadata": {},
   "outputs": [
    {
     "data": {
      "text/plain": [
       "59"
      ]
     },
     "execution_count": 7,
     "metadata": {},
     "output_type": "execute_result"
    }
   ],
   "source": [
    "0b111011"
   ]
  },
  {
   "cell_type": "markdown",
   "id": "2432b935-345a-4c22-a0a2-236e620b92f1",
   "metadata": {},
   "source": [
    "**octal**\n",
    "- octa means 8\n",
    "- generally we have 0 1 2 3 4 5 6 7 8 9\n",
    "- in octa it represents 0 1 2 3 4 5 6 7\n",
    "- representation is 0o123, 0o012345, 0o7654321\n",
    "- wrong representation is 0o108, 00987"
   ]
  },
  {
   "cell_type": "code",
   "execution_count": 9,
   "id": "00dd1e11-aaf5-4309-8cc2-a4b070670c0b",
   "metadata": {},
   "outputs": [
    {
     "data": {
      "text/plain": [
       "83"
      ]
     },
     "execution_count": 9,
     "metadata": {},
     "output_type": "execute_result"
    }
   ],
   "source": [
    "0o123"
   ]
  },
  {
   "cell_type": "code",
   "execution_count": 10,
   "id": "aab4edba-ddeb-41ba-8bde-9689c25e35dd",
   "metadata": {},
   "outputs": [
    {
     "data": {
      "text/plain": [
       "668"
      ]
     },
     "execution_count": 10,
     "metadata": {},
     "output_type": "execute_result"
    }
   ],
   "source": [
    "0o1234"
   ]
  },
  {
   "cell_type": "markdown",
   "id": "f06e7513-ef42-4ec4-9940-da7a5d20f2e0",
   "metadata": {},
   "source": [
    "**hexa**\n",
    "- hexa means 16\n",
    "- generally we have 0 1 2 3 4 5 6 7 8 9 A(10) B(11) c(12) D(13) E(14) F(15)\n",
    "- so it represent 0-9  A-F \n",
    "- representation is 0xF9, 0x0123ABC, 0xabc\n",
    "- wrong representation is 0xGH, 0xABCF"
   ]
  },
  {
   "cell_type": "code",
   "execution_count": 11,
   "id": "a15c0a5d-0438-4931-b35e-85d8d8ef1be6",
   "metadata": {},
   "outputs": [
    {
     "data": {
      "text/plain": [
       "2748"
      ]
     },
     "execution_count": 11,
     "metadata": {},
     "output_type": "execute_result"
    }
   ],
   "source": [
    "0xabc"
   ]
  },
  {
   "cell_type": "code",
   "execution_count": 12,
   "id": "60e5c2e8-3c56-4fea-9290-6db012370b2b",
   "metadata": {},
   "outputs": [
    {
     "data": {
      "text/plain": [
       "4671"
      ]
     },
     "execution_count": 12,
     "metadata": {},
     "output_type": "execute_result"
    }
   ],
   "source": [
    "0x123f"
   ]
  },
  {
   "cell_type": "markdown",
   "id": "4898463d-00a7-4d4c-bfc4-c1acd7b68ab9",
   "metadata": {},
   "source": [
    "**float**\n"
   ]
  },
  {
   "cell_type": "code",
   "execution_count": 13,
   "id": "9044b53b-ebad-493c-9dfd-132598422344",
   "metadata": {},
   "outputs": [
    {
     "data": {
      "text/plain": [
       "float"
      ]
     },
     "execution_count": 13,
     "metadata": {},
     "output_type": "execute_result"
    }
   ],
   "source": [
    "n1=100.5\n",
    "type(n1)"
   ]
  },
  {
   "cell_type": "code",
   "execution_count": 15,
   "id": "8fa1148b-c4c3-4bca-a599-a8828d09bf60",
   "metadata": {},
   "outputs": [
    {
     "data": {
      "text/plain": [
       "int"
      ]
     },
     "execution_count": 15,
     "metadata": {},
     "output_type": "execute_result"
    }
   ],
   "source": [
    "n2=1005\n",
    "type(n2)"
   ]
  },
  {
   "cell_type": "code",
   "execution_count": 16,
   "id": "5ed6d123-8925-4454-b01e-4db726127492",
   "metadata": {},
   "outputs": [
    {
     "data": {
      "text/plain": [
       "(10.0, 100.0, 1000.0, 10000.0)"
      ]
     },
     "execution_count": 16,
     "metadata": {},
     "output_type": "execute_result"
    }
   ],
   "source": [
    "1e1, 1e2, 1e3, 1e4\n",
    "# kep=k*10^p"
   ]
  },
  {
   "cell_type": "code",
   "execution_count": 17,
   "id": "23da69c4-77ac-4a38-863c-7ae783843f71",
   "metadata": {},
   "outputs": [
    {
     "data": {
      "text/plain": [
       "24000.0"
      ]
     },
     "execution_count": 17,
     "metadata": {},
     "output_type": "execute_result"
    }
   ],
   "source": [
    "24e3\n",
    "#24*10^3"
   ]
  },
  {
   "cell_type": "code",
   "execution_count": 18,
   "id": "a57b3b80-918f-4f88-82c4-a5b6c6adb1ca",
   "metadata": {},
   "outputs": [
    {
     "data": {
      "text/plain": [
       "(10.0, 100.0, 1000.0)"
      ]
     },
     "execution_count": 18,
     "metadata": {},
     "output_type": "execute_result"
    }
   ],
   "source": [
    "1e+1,1e+2,1e+3"
   ]
  },
  {
   "cell_type": "code",
   "execution_count": 19,
   "id": "5e67fafd-859b-4a3d-b756-c910a515eb91",
   "metadata": {},
   "outputs": [
    {
     "data": {
      "text/plain": [
       "(0.1, 0.01, 0.001, 0.0001)"
      ]
     },
     "execution_count": 19,
     "metadata": {},
     "output_type": "execute_result"
    }
   ],
   "source": [
    "1e-1,1e-2,1e-3,1e-4"
   ]
  },
  {
   "cell_type": "code",
   "execution_count": 20,
   "id": "3a98609b-2ccb-4e1d-93ad-91dd0fe12055",
   "metadata": {},
   "outputs": [
    {
     "data": {
      "text/plain": [
       "0.024"
      ]
     },
     "execution_count": 20,
     "metadata": {},
     "output_type": "execute_result"
    }
   ],
   "source": [
    "24e-3\n",
    "#24/1000"
   ]
  },
  {
   "cell_type": "markdown",
   "id": "5b8fba13-b108-4d1d-a758-df299b01c1dd",
   "metadata": {},
   "source": [
    "- positive sign means multiply\n",
    "- negetive sign means divide"
   ]
  },
  {
   "cell_type": "code",
   "execution_count": 12,
   "id": "387372d0-416a-449a-9873-c71b7a4dfce4",
   "metadata": {},
   "outputs": [
    {
     "data": {
      "text/plain": [
       "250000.0"
      ]
     },
     "execution_count": 12,
     "metadata": {},
     "output_type": "execute_result"
    }
   ],
   "source": [
    "25e+4"
   ]
  },
  {
   "cell_type": "markdown",
   "id": "8829ce13-4957-461b-978a-e6ac34e9ebc7",
   "metadata": {},
   "source": [
    "**strings**"
   ]
  },
  {
   "cell_type": "markdown",
   "id": "f4d922cd-80b8-4ff4-94cd-259c9cada3cb",
   "metadata": {},
   "source": [
    "- strings are used to represent the english characters generally\n",
    "- strings will represent in\n",
    "    - single quotes\n",
    "    - double quote\n",
    "    - tripple quote"
   ]
  },
  {
   "cell_type": "code",
   "execution_count": 22,
   "id": "a3be6846-ab0a-4581-864a-185085106f7d",
   "metadata": {},
   "outputs": [
    {
     "data": {
      "text/plain": [
       "str"
      ]
     },
     "execution_count": 22,
     "metadata": {},
     "output_type": "execute_result"
    }
   ],
   "source": [
    "name='python'\n",
    "type(name)"
   ]
  },
  {
   "cell_type": "code",
   "execution_count": 23,
   "id": "e721a251-283a-41e7-b855-1b2e8ee1137e",
   "metadata": {},
   "outputs": [
    {
     "data": {
      "text/plain": [
       "str"
      ]
     },
     "execution_count": 23,
     "metadata": {},
     "output_type": "execute_result"
    }
   ],
   "source": [
    "name1=\"umesh\"\n",
    "type(name1)"
   ]
  },
  {
   "cell_type": "code",
   "execution_count": 24,
   "id": "f0a0265f-5332-4fde-960d-05537c9654a1",
   "metadata": {},
   "outputs": [
    {
     "data": {
      "text/plain": [
       "str"
      ]
     },
     "execution_count": 24,
     "metadata": {},
     "output_type": "execute_result"
    }
   ],
   "source": [
    "name2='10'\n",
    "type(name2)"
   ]
  },
  {
   "cell_type": "code",
   "execution_count": 26,
   "id": "d3450a75-114c-470b-8191-9d30ec323975",
   "metadata": {},
   "outputs": [
    {
     "data": {
      "text/plain": [
       "str"
      ]
     },
     "execution_count": 26,
     "metadata": {},
     "output_type": "execute_result"
    }
   ],
   "source": [
    "email_id='ukushwaha039@gmail.com'\n",
    "type(email_id)"
   ]
  },
  {
   "cell_type": "code",
   "execution_count": null,
   "id": "c17e8ea2-ff91-44fd-b7ec-6fee25a66ed6",
   "metadata": {},
   "outputs": [],
   "source": [
    "**red colour means string**\n",
    "**green colour means keywords**\n",
    "**black colour means variables**"
   ]
  },
  {
   "cell_type": "code",
   "execution_count": 9,
   "id": "f8ea413f-67be-4c25-abfb-0c85e4c7a5c2",
   "metadata": {},
   "outputs": [],
   "source": [
    "name='python'\n",
    "name1=\"python\""
   ]
  },
  {
   "cell_type": "code",
   "execution_count": 28,
   "id": "c39330c6-dd61-4cf7-9780-a82b6b5bfa1c",
   "metadata": {},
   "outputs": [
    {
     "data": {
      "text/plain": [
       "'python'"
      ]
     },
     "execution_count": 28,
     "metadata": {},
     "output_type": "execute_result"
    }
   ],
   "source": [
    "name"
   ]
  },
  {
   "cell_type": "code",
   "execution_count": 10,
   "id": "684bd138-cdeb-4ada-a8c4-b574b6aefaf1",
   "metadata": {},
   "outputs": [
    {
     "data": {
      "text/plain": [
       "'python'"
      ]
     },
     "execution_count": 10,
     "metadata": {},
     "output_type": "execute_result"
    }
   ],
   "source": [
    "name1"
   ]
  },
  {
   "cell_type": "markdown",
   "id": "d0396705-ffa8-4858-b78b-d8b8c83190f4",
   "metadata": {},
   "source": [
    "- output always in single quotes"
   ]
  },
  {
   "cell_type": "code",
   "execution_count": 30,
   "id": "fb160d0d-b7cf-4211-ab55-899703e313fc",
   "metadata": {},
   "outputs": [
    {
     "name": "stdout",
     "output_type": "stream",
     "text": [
      "python\n"
     ]
    }
   ],
   "source": [
    "print(name)"
   ]
  },
  {
   "cell_type": "markdown",
   "id": "4d671d3d-dd16-4180-b111-39cd0fb2097f",
   "metadata": {},
   "source": [
    "- whenever you print quotes will not visible"
   ]
  },
  {
   "cell_type": "code",
   "execution_count": 32,
   "id": "36fa4b76-993d-46cb-b594-863e05d2054a",
   "metadata": {},
   "outputs": [
    {
     "name": "stdout",
     "output_type": "stream",
     "text": [
      "i like 'python'\n"
     ]
    }
   ],
   "source": [
    "name=\"i like 'python'\"\n",
    "print(name)"
   ]
  },
  {
   "cell_type": "code",
   "execution_count": 33,
   "id": "2cee3863-fcd1-4993-8ef4-3767c7c44099",
   "metadata": {},
   "outputs": [
    {
     "name": "stdout",
     "output_type": "stream",
     "text": [
      "i like \"python\"\n"
     ]
    }
   ],
   "source": [
    "str='i like \"python\"'\n",
    "print(str)"
   ]
  },
  {
   "cell_type": "markdown",
   "id": "c9a333f0-9843-440c-8b9d-0d613ec506d8",
   "metadata": {},
   "source": [
    "- entire strings in double quotes the highlighted word in single vice versa"
   ]
  },
  {
   "cell_type": "code",
   "execution_count": null,
   "id": "1e1d0012-7146-4a70-99d5-315a20a7f884",
   "metadata": {},
   "outputs": [],
   "source": [
    "***triple quotes***\n",
    "- triple quote is not used for coding\n",
    "- triple quote is used to provide thr information to the user\n",
    "- in order to provide the info. in jupyter notebook we will markdown\n",
    "- in vscode or pycharm there is no markdown option\n",
    "- that why the world start to used "
   ]
  },
  {
   "cell_type": "markdown",
   "id": "fb784f63-7dd3-41f7-9b32-7a38f90ec110",
   "metadata": {},
   "source": [
    "**boolean**"
   ]
  },
  {
   "cell_type": "code",
   "execution_count": 35,
   "id": "b54dfc84-15ae-4a46-a870-57dc13c5677b",
   "metadata": {},
   "outputs": [
    {
     "data": {
      "text/plain": [
       "bool"
      ]
     },
     "execution_count": 35,
     "metadata": {},
     "output_type": "execute_result"
    }
   ],
   "source": [
    "value=True\n",
    "type(value)"
   ]
  },
  {
   "cell_type": "code",
   "execution_count": 36,
   "id": "26d7a9d5-0708-4be4-ae7a-4a1069e3e64d",
   "metadata": {},
   "outputs": [
    {
     "data": {
      "text/plain": [
       "bool"
      ]
     },
     "execution_count": 36,
     "metadata": {},
     "output_type": "execute_result"
    }
   ],
   "source": [
    "value=False\n",
    "type(value)"
   ]
  },
  {
   "cell_type": "code",
   "execution_count": 37,
   "id": "12edd98f-a788-43ac-9b90-3467a6a42d21",
   "metadata": {},
   "outputs": [],
   "source": [
    "true=\"True\"\n",
    "false=False\n",
    "# true and false are variables\n",
    "#type true is string\n",
    "# type false is boolean"
   ]
  },
  {
   "cell_type": "code",
   "execution_count": 38,
   "id": "a32547a5-5752-4966-8759-5f53200aad83",
   "metadata": {},
   "outputs": [
    {
     "data": {
      "text/plain": [
       "str"
      ]
     },
     "execution_count": 38,
     "metadata": {},
     "output_type": "execute_result"
    }
   ],
   "source": [
    "type(true)"
   ]
  },
  {
   "cell_type": "code",
   "execution_count": 39,
   "id": "593546d2-c232-4d9e-a5b8-5fe8059855cd",
   "metadata": {},
   "outputs": [
    {
     "data": {
      "text/plain": [
       "bool"
      ]
     },
     "execution_count": 39,
     "metadata": {},
     "output_type": "execute_result"
    }
   ],
   "source": [
    "type(false)"
   ]
  },
  {
   "cell_type": "code",
   "execution_count": 6,
   "id": "879aeaeb-653b-4ec7-988a-82fd9bf29127",
   "metadata": {},
   "outputs": [],
   "source": [
    "name='umesh'\n",
    "name1=\"umesh\""
   ]
  },
  {
   "cell_type": "code",
   "execution_count": 7,
   "id": "91f003a4-ce9a-43c7-9e5a-aa9405621782",
   "metadata": {},
   "outputs": [
    {
     "data": {
      "text/plain": [
       "'umesh'"
      ]
     },
     "execution_count": 7,
     "metadata": {},
     "output_type": "execute_result"
    }
   ],
   "source": [
    "name"
   ]
  },
  {
   "cell_type": "code",
   "execution_count": 8,
   "id": "7b0c359c-1822-4de3-a2f0-1df127101aa7",
   "metadata": {},
   "outputs": [
    {
     "data": {
      "text/plain": [
       "'umesh'"
      ]
     },
     "execution_count": 8,
     "metadata": {},
     "output_type": "execute_result"
    }
   ],
   "source": [
    "name1"
   ]
  },
  {
   "cell_type": "code",
   "execution_count": null,
   "id": "27efb20e-e2c6-4a2a-ad51-436acc6e363c",
   "metadata": {},
   "outputs": [],
   "source": []
  }
 ],
 "metadata": {
  "kernelspec": {
   "display_name": "Python 3 (ipykernel)",
   "language": "python",
   "name": "python3"
  },
  "language_info": {
   "codemirror_mode": {
    "name": "ipython",
    "version": 3
   },
   "file_extension": ".py",
   "mimetype": "text/x-python",
   "name": "python",
   "nbconvert_exporter": "python",
   "pygments_lexer": "ipython3",
   "version": "3.11.7"
  }
 },
 "nbformat": 4,
 "nbformat_minor": 5
}
