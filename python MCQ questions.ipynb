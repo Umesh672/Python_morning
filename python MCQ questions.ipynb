{
 "cells": [
  {
   "cell_type": "code",
   "execution_count": 1,
   "id": "9a37ed16-49a0-45a0-afe7-77cfabb4c27c",
   "metadata": {},
   "outputs": [
    {
     "name": "stdout",
     "output_type": "stream",
     "text": [
      "P\n"
     ]
    }
   ],
   "source": [
    "# Q2: what will the output to be of the folowinf code?\n",
    "word=\"Python\"\n",
    "print(word[0])"
   ]
  },
  {
   "cell_type": "code",
   "execution_count": 5,
   "id": "eecc443a-22ce-4b9e-8545-84d9237b368e",
   "metadata": {},
   "outputs": [
    {
     "name": "stdout",
     "output_type": "stream",
     "text": [
      "Hello12.5\n"
     ]
    }
   ],
   "source": [
    "# Q3: what will be the output pf the following code snippet?\n",
    "a=5\n",
    "b=2.5\n",
    "c='Hello'\n",
    "result=a*b\n",
    "print(c+str(result))"
   ]
  },
  {
   "cell_type": "code",
   "execution_count": 6,
   "id": "bf0d2bf9-4f02-4d2b-bc7c-ddb5c082c61f",
   "metadata": {},
   "outputs": [
    {
     "name": "stdout",
     "output_type": "stream",
     "text": [
      "PythonPythonPythonis amazing!\n"
     ]
    }
   ],
   "source": [
    "# Q4: what will be the output pf the following code snippet?\n",
    "S1='Python'\n",
    "S2='is amazing!'\n",
    "result=S1*3+S2\n",
    "print(result)"
   ]
  },
  {
   "cell_type": "code",
   "execution_count": 7,
   "id": "32b180b1-4af7-4a6a-a88c-86c3f3a92d2f",
   "metadata": {},
   "outputs": [
    {
     "name": "stdout",
     "output_type": "stream",
     "text": [
      "8\n"
     ]
    }
   ],
   "source": [
    "# Q5: what will be the output pf the following code snippet?\n",
    "x=5\n",
    "y=2\n",
    "result=x**y//3\n",
    "print(result)"
   ]
  },
  {
   "cell_type": "code",
   "execution_count": 8,
   "id": "9bdb063d-0999-471c-b28b-3ae9f8091d9c",
   "metadata": {},
   "outputs": [
    {
     "name": "stdout",
     "output_type": "stream",
     "text": [
      "4\n"
     ]
    }
   ],
   "source": [
    "# Q6: what will be the output pf the following code snippet?\n",
    "fruits=['apple','orange','banana']\n",
    "fruits.append('grapes')\n",
    "print(len(fruits))"
   ]
  },
  {
   "cell_type": "code",
   "execution_count": 10,
   "id": "8bd50dd6-498b-49d9-84cf-2d143f41c88e",
   "metadata": {},
   "outputs": [
    {
     "data": {
      "text/plain": [
       "[1, 2, 4, 5]"
      ]
     },
     "execution_count": 10,
     "metadata": {},
     "output_type": "execute_result"
    }
   ],
   "source": [
    "# Q7: what will be the output pf the following code snippet?\n",
    "n=[1,2,3,4,5]\n",
    "n.pop(2)\n",
    "n"
   ]
  },
  {
   "cell_type": "code",
   "execution_count": 12,
   "id": "bf85155a-c2b8-4b2e-a1dc-0202e00d65cb",
   "metadata": {},
   "outputs": [
    {
     "ename": "SyntaxError",
     "evalue": "invalid syntax (4144849352.py, line 2)",
     "output_type": "error",
     "traceback": [
      "\u001b[1;36m  Cell \u001b[1;32mIn[12], line 2\u001b[1;36m\u001b[0m\n\u001b[1;33m    person=['name':'John','age':30,'city':'NewYork']\u001b[0m\n\u001b[1;37m                  ^\u001b[0m\n\u001b[1;31mSyntaxError\u001b[0m\u001b[1;31m:\u001b[0m invalid syntax\n"
     ]
    }
   ],
   "source": [
    "# Q8: what will be the output pf the following code snippet?\n",
    "person=['name':'John','age':30,'city':'NewYork']\n",
    "print(person['age'])"
   ]
  },
  {
   "cell_type": "code",
   "execution_count": 13,
   "id": "91681f6e-2049-47cd-be7c-84c5a5dded68",
   "metadata": {},
   "outputs": [
    {
     "name": "stdout",
     "output_type": "stream",
     "text": [
      "5.0 0\n"
     ]
    }
   ],
   "source": [
    "# Q8: what will be the output pf the following code snippet?\n",
    "N1=25/5\n",
    "N2=25%5\n",
    "print(N1,N2)"
   ]
  },
  {
   "cell_type": "code",
   "execution_count": 23,
   "id": "d723d0d6-18d3-4469-b5ac-0e3cc8e319b6",
   "metadata": {},
   "outputs": [
    {
     "ename": "KeyboardInterrupt",
     "evalue": "",
     "output_type": "error",
     "traceback": [
      "\u001b[1;31m---------------------------------------------------------------------------\u001b[0m",
      "\u001b[1;31mKeyboardInterrupt\u001b[0m                         Traceback (most recent call last)",
      "Cell \u001b[1;32mIn[23], line 3\u001b[0m\n\u001b[0;32m      1\u001b[0m \u001b[38;5;66;03m# Q11: what will be the output pf the following code snippet?\u001b[39;00m\n\u001b[0;32m      2\u001b[0m i\u001b[38;5;241m=\u001b[39m\u001b[38;5;241m1\u001b[39m\n\u001b[1;32m----> 3\u001b[0m \u001b[38;5;28;01mwhile\u001b[39;00m \u001b[38;5;28;01mTrue\u001b[39;00m:\n\u001b[0;32m      4\u001b[0m     \u001b[38;5;28;01mif\u001b[39;00m i\u001b[38;5;241m%\u001b[39m\u001b[38;5;241m3\u001b[39m\u001b[38;5;241m==\u001b[39m\u001b[38;5;241m0\u001b[39m:\n\u001b[0;32m      5\u001b[0m         \u001b[38;5;28;01mbreak\u001b[39;00m\n",
      "\u001b[1;31mKeyboardInterrupt\u001b[0m: "
     ]
    }
   ],
   "source": [
    "# Q11: what will be the output pf the following code snippet?\n",
    "i=1\n",
    "while True:\n",
    "    if i%3==0:\n",
    "        break\n",
    "        print(i)\n",
    "        i+=1"
   ]
  },
  {
   "cell_type": "code",
   "execution_count": 21,
   "id": "1b2f6588-d90b-4bae-b1cc-4f1af7e71b13",
   "metadata": {},
   "outputs": [
    {
     "name": "stdout",
     "output_type": "stream",
     "text": [
      "apple\n",
      "banana\n",
      "cherry\n"
     ]
    }
   ],
   "source": [
    "# Q14: what will be the output pf the following code snippet print?\n",
    "fruits=[\"apple\",\"banana\",\"cherry\"]\n",
    "for fruit in fruits:\n",
    "    print(fruit)"
   ]
  },
  {
   "cell_type": "code",
   "execution_count": 19,
   "id": "d60304d8-9470-474b-96e3-2558ad131556",
   "metadata": {},
   "outputs": [
    {
     "name": "stdout",
     "output_type": "stream",
     "text": [
      "5\n",
      "Done\n",
      "4\n"
     ]
    }
   ],
   "source": [
    "# Q16: what will be printed by the following code?\n",
    "num=5\n",
    "while num>0:\n",
    "    print(num)\n",
    "    num-=1\n",
    "    if num==3:\n",
    "        break\n",
    "    else:\n",
    "        print(\"Done\")"
   ]
  },
  {
   "cell_type": "code",
   "execution_count": 20,
   "id": "7110eb7a-800a-43ff-90a7-49d73a307ff8",
   "metadata": {},
   "outputs": [
    {
     "name": "stdout",
     "output_type": "stream",
     "text": [
      "A\n"
     ]
    }
   ],
   "source": [
    "# Q17: what will be the output pf the following code snippet?\n",
    "x=10\n",
    "if x>5:\n",
    "    print(\"A\")\n",
    "elif x>7:\n",
    "    print(\"B\")\n",
    "else:\n",
    "    print(\"C\")"
   ]
  },
  {
   "cell_type": "code",
   "execution_count": 15,
   "id": "6a3b18da-83db-4cf5-99ef-35499b53acb8",
   "metadata": {},
   "outputs": [
    {
     "name": "stdout",
     "output_type": "stream",
     "text": [
      "Greater than 5\n",
      "Greater than 8\n",
      "Equal or less than 12\n"
     ]
    }
   ],
   "source": [
    "# Q18 what will be the output pf the following code snippet?\n",
    "x=9\n",
    "if x>5:\n",
    "    print(\"Greater than 5\")\n",
    "if x>8:\n",
    "    print(\"Greater than 8\")\n",
    "if x>12:\n",
    "    print(\"Greater than 12\")\n",
    "else:\n",
    "    print(\"Equal or less than 12\")"
   ]
  },
  {
   "cell_type": "code",
   "execution_count": 26,
   "id": "02554824-0d17-4695-9b94-c89fd4553f4f",
   "metadata": {},
   "outputs": [
    {
     "name": "stdout",
     "output_type": "stream",
     "text": [
      "Hello,Alice!\n"
     ]
    }
   ],
   "source": [
    "# Q25 what will be the output pf the following code snippet?\n",
    "def greet(name):\n",
    "    print(\"Hello,\"+name+\"!\")\n",
    "greet(\"Alice\")"
   ]
  },
  {
   "cell_type": "code",
   "execution_count": 24,
   "id": "378064eb-68b1-4615-9264-ec1581020972",
   "metadata": {},
   "outputs": [
    {
     "name": "stdout",
     "output_type": "stream",
     "text": [
      "3\n",
      "2\n",
      "1\n",
      "Done\n"
     ]
    }
   ],
   "source": [
    "# Q27 what will be the output pf the following code snippet?\n",
    "def countdown(n):\n",
    "    if n<=0:\n",
    "        print(\"Done\")\n",
    "    else:\n",
    "        print(n)\n",
    "        countdown(n-1)\n",
    "countdown(3)"
   ]
  },
  {
   "cell_type": "code",
   "execution_count": 27,
   "id": "348486e4-3353-4669-b123-e09903122516",
   "metadata": {},
   "outputs": [
    {
     "name": "stdout",
     "output_type": "stream",
     "text": [
      "3 3\n"
     ]
    }
   ],
   "source": [
    "# Q29 what will be the output of the following python code?\n",
    "def func(x=1,y=2):\n",
    "    x=x+y\n",
    "    y+=1\n",
    "    print(x,y)\n",
    "func(y=2,x=1)"
   ]
  },
  {
   "cell_type": "code",
   "execution_count": 28,
   "id": "7b88ddcd-b7a0-44f7-9db1-6a5d0c007a24",
   "metadata": {},
   "outputs": [
    {
     "ename": "AttributeError",
     "evalue": "'function' object has no attribute '_doc_'",
     "output_type": "error",
     "traceback": [
      "\u001b[1;31m---------------------------------------------------------------------------\u001b[0m",
      "\u001b[1;31mAttributeError\u001b[0m                            Traceback (most recent call last)",
      "Cell \u001b[1;32mIn[28], line 5\u001b[0m\n\u001b[0;32m      3\u001b[0m \u001b[38;5;250m    \u001b[39m\u001b[38;5;124;03m\"\"\"This function adds two numbers.\"\"\"\u001b[39;00m\n\u001b[0;32m      4\u001b[0m     \u001b[38;5;28;01mreturn\u001b[39;00m a\u001b[38;5;241m+\u001b[39mb\n\u001b[1;32m----> 5\u001b[0m \u001b[38;5;28mprint\u001b[39m(add\u001b[38;5;241m.\u001b[39m_doc_)\n",
      "\u001b[1;31mAttributeError\u001b[0m: 'function' object has no attribute '_doc_'"
     ]
    }
   ],
   "source": [
    "# Q30 what will be the output pf the following code snippet?\n",
    "def add(a,b):\n",
    "    \"\"\"This function adds two numbers.\"\"\"\n",
    "    return a+b\n",
    "print(add._doc_)"
   ]
  },
  {
   "cell_type": "code",
   "execution_count": null,
   "id": "4783c16c-5c15-4a32-924f-c845cafa8da4",
   "metadata": {},
   "outputs": [],
   "source": []
  }
 ],
 "metadata": {
  "kernelspec": {
   "display_name": "Python 3 (ipykernel)",
   "language": "python",
   "name": "python3"
  },
  "language_info": {
   "codemirror_mode": {
    "name": "ipython",
    "version": 3
   },
   "file_extension": ".py",
   "mimetype": "text/x-python",
   "name": "python",
   "nbconvert_exporter": "python",
   "pygments_lexer": "ipython3",
   "version": "3.11.7"
  }
 },
 "nbformat": 4,
 "nbformat_minor": 5
}
