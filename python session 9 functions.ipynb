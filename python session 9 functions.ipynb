{
 "cells": [
  {
   "cell_type": "markdown",
   "id": "cc576206-b45e-4c7e-8b87-dc973f5f7bb8",
   "metadata": {},
   "source": [
    "**function**"
   ]
  },
  {
   "cell_type": "code",
   "execution_count": null,
   "id": "26fe1851-5f62-4403-9602-1a56b47a493f",
   "metadata": {},
   "outputs": [],
   "source": [
    "- a block of codes which i can use many times"
   ]
  },
  {
   "cell_type": "code",
   "execution_count": null,
   "id": "35f2327b-25e4-448c-82fe-b8f78d7beb69",
   "metadata": {},
   "outputs": [],
   "source": [
    "num=10\n",
    "num2=20\n"
   ]
  },
  {
   "cell_type": "code",
   "execution_count": null,
   "id": "094eabb5-6ef8-45af-a054-19c4647bc75f",
   "metadata": {},
   "outputs": [],
   "source": [
    "def <function_name>():\n",
    "    code lines"
   ]
  },
  {
   "cell_type": "code",
   "execution_count": 3,
   "id": "c591b45c-8bf1-43af-9fc3-9fe841bc2a0d",
   "metadata": {},
   "outputs": [],
   "source": [
    "def addition():\n",
    "    num1=10\n",
    "    num2=20\n",
    "    add=num1+num2\n",
    "    print(add)"
   ]
  },
  {
   "cell_type": "code",
   "execution_count": null,
   "id": "ad0c9b7d-9562-424d-9018-da77ff71f78c",
   "metadata": {},
   "outputs": [],
   "source": [
    "# function name: addition\n",
    "# in order to execute code line\n",
    "# we need to call the function"
   ]
  },
  {
   "cell_type": "code",
   "execution_count": 4,
   "id": "aee417a2-22e0-4cbc-b455-61cbe8fae75f",
   "metadata": {},
   "outputs": [
    {
     "name": "stdout",
     "output_type": "stream",
     "text": [
      "30\n"
     ]
    }
   ],
   "source": [
    "addition()"
   ]
  },
  {
   "cell_type": "code",
   "execution_count": null,
   "id": "499f20d0-25a2-4503-a5f2-013fa63d96ac",
   "metadata": {},
   "outputs": [],
   "source": [
    "def addition():\n",
    "    num1=10\n",
    "    print(\"num1 is:\",num1)\n",
    "    num2=20\n",
    "    print(\"num2 is:\"num2)\n",
    "    add=num1+num2\n",
    "    print(add)"
   ]
  },
  {
   "cell_type": "code",
   "execution_count": null,
   "id": "07de0fde-48ad-4755-9d5d-46c1e98fe93b",
   "metadata": {},
   "outputs": [],
   "source": [
    "**note**\n",
    "- function name can be anything \n",
    "- same rules applicable as variables rules\n",
    "- whenever you create the function make sure the indentation correctly\n",
    "- starting with keywords, ending with colon then code line start with indentation\n",
    "- brackets means function\n",
    "- never missed the brackets whenever you call the function\n",
    "- if you want to execute the code we need to call the function\n",
    "- while you are calling if you see function or bound method\n",
    "- which means you mussed the brackets\n",
    "- whenever we define the function it does not throw any error until unless we call the function"
   ]
  },
  {
   "cell_type": "code",
   "execution_count": 5,
   "id": "c017379a-a53c-47de-b2b0-94f79842170e",
   "metadata": {},
   "outputs": [
    {
     "ename": "NameError",
     "evalue": "name 'num1111' is not defined",
     "output_type": "error",
     "traceback": [
      "\u001b[1;31m---------------------------------------------------------------------------\u001b[0m",
      "\u001b[1;31mNameError\u001b[0m                                 Traceback (most recent call last)",
      "Cell \u001b[1;32mIn[5], line 3\u001b[0m\n\u001b[0;32m      1\u001b[0m num1\u001b[38;5;241m=\u001b[39m\u001b[38;5;241m10\u001b[39m\n\u001b[0;32m      2\u001b[0m num2\u001b[38;5;241m=\u001b[39m\u001b[38;5;241m20\u001b[39m\n\u001b[1;32m----> 3\u001b[0m add\u001b[38;5;241m=\u001b[39mnum1111\u001b[38;5;241m+\u001b[39mnum2\n\u001b[0;32m      4\u001b[0m \u001b[38;5;28mprint\u001b[39m(add)\n",
      "\u001b[1;31mNameError\u001b[0m: name 'num1111' is not defined"
     ]
    }
   ],
   "source": [
    "num1=10\n",
    "num2=20\n",
    "add=num1111+num2\n",
    "print(add)"
   ]
  },
  {
   "cell_type": "code",
   "execution_count": null,
   "id": "d295186b-236d-4af2-b8f2-4a379e44fede",
   "metadata": {},
   "outputs": [],
   "source": [
    "- wap to create the function for average\n",
    "- write normal code"
   ]
  },
  {
   "cell_type": "code",
   "execution_count": 1,
   "id": "e6ec4ea0-0bd4-4497-9d8c-18a5674f933c",
   "metadata": {},
   "outputs": [
    {
     "name": "stdin",
     "output_type": "stream",
     "text": [
      "enter the number 12\n",
      "enter the number 15\n",
      "enter the number 18\n"
     ]
    },
    {
     "name": "stdout",
     "output_type": "stream",
     "text": [
      "the average of 12,15 and 18 is 15.0\n"
     ]
    }
   ],
   "source": [
    "# function name and variable name shopuld not be same\n",
    "def average():\n",
    "    num1=eval(input(\"enter the number\"))\n",
    "    num2=eval(input(\"enter the number\"))\n",
    "    num3=eval(input(\"enter the number\"))\n",
    "    avg=(num1+num2+num3)/3\n",
    "    avg1=round(avg,2)\n",
    "    print(f\"the average of {num1},{num2} and {num3} is {avg1}\")\n",
    "\n",
    "average()"
   ]
  },
  {
   "cell_type": "code",
   "execution_count": 17,
   "id": "75d5bb28-a5b3-4d84-8b34-4a2d162ceebe",
   "metadata": {},
   "outputs": [
    {
     "name": "stdin",
     "output_type": "stream",
     "text": [
      "enter the number 10\n",
      "enter the number 12\n",
      "enter the number 15\n"
     ]
    }
   ],
   "source": [
    "average()"
   ]
  },
  {
   "cell_type": "code",
   "execution_count": 18,
   "id": "e426f298-f92a-4187-9238-4d4c1122673f",
   "metadata": {},
   "outputs": [],
   "source": [
    "def average():\n",
    "    num1=eval(input(\"enter the number\"))\n",
    "    num2=eval(input(\"enter the number\"))\n",
    "    num3=eval(input(\"enter the number\"))\n",
    "    avg=(num1+num2+num3)/3\n",
    "    avg1=round(avg,2)\n",
    "    print(f\"the average of {num1},{num2} and {num3} is {avg1}\")"
   ]
  },
  {
   "cell_type": "code",
   "execution_count": 19,
   "id": "c32a88c4-8011-4459-a96b-1c2e89271595",
   "metadata": {},
   "outputs": [
    {
     "name": "stdin",
     "output_type": "stream",
     "text": [
      "enter the number 12\n",
      "enter the number 14\n",
      "enter the number 16\n"
     ]
    },
    {
     "name": "stdout",
     "output_type": "stream",
     "text": [
      "the average of 12,14 and 16 is 14.0\n"
     ]
    }
   ],
   "source": [
    "average()"
   ]
  },
  {
   "cell_type": "code",
   "execution_count": null,
   "id": "812fe504-2189-47f9-9b9f-58b45f0c4ced",
   "metadata": {},
   "outputs": [],
   "source": [
    "while we are defining function if nothing mentioned means\n",
    "function without argument"
   ]
  },
  {
   "cell_type": "code",
   "execution_count": null,
   "id": "37a0a926-fa2a-41ea-a621-486b4334d6b8",
   "metadata": {},
   "outputs": [],
   "source": [
    "**function with argument**\n",
    "- first look at how many argument or variables are there\n",
    "- in that how many input variable are there\n",
    "- how many output variable are there\n",
    "- input variables means user can define\n",
    "- output variable means python gives the output\n",
    "- we can use only input variables as argument "
   ]
  },
  {
   "cell_type": "code",
   "execution_count": 22,
   "id": "19406186-bea9-4c21-a9bd-207770b96c3a",
   "metadata": {},
   "outputs": [],
   "source": [
    "def addition2():\n",
    "    num1=10\n",
    "    print(\"num1 is:\",num1)\n",
    "    num2=20\n",
    "    print(\"num2 is:\",num2)\n",
    "    add=num1+num2\n",
    "    print(f\" addition of {num} and {num2} is {add}\")"
   ]
  },
  {
   "cell_type": "code",
   "execution_count": 24,
   "id": "23282516-fd59-4fd8-9fdf-8eccf55bb91e",
   "metadata": {},
   "outputs": [
    {
     "name": "stdout",
     "output_type": "stream",
     "text": [
      " addition of 10 and 20 is 30\n"
     ]
    }
   ],
   "source": [
    "def addition2(num1,num2):\n",
    "    add=num1+num2\n",
    "    print(f\" addition of {num1} and {num2} is {add}\")\n",
    "\n",
    "addition2(10,20)"
   ]
  },
  {
   "cell_type": "code",
   "execution_count": 25,
   "id": "7f02d70f-2774-4319-94a0-312c31c170c1",
   "metadata": {},
   "outputs": [
    {
     "name": "stdout",
     "output_type": "stream",
     "text": [
      "the average of 20,50 and 20 is 30.0\n"
     ]
    }
   ],
   "source": [
    "def average1(num1,num2,num3):\n",
    "    avg=(num1+num2+num3)/3\n",
    "    avg1=round(avg,2)\n",
    "    print(f\"the average of {num1},{num2} and {num3} is {avg1}\")\n",
    "\n",
    "average1(20,50,20)"
   ]
  },
  {
   "cell_type": "code",
   "execution_count": null,
   "id": "e12a2314-f3cb-40d6-9d0a-bc39431116bd",
   "metadata": {},
   "outputs": [],
   "source": [
    "def area_of_tiangle(base,height):\n",
    "    area=1/2*base*height"
   ]
  },
  {
   "cell_type": "code",
   "execution_count": null,
   "id": "68b7caf6-391a-4af9-a6c3-6b41f7709545",
   "metadata": {},
   "outputs": [],
   "source": [
    "do not provide function and variable name should not be same"
   ]
  },
  {
   "cell_type": "markdown",
   "id": "3acc3289-03b4-4a90-b0f3-05db48e249de",
   "metadata": {},
   "source": [
    "**default arguments**"
   ]
  },
  {
   "cell_type": "code",
   "execution_count": 2,
   "id": "07f7c1a8-be8a-4eee-9ab8-d520e7f63c5f",
   "metadata": {},
   "outputs": [
    {
     "name": "stdin",
     "output_type": "stream",
     "text": [
      "enter the bill: 1200\n",
      "enter the tip: 10\n"
     ]
    },
    {
     "name": "stdout",
     "output_type": "stream",
     "text": [
      "total bill is: 1320.0\n"
     ]
    }
   ],
   "source": [
    "bill=eval(input(\"enter the bill:\"))\n",
    "tip_per=eval(input(\"enter the tip:\"))\n",
    "tip_amount=bill*tip_per/100\n",
    "total_bill=bill+tip_amount\n",
    "print(f\"total bill is: {total_bill}\")"
   ]
  },
  {
   "cell_type": "code",
   "execution_count": 3,
   "id": "9a5ed885-a1d7-4f3a-9ece-ad4841d45101",
   "metadata": {},
   "outputs": [
    {
     "name": "stdin",
     "output_type": "stream",
     "text": [
      "enter the bill: 2000\n",
      "enter the tip: 10\n"
     ]
    },
    {
     "name": "stdout",
     "output_type": "stream",
     "text": [
      "total bill is: 2200.0\n"
     ]
    }
   ],
   "source": [
    "def bill_pay():\n",
    "    bill=eval(input(\"enter the bill:\"))\n",
    "    tip_per=eval(input(\"enter the tip:\"))\n",
    "    tip_amount=bill*tip_per/100\n",
    "    total_bill=bill+tip_amount\n",
    "    print(f\"total bill is: {total_bill}\")\n",
    "\n",
    "bill_pay()"
   ]
  },
  {
   "cell_type": "code",
   "execution_count": 5,
   "id": "2a2cfedc-97bd-4664-bf03-c2ae4d703b16",
   "metadata": {},
   "outputs": [
    {
     "name": "stdout",
     "output_type": "stream",
     "text": [
      "total bill is: 2300.0\n"
     ]
    }
   ],
   "source": [
    "def bill_pay(bill,tip_per):\n",
    "    tip_amount=bill*tip_per/100\n",
    "    total_bill=bill+tip_amount\n",
    "    print(f\"total bill is: {total_bill}\")\n",
    "\n",
    "bill_pay(2000,15)"
   ]
  },
  {
   "cell_type": "code",
   "execution_count": null,
   "id": "4a7f4e76-361c-4deb-bad8-494c54459b94",
   "metadata": {},
   "outputs": [],
   "source": [
    "def bill_pay(bill,tip_per):\n",
    "    print(\"bill is:\", bill)\n",
    "    print(\"tip_per is:\", tip_per)\n",
    "    tip_amount=bill*tip_per/100\n",
    "    total_bill=bill+tip_amount\n",
    "    print(f\"total bill is: {total_bill}\")\n",
    "\n",
    "bill_pay(2000,15)\n",
    "\n",
    "# here tip_per = default value\n",
    "# whenever we provided default value to a argument\n",
    "# then it is called default "
   ]
  },
  {
   "cell_type": "code",
   "execution_count": null,
   "id": "7077ea55-3276-47fa-9e3d-c92c709e37df",
   "metadata": {},
   "outputs": [],
   "source": [
    "def average1(num1,num2,num3=50):\n",
    "    print(\"num1:\", num1)\n",
    "    print(\"num2:\", num2)\n",
    "    print(\"num3:\", num)\n",
    "    avg=(num1+num2+num3)/3\n",
    "    avg1=round(avg,2)\n",
    "    print(f\"average of {num1}, {num2} and {num3} is: {avg1}\")\n",
    "\n"
   ]
  },
  {
   "cell_type": "code",
   "execution_count": null,
   "id": "686b00ed-838d-498a-a42b-18afe7988deb",
   "metadata": {},
   "outputs": [],
   "source": [
    "def average1(num1,num2,num3=50):\n",
    "    print(\"num1:\", num1)\n",
    "    print(\"num2:\", num2)\n",
    "    print(\"num3:\", num)\n",
    "    avg=(num1+num2+num3)/3\n",
    "    avg1=round(avg,2)\n",
    "    print(f\"average of {num1}, {num2} and {num3} is: {avg1}\")\n",
    "\n",
    "\n",
    "\n",
    "\n",
    "note \n",
    "- default argument should be at last\n",
    "- "
   ]
  },
  {
   "cell_type": "code",
   "execution_count": null,
   "id": "60613043-14b9-467b-8692-54068a517447",
   "metadata": {},
   "outputs": [],
   "source": [
    "def average1(num1,num2,num3=50):\n",
    "    print(\"num1:\", num1)\n",
    "    print(\"num2:\", num2)\n",
    "    print(\"num3:\", num)\n",
    "    avg=(num1+num2+num3)/3\n",
    "    avg1=round(avg,2)\n",
    "    print(f\"average of {num1}, {num2} and {num3} is: {avg1}\")\n",
    "\n"
   ]
  },
  {
   "cell_type": "code",
   "execution_count": 6,
   "id": "9ced382b-2e85-4286-b139-87f65d5f9667",
   "metadata": {},
   "outputs": [
    {
     "ename": "NameError",
     "evalue": "name 'average1' is not defined",
     "output_type": "error",
     "traceback": [
      "\u001b[1;31m---------------------------------------------------------------------------\u001b[0m",
      "\u001b[1;31mNameError\u001b[0m                                 Traceback (most recent call last)",
      "Cell \u001b[1;32mIn[6], line 1\u001b[0m\n\u001b[1;32m----> 1\u001b[0m average1(num1,num2,num3\u001b[38;5;241m=\u001b[39m\u001b[38;5;241m40\u001b[39m)\n\u001b[0;32m      2\u001b[0m average1(num1,num2,num3\u001b[38;5;241m=\u001b[39m\u001b[38;5;241m40\u001b[39m)\n\u001b[0;32m      3\u001b[0m average1(num1,num2,num3\u001b[38;5;241m=\u001b[39m\u001b[38;5;241m40\u001b[39m)\n",
      "\u001b[1;31mNameError\u001b[0m: name 'average1' is not defined"
     ]
    }
   ],
   "source": [
    "average1(num1,num2,num3=40)\n",
    "average1(num1,num2=50,num3)\n",
    "average1(num1,num2,num3=40)\n",
    "average1(num1,num2,num3=40)\n",
    "average1(num1,num2,num3=40)\n",
    "average1(num1,num2,num3=40)"
   ]
  },
  {
   "cell_type": "code",
   "execution_count": 1,
   "id": "24c5731a-7ea4-4b24-9124-48f576e4db5f",
   "metadata": {},
   "outputs": [
    {
     "name": "stdout",
     "output_type": "stream",
     "text": [
      "1100\n"
     ]
    }
   ],
   "source": [
    "#case 1\n",
    "\n",
    "def addition(n1,n2=600):\n",
    "    add=n1+n2\n",
    "    print(add)\n",
    "\n",
    "addition(500)"
   ]
  },
  {
   "cell_type": "code",
   "execution_count": 2,
   "id": "a8ac64bc-3f99-4ac6-9fc2-e9acd7615328",
   "metadata": {},
   "outputs": [
    {
     "name": "stdout",
     "output_type": "stream",
     "text": [
      "1500\n"
     ]
    }
   ],
   "source": [
    "# case 2\n",
    "\n",
    "def addition(n1,n2=600):\n",
    "    add=n1+n2\n",
    "    print(add)\n",
    "\n",
    "addition(500,1000)\n",
    "\n",
    "# first we are defining function\n",
    "# while define the function we given n2=600\n",
    "# now we are calling the function,\n",
    "# while we are calling n2=1000\n",
    "# so values will be overwrite\n",
    "# python should always take the latest value"
   ]
  },
  {
   "cell_type": "code",
   "execution_count": 11,
   "id": "04cef122-d4cf-43fe-97aa-6f05e19065c6",
   "metadata": {},
   "outputs": [
    {
     "name": "stdout",
     "output_type": "stream",
     "text": [
      "2500\n"
     ]
    }
   ],
   "source": [
    "# case 3\n",
    "\n",
    "def addition(n1,n2=600):\n",
    "    n2=2000\n",
    "    add=n1+n2\n",
    "    print(add)\n",
    "\n",
    "addition(500,1000)\n",
    "\n",
    "\n",
    "\n",
    "# step 1: define the function n2=600\n",
    "# step 2: call the function n2=1000\n",
    "# step 3: running the function n2=2000"
   ]
  },
  {
   "cell_type": "code",
   "execution_count": 14,
   "id": "976c2833-7ed4-458e-8ac7-2488c837504b",
   "metadata": {},
   "outputs": [
    {
     "name": "stdout",
     "output_type": "stream",
     "text": [
      "2500\n"
     ]
    }
   ],
   "source": [
    "# case 2\n",
    "\n",
    "def addition(n1,n2=600):\n",
    "    n2=2000\n",
    "    add=n1+n2\n",
    "    print(add)\n",
    "n2=3000\n",
    "addition(500,1000)"
   ]
  },
  {
   "cell_type": "code",
   "execution_count": null,
   "id": "5b5b846e-0e35-4af2-9e79-867cbdd32a70",
   "metadata": {},
   "outputs": [],
   "source": [
    "**Local variable and global variable**\n",
    "- local variable means variable inside the function call\n",
    "- global variable means variable outside the function call\n",
    "- once you define the variable outside means, you can use those variable anywhere\n",
    "- you can use global vsariable inside the function also\n",
    "- but you can not use local variable outside the function"
   ]
  },
  {
   "cell_type": "code",
   "execution_count": 15,
   "id": "c3bd299a-b955-4504-8f8f-6e16c918a290",
   "metadata": {},
   "outputs": [
    {
     "name": "stdout",
     "output_type": "stream",
     "text": [
      "200\n"
     ]
    }
   ],
   "source": [
    "def multiplication():\n",
    "    a=10\n",
    "    b=20\n",
    "    mul=a*b\n",
    "    print(mul)\n",
    "\n",
    "multiplication()\n",
    "\n",
    "# a, b, mul are local variable\n",
    "# these values we can not use outside the function"
   ]
  },
  {
   "cell_type": "code",
   "execution_count": 17,
   "id": "c54259d9-fefe-495a-8e8b-6ca182682692",
   "metadata": {},
   "outputs": [
    {
     "ename": "NameError",
     "evalue": "name 'mul' is not defined",
     "output_type": "error",
     "traceback": [
      "\u001b[1;31m---------------------------------------------------------------------------\u001b[0m",
      "\u001b[1;31mNameError\u001b[0m                                 Traceback (most recent call last)",
      "Cell \u001b[1;32mIn[17], line 1\u001b[0m\n\u001b[1;32m----> 1\u001b[0m mul\n",
      "\u001b[1;31mNameError\u001b[0m: name 'mul' is not defined"
     ]
    }
   ],
   "source": [
    "mul"
   ]
  },
  {
   "cell_type": "code",
   "execution_count": 22,
   "id": "04b744bc-7f4b-4da6-b4ef-fdb8e45d3339",
   "metadata": {},
   "outputs": [
    {
     "name": "stdout",
     "output_type": "stream",
     "text": [
      "20000\n"
     ]
    }
   ],
   "source": [
    "a1=100\n",
    "b1=200\n",
    "def multiplication1():\n",
    "    mul1=a1*b1\n",
    "    print(mul1)\n",
    "\n",
    "multiplication1()"
   ]
  },
  {
   "cell_type": "code",
   "execution_count": 19,
   "id": "3a11d8cf-b8ea-47fb-8367-d911333a4731",
   "metadata": {},
   "outputs": [
    {
     "data": {
      "text/plain": [
       "100"
      ]
     },
     "execution_count": 19,
     "metadata": {},
     "output_type": "execute_result"
    }
   ],
   "source": [
    "a1"
   ]
  },
  {
   "cell_type": "code",
   "execution_count": 20,
   "id": "3cb7b34b-77ca-4b37-b8a4-4d806c7b0cf3",
   "metadata": {},
   "outputs": [
    {
     "ename": "NameError",
     "evalue": "name 'mul1' is not defined",
     "output_type": "error",
     "traceback": [
      "\u001b[1;31m---------------------------------------------------------------------------\u001b[0m",
      "\u001b[1;31mNameError\u001b[0m                                 Traceback (most recent call last)",
      "Cell \u001b[1;32mIn[20], line 1\u001b[0m\n\u001b[1;32m----> 1\u001b[0m mul1\n",
      "\u001b[1;31mNameError\u001b[0m: name 'mul1' is not defined"
     ]
    }
   ],
   "source": [
    "mul1"
   ]
  },
  {
   "cell_type": "code",
   "execution_count": 21,
   "id": "55b4f58e-00df-4273-b902-ef34b35b1e48",
   "metadata": {},
   "outputs": [
    {
     "data": {
      "text/plain": [
       "200"
      ]
     },
     "execution_count": 21,
     "metadata": {},
     "output_type": "execute_result"
    }
   ],
   "source": [
    "b1"
   ]
  },
  {
   "cell_type": "code",
   "execution_count": 24,
   "id": "93afe76b-8087-41a0-811d-a67cac838220",
   "metadata": {},
   "outputs": [
    {
     "name": "stdout",
     "output_type": "stream",
     "text": [
      "1200\n"
     ]
    }
   ],
   "source": [
    "# case 5 \n",
    "a1=100\n",
    "b1=200\n",
    "def addition1(a1=1000):\n",
    "    add1=a1+b1\n",
    "    print(add1)\n",
    "    \n",
    "addition1()\n",
    "\n",
    "# step 1: global variable initialization a1=100\n",
    "# step 2: define the function      a1=1000\n",
    "# step 3: call the function        a1=1000\n",
    "# step 4: running the function     a1=1000"
   ]
  },
  {
   "cell_type": "code",
   "execution_count": 1,
   "id": "277a2747-0962-403a-b651-1c1c63aa5784",
   "metadata": {},
   "outputs": [
    {
     "ename": "TypeError",
     "evalue": "addition1() got an unexpected keyword argument 'b1'",
     "output_type": "error",
     "traceback": [
      "\u001b[1;31m---------------------------------------------------------------------------\u001b[0m",
      "\u001b[1;31mTypeError\u001b[0m                                 Traceback (most recent call last)",
      "Cell \u001b[1;32mIn[1], line 8\u001b[0m\n\u001b[0;32m      5\u001b[0m     add1\u001b[38;5;241m=\u001b[39ma1\u001b[38;5;241m+\u001b[39mb1\n\u001b[0;32m      6\u001b[0m     \u001b[38;5;28mprint\u001b[39m(add1)\n\u001b[1;32m----> 8\u001b[0m addition1(a1\u001b[38;5;241m=\u001b[39m\u001b[38;5;241m2000\u001b[39m,b1\u001b[38;5;241m=\u001b[39m\u001b[38;5;241m3000\u001b[39m)\n",
      "\u001b[1;31mTypeError\u001b[0m: addition1() got an unexpected keyword argument 'b1'"
     ]
    }
   ],
   "source": [
    "# case 6\n",
    "a1=100\n",
    "b1=200\n",
    "def addition1(a1=1000):\n",
    "    add1=a1+b1\n",
    "    print(add1)\n",
    "    \n",
    "addition1(a1=2000,b1=3000)\n",
    "\n",
    "# while defining function only one argument is there\n",
    "# while calling we are providing twobarguments\n",
    "# it is not possible"
   ]
  },
  {
   "cell_type": "code",
   "execution_count": 25,
   "id": "e86109ff-96a5-4c36-8cc4-01e4a8a745cd",
   "metadata": {},
   "outputs": [
    {
     "name": "stdout",
     "output_type": "stream",
     "text": [
      "2200\n"
     ]
    }
   ],
   "source": [
    "# case 7\n",
    "a1=100\n",
    "b1=200\n",
    "def addition1(a1=1000):\n",
    "    add1=a1+b1\n",
    "    print(add1)\n",
    "    \n",
    "addition1(a1=2000)\n",
    "\n"
   ]
  },
  {
   "cell_type": "code",
   "execution_count": 27,
   "id": "6a563aa5-deaa-4039-8eca-0e43570680fc",
   "metadata": {},
   "outputs": [
    {
     "name": "stdout",
     "output_type": "stream",
     "text": [
      "5200\n"
     ]
    }
   ],
   "source": [
    "# case 8 \n",
    "a1=100\n",
    "b1=200\n",
    "def addition1(a1=1000):\n",
    "    a1=5000\n",
    "    add1=a1+b1\n",
    "    print(add1)\n",
    "    \n",
    "addition1(a1=2000)"
   ]
  },
  {
   "cell_type": "code",
   "execution_count": 28,
   "id": "d9196988-5919-4a46-80fc-7365bd1944ee",
   "metadata": {},
   "outputs": [
    {
     "data": {
      "text/plain": [
       "100"
      ]
     },
     "execution_count": 28,
     "metadata": {},
     "output_type": "execute_result"
    }
   ],
   "source": [
    "a1"
   ]
  },
  {
   "cell_type": "code",
   "execution_count": 29,
   "id": "ed4a8337-a3e7-4771-a932-ed253aeb6ed1",
   "metadata": {},
   "outputs": [
    {
     "name": "stdout",
     "output_type": "stream",
     "text": [
      "5200\n"
     ]
    }
   ],
   "source": [
    "# case 9\n",
    "a1=100\n",
    "b1=200\n",
    "def addition1(a1=1000):\n",
    "    a1=5000\n",
    "    add1=a1+b1\n",
    "    print(add1)\n",
    "a1=6000    \n",
    "addition1(a1=2000)"
   ]
  },
  {
   "cell_type": "code",
   "execution_count": 30,
   "id": "62d0015b-b8f4-4dd8-bc3c-c2d1d153c530",
   "metadata": {},
   "outputs": [
    {
     "data": {
      "text/plain": [
       "6000"
      ]
     },
     "execution_count": 30,
     "metadata": {},
     "output_type": "execute_result"
    }
   ],
   "source": [
    "a1"
   ]
  },
  {
   "cell_type": "code",
   "execution_count": 31,
   "id": "38601adf-216d-43c7-b1b3-9cc809e9bb93",
   "metadata": {},
   "outputs": [
    {
     "name": "stdout",
     "output_type": "stream",
     "text": [
      "6200\n"
     ]
    }
   ],
   "source": [
    "# case 10 \n",
    "b1=200\n",
    "def addition1():\n",
    "    add1=a1+b1\n",
    "    print(add1)\n",
    "a1=6000    \n",
    "addition1()\n",
    "\n",
    "# b1=200\n",
    "# define the function\n",
    "# a=6000\n",
    "# calling the function\n",
    "# running the function"
   ]
  },
  {
   "cell_type": "code",
   "execution_count": null,
   "id": "5d5a292f-8c85-4198-a769-a3495797e998",
   "metadata": {},
   "outputs": [],
   "source": [
    "# case 11 \n",
    "b1=200\n",
    "def addition1():\n",
    "    add1=a1+b1\n",
    "    print(add1)\n",
    "a1=6000    \n",
    "addition1()"
   ]
  },
  {
   "cell_type": "code",
   "execution_count": 32,
   "id": "aa64c4ff-aec3-4738-8a4a-cd00c6d908e8",
   "metadata": {},
   "outputs": [
    {
     "ename": "NameError",
     "evalue": "name 'a21' is not defined",
     "output_type": "error",
     "traceback": [
      "\u001b[1;31m---------------------------------------------------------------------------\u001b[0m",
      "\u001b[1;31mNameError\u001b[0m                                 Traceback (most recent call last)",
      "Cell \u001b[1;32mIn[32], line 6\u001b[0m\n\u001b[0;32m      4\u001b[0m     add21\u001b[38;5;241m=\u001b[39ma21\u001b[38;5;241m+\u001b[39mb21\n\u001b[0;32m      5\u001b[0m     \u001b[38;5;28mprint\u001b[39m(add21)    \n\u001b[1;32m----> 6\u001b[0m addition1()\n\u001b[0;32m      7\u001b[0m a21\u001b[38;5;241m=\u001b[39m\u001b[38;5;241m6000\u001b[39m\n",
      "Cell \u001b[1;32mIn[32], line 4\u001b[0m, in \u001b[0;36maddition1\u001b[1;34m()\u001b[0m\n\u001b[0;32m      3\u001b[0m \u001b[38;5;28;01mdef\u001b[39;00m \u001b[38;5;21maddition1\u001b[39m():\n\u001b[1;32m----> 4\u001b[0m     add21\u001b[38;5;241m=\u001b[39ma21\u001b[38;5;241m+\u001b[39mb21\n\u001b[0;32m      5\u001b[0m     \u001b[38;5;28mprint\u001b[39m(add21)\n",
      "\u001b[1;31mNameError\u001b[0m: name 'a21' is not defined"
     ]
    }
   ],
   "source": [
    "# case 10 \n",
    "b21=200\n",
    "def addition1():\n",
    "    add21=a21+b21\n",
    "    print(add21)    \n",
    "addition1()\n",
    "a21=6000"
   ]
  },
  {
   "cell_type": "code",
   "execution_count": null,
   "id": "59d689d7-b5bb-4f38-9cca-db51431354b8",
   "metadata": {},
   "outputs": [],
   "source": []
  }
 ],
 "metadata": {
  "kernelspec": {
   "display_name": "Python 3 (ipykernel)",
   "language": "python",
   "name": "python3"
  },
  "language_info": {
   "codemirror_mode": {
    "name": "ipython",
    "version": 3
   },
   "file_extension": ".py",
   "mimetype": "text/x-python",
   "name": "python",
   "nbconvert_exporter": "python",
   "pygments_lexer": "ipython3",
   "version": "3.11.7"
  }
 },
 "nbformat": 4,
 "nbformat_minor": 5
}
