{
 "cells": [
  {
   "cell_type": "markdown",
   "id": "dbc08d98-caba-4e7b-a49f-03315f69489c",
   "metadata": {},
   "source": [
    "**tuple methods**"
   ]
  },
  {
   "cell_type": "code",
   "execution_count": 3,
   "id": "788d0e96-11b8-4f4a-9967-fd7e9aeb1ea4",
   "metadata": {},
   "outputs": [
    {
     "data": {
      "text/plain": [
       "2"
      ]
     },
     "execution_count": 3,
     "metadata": {},
     "output_type": "execute_result"
    }
   ],
   "source": [
    "# INDEX()\n",
    "\n",
    "tuple=(1,2,3,4,5)\n",
    "tuple.index(3)"
   ]
  },
  {
   "cell_type": "code",
   "execution_count": 4,
   "id": "582357a5-56a0-4055-a132-8242c7394605",
   "metadata": {},
   "outputs": [
    {
     "data": {
      "text/plain": [
       "5"
      ]
     },
     "execution_count": 4,
     "metadata": {},
     "output_type": "execute_result"
    }
   ],
   "source": [
    "# COUNT()\n",
    "\n",
    "tuple=(1,2,2,3,2,3,1,2,2,4,5)\n",
    "tuple.count(2)"
   ]
  },
  {
   "cell_type": "code",
   "execution_count": 5,
   "id": "ea64769a-f0b4-47bc-8b6a-9d99419a571b",
   "metadata": {},
   "outputs": [
    {
     "data": {
      "text/plain": [
       "5"
      ]
     },
     "execution_count": 5,
     "metadata": {},
     "output_type": "execute_result"
    }
   ],
   "source": [
    "# LEN()\n",
    "\n",
    "tuple=(1,2,3,4,5)\n",
    "len(tuple)"
   ]
  },
  {
   "cell_type": "code",
   "execution_count": 6,
   "id": "5d158844-e3cb-481a-8347-508d387c66d9",
   "metadata": {},
   "outputs": [
    {
     "data": {
      "text/plain": [
       "5"
      ]
     },
     "execution_count": 6,
     "metadata": {},
     "output_type": "execute_result"
    }
   ],
   "source": [
    "# MAX()\n",
    "\n",
    "tuple=(1,2,3,4,5)\n",
    "max(tuple)"
   ]
  },
  {
   "cell_type": "code",
   "execution_count": 7,
   "id": "dfc58eb0-273b-4604-9cae-dba999d701e4",
   "metadata": {},
   "outputs": [
    {
     "data": {
      "text/plain": [
       "1"
      ]
     },
     "execution_count": 7,
     "metadata": {},
     "output_type": "execute_result"
    }
   ],
   "source": [
    "# MIN()\n",
    "\n",
    "tuple=(1,2,3,4,5)\n",
    "min(tuple)"
   ]
  },
  {
   "cell_type": "code",
   "execution_count": 8,
   "id": "77913e28-84b1-46d6-87a1-96bd2ac77642",
   "metadata": {},
   "outputs": [
    {
     "data": {
      "text/plain": [
       "[1, 2, 3, 4, 5, 6, 7, 8]"
      ]
     },
     "execution_count": 8,
     "metadata": {},
     "output_type": "execute_result"
    }
   ],
   "source": [
    "# SORTED()\n",
    "\n",
    "tuple=(5,2,8,3,7,6,1,4)\n",
    "sorted(tuple)"
   ]
  },
  {
   "cell_type": "code",
   "execution_count": 13,
   "id": "a0b5d04e-dc67-48c1-a7c2-bae56ed5eefb",
   "metadata": {},
   "outputs": [
    {
     "ename": "TypeError",
     "evalue": "'tuple' object is not callable",
     "output_type": "error",
     "traceback": [
      "\u001b[1;31m---------------------------------------------------------------------------\u001b[0m",
      "\u001b[1;31mTypeError\u001b[0m                                 Traceback (most recent call last)",
      "Cell \u001b[1;32mIn[13], line 4\u001b[0m\n\u001b[0;32m      1\u001b[0m \u001b[38;5;66;03m# TUPLE()\u001b[39;00m\n\u001b[0;32m      3\u001b[0m \u001b[38;5;28mlist\u001b[39m\u001b[38;5;241m=\u001b[39m[\u001b[38;5;241m1\u001b[39m,\u001b[38;5;241m2\u001b[39m,\u001b[38;5;241m3\u001b[39m]\n\u001b[1;32m----> 4\u001b[0m \u001b[38;5;28mtuple\u001b[39m(\u001b[38;5;28mlist\u001b[39m)\n",
      "\u001b[1;31mTypeError\u001b[0m: 'tuple' object is not callable"
     ]
    }
   ],
   "source": [
    "# TUPLE()\n",
    "\n",
    "list=[1,2,3]\n",
    "tuple(list)"
   ]
  },
  {
   "cell_type": "code",
   "execution_count": null,
   "id": "8f42ef4b-39dc-485b-972d-b632831061ce",
   "metadata": {},
   "outputs": [],
   "source": [
    "-we can store the output value by using append operations\n",
    "- we are taking emptyblist\n",
    "- we are iterating through elements from a given list\n",
    "- the result we are appending in a new list"
   ]
  },
  {
   "cell_type": "code",
   "execution_count": 1,
   "id": "0864f80d-43ca-446c-a8a3-748960726f98",
   "metadata": {},
   "outputs": [
    {
     "data": {
      "text/plain": [
       "[0, 1, 4, 9, 16, 25, 36, 49, 64, 81]"
      ]
     },
     "execution_count": 1,
     "metadata": {},
     "output_type": "execute_result"
    }
   ],
   "source": [
    "square_list=[]\n",
    "for i in range(10):\n",
    "    square_list.append(i*i)\n",
    "\n",
    "square_list"
   ]
  },
  {
   "cell_type": "markdown",
   "id": "f9bfc57e-323c-4b1b-b5c5-3e3778e216c3",
   "metadata": {},
   "source": [
    "- there are almost 3 line are in the process\n",
    "- the three lines we can make into a single line\n",
    "- this is called as **LIST COMPHREHENSION**"
   ]
  },
  {
   "cell_type": "code",
   "execution_count": null,
   "id": "80a608a0-d662-4b4d-a7dd-76741df09155",
   "metadata": {},
   "outputs": [],
   "source": [
    "$pattern - 1$\n",
    "**only for loop**"
   ]
  },
  {
   "cell_type": "code",
   "execution_count": null,
   "id": "13976572-0ed7-478e-ac27-07a2ae02cd18",
   "metadata": {},
   "outputs": [],
   "source": [
    "# syntax\n",
    "# [<output> <for loop>]"
   ]
  },
  {
   "cell_type": "code",
   "execution_count": 5,
   "id": "dffaa212-9bcd-42e5-aea7-5a9cd0b2f61d",
   "metadata": {},
   "outputs": [
    {
     "data": {
      "text/plain": [
       "[0, 1, 4, 9, 16, 25, 36, 49, 64, 81]"
      ]
     },
     "execution_count": 5,
     "metadata": {},
     "output_type": "execute_result"
    }
   ],
   "source": [
    "square_list=[]\n",
    "for i in range(10):\n",
    "    square_list.append(i*i)\n",
    "\n",
    "square_list\n",
    "\n",
    "# q1= what is the output? i*i\n",
    "# q2 what is the output list name? aquare_list\n",
    "# q3 what is the for loop? for i in range(10)\n",
    "# [<output> <\n",
    "sq_list=[i*i for i in range(10)]\n",
    "sq_list"
   ]
  },
  {
   "cell_type": "code",
   "execution_count": 6,
   "id": "a53c90ce-a80d-4f41-aed2-af4268b641de",
   "metadata": {},
   "outputs": [
    {
     "data": {
      "text/plain": [
       "['HYD', 'MUMBAI', 'CHENNAI', 'BLR']"
      ]
     },
     "execution_count": 6,
     "metadata": {},
     "output_type": "execute_result"
    }
   ],
   "source": [
    "# Q2 l1=['hyd','mumbai','Chennai','blr']\n",
    "# upper_list=\n",
    "l1=['hyd','mumbai','Chennai','blr']\n",
    "upper_list=[]\n",
    "for i in l1:\n",
    "    upper_list.append(i.upper())\n",
    "\n",
    "upper_list"
   ]
  },
  {
   "cell_type": "code",
   "execution_count": 9,
   "id": "ee1a11e5-cac4-4c97-b7cf-613c2bc1d89e",
   "metadata": {},
   "outputs": [
    {
     "data": {
      "text/plain": [
       "['HYD', 'MUMBAI', 'CHENNAI', 'BLR']"
      ]
     },
     "execution_count": 9,
     "metadata": {},
     "output_type": "execute_result"
    }
   ],
   "source": [
    "upper_list=[i.upper() for i in l1]\n",
    "upper_list"
   ]
  },
  {
   "cell_type": "code",
   "execution_count": null,
   "id": "b72f6a4d-4af7-4164-9d49-aad84b06e4ee",
   "metadata": {},
   "outputs": [],
   "source": [
    "l1=['hyd','mumbai','Chennai','blr']"
   ]
  },
  {
   "cell_type": "code",
   "execution_count": 10,
   "id": "75dc4f80-865a-4d97-93ee-039e5293d69f",
   "metadata": {},
   "outputs": [
    {
     "data": {
      "text/plain": [
       "['hyd', 'mumbai', 'chennai', 'blr']"
      ]
     },
     "execution_count": 10,
     "metadata": {},
     "output_type": "execute_result"
    }
   ],
   "source": [
    "# Q3\n",
    "l2=['hyd','mumbai','Chennai','blr']\n",
    "lower_list=[i.lower() for i in l2]\n",
    "lower_list"
   ]
  },
  {
   "cell_type": "code",
   "execution_count": 13,
   "id": "6f2a1d5f-1c07-471e-94a3-8558bc004334",
   "metadata": {},
   "outputs": [
    {
     "name": "stdout",
     "output_type": "stream",
     "text": [
      "0\n",
      "1\n",
      "2\n",
      "3\n"
     ]
    }
   ],
   "source": [
    "# Q4 l2-['hyd','mumbai','Chennai','blr']\n",
    "# summ of all element\n",
    "\n",
    "summ=0\n",
    "l2=['hyd','mumbai','Chennai','blr']\n",
    "for i in l2:\n",
    "    print(l2.index(i))\n"
   ]
  },
  {
   "cell_type": "code",
   "execution_count": 14,
   "id": "ea32b73c-4f30-494a-abf7-a84c72b3997c",
   "metadata": {},
   "outputs": [
    {
     "data": {
      "text/plain": [
       "6"
      ]
     },
     "execution_count": 14,
     "metadata": {},
     "output_type": "execute_result"
    }
   ],
   "source": [
    "l2=['hyd','mumbai','Chennai','blr']\n",
    "idx_list=[l2.index(i) for i in l2]\n",
    "sum(idx_list)"
   ]
  },
  {
   "cell_type": "code",
   "execution_count": null,
   "id": "b3634a82-147a-4390-9bb8-b82d69758f3b",
   "metadata": {},
   "outputs": [],
   "source": [
    "- making empty list will not works in list comphrehension\n",
    "- initializing will not work in list comphrehension\n"
   ]
  },
  {
   "cell_type": "code",
   "execution_count": null,
   "id": "c20ab3c4-dfb3-4a3d-92f2-7974aa50f62d",
   "metadata": {},
   "outputs": [],
   "source": [
    "unique vowels\n",
    "s=''\n",
    "for i in "
   ]
  },
  {
   "cell_type": "code",
   "execution_count": null,
   "id": "c8d59411-4a79-4bbe-a2c4-fcac08105d9d",
   "metadata": {},
   "outputs": [],
   "source": [
    "$pattern 2$\n",
    "**for loop - if condition**"
   ]
  },
  {
   "cell_type": "code",
   "execution_count": null,
   "id": "61ae0012-a619-4f75-9995-e7d5a12efcb6",
   "metadata": {},
   "outputs": [],
   "source": [
    "# syntax\n",
    "# [<output> <for loop> <if condition>]"
   ]
  },
  {
   "cell_type": "code",
   "execution_count": 15,
   "id": "38886fcf-cd88-444a-8a76-8fcfb539e4b6",
   "metadata": {},
   "outputs": [
    {
     "name": "stdout",
     "output_type": "stream",
     "text": [
      "Mumbai\n",
      "Chennai\n"
     ]
    }
   ],
   "source": [
    "# Q5 l1=['hyd','Mumbai','Chennai','blr']\n",
    "# ans=['Mumbai','Chennai']\n",
    "\n",
    "l1=['hyd','Mumbai','Chennai','blr']\n",
    "for i in l1:\n",
    "    if len(i)>4:\n",
    "        print(i)"
   ]
  },
  {
   "cell_type": "code",
   "execution_count": 17,
   "id": "a0179d2d-c677-41dc-a386-22476943e418",
   "metadata": {},
   "outputs": [
    {
     "data": {
      "text/plain": [
       "['Mumbai', 'Chennai']"
      ]
     },
     "execution_count": 17,
     "metadata": {},
     "output_type": "execute_result"
    }
   ],
   "source": [
    "l1=['hyd','Mumbai','Chennai','blr']\n",
    "op=[i for i in l1 if len(i)>4]\n",
    "op"
   ]
  },
  {
   "cell_type": "code",
   "execution_count": 20,
   "id": "41756339-c1d5-41a1-87fc-b95e50295a85",
   "metadata": {},
   "outputs": [
    {
     "name": "stdout",
     "output_type": "stream",
     "text": [
      "Mum#bai\n",
      "Chen#nai\n"
     ]
    }
   ],
   "source": [
    "# Q6 l1=['hyd','Mum#bai','Chen#nai','blr']\n",
    "# ans=['Mum#bai','Chennai']\n",
    "# we want element which are having '#'\n",
    "\n",
    "l1=['hyd','Mum#bai','Chen#nai','blr']\n",
    "for i in l1:\n",
    "    if '#' in i:\n",
    "        print(i)"
   ]
  },
  {
   "cell_type": "code",
   "execution_count": 24,
   "id": "c2db70d8-51e8-4fb3-be29-622514c5cdc3",
   "metadata": {},
   "outputs": [
    {
     "data": {
      "text/plain": [
       "['Mum#bai', 'Chen#nai']"
      ]
     },
     "execution_count": 24,
     "metadata": {},
     "output_type": "execute_result"
    }
   ],
   "source": [
    "l1=['hyd','Mum#bai','Chen#nai','blr']\n",
    "op=[]\n",
    "for i in l1:\n",
    "    if '#' in i:\n",
    "        op.append(i)\n",
    "\n",
    "op"
   ]
  },
  {
   "cell_type": "code",
   "execution_count": 22,
   "id": "0b838835-a41d-4b11-821d-cb991ac9587d",
   "metadata": {},
   "outputs": [
    {
     "data": {
      "text/plain": [
       "['Mum#bai', 'Chen#nai']"
      ]
     },
     "execution_count": 22,
     "metadata": {},
     "output_type": "execute_result"
    }
   ],
   "source": [
    "l1=['hyd','Mum#bai','Chen#nai','blr']\n",
    "op=[i for i in l1 if '#' in i]\n",
    "op"
   ]
  },
  {
   "cell_type": "code",
   "execution_count": 23,
   "id": "f34fb5d0-b1ca-4421-b334-6458102931c1",
   "metadata": {},
   "outputs": [
    {
     "data": {
      "text/plain": [
       "['hyd', 'blr']"
      ]
     },
     "execution_count": 23,
     "metadata": {},
     "output_type": "execute_result"
    }
   ],
   "source": [
    "l1=['hyd','Mum#bai','Chen#nai','blr']\n",
    "op=[i for i in l1 if '#' not in i]\n",
    "op"
   ]
  },
  {
   "cell_type": "code",
   "execution_count": null,
   "id": "8a337f01-5ea7-45e6-90a0-e86eabc13d5f",
   "metadata": {},
   "outputs": [],
   "source": [
    "# Q7 l1=['hyd','Mumbai','Chennai','blr']\n",
    "# ans=['Mumbai','Chennai']\n",
    "# we want element which are having capital letter\n",
    "\n",
    "l1=['hyd','Mum#bai','Chen#nai','blr']\n",
    "for i in l1:\n",
    "    if '#' in i:\n",
    "        print(i)\n",
    "for i in l1:\n",
    "    "
   ]
  },
  {
   "cell_type": "code",
   "execution_count": 64,
   "id": "f9f22f88-c62a-4d33-b8af-16f0c5f1a04e",
   "metadata": {},
   "outputs": [
    {
     "data": {
      "text/plain": [
       "['Mumbai', 'Chennai']"
      ]
     },
     "execution_count": 64,
     "metadata": {},
     "output_type": "execute_result"
    }
   ],
   "source": [
    "l1=['hyd','Mumbai','Chennai','blr']\n",
    "op_title=[i for i in l1 if i.istitle()]\n",
    "op_title"
   ]
  },
  {
   "cell_type": "code",
   "execution_count": 70,
   "id": "b4d1fd3e-2ec4-472b-8349-e13dd1046a3e",
   "metadata": {},
   "outputs": [
    {
     "data": {
      "text/plain": [
       "['hyd', 'Mumbai', 'Chennai', 'blr']"
      ]
     },
     "execution_count": 70,
     "metadata": {},
     "output_type": "execute_result"
    }
   ],
   "source": [
    "l1=['hyd','Mumbai','Chennai','blr']\n",
    "op_title=[i for i in l1 if i.capitalize()]\n",
    "op_title"
   ]
  },
  {
   "cell_type": "code",
   "execution_count": 2,
   "id": "98d5fcf9-5302-4bf6-b36a-c5ddcef9e8ed",
   "metadata": {},
   "outputs": [
    {
     "data": {
      "text/plain": [
       "['virat', ' Rohit', ' KL']"
      ]
     },
     "execution_count": 2,
     "metadata": {},
     "output_type": "execute_result"
    }
   ],
   "source": [
    "str1='virat.kohli@rcb.com, Rohit.sharma@mi.com, KL.Rahul@lucknow.com'\n",
    "list1=str1.split(',')\n",
    "list1[0][:list1[0].index('.')]\n",
    "list1[1][:list1[1].index('.')]\n",
    "list1[2][:list1[2].index('.')]\n",
    "\n",
    "f_name=[]\n",
    "for i in list1:\n",
    "    f_name.append(i[:i.index('.')])\n",
    "\n",
    "f_name"
   ]
  },
  {
   "cell_type": "code",
   "execution_count": 5,
   "id": "41d84d11-946b-4e44-b6ce-dc50c1bdf395",
   "metadata": {},
   "outputs": [
    {
     "data": {
      "text/plain": [
       "['virat', ' Rohit', ' KL']"
      ]
     },
     "execution_count": 5,
     "metadata": {},
     "output_type": "execute_result"
    }
   ],
   "source": [
    "str1='virat.kohli@rcb.com, Rohit.sharma@mi.com, KL.Rahul@lucknow.com'\n",
    "list1=str1.split(',')\n",
    "f_name=[i[:i.index('.')]for i in list1]\n",
    "f_name\n"
   ]
  },
  {
   "cell_type": "code",
   "execution_count": 9,
   "id": "ec4060ec-a13b-4fc1-b221-192dd1a0e36d",
   "metadata": {},
   "outputs": [
    {
     "data": {
      "text/plain": [
       "['virat.kohli', ' Rohit.sharma', ' KL.Rahul']"
      ]
     },
     "execution_count": 9,
     "metadata": {},
     "output_type": "execute_result"
    }
   ],
   "source": [
    "str1='virat.kohli@rcb.com, Rohit.sharma@mi.com, KL.Rahul@lucknow.com'\n",
    "list1=str1.split(',')\n",
    "s_name=[i[:i.index('@')]for i in list1]\n",
    "s_name"
   ]
  },
  {
   "cell_type": "code",
   "execution_count": 57,
   "id": "93416829-3257-49ae-ad3f-091c773367d9",
   "metadata": {},
   "outputs": [
    {
     "ename": "ValueError",
     "evalue": "substring not found",
     "output_type": "error",
     "traceback": [
      "\u001b[1;31m---------------------------------------------------------------------------\u001b[0m",
      "\u001b[1;31mValueError\u001b[0m                                Traceback (most recent call last)",
      "Cell \u001b[1;32mIn[57], line 3\u001b[0m\n\u001b[0;32m      1\u001b[0m str1\u001b[38;5;241m=\u001b[39m\u001b[38;5;124m'\u001b[39m\u001b[38;5;124mvirat.kohli@rcb.com, Rohit.sharma@mi.com, KL.rahul@lucknow.com\u001b[39m\u001b[38;5;124m'\u001b[39m\n\u001b[0;32m      2\u001b[0m list1\u001b[38;5;241m=\u001b[39mstr1\u001b[38;5;241m.\u001b[39msplit(\u001b[38;5;124m'\u001b[39m\u001b[38;5;124m.\u001b[39m\u001b[38;5;124m'\u001b[39m)\n\u001b[1;32m----> 3\u001b[0m list1[\u001b[38;5;241m0\u001b[39m][:list1[\u001b[38;5;241m0\u001b[39m]\u001b[38;5;241m.\u001b[39mindex(\u001b[38;5;124m'\u001b[39m\u001b[38;5;124m,\u001b[39m\u001b[38;5;124m'\u001b[39m)]\n",
      "\u001b[1;31mValueError\u001b[0m: substring not found"
     ]
    }
   ],
   "source": [
    "str1='virat.kohli@rcb.com, Rohit.sharma@mi.com, KL.rahul@lucknow.com'\n",
    "list1=str1.split('.')\n",
    "list1[0][:list1[0].index('.')]"
   ]
  },
  {
   "cell_type": "code",
   "execution_count": 1,
   "id": "5f922e3f-4930-447d-9bf8-360dc0b13023",
   "metadata": {},
   "outputs": [
    {
     "data": {
      "text/plain": [
       "' KL'"
      ]
     },
     "execution_count": 1,
     "metadata": {},
     "output_type": "execute_result"
    }
   ],
   "source": [
    "str1='virat.kohli@rcb.com, Rohit.sharma@mi.com, KL.rahul@lucknow.com'\n",
    "list1=str1.split(',')\n",
    "list1[0][:list1[0].index('.')]\n",
    "list1[1][:list1[1].index('.')]\n",
    "list1[2][:list1[2].index('.')]"
   ]
  },
  {
   "cell_type": "code",
   "execution_count": null,
   "id": "3ab4720e-32bb-477e-9234-eabd958f6fcc",
   "metadata": {},
   "outputs": [],
   "source": [
    "$Pattern - 3$\n",
    "if - else\n",
    "[<if_output> <if> <else> <else_output> <for>] : if else\n",
    "\n",
    "if output   else output\n",
    "if condition  else\n",
    "for loop\n",
    "# A practical introduction to python programming\n",
    "# google AI developers"
   ]
  },
  {
   "cell_type": "markdown",
   "id": "8bf2a98b-941b-4294-a7ba-6b0576fc37b1",
   "metadata": {},
   "source": [
    "**even-odd**"
   ]
  },
  {
   "cell_type": "code",
   "execution_count": null,
   "id": "6fd07413-baff-4ac1-aa57-5f2c5ff76563",
   "metadata": {},
   "outputs": [],
   "source": [
    "\n",
    "even_list,odd_list=[],[]\n",
    "for i in range(1,20):\n",
    "    if i%2==0:\n",
    "        print(f\"even:{i}\")\n",
    "    else:\n",
    "        print(f\"odd:{i}\")"
   ]
  },
  {
   "cell_type": "code",
   "execution_count": null,
   "id": "f55836b5-a239-424c-abe1-20951f80effe",
   "metadata": {},
   "outputs": [],
   "source": [
    "even_list,odd_list=[],[]\n",
    "for i in range(1,20):\n",
    "    if i%2==0:\n",
    "        even_list.append(f\"even:{i}\")\n",
    "    else:\n",
    "        print(f\"odd:{i}\")"
   ]
  },
  {
   "cell_type": "code",
   "execution_count": null,
   "id": "3c6ec67d-bf4e-4330-abde-e4c25427d305",
   "metadata": {},
   "outputs": [],
   "source": [
    "op_list=[]\n",
    "for i in range(1,20):\n",
    "    if i%2==0:\n",
    "        op_list.append(f\"even:{i}\")\n",
    "    else:\n",
    "        op_list.append(f\"odd:{i}\")\n",
    " op_list       "
   ]
  },
  {
   "cell_type": "code",
   "execution_count": 4,
   "id": "a370bde4-d8b4-4427-ad13-fe7a94a41684",
   "metadata": {},
   "outputs": [
    {
     "data": {
      "text/plain": [
       "['odd:1',\n",
       " 'even:2',\n",
       " 'odd:3',\n",
       " 'even:4',\n",
       " 'odd:5',\n",
       " 'even:6',\n",
       " 'odd:7',\n",
       " 'even:8',\n",
       " 'odd:9',\n",
       " 'even:10',\n",
       " 'odd:11',\n",
       " 'even:12',\n",
       " 'odd:13',\n",
       " 'even:14',\n",
       " 'odd:15',\n",
       " 'even:16',\n",
       " 'odd:17',\n",
       " 'even:18',\n",
       " 'odd:19']"
      ]
     },
     "execution_count": 4,
     "metadata": {},
     "output_type": "execute_result"
    }
   ],
   "source": [
    "op_list=[f\"even:{i}\" if i%2==0 else f\"odd:{i}\" for i in range(1,20)]\n",
    "op_list"
   ]
  },
  {
   "cell_type": "code",
   "execution_count": null,
   "id": "6abccd34-c58f-4f43-bc55-2e2629311ccd",
   "metadata": {},
   "outputs": [],
   "source": []
  }
 ],
 "metadata": {
  "kernelspec": {
   "display_name": "Python 3 (ipykernel)",
   "language": "python",
   "name": "python3"
  },
  "language_info": {
   "codemirror_mode": {
    "name": "ipython",
    "version": 3
   },
   "file_extension": ".py",
   "mimetype": "text/x-python",
   "name": "python",
   "nbconvert_exporter": "python",
   "pygments_lexer": "ipython3",
   "version": "3.11.7"
  }
 },
 "nbformat": 4,
 "nbformat_minor": 5
}
