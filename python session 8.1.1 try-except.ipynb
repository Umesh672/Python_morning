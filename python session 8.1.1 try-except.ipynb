{
 "cells": [
  {
   "cell_type": "code",
   "execution_count": null,
   "id": "8161ff88-73b3-4036-9647-d1c57faee07c",
   "metadata": {},
   "outputs": [],
   "source": [
    "wap ask the user enter 2 numbers\n",
    "num1\n",
    "num2\n",
    "you need to print\n",
    "enter operation 1 for add\n",
    "enter operation 2 for multi\n",
    "enter operation 3 for sub\n",
    "enter operation 3 for div\n",
    "\n",
    "enter the operation between 1to4\n",
    "if operation equal to 1 then do add\n",
    "if operation equal to 2 then do multi\n",
    "if operation equal to 3 then do sub\n",
    "if operation equal to 4 then do div\n",
    "other wise print enter the valid number"
   ]
  },
  {
   "cell_type": "code",
   "execution_count": null,
   "id": "06f7dac9-abd0-4f03-be15-005923e33c83",
   "metadata": {},
   "outputs": [],
   "source": [
    "num1=eval(input(\"enter number 1\"))\n",
    "num2=eval (input(\"enter number 2\"))\n",
    "operation1=num1+num2\n",
    "print(\"enter operation 1 for addition\"))\n",
    "print(\"enter operation 2 for mul\"))\n",
    "print(\"enter operation 3 for sub\"))\n",
    "print(\"enter operation 4 for div\"))\n",
    "operation2=num1*num2\n",
    "operation3=num1-num3\n",
    "operation4=num1/num4\n",
    "operations=eval(input(\"enter the operation 1 to 4\"))\n",
    "if operations==1:\n",
    "    print(\"addi"
   ]
  },
  {
   "cell_type": "code",
   "execution_count": null,
   "id": "edb3da0f-bf7e-4e1a-813c-584519c6f065",
   "metadata": {},
   "outputs": [],
   "source": [
    "wap ask the user enter the gender\n",
    "if gender equal to male\n",
    "        ask the user enter the age\n",
    "        if the age greater than 60 print ss\n",
    "        if the age between 30 to 60 print MA man\n",
    "        if the age between 15 to 30 print young man\n",
    "        otherwise print boy\n",
    "elif gender equal to female\n",
    "        ask the user enter the age\n",
    "        if the age greater than 60 print ss\n",
    "        if the age between 30 to 60 print MAfe man\n",
    "        if the age between 15 to 30 print young girl\n",
    "        otherwise print girl"
   ]
  },
  {
   "cell_type": "code",
   "execution_count": 11,
   "id": "6d22443c-b4f2-4739-87cd-ce1e329dad0b",
   "metadata": {},
   "outputs": [
    {
     "name": "stdin",
     "output_type": "stream",
     "text": [
      "enter the gender (male/female) female\n",
      "enter the age 25\n"
     ]
    },
    {
     "name": "stdout",
     "output_type": "stream",
     "text": [
      "girl\n"
     ]
    }
   ],
   "source": [
    "gender=input(\"enter the gender (male/female)\")\n",
    "if gender==\"male\":\n",
    "    age=eval(input(\"enter the age\"))\n",
    "    if age>60:\n",
    "        print(\"ss\")\n",
    "    elif age==30:\n",
    "        print(\"ma man\")\n",
    "    elif age==15:\n",
    "        print(\"young man\")\n",
    "    else:\n",
    "        print(\"boy\")\n",
    "elif gender=='female':\n",
    "    age=eval(input(\"enter the age\"))\n",
    "    if age>60:\n",
    "        print(\"ss\")\n",
    "    elif age==30:\n",
    "        print(\"ma female\")\n",
    "    elif age==15:\n",
    "        print(\"young girl\")\n",
    "    else:\n",
    "        print(\"girl\")"
   ]
  },
  {
   "cell_type": "code",
   "execution_count": null,
   "id": "df81e347-3c63-4eea-92a0-89ca3659919c",
   "metadata": {},
   "outputs": [],
   "source": [
    "wap ask the user enter a number\n",
    "if that numbergreater than or equal to zero\n",
    "        if number equal to zero\n",
    "            print zero\n",
    "        else\n",
    "            print positive\n",
    "else\n",
    "    print negative"
   ]
  },
  {
   "cell_type": "code",
   "execution_count": null,
   "id": "b90e613a-c71c-4c14-abc3-7cc9720cdf50",
   "metadata": {},
   "outputs": [],
   "source": [
    "num=eval(input(\"enter the number\")\n",
    "if num>=0:\n",
    "    if num==0:\n",
    "        print(\""
   ]
  },
  {
   "cell_type": "code",
   "execution_count": null,
   "id": "f2d94c23-6bd7-495c-ba60-2d488e53a029",
   "metadata": {},
   "outputs": [],
   "source": [
    "take three number\n",
    "num1 num2 num3\n",
    "find the maximum value"
   ]
  },
  {
   "cell_type": "markdown",
   "id": "ae829201-58d0-4b92-b541-31fb7e8d293b",
   "metadata": {},
   "source": [
    "# try and excecpt"
   ]
  },
  {
   "cell_type": "code",
   "execution_count": null,
   "id": "864f4d0d-a619-4ee1-b4fa-170450d8d8e9",
   "metadata": {},
   "outputs": [],
   "source": [
    "**try-except**\n",
    "\n",
    "-gernerally in real time we will write n numbers of python lines\n",
    "- there is a situation we might get error, that error might be unknown\n",
    "- this unknown error does not cause any harm\n",
    "- even though we getting error we need to proceed further\n",
    "- also we need to catch that error\n",
    "- because we already known python is a sequential process\n",
    "- means the lines will ececute step by step\n",
    "- suppose you have an error at particlarly line the code eccution will stop at that line only\n",
    "- "
   ]
  },
  {
   "cell_type": "code",
   "execution_count": null,
   "id": "7e8a9103-b72d-49e9-96e9-e7c395d0f6df",
   "metadata": {},
   "outputs": [],
   "source": [
    "try- except has no blocks\n",
    "try block as actual code\n",
    "except block will catch error "
   ]
  },
  {
   "cell_type": "code",
   "execution_count": null,
   "id": "3e6c5a67-f2b2-4aa7-864d-ed55e901699d",
   "metadata": {},
   "outputs": [],
   "source": [
    "try:\n",
    "    n1=eval(input(\"enter the number1\"))\n",
    "    n2=eval(input(\"enter the number2\"))\n",
    "    add=n1+n2\n",
    "    print(add)\n",
    "except:\n",
    "    print('hello')\n",
    "    print('you are getting code error')\n",
    "    "
   ]
  },
  {
   "cell_type": "code",
   "execution_count": null,
   "id": "f64a6234-f645-4e32-8c06-a9f229d022bd",
   "metadata": {},
   "outputs": [],
   "source": [
    "note\n",
    "\n",
    "- generally try except block will use to catch the errors"
   ]
  },
  {
   "cell_type": "code",
   "execution_count": null,
   "id": "39d22ece-8824-4b08-8301-8801e743d926",
   "metadata": {},
   "outputs": [],
   "source": [
    "# name error\n",
    "# type error"
   ]
  },
  {
   "cell_type": "code",
   "execution_count": null,
   "id": "6ae7781b-adda-4488-a3fe-1d6262da3164",
   "metadata": {},
   "outputs": [],
   "source": [
    "try:\n",
    "    n1=eval(input(\"enter the number1\"))\n",
    "    n2=eval(input(\"enter the number2\"))\n",
    "    add=n1+n2\n",
    "    print(add)\n",
    "except Exception as e:\n",
    "    print(e)\n",
    "    print(f\"the error is {e}\")\n",
    "    "
   ]
  },
  {
   "cell_type": "code",
   "execution_count": null,
   "id": "414088db-3b79-48c4-8193-6179c1874fe0",
   "metadata": {},
   "outputs": [],
   "source": [
    "# now onwards every code\n",
    "need to write try-except"
   ]
  },
  {
   "cell_type": "code",
   "execution_count": null,
   "id": "332ecd80-d232-4dfd-8a37-5df23c07f0c1",
   "metadata": {},
   "outputs": [],
   "source": [
    "try:\n",
    "    num=eval(input(\"enter the number:\")\n",
    "    if num%2==0:\n",
    "             print"
   ]
  }
 ],
 "metadata": {
  "kernelspec": {
   "display_name": "Python 3 (ipykernel)",
   "language": "python",
   "name": "python3"
  },
  "language_info": {
   "codemirror_mode": {
    "name": "ipython",
    "version": 3
   },
   "file_extension": ".py",
   "mimetype": "text/x-python",
   "name": "python",
   "nbconvert_exporter": "python",
   "pygments_lexer": "ipython3",
   "version": "3.11.7"
  }
 },
 "nbformat": 4,
 "nbformat_minor": 5
}
