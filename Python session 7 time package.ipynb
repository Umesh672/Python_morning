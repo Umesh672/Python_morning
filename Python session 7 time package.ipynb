{
 "cells": [
  {
   "cell_type": "code",
   "execution_count": null,
   "id": "13f75355-d687-4ac2-9f87-f89f90974f4f",
   "metadata": {},
   "outputs": [],
   "source": [
    "(): is a function or methods\n",
    "only  function or method callable\n",
    "if something called not collable it is not a function\n",
    "it is not a function means, you need to remove the brackets\n",
    "bound method     addd the brackets\n",
    "function means    add the brackets\n",
    "not collable   remove "
   ]
  },
  {
   "cell_type": "markdown",
   "id": "db3cb217-4772-497e-95b4-af918d8fe219",
   "metadata": {},
   "source": [
    "# time package"
   ]
  },
  {
   "cell_type": "code",
   "execution_count": 3,
   "id": "5a25e828-ad5e-43e5-aff2-4e13f3e3a97f",
   "metadata": {},
   "outputs": [
    {
     "name": "stdout",
     "output_type": "stream",
     "text": [
      "father:hello\n",
      "d: hi papa how are you\n",
      "father: do you have school today\n"
     ]
    }
   ],
   "source": [
    "import time\n",
    "print(\"father:hello\")\n",
    "time.sleep(2)\n",
    "print(\"d: hi papa how are you\")\n",
    "time.sleep(2)\n",
    "print(\"father: do you have school today\")"
   ]
  },
  {
   "cell_type": "code",
   "execution_count": null,
   "id": "11b2d1ea-b11f-4341-b455-865354ca395d",
   "metadata": {},
   "outputs": [],
   "source": []
  },
  {
   "cell_type": "code",
   "execution_count": null,
   "id": "a3c26274-0aae-4545-968c-bdf9bc2a7d6c",
   "metadata": {},
   "outputs": [],
   "source": [
    "computer vision is used to image operations\n",
    "video operation"
   ]
  },
  {
   "cell_type": "code",
   "execution_count": 4,
   "id": "09902c6c-a902-46a1-b1d2-14b9f0fb95ad",
   "metadata": {},
   "outputs": [
    {
     "ename": "ModuleNotFoundError",
     "evalue": "No module named 'cv2'",
     "output_type": "error",
     "traceback": [
      "\u001b[1;31m---------------------------------------------------------------------------\u001b[0m",
      "\u001b[1;31mModuleNotFoundError\u001b[0m                       Traceback (most recent call last)",
      "Cell \u001b[1;32mIn[4], line 1\u001b[0m\n\u001b[1;32m----> 1\u001b[0m \u001b[38;5;28;01mimport\u001b[39;00m \u001b[38;5;21;01mcv2\u001b[39;00m\n",
      "\u001b[1;31mModuleNotFoundError\u001b[0m: No module named 'cv2'"
     ]
    }
   ],
   "source": [
    "import cv2"
   ]
  },
  {
   "cell_type": "code",
   "execution_count": null,
   "id": "59892555-db3f-45c6-8a33-571d384be747",
   "metadata": {},
   "outputs": [],
   "source": [
    "- whenever module not found we need to install it\n",
    "- here our package name is cv2\n",
    "- 99% the installation will be like this\n",
    "pip install<package name>\n",
    "- some packages installation name will different\n",
    "and python import name is different\n",
    "- in order to install tha packages we need internet\n",
    "- if internet problem occur while installing we will get http error"
   ]
  },
  {
   "cell_type": "code",
   "execution_count": 5,
   "id": "bde8af38-f785-4030-9693-fed1ee4d03e4",
   "metadata": {},
   "outputs": [],
   "source": [
    "import cv2"
   ]
  },
  {
   "cell_type": "code",
   "execution_count": 7,
   "id": "06858746-63c1-4af4-95b2-10259eceece3",
   "metadata": {},
   "outputs": [],
   "source": [
    "import streamlit"
   ]
  },
  {
   "cell_type": "code",
   "execution_count": null,
   "id": "ebd439e0-1758-4f7c-88c2-5ee4d471257e",
   "metadata": {},
   "outputs": [],
   "source": [
    "pip freeze is a command to known the already installed packages in our laptop to see the packages "
   ]
  },
  {
   "cell_type": "code",
   "execution_count": 8,
   "id": "3145c3aa-40a8-479f-b05f-f23204f37cc2",
   "metadata": {},
   "outputs": [],
   "source": [
    "import numpy"
   ]
  },
  {
   "cell_type": "code",
   "execution_count": 9,
   "id": "e8724a43-91a6-4be3-b3e5-be4c4df22a9b",
   "metadata": {},
   "outputs": [
    {
     "data": {
      "text/plain": [
       "<module 'numpy' from 'C:\\\\Users\\\\ukush\\\\anaconda3\\\\Lib\\\\site-packages\\\\numpy\\\\__init__.py'>"
      ]
     },
     "execution_count": 9,
     "metadata": {},
     "output_type": "execute_result"
    }
   ],
   "source": [
    "numpy"
   ]
  },
  {
   "cell_type": "code",
   "execution_count": null,
   "id": "3a3c0005-6871-4934-ad21-e56487db4066",
   "metadata": {},
   "outputs": [],
   "source": [
    "!pip install opencv-python\n",
    "- in jupytor notebook we need to add ! mark\n",
    "- in anaconda prompt no need to add ! mark\n",
    "- directly name you can provide"
   ]
  },
  {
   "cell_type": "code",
   "execution_count": 10,
   "id": "035cad5d-798f-4a6f-aafc-6261f03cf8b1",
   "metadata": {},
   "outputs": [
    {
     "name": "stdout",
     "output_type": "stream",
     "text": [
      "30\n"
     ]
    }
   ],
   "source": [
    "# hard coding means we are fixing the value\n",
    "num1=10\n",
    "num2=20\n",
    "add=num1+num2\n",
    "print(add)"
   ]
  },
  {
   "cell_type": "code",
   "execution_count": 12,
   "id": "eb3fbf08-1386-45ee-ac7d-20a67294c631",
   "metadata": {},
   "outputs": [
    {
     "name": "stdin",
     "output_type": "stream",
     "text": [
      "enter the number 10\n",
      "enter the number 20\n"
     ]
    },
    {
     "name": "stdout",
     "output_type": "stream",
     "text": [
      "30\n"
     ]
    }
   ],
   "source": [
    "# dynamic means changing\n",
    "num1=eval(input(\"enter the number\"))\n",
    "num2=eval(input(\"enter the number\"))\n",
    "add=num1+num2\n",
    "print(add)"
   ]
  },
  {
   "cell_type": "code",
   "execution_count": null,
   "id": "eefe34fe-9cd0-4c60-b709-897df4f41ba4",
   "metadata": {},
   "outputs": [],
   "source": []
  },
  {
   "cell_type": "code",
   "execution_count": 1,
   "id": "7f822949-b2b4-4a8b-a337-398d3fde00c6",
   "metadata": {},
   "outputs": [
    {
     "name": "stdout",
     "output_type": "stream",
     "text": [
      "the addition of 54 and 193 is: 247\n"
     ]
    }
   ],
   "source": [
    "# we can take the number randomly also\n",
    "import random\n",
    "num1=random.randint(1,100)\n",
    "num2=random.randint(100,200)\n",
    "add=num1+num2\n",
    "print(f\"the addition of {num1} and {num2} is: {add}\")"
   ]
  },
  {
   "cell_type": "markdown",
   "id": "7c49d817-1e83-4d0c-9cc7-3b360afa80b7",
   "metadata": {
    "scrolled": true
   },
   "source": [
    "## how we pass the number\n",
    "- hard coding\n",
    "- using keyboard\n",
    "- using random package, taking "
   ]
  },
  {
   "cell_type": "code",
   "execution_count": 2,
   "id": "16256ec8-9b30-4b4e-a893-aacef836ec46",
   "metadata": {},
   "outputs": [
    {
     "name": "stdin",
     "output_type": "stream",
     "text": [
      "enter the n2= 20\n"
     ]
    },
    {
     "name": "stdout",
     "output_type": "stream",
     "text": [
      "the average of 10, 20 and 84 is: 38.0\n"
     ]
    }
   ],
   "source": [
    "n1=10\n",
    "n2=eval(input(\"enter the n2=\"))\n",
    "n3=random.randint(1,100)\n",
    "avg=(n1+n2+n3)/3\n",
    "print(f\"the average of {n1}, {n2} and {n3} is: {avg}\")"
   ]
  },
  {
   "cell_type": "code",
   "execution_count": null,
   "id": "3dcda424-5067-4c4f-980b-7f9a64d1777a",
   "metadata": {},
   "outputs": [],
   "source": [
    "in the entire notebook\n",
    "if you import packages\n"
   ]
  },
  {
   "cell_type": "code",
   "execution_count": null,
   "id": "07595138-970d-4128-a03d-9db49cfe28e9",
   "metadata": {},
   "outputs": [],
   "source": [
    "assignment 2\n",
    "assignment 1 question only but \n",
    "you need to take random values\n",
    "11th question using print statement and time.sleep"
   ]
  },
  {
   "cell_type": "code",
   "execution_count": null,
   "id": "fa560a7b-4f7f-493c-a1b1-1ae3d1fd9cec",
   "metadata": {},
   "outputs": [],
   "source": [
    "# round"
   ]
  },
  {
   "cell_type": "code",
   "execution_count": 15,
   "id": "7fcf9663-5fd5-4ddd-9c86-392c4ae1f118",
   "metadata": {},
   "outputs": [
    {
     "data": {
      "text/plain": [
       "23"
      ]
     },
     "execution_count": 15,
     "metadata": {},
     "output_type": "execute_result"
    }
   ],
   "source": [
    "avg=22.666666666\n",
    "round(avg)"
   ]
  },
  {
   "cell_type": "code",
   "execution_count": 16,
   "id": "c043e36d-41ed-4506-b2d4-1473eed746ac",
   "metadata": {},
   "outputs": [
    {
     "data": {
      "text/plain": [
       "22.667"
      ]
     },
     "execution_count": 16,
     "metadata": {},
     "output_type": "execute_result"
    }
   ],
   "source": [
    "avg=22.6666666\n",
    "round(avg,3)"
   ]
  },
  {
   "cell_type": "code",
   "execution_count": null,
   "id": "5b98a0bf-3ff3-4ebc-a1b6-f4f95fb3f624",
   "metadata": {},
   "outputs": [],
   "source": [
    "type()\n",
    "input()\n",
    "\n",
    "round()"
   ]
  },
  {
   "cell_type": "code",
   "execution_count": 23,
   "id": "e4256a42-158f-48a2-a88d-728c132533e0",
   "metadata": {},
   "outputs": [
    {
     "name": "stdin",
     "output_type": "stream",
     "text": [
      "enter the n2 20\n"
     ]
    },
    {
     "name": "stdout",
     "output_type": "stream",
     "text": [
      "the average of 10, 20 and 79 is 36.33\n"
     ]
    }
   ],
   "source": [
    "n1=10\n",
    "n2=eval(input(\"enter the n2\"))\n",
    "n3=random.randint(1,100)\n",
    "avg=(n1+n2+n3)/3\n",
    "avg1=round((n1+n2+n3)/3,2)\n",
    "print(f\"the average of {n1}, {n2} and {n3} is {avg1}\")"
   ]
  },
  {
   "cell_type": "code",
   "execution_count": null,
   "id": "680b565d-1970-43b8-b724-f5cdc0ceabd1",
   "metadata": {},
   "outputs": [],
   "source": [
    "n1=10\n",
    "n2=eval(input(\"enter the n2\"))\n",
    "n3=random.randint(1,100)\n",
    "avg=(n1+n2+n3)/3\n",
    "print(f\"the average of "
   ]
  }
 ],
 "metadata": {
  "kernelspec": {
   "display_name": "Python 3 (ipykernel)",
   "language": "python",
   "name": "python3"
  },
  "language_info": {
   "codemirror_mode": {
    "name": "ipython",
    "version": 3
   },
   "file_extension": ".py",
   "mimetype": "text/x-python",
   "name": "python",
   "nbconvert_exporter": "python",
   "pygments_lexer": "ipython3",
   "version": "3.11.7"
  }
 },
 "nbformat": 4,
 "nbformat_minor": 5
}
