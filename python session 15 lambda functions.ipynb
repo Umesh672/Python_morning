{
 "cells": [
  {
   "cell_type": "code",
   "execution_count": null,
   "id": "5cef9ff1-3b50-4f61-94c8-e1afd0f66c62",
   "metadata": {},
   "outputs": [],
   "source": [
    "**lambda function**\n",
    "- lambda function represents function concept\n",
    "- but we can write in a single line\n",
    "- like list comphrehension, lambda function similiar\n",
    "- it will decrease the time complexity\n",
    "- always remember if we use many for loops or many conditions using multiplt line ,the time"
   ]
  },
  {
   "cell_type": "code",
   "execution_count": null,
   "id": "39f2ee3e-d601-482a-a51a-5fd5cea6786f",
   "metadata": {},
   "outputs": [],
   "source": [
    "**it will use a leyword lambda**\n",
    "# lambda <arguments>: <expression>"
   ]
  },
  {
   "cell_type": "code",
   "execution_count": null,
   "id": "1cdd9ec8-7934-4149-8fc2-84cd75c8c9ba",
   "metadata": {},
   "outputs": [],
   "source": [
    "interwiew\n",
    "1 coding+sql\n",
    "2 based on ml dl\n",
    "3 technical: 2,3(manager)\n",
    "\n",
    "band : 1.5 bonus"
   ]
  },
  {
   "cell_type": "code",
   "execution_count": 2,
   "id": "3ae9e8e6-2d5b-4af9-bdc9-e8b858b5ad82",
   "metadata": {},
   "outputs": [
    {
     "data": {
      "text/plain": [
       "20"
      ]
     },
     "execution_count": 2,
     "metadata": {},
     "output_type": "execute_result"
    }
   ],
   "source": [
    "def summ(n):\n",
    "    return(n+10)\n",
    "summ(10)"
   ]
  },
  {
   "cell_type": "code",
   "execution_count": null,
   "id": "d1f31100-d9f3-4c7b-a9a4-1dee930c0e4b",
   "metadata": {},
   "outputs": [],
   "source": [
    "$Pattern - 1$\n",
    "\n",
    "**function with only one argument**\n",
    "- function name\n",
    "- argument name\n",
    "- return output"
   ]
  },
  {
   "cell_type": "code",
   "execution_count": null,
   "id": "70150f6d-8204-4fe6-9c79-588ba0b7a10b",
   "metadata": {},
   "outputs": [],
   "source": [
    "# syntax\n",
    "<function name>=lambda <argument name>: <return output>"
   ]
  },
  {
   "cell_type": "code",
   "execution_count": 3,
   "id": "5f3bf061-d051-4358-90bf-c9a155fc4363",
   "metadata": {},
   "outputs": [
    {
     "data": {
      "text/plain": [
       "110"
      ]
     },
     "execution_count": 3,
     "metadata": {},
     "output_type": "execute_result"
    }
   ],
   "source": [
    "def summ(n):\n",
    "    return(n+10)\n",
    "summ(10)\n",
    "\n",
    "# function name is def\n",
    "# argument name = n\n",
    "# return output = n+10\n",
    "summ=lambda n:n+10\n",
    "summ(100)"
   ]
  },
  {
   "cell_type": "code",
   "execution_count": 4,
   "id": "9a2def49-f5a9-490f-9998-06c503270b96",
   "metadata": {},
   "outputs": [
    {
     "data": {
      "text/plain": [
       "1000"
      ]
     },
     "execution_count": 4,
     "metadata": {},
     "output_type": "execute_result"
    }
   ],
   "source": [
    "def cube(n):\n",
    "    return(n**3)\n",
    "\n",
    "cube(10)\n",
    "\n",
    "cube=lambda n:n**3\n",
    "cube(10)"
   ]
  },
  {
   "cell_type": "code",
   "execution_count": 5,
   "id": "fb269e9f-9a88-4063-b571-d837841cde36",
   "metadata": {},
   "outputs": [
    {
     "data": {
      "text/plain": [
       "3375"
      ]
     },
     "execution_count": 5,
     "metadata": {},
     "output_type": "execute_result"
    }
   ],
   "source": [
    "cube=lambda n:n**3\n",
    "cube(15)"
   ]
  },
  {
   "cell_type": "code",
   "execution_count": null,
   "id": "dabe8886-5707-445b-93d6-3b402247eede",
   "metadata": {},
   "outputs": [],
   "source": [
    "$ Pattern - 2 Two argunent$"
   ]
  },
  {
   "cell_type": "code",
   "execution_count": 5,
   "id": "1c83d816-68a9-4ae3-9b06-e316bd72600b",
   "metadata": {},
   "outputs": [
    {
     "data": {
      "text/plain": [
       "30"
      ]
     },
     "execution_count": 5,
     "metadata": {},
     "output_type": "execute_result"
    }
   ],
   "source": [
    "# syntax : <function name>=lambda <arg1>,<arg2>:<return output>\n",
    "a=10\n",
    "b=20\n",
    "def add(a,b):\n",
    "    return(a+b)\n",
    "\n",
    "add(a,b)\n",
    "\n",
    "add=lambda a,b:a+b\n",
    "add(10,20)"
   ]
  },
  {
   "cell_type": "code",
   "execution_count": 2,
   "id": "54a015d9-58b1-477d-b02d-cfd5fa1111c5",
   "metadata": {},
   "outputs": [
    {
     "data": {
      "text/plain": [
       "30"
      ]
     },
     "execution_count": 2,
     "metadata": {},
     "output_type": "execute_result"
    }
   ],
   "source": [
    "add=lambda a,b:a+b\n",
    "add(10,20)"
   ]
  },
  {
   "cell_type": "code",
   "execution_count": 10,
   "id": "3860c795-d6de-406a-8817-749309b68734",
   "metadata": {},
   "outputs": [
    {
     "data": {
      "text/plain": [
       "110"
      ]
     },
     "execution_count": 10,
     "metadata": {},
     "output_type": "execute_result"
    }
   ],
   "source": [
    "add=lambda n1,n2: n1+n2\n",
    "add(60,50)"
   ]
  },
  {
   "cell_type": "code",
   "execution_count": null,
   "id": "876f8b0c-7cfb-47ed-8e9f-2482855f98ac",
   "metadata": {},
   "outputs": [],
   "source": [
    "$ pattern - 3$\n",
    "default arguments"
   ]
  },
  {
   "cell_type": "code",
   "execution_count": 11,
   "id": "033474fd-e7b5-4f64-95b2-ee9846bc4f8c",
   "metadata": {},
   "outputs": [
    {
     "data": {
      "text/plain": [
       "20.0"
      ]
     },
     "execution_count": 11,
     "metadata": {},
     "output_type": "execute_result"
    }
   ],
   "source": [
    "average=lambda a,b,c:round((a+b+c)/3,2)\n",
    "average(10,20,30)"
   ]
  },
  {
   "cell_type": "code",
   "execution_count": null,
   "id": "fe6e1063-662d-4b4c-8457-642fc02cff07",
   "metadata": {},
   "outputs": [],
   "source": [
    "$pattern - 4$\n",
    "if - else"
   ]
  },
  {
   "cell_type": "code",
   "execution_count": 13,
   "id": "88f282df-8eb2-4169-8287-ab0cecf6501d",
   "metadata": {},
   "outputs": [
    {
     "data": {
      "text/plain": [
       "20"
      ]
     },
     "execution_count": 13,
     "metadata": {},
     "output_type": "execute_result"
    }
   ],
   "source": [
    "def max(a,b):\n",
    "    if a>b:\n",
    "        return(a)\n",
    "    else:\n",
    "        return(b)\n",
    "\n",
    "max(10,20)"
   ]
  },
  {
   "cell_type": "code",
   "execution_count": 15,
   "id": "9e594de0-734b-4957-a128-673015f6fd6d",
   "metadata": {},
   "outputs": [
    {
     "data": {
      "text/plain": [
       "30"
      ]
     },
     "execution_count": 15,
     "metadata": {},
     "output_type": "execute_result"
    }
   ],
   "source": [
    "# syntax : function name=lambda arg1,arg2:if_out else else_out     list comphrehension\n",
    "\n",
    "max=lambda a,b:a if a>b else b\n",
    "max(30,20)"
   ]
  },
  {
   "cell_type": "code",
   "execution_count": null,
   "id": "3228b025-f806-4d21-bcdf-f2f8e2609378",
   "metadata": {},
   "outputs": [],
   "source": [
    "$ pattern - 5$\n",
    "**using list**\n",
    "lambda variable: op\n",
    "# variable = i\n",
    "# op = i.capitalize()\n",
    "lambda <variable>:<op>,<iterator>\n",
    "map(lambda <variable>:<op>,<iterator>)\n",
    "list(map(lambda <variable>:<op>,<iterator>))"
   ]
  },
  {
   "cell_type": "code",
   "execution_count": 9,
   "id": "8ff790f2-9bc6-468a-b8e6-df0643f0990f",
   "metadata": {},
   "outputs": [
    {
     "data": {
      "text/plain": [
       "<function __main__.<lambda>(i)>"
      ]
     },
     "execution_count": 9,
     "metadata": {},
     "output_type": "execute_result"
    }
   ],
   "source": [
    "l=['hyd','chennai','mumbai']\n",
    "lambda i:i.capitalize()"
   ]
  },
  {
   "cell_type": "code",
   "execution_count": 17,
   "id": "3214bec1-1de3-49b5-97b4-84fe0f0edd11",
   "metadata": {},
   "outputs": [
    {
     "data": {
      "text/plain": [
       "(<function __main__.<lambda>(i)>, ['hyd', 'chennai', 'mumbai'])"
      ]
     },
     "execution_count": 17,
     "metadata": {},
     "output_type": "execute_result"
    }
   ],
   "source": [
    "l=['hyd','chennai','mumbai']\n",
    "lambda i:i.capitalize(),l"
   ]
  },
  {
   "cell_type": "code",
   "execution_count": null,
   "id": "a98f1c62-f2fa-40d2-8107-cff78f45d1a5",
   "metadata": {},
   "outputs": [],
   "source": [
    "**mapping**\n",
    "- the function and iterartor are available\n",
    "- we need to map both"
   ]
  },
  {
   "cell_type": "code",
   "execution_count": 18,
   "id": "742cd089-97f4-42a7-8792-25bd637e1ac5",
   "metadata": {},
   "outputs": [
    {
     "data": {
      "text/plain": [
       "<map at 0x190f9f1b460>"
      ]
     },
     "execution_count": 18,
     "metadata": {},
     "output_type": "execute_result"
    }
   ],
   "source": [
    "l=['hyd','chennai','mumbai']\n",
    "map(lambda i:i.capitalize(),l)"
   ]
  },
  {
   "cell_type": "code",
   "execution_count": 19,
   "id": "ee72b66b-1daf-4f54-97ae-74d04c55c469",
   "metadata": {},
   "outputs": [
    {
     "data": {
      "text/plain": [
       "['Hyd', 'Chennai', 'Mumbai']"
      ]
     },
     "execution_count": 19,
     "metadata": {},
     "output_type": "execute_result"
    }
   ],
   "source": [
    "# apply the list to see the values\n",
    "l=['hyd','chennai','mumbai']\n",
    "list(map(lambda i:i.capitalize(),l))"
   ]
  },
  {
   "cell_type": "code",
   "execution_count": 21,
   "id": "91f43744-b532-412b-974c-d12c298fde77",
   "metadata": {},
   "outputs": [
    {
     "data": {
      "text/plain": [
       "('Hyd', 'Chennai', 'Mumbai')"
      ]
     },
     "execution_count": 21,
     "metadata": {},
     "output_type": "execute_result"
    }
   ],
   "source": [
    "l=['hyd','chennai','mumbai']\n",
    "tuple(map(lambda i:i.capitalize(),l))"
   ]
  },
  {
   "cell_type": "code",
   "execution_count": null,
   "id": "afce09d5-a33a-4a32-a858-7119a0b2d693",
   "metadata": {},
   "outputs": [],
   "source": [
    "step 1 : write your normal expression\n",
    "    ex: lambda i: i.capitalize()\n",
    "strep: add the iterator\n",
    "     lambda i: i.capitalize(), list1\n",
    "step 3 : map both\n",
    "     map(lambda i: i.capitalize(),list)\n",
    "step 4 save the value list\n",
    "    list(map(lambda i: i.capitalize(),list))\n",
    "# note those are getting list object not collable use tupple"
   ]
  },
  {
   "cell_type": "code",
   "execution_count": 6,
   "id": "818070e9-e084-4d4a-a16e-7b448be2f9e9",
   "metadata": {},
   "outputs": [
    {
     "data": {
      "text/plain": [
       "<function __main__.<lambda>(i)>"
      ]
     },
     "execution_count": 6,
     "metadata": {},
     "output_type": "execute_result"
    }
   ],
   "source": [
    "l=['naresh','it','python','ds']\n",
    "lambda i:i.capitalize()"
   ]
  },
  {
   "cell_type": "code",
   "execution_count": 3,
   "id": "ea478844-6958-4c2b-b32a-dedf02007990",
   "metadata": {},
   "outputs": [
    {
     "data": {
      "text/plain": [
       "<function __main__.<lambda>(i)>"
      ]
     },
     "execution_count": 3,
     "metadata": {},
     "output_type": "execute_result"
    }
   ],
   "source": [
    "l=['hyd','chennai','mumbai']\n",
    "lambda i:i.capitalize()"
   ]
  },
  {
   "cell_type": "code",
   "execution_count": null,
   "id": "e1d861e3-c047-4688-be5e-7bbdb48befd9",
   "metadata": {},
   "outputs": [],
   "source": []
  }
 ],
 "metadata": {
  "kernelspec": {
   "display_name": "Python 3 (ipykernel)",
   "language": "python",
   "name": "python3"
  },
  "language_info": {
   "codemirror_mode": {
    "name": "ipython",
    "version": 3
   },
   "file_extension": ".py",
   "mimetype": "text/x-python",
   "name": "python",
   "nbconvert_exporter": "python",
   "pygments_lexer": "ipython3",
   "version": "3.11.7"
  }
 },
 "nbformat": 4,
 "nbformat_minor": 5
}
