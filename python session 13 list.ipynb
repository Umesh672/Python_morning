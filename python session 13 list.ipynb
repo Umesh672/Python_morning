{
 "cells": [
  {
   "cell_type": "code",
   "execution_count": null,
   "id": "3a840a20-2bd4-4939-a73b-904de376403a",
   "metadata": {},
   "outputs": [],
   "source": [
    "- representation\n",
    "- type\n",
    "- len\n",
    "- max\n",
    "- min\n",
    "- sorted\n",
    "- reversed\n",
    "- in \n",
    "- forloop in\n",
    "- index\n",
    "- for loop index\n",
    "- mutable\n",
    "- concatenation\n",
    "- slicing\n",
    "- methods"
   ]
  },
  {
   "cell_type": "markdown",
   "id": "70580200-c76a-425b-8ad9-8cfc7dec140c",
   "metadata": {},
   "source": [
    "**representation**"
   ]
  },
  {
   "cell_type": "markdown",
   "id": "9c9f4873-1e50-4398-9a97-56cb22a9a18b",
   "metadata": {},
   "source": [
    "- string representation with quotes\n",
    "- list represent with square bracket"
   ]
  },
  {
   "cell_type": "code",
   "execution_count": 2,
   "id": "f95ac4bd-0b00-445a-a293-af0c2dda1a72",
   "metadata": {},
   "outputs": [
    {
     "data": {
      "text/plain": [
       "[1, 2, 3, 4]"
      ]
     },
     "execution_count": 2,
     "metadata": {},
     "output_type": "execute_result"
    }
   ],
   "source": [
    "l1=[1,2,3,4]\n",
    "l1"
   ]
  },
  {
   "cell_type": "code",
   "execution_count": 3,
   "id": "51f63585-e26b-4f1f-af9a-e7badc95586e",
   "metadata": {},
   "outputs": [
    {
     "data": {
      "text/plain": [
       "list"
      ]
     },
     "execution_count": 3,
     "metadata": {},
     "output_type": "execute_result"
    }
   ],
   "source": [
    "type(l1)"
   ]
  },
  {
   "cell_type": "code",
   "execution_count": 4,
   "id": "6e706ef7-3d18-489f-a917-6a8d48765d5b",
   "metadata": {},
   "outputs": [
    {
     "data": {
      "text/plain": [
       "['A', 'B', 'C', 'D']"
      ]
     },
     "execution_count": 4,
     "metadata": {},
     "output_type": "execute_result"
    }
   ],
   "source": [
    "l2=['A','B','C','D']\n",
    "l2"
   ]
  },
  {
   "cell_type": "code",
   "execution_count": 5,
   "id": "6a9c21f5-0950-4138-bd40-88440eeb712d",
   "metadata": {},
   "outputs": [
    {
     "data": {
      "text/plain": [
       "[1, 2, 3, 4, 'A', 'B', 'C', 'D']"
      ]
     },
     "execution_count": 5,
     "metadata": {},
     "output_type": "execute_result"
    }
   ],
   "source": [
    "l3=[1,2,3,4,'A','B','C','D']\n",
    "l3"
   ]
  },
  {
   "cell_type": "code",
   "execution_count": 6,
   "id": "2d7a5a77-c876-4528-bd84-5a0639a71362",
   "metadata": {},
   "outputs": [
    {
     "data": {
      "text/plain": [
       "[1, 2, 3, 'Apple', 'Ball', 'Cat', True, False]"
      ]
     },
     "execution_count": 6,
     "metadata": {},
     "output_type": "execute_result"
    }
   ],
   "source": [
    "l4=[1,2,3,'Apple','Ball','Cat',True,False]\n",
    "l4"
   ]
  },
  {
   "cell_type": "code",
   "execution_count": 8,
   "id": "b5767ed4-4111-4700-9f01-bdd66a1ed080",
   "metadata": {},
   "outputs": [
    {
     "data": {
      "text/plain": [
       "['naresh it']"
      ]
     },
     "execution_count": 8,
     "metadata": {},
     "output_type": "execute_result"
    }
   ],
   "source": [
    "name='naresh it'\n",
    "l5=[name]\n",
    "l5"
   ]
  },
  {
   "cell_type": "code",
   "execution_count": 9,
   "id": "5c54e9a1-5e17-4c89-9a3a-3ee960e5c742",
   "metadata": {},
   "outputs": [
    {
     "data": {
      "text/plain": [
       "[100, 100, 100]"
      ]
     },
     "execution_count": 9,
     "metadata": {},
     "output_type": "execute_result"
    }
   ],
   "source": [
    "l6=[100,100,100]\n",
    "l6"
   ]
  },
  {
   "cell_type": "code",
   "execution_count": 10,
   "id": "011fbb27-09d6-433b-a3e6-90ea76c92ba2",
   "metadata": {},
   "outputs": [
    {
     "data": {
      "text/plain": [
       "[100, 'Apple', ['A', 2]]"
      ]
     },
     "execution_count": 10,
     "metadata": {},
     "output_type": "execute_result"
    }
   ],
   "source": [
    "l7=[100,'Apple',['A',2]]\n",
    "l7"
   ]
  },
  {
   "cell_type": "code",
   "execution_count": null,
   "id": "b4e36f33-0c0d-48b0-8cfb-e5e6c8cb2ab6",
   "metadata": {},
   "outputs": [],
   "source": [
    "l1=[1,2,3,4]\n",
    "l2=['A','B','C','D']\n",
    "l3=[1,2,3,4,'A','B','C','D']\n",
    "l4=[1,2,3,'Apple','Ball','Cat',True,False]\n",
    "name='naresh it'\n",
    "l5=[name]\n",
    "l6=[100,100,100]\n",
    "l7=[100,'Apple',['A',2]]"
   ]
  },
  {
   "cell_type": "markdown",
   "id": "1ed8eacf-5c2f-44c2-968c-fcbde8b4d13c",
   "metadata": {},
   "source": [
    "- list are array of element\n",
    "- list elements are heterogeneous all the data types we can represent in a list\n",
    "- list element are allowed dupplicates\n",
    "- list in list is possible\n",
    "- variable assignment also possible in the list"
   ]
  },
  {
   "cell_type": "code",
   "execution_count": null,
   "id": "dc20a8eb-a70e-4c20-8ccf-e28e1f57d284",
   "metadata": {},
   "outputs": [],
   "source": [
    "len()\n",
    "max()\n",
    "min()\n",
    "sorted()\n",
    "reversed()"
   ]
  },
  {
   "cell_type": "code",
   "execution_count": null,
   "id": "9fd6494e-95af-4f5a-b015-383c3f12a499",
   "metadata": {},
   "outputs": [],
   "source": [
    "l1=[1,2,3,4]\n",
    "len(l1)\n",
    "l2=['A','B','C','D']\n",
    "l3=[1,2,3,4,'A','B','C','D']\n",
    "l4=[1,2,3,'Apple','Ball','Cat',True,False]\n",
    "name='naresh it'\n",
    "l5=[name]\n",
    "l6=[100,100,100]\n",
    "l7=[100,'Apple',['A',2]]"
   ]
  },
  {
   "cell_type": "code",
   "execution_count": 11,
   "id": "b4eb80a8-3673-4361-9e71-e080be0ad5ee",
   "metadata": {},
   "outputs": [
    {
     "data": {
      "text/plain": [
       "4"
      ]
     },
     "execution_count": 11,
     "metadata": {},
     "output_type": "execute_result"
    }
   ],
   "source": [
    "l1=[1,2,3,4]\n",
    "len(l1)"
   ]
  },
  {
   "cell_type": "code",
   "execution_count": 12,
   "id": "558bc6f5-7307-4b1e-a5f9-722dd3e379f4",
   "metadata": {},
   "outputs": [
    {
     "data": {
      "text/plain": [
       "4"
      ]
     },
     "execution_count": 12,
     "metadata": {},
     "output_type": "execute_result"
    }
   ],
   "source": [
    "l2=['A','B','C','D']\n",
    "len(l2)"
   ]
  },
  {
   "cell_type": "code",
   "execution_count": 13,
   "id": "f3357a7c-1a7a-4d41-be97-0b6337617b05",
   "metadata": {},
   "outputs": [
    {
     "data": {
      "text/plain": [
       "8"
      ]
     },
     "execution_count": 13,
     "metadata": {},
     "output_type": "execute_result"
    }
   ],
   "source": [
    "l3=[1,2,3,4,'A','B','C','D']\n",
    "len(l3)"
   ]
  },
  {
   "cell_type": "code",
   "execution_count": 14,
   "id": "b1872b15-1863-423b-9818-466051246de3",
   "metadata": {},
   "outputs": [
    {
     "data": {
      "text/plain": [
       "8"
      ]
     },
     "execution_count": 14,
     "metadata": {},
     "output_type": "execute_result"
    }
   ],
   "source": [
    "l4=[1,2,3,'Apple','Ball','Cat',True,False]\n",
    "len(l4)"
   ]
  },
  {
   "cell_type": "code",
   "execution_count": 36,
   "id": "48b67a7e-4e5a-4d33-b405-b222ec9832b0",
   "metadata": {},
   "outputs": [
    {
     "data": {
      "text/plain": [
       "9"
      ]
     },
     "execution_count": 36,
     "metadata": {},
     "output_type": "execute_result"
    }
   ],
   "source": [
    "name='naresh it'\n",
    "l5=[name]\n",
    "len(name)"
   ]
  },
  {
   "cell_type": "code",
   "execution_count": 16,
   "id": "2f3f743c-562f-4fb2-8085-7bb15143892a",
   "metadata": {},
   "outputs": [
    {
     "data": {
      "text/plain": [
       "3"
      ]
     },
     "execution_count": 16,
     "metadata": {},
     "output_type": "execute_result"
    }
   ],
   "source": [
    "l6=[100,100,100]\n",
    "len(l6)"
   ]
  },
  {
   "cell_type": "code",
   "execution_count": 17,
   "id": "168ac514-860b-4af8-94af-1bef9f4ac3e6",
   "metadata": {},
   "outputs": [
    {
     "data": {
      "text/plain": [
       "3"
      ]
     },
     "execution_count": 17,
     "metadata": {},
     "output_type": "execute_result"
    }
   ],
   "source": [
    "l7=[100,'Apple',['A',2]]\n",
    "len(l7)"
   ]
  },
  {
   "cell_type": "code",
   "execution_count": 19,
   "id": "fb7eb070-b5b1-47fd-b6a4-6ace9b216e37",
   "metadata": {},
   "outputs": [
    {
     "data": {
      "text/plain": [
       "3"
      ]
     },
     "execution_count": 19,
     "metadata": {},
     "output_type": "execute_result"
    }
   ],
   "source": [
    "l1=[1,2,3,4]\n",
    "print(len(l1))\n",
    "l2=['A','B','C','D']\n",
    "len(l2)\n",
    "l3=[1,2,3,4,'A','B','C','D']\n",
    "len(l3)\n",
    "l4=[1,2,3,'Apple','Ball','Cat',True,False]\n",
    "len(l4)\n",
    "name='naresh it'\n",
    "l5=[name]\n",
    "len(l5)\n",
    "l6=[100,100,100]\n",
    "len(l6)\n",
    "l7=[100,'Apple',['A',2]]\n",
    "len(l7)"
   ]
  },
  {
   "cell_type": "code",
   "execution_count": 20,
   "id": "6f60b715-a9ab-406a-8985-40826de0db05",
   "metadata": {},
   "outputs": [
    {
     "data": {
      "text/plain": [
       "4"
      ]
     },
     "execution_count": 20,
     "metadata": {},
     "output_type": "execute_result"
    }
   ],
   "source": [
    "l1=[1,2,3,4]\n",
    "max(l1)"
   ]
  },
  {
   "cell_type": "code",
   "execution_count": 21,
   "id": "562d35d3-a105-45f5-8d84-2f8c5977e8e1",
   "metadata": {},
   "outputs": [
    {
     "data": {
      "text/plain": [
       "'D'"
      ]
     },
     "execution_count": 21,
     "metadata": {},
     "output_type": "execute_result"
    }
   ],
   "source": [
    "l2=['A','B','C','D']\n",
    "max(l2)"
   ]
  },
  {
   "cell_type": "code",
   "execution_count": 22,
   "id": "c43458e8-2b0d-466b-a65d-1d48974b90da",
   "metadata": {},
   "outputs": [
    {
     "ename": "TypeError",
     "evalue": "'>' not supported between instances of 'str' and 'int'",
     "output_type": "error",
     "traceback": [
      "\u001b[1;31m---------------------------------------------------------------------------\u001b[0m",
      "\u001b[1;31mTypeError\u001b[0m                                 Traceback (most recent call last)",
      "Cell \u001b[1;32mIn[22], line 2\u001b[0m\n\u001b[0;32m      1\u001b[0m l3\u001b[38;5;241m=\u001b[39m[\u001b[38;5;241m1\u001b[39m,\u001b[38;5;241m2\u001b[39m,\u001b[38;5;241m3\u001b[39m,\u001b[38;5;241m4\u001b[39m,\u001b[38;5;124m'\u001b[39m\u001b[38;5;124mA\u001b[39m\u001b[38;5;124m'\u001b[39m,\u001b[38;5;124m'\u001b[39m\u001b[38;5;124mB\u001b[39m\u001b[38;5;124m'\u001b[39m,\u001b[38;5;124m'\u001b[39m\u001b[38;5;124mC\u001b[39m\u001b[38;5;124m'\u001b[39m,\u001b[38;5;124m'\u001b[39m\u001b[38;5;124mD\u001b[39m\u001b[38;5;124m'\u001b[39m]\n\u001b[1;32m----> 2\u001b[0m \u001b[38;5;28mmax\u001b[39m(l3)\n",
      "\u001b[1;31mTypeError\u001b[0m: '>' not supported between instances of 'str' and 'int'"
     ]
    }
   ],
   "source": [
    "l3=[1,2,3,4,'A','B','C','D']\n",
    "max(l3)"
   ]
  },
  {
   "cell_type": "code",
   "execution_count": 23,
   "id": "9974f14e-45b4-4069-b0e9-57a95a76f429",
   "metadata": {},
   "outputs": [
    {
     "ename": "TypeError",
     "evalue": "'>' not supported between instances of 'str' and 'int'",
     "output_type": "error",
     "traceback": [
      "\u001b[1;31m---------------------------------------------------------------------------\u001b[0m",
      "\u001b[1;31mTypeError\u001b[0m                                 Traceback (most recent call last)",
      "Cell \u001b[1;32mIn[23], line 2\u001b[0m\n\u001b[0;32m      1\u001b[0m l4\u001b[38;5;241m=\u001b[39m[\u001b[38;5;241m1\u001b[39m,\u001b[38;5;241m2\u001b[39m,\u001b[38;5;241m3\u001b[39m,\u001b[38;5;124m'\u001b[39m\u001b[38;5;124mApple\u001b[39m\u001b[38;5;124m'\u001b[39m,\u001b[38;5;124m'\u001b[39m\u001b[38;5;124mBall\u001b[39m\u001b[38;5;124m'\u001b[39m,\u001b[38;5;124m'\u001b[39m\u001b[38;5;124mCat\u001b[39m\u001b[38;5;124m'\u001b[39m,\u001b[38;5;28;01mTrue\u001b[39;00m,\u001b[38;5;28;01mFalse\u001b[39;00m]\n\u001b[1;32m----> 2\u001b[0m \u001b[38;5;28mmax\u001b[39m(l4)\n",
      "\u001b[1;31mTypeError\u001b[0m: '>' not supported between instances of 'str' and 'int'"
     ]
    }
   ],
   "source": [
    "l4=[1,2,3,'Apple','Ball','Cat',True,False]\n",
    "max(l4)"
   ]
  },
  {
   "cell_type": "code",
   "execution_count": 24,
   "id": "43283583-0fa3-4628-896b-a0a092798ae5",
   "metadata": {},
   "outputs": [
    {
     "data": {
      "text/plain": [
       "'naresh it'"
      ]
     },
     "execution_count": 24,
     "metadata": {},
     "output_type": "execute_result"
    }
   ],
   "source": [
    "name='naresh it'\n",
    "l5=[name]\n",
    "max(l5)"
   ]
  },
  {
   "cell_type": "code",
   "execution_count": 25,
   "id": "c16ca552-8620-4276-b71a-be1a80cea335",
   "metadata": {},
   "outputs": [
    {
     "data": {
      "text/plain": [
       "100"
      ]
     },
     "execution_count": 25,
     "metadata": {},
     "output_type": "execute_result"
    }
   ],
   "source": [
    "l6=[100,100,100]\n",
    "max(l6)"
   ]
  },
  {
   "cell_type": "code",
   "execution_count": 26,
   "id": "406ca04b-def3-4853-9e78-d56cceb9a312",
   "metadata": {},
   "outputs": [
    {
     "ename": "TypeError",
     "evalue": "'>' not supported between instances of 'str' and 'int'",
     "output_type": "error",
     "traceback": [
      "\u001b[1;31m---------------------------------------------------------------------------\u001b[0m",
      "\u001b[1;31mTypeError\u001b[0m                                 Traceback (most recent call last)",
      "Cell \u001b[1;32mIn[26], line 2\u001b[0m\n\u001b[0;32m      1\u001b[0m l7\u001b[38;5;241m=\u001b[39m[\u001b[38;5;241m100\u001b[39m,\u001b[38;5;124m'\u001b[39m\u001b[38;5;124mApple\u001b[39m\u001b[38;5;124m'\u001b[39m,[\u001b[38;5;124m'\u001b[39m\u001b[38;5;124mA\u001b[39m\u001b[38;5;124m'\u001b[39m,\u001b[38;5;241m2\u001b[39m]]\n\u001b[1;32m----> 2\u001b[0m \u001b[38;5;28mmax\u001b[39m(l7)\n",
      "\u001b[1;31mTypeError\u001b[0m: '>' not supported between instances of 'str' and 'int'"
     ]
    }
   ],
   "source": [
    "l7=[100,'Apple',['A',2]]\n",
    "max(l7)"
   ]
  },
  {
   "cell_type": "code",
   "execution_count": 27,
   "id": "86fff876-7f79-491c-bd4c-b32e002c7b6e",
   "metadata": {},
   "outputs": [
    {
     "data": {
      "text/plain": [
       "1"
      ]
     },
     "execution_count": 27,
     "metadata": {},
     "output_type": "execute_result"
    }
   ],
   "source": [
    "l1=[1,2,3,4]\n",
    "min(l1)"
   ]
  },
  {
   "cell_type": "code",
   "execution_count": 28,
   "id": "d429d31c-9a24-4f9d-b8cb-3642784e21c9",
   "metadata": {},
   "outputs": [
    {
     "data": {
      "text/plain": [
       "'A'"
      ]
     },
     "execution_count": 28,
     "metadata": {},
     "output_type": "execute_result"
    }
   ],
   "source": [
    "l2=['A','B','C','D']\n",
    "min(l2)"
   ]
  },
  {
   "cell_type": "code",
   "execution_count": 29,
   "id": "9f81d7f9-e3f7-41ac-96cf-b8bf445d3600",
   "metadata": {},
   "outputs": [
    {
     "ename": "TypeError",
     "evalue": "'<' not supported between instances of 'str' and 'int'",
     "output_type": "error",
     "traceback": [
      "\u001b[1;31m---------------------------------------------------------------------------\u001b[0m",
      "\u001b[1;31mTypeError\u001b[0m                                 Traceback (most recent call last)",
      "Cell \u001b[1;32mIn[29], line 2\u001b[0m\n\u001b[0;32m      1\u001b[0m l3\u001b[38;5;241m=\u001b[39m[\u001b[38;5;241m1\u001b[39m,\u001b[38;5;241m2\u001b[39m,\u001b[38;5;241m3\u001b[39m,\u001b[38;5;241m4\u001b[39m,\u001b[38;5;124m'\u001b[39m\u001b[38;5;124mA\u001b[39m\u001b[38;5;124m'\u001b[39m,\u001b[38;5;124m'\u001b[39m\u001b[38;5;124mB\u001b[39m\u001b[38;5;124m'\u001b[39m,\u001b[38;5;124m'\u001b[39m\u001b[38;5;124mC\u001b[39m\u001b[38;5;124m'\u001b[39m,\u001b[38;5;124m'\u001b[39m\u001b[38;5;124mD\u001b[39m\u001b[38;5;124m'\u001b[39m]\n\u001b[1;32m----> 2\u001b[0m \u001b[38;5;28mmin\u001b[39m(l3)\n",
      "\u001b[1;31mTypeError\u001b[0m: '<' not supported between instances of 'str' and 'int'"
     ]
    }
   ],
   "source": [
    "l3=[1,2,3,4,'A','B','C','D']\n",
    "min(l3)"
   ]
  },
  {
   "cell_type": "code",
   "execution_count": 30,
   "id": "35ca18eb-f318-45a1-a7b0-193eb46badfc",
   "metadata": {},
   "outputs": [
    {
     "ename": "TypeError",
     "evalue": "'<' not supported between instances of 'str' and 'int'",
     "output_type": "error",
     "traceback": [
      "\u001b[1;31m---------------------------------------------------------------------------\u001b[0m",
      "\u001b[1;31mTypeError\u001b[0m                                 Traceback (most recent call last)",
      "Cell \u001b[1;32mIn[30], line 2\u001b[0m\n\u001b[0;32m      1\u001b[0m l4\u001b[38;5;241m=\u001b[39m[\u001b[38;5;241m1\u001b[39m,\u001b[38;5;241m2\u001b[39m,\u001b[38;5;241m3\u001b[39m,\u001b[38;5;124m'\u001b[39m\u001b[38;5;124mApple\u001b[39m\u001b[38;5;124m'\u001b[39m,\u001b[38;5;124m'\u001b[39m\u001b[38;5;124mBall\u001b[39m\u001b[38;5;124m'\u001b[39m,\u001b[38;5;124m'\u001b[39m\u001b[38;5;124mCat\u001b[39m\u001b[38;5;124m'\u001b[39m,\u001b[38;5;28;01mTrue\u001b[39;00m,\u001b[38;5;28;01mFalse\u001b[39;00m]\n\u001b[1;32m----> 2\u001b[0m \u001b[38;5;28mmin\u001b[39m(l4)\n",
      "\u001b[1;31mTypeError\u001b[0m: '<' not supported between instances of 'str' and 'int'"
     ]
    }
   ],
   "source": [
    "l4=[1,2,3,'Apple','Ball','Cat',True,False]\n",
    "min(l4)"
   ]
  },
  {
   "cell_type": "code",
   "execution_count": 31,
   "id": "8522572e-48b4-42c8-9968-4331109bc288",
   "metadata": {},
   "outputs": [
    {
     "data": {
      "text/plain": [
       "'naresh it'"
      ]
     },
     "execution_count": 31,
     "metadata": {},
     "output_type": "execute_result"
    }
   ],
   "source": [
    "name='naresh it'\n",
    "l5=[name]\n",
    "min(l5)"
   ]
  },
  {
   "cell_type": "code",
   "execution_count": 32,
   "id": "addab644-9576-4984-925a-1086595c06f8",
   "metadata": {},
   "outputs": [
    {
     "data": {
      "text/plain": [
       "100"
      ]
     },
     "execution_count": 32,
     "metadata": {},
     "output_type": "execute_result"
    }
   ],
   "source": [
    "l6=[100,100,100]\n",
    "min(l6)"
   ]
  },
  {
   "cell_type": "code",
   "execution_count": 33,
   "id": "ddb7470e-239d-4d16-9939-a8912460a302",
   "metadata": {},
   "outputs": [
    {
     "ename": "TypeError",
     "evalue": "'<' not supported between instances of 'str' and 'int'",
     "output_type": "error",
     "traceback": [
      "\u001b[1;31m---------------------------------------------------------------------------\u001b[0m",
      "\u001b[1;31mTypeError\u001b[0m                                 Traceback (most recent call last)",
      "Cell \u001b[1;32mIn[33], line 2\u001b[0m\n\u001b[0;32m      1\u001b[0m l7\u001b[38;5;241m=\u001b[39m[\u001b[38;5;241m100\u001b[39m,\u001b[38;5;124m'\u001b[39m\u001b[38;5;124mApple\u001b[39m\u001b[38;5;124m'\u001b[39m,[\u001b[38;5;124m'\u001b[39m\u001b[38;5;124mA\u001b[39m\u001b[38;5;124m'\u001b[39m,\u001b[38;5;241m2\u001b[39m]]\n\u001b[1;32m----> 2\u001b[0m \u001b[38;5;28mmin\u001b[39m(l7)\n",
      "\u001b[1;31mTypeError\u001b[0m: '<' not supported between instances of 'str' and 'int'"
     ]
    }
   ],
   "source": [
    "l7=[100,'Apple',['A',2]]\n",
    "min(l7)"
   ]
  },
  {
   "cell_type": "code",
   "execution_count": 34,
   "id": "88d0ae69-e332-4463-91e6-59574f001332",
   "metadata": {},
   "outputs": [
    {
     "data": {
      "text/plain": [
       "[1, 2, 3, 4]"
      ]
     },
     "execution_count": 34,
     "metadata": {},
     "output_type": "execute_result"
    }
   ],
   "source": [
    "l1=[1,2,3,4]\n",
    "sorted(l1)"
   ]
  },
  {
   "cell_type": "code",
   "execution_count": 35,
   "id": "755d6353-71e8-4f3b-b5ef-bbe2b106840d",
   "metadata": {},
   "outputs": [
    {
     "data": {
      "text/plain": [
       "['A', 'B', 'C', 'D']"
      ]
     },
     "execution_count": 35,
     "metadata": {},
     "output_type": "execute_result"
    }
   ],
   "source": [
    "l2=['A','B','C','D']\n",
    "sorted(l2)"
   ]
  },
  {
   "cell_type": "code",
   "execution_count": 37,
   "id": "587c31db-3cf8-4e94-9889-f485d05e46cb",
   "metadata": {},
   "outputs": [
    {
     "ename": "TypeError",
     "evalue": "'<' not supported between instances of 'str' and 'int'",
     "output_type": "error",
     "traceback": [
      "\u001b[1;31m---------------------------------------------------------------------------\u001b[0m",
      "\u001b[1;31mTypeError\u001b[0m                                 Traceback (most recent call last)",
      "Cell \u001b[1;32mIn[37], line 2\u001b[0m\n\u001b[0;32m      1\u001b[0m l3\u001b[38;5;241m=\u001b[39m[\u001b[38;5;241m1\u001b[39m,\u001b[38;5;241m2\u001b[39m,\u001b[38;5;241m3\u001b[39m,\u001b[38;5;241m4\u001b[39m,\u001b[38;5;124m'\u001b[39m\u001b[38;5;124mA\u001b[39m\u001b[38;5;124m'\u001b[39m,\u001b[38;5;124m'\u001b[39m\u001b[38;5;124mB\u001b[39m\u001b[38;5;124m'\u001b[39m,\u001b[38;5;124m'\u001b[39m\u001b[38;5;124mC\u001b[39m\u001b[38;5;124m'\u001b[39m,\u001b[38;5;124m'\u001b[39m\u001b[38;5;124mD\u001b[39m\u001b[38;5;124m'\u001b[39m]\n\u001b[1;32m----> 2\u001b[0m \u001b[38;5;28msorted\u001b[39m(l3)\n",
      "\u001b[1;31mTypeError\u001b[0m: '<' not supported between instances of 'str' and 'int'"
     ]
    }
   ],
   "source": [
    "l3=[1,2,3,4,'A','B','C','D']\n",
    "sorted(l3)"
   ]
  },
  {
   "cell_type": "code",
   "execution_count": 38,
   "id": "212a7647-214e-46b1-bf79-b44e3077a45c",
   "metadata": {},
   "outputs": [
    {
     "ename": "TypeError",
     "evalue": "'<' not supported between instances of 'str' and 'int'",
     "output_type": "error",
     "traceback": [
      "\u001b[1;31m---------------------------------------------------------------------------\u001b[0m",
      "\u001b[1;31mTypeError\u001b[0m                                 Traceback (most recent call last)",
      "Cell \u001b[1;32mIn[38], line 2\u001b[0m\n\u001b[0;32m      1\u001b[0m l4\u001b[38;5;241m=\u001b[39m[\u001b[38;5;241m1\u001b[39m,\u001b[38;5;241m2\u001b[39m,\u001b[38;5;241m3\u001b[39m,\u001b[38;5;124m'\u001b[39m\u001b[38;5;124mApple\u001b[39m\u001b[38;5;124m'\u001b[39m,\u001b[38;5;124m'\u001b[39m\u001b[38;5;124mBall\u001b[39m\u001b[38;5;124m'\u001b[39m,\u001b[38;5;124m'\u001b[39m\u001b[38;5;124mCat\u001b[39m\u001b[38;5;124m'\u001b[39m,\u001b[38;5;28;01mTrue\u001b[39;00m,\u001b[38;5;28;01mFalse\u001b[39;00m]\n\u001b[1;32m----> 2\u001b[0m \u001b[38;5;28msorted\u001b[39m(l4)\n",
      "\u001b[1;31mTypeError\u001b[0m: '<' not supported between instances of 'str' and 'int'"
     ]
    }
   ],
   "source": [
    "l4=[1,2,3,'Apple','Ball','Cat',True,False]\n",
    "sorted(l4)"
   ]
  },
  {
   "cell_type": "code",
   "execution_count": 39,
   "id": "b1e591c3-a0cf-4ea3-9841-649f2435e301",
   "metadata": {},
   "outputs": [
    {
     "data": {
      "text/plain": [
       "<list_reverseiterator at 0x1934cbb11b0>"
      ]
     },
     "execution_count": 39,
     "metadata": {},
     "output_type": "execute_result"
    }
   ],
   "source": [
    "l4=[1,2,3,'Apple','Ball','Cat',True,False]\n",
    "reversed(l4)"
   ]
  },
  {
   "cell_type": "code",
   "execution_count": null,
   "id": "fa38afeb-18e4-4443-8b42-9ec0a7e66345",
   "metadata": {},
   "outputs": [],
   "source": [
    "for i "
   ]
  },
  {
   "cell_type": "code",
   "execution_count": 40,
   "id": "157b25ba-5115-4587-9f1d-63708c4a5505",
   "metadata": {},
   "outputs": [
    {
     "data": {
      "text/plain": [
       "[False, True, 'Cat', 'Ball', 'Apple', 3, 2, 1]"
      ]
     },
     "execution_count": 40,
     "metadata": {},
     "output_type": "execute_result"
    }
   ],
   "source": [
    "l4=[1,2,3,'Apple','Ball','Cat',True,False]\n",
    "list(reversed(l4))"
   ]
  },
  {
   "cell_type": "code",
   "execution_count": 97,
   "id": "98b691b6-b792-4e81-93f3-7dc6d7e8a6a6",
   "metadata": {},
   "outputs": [
    {
     "data": {
      "text/plain": [
       "'banu'"
      ]
     },
     "execution_count": 97,
     "metadata": {},
     "output_type": "execute_result"
    }
   ],
   "source": [
    "name=['adithya','aadithya','banu']\n",
    "\n",
    "#- first compare all first letters\n",
    "#- if all first letter ascii letter same\n",
    "#- then compare with second letter\n",
    "#- continue the process\n",
    "max(name)"
   ]
  },
  {
   "cell_type": "code",
   "execution_count": null,
   "id": "1296fabb-d405-498a-b238-e0d4b43ab390",
   "metadata": {},
   "outputs": [],
   "source": [
    "list1=['apple',\n",
    "       1,\n",
    "       ['cherry'"
   ]
  },
  {
   "cell_type": "code",
   "execution_count": 41,
   "id": "310c1b1b-61d0-4a82-96e9-bf506f9582af",
   "metadata": {},
   "outputs": [
    {
     "ename": "TypeError",
     "evalue": "'>' not supported between instances of 'str' and 'int'",
     "output_type": "error",
     "traceback": [
      "\u001b[1;31m---------------------------------------------------------------------------\u001b[0m",
      "\u001b[1;31mTypeError\u001b[0m                                 Traceback (most recent call last)",
      "Cell \u001b[1;32mIn[41], line 2\u001b[0m\n\u001b[0;32m      1\u001b[0m list1\u001b[38;5;241m=\u001b[39m[\u001b[38;5;241m65\u001b[39m,\u001b[38;5;124m'\u001b[39m\u001b[38;5;124mA\u001b[39m\u001b[38;5;124m'\u001b[39m]\n\u001b[1;32m----> 2\u001b[0m \u001b[38;5;28mmax\u001b[39m(list1)\n",
      "\u001b[1;31mTypeError\u001b[0m: '>' not supported between instances of 'str' and 'int'"
     ]
    }
   ],
   "source": [
    "list1=[65,'A']\n",
    "max(list1)  #  error\n",
    "# same data type only comparable"
   ]
  },
  {
   "cell_type": "code",
   "execution_count": 98,
   "id": "5a934375-0108-4954-8464-3481af41f187",
   "metadata": {},
   "outputs": [
    {
     "data": {
      "text/plain": [
       "67"
      ]
     },
     "execution_count": 98,
     "metadata": {},
     "output_type": "execute_result"
    }
   ],
   "source": [
    "list1=[65,67]\n",
    "max(list1)"
   ]
  },
  {
   "cell_type": "code",
   "execution_count": 99,
   "id": "ca12c536-b1cb-4870-a135-59740eb84c8a",
   "metadata": {},
   "outputs": [
    {
     "data": {
      "text/plain": [
       "'D'"
      ]
     },
     "execution_count": 99,
     "metadata": {},
     "output_type": "execute_result"
    }
   ],
   "source": [
    "list1=['D','C']\n",
    "max(list1)"
   ]
  },
  {
   "cell_type": "markdown",
   "id": "979d95e7-8c38-4a4e-8cb3-d89cdb525e6f",
   "metadata": {},
   "source": [
    "**index operation**"
   ]
  },
  {
   "cell_type": "code",
   "execution_count": 128,
   "id": "8203daf8-02cc-4ee5-a757-3e01b681668c",
   "metadata": {},
   "outputs": [
    {
     "data": {
      "text/plain": [
       "('Apple', 'Apple')"
      ]
     },
     "execution_count": 128,
     "metadata": {},
     "output_type": "execute_result"
    }
   ],
   "source": [
    "l4=[1,2,3,'Apple','Ball','Cat',True,False]\n",
    "\n",
    "#  -8  -7  -6     -5      -4       -3      -2       -1\n",
    "#  1   2    3    Apple    Ball    Cat     True    False\n",
    "#  0   1    2     3       4        5       6       7\n",
    "\n",
    "l4[3],l4[-5]"
   ]
  },
  {
   "cell_type": "code",
   "execution_count": 129,
   "id": "13b64d3c-c077-4eaf-b92f-692cf4f6b86f",
   "metadata": {},
   "outputs": [
    {
     "data": {
      "text/plain": [
       "(False, 2)"
      ]
     },
     "execution_count": 129,
     "metadata": {},
     "output_type": "execute_result"
    }
   ],
   "source": [
    "l4[7],l4[-7]"
   ]
  },
  {
   "cell_type": "code",
   "execution_count": 122,
   "id": "d5133cdb-4d4a-4187-8238-f04898996c89",
   "metadata": {},
   "outputs": [
    {
     "data": {
      "text/plain": [
       "'Cat'"
      ]
     },
     "execution_count": 122,
     "metadata": {},
     "output_type": "execute_result"
    }
   ],
   "source": [
    "l4[-3]"
   ]
  },
  {
   "cell_type": "code",
   "execution_count": 43,
   "id": "ccf1a360-54fc-45be-b876-9c23f39ca5f2",
   "metadata": {},
   "outputs": [
    {
     "data": {
      "text/plain": [
       "1"
      ]
     },
     "execution_count": 43,
     "metadata": {},
     "output_type": "execute_result"
    }
   ],
   "source": [
    "l1=[1,[2]]\n",
    "l1[0]"
   ]
  },
  {
   "cell_type": "code",
   "execution_count": 45,
   "id": "385dd0ef-b76e-4ca8-ab36-89bcbf74cd76",
   "metadata": {},
   "outputs": [
    {
     "data": {
      "text/plain": [
       "2"
      ]
     },
     "execution_count": 45,
     "metadata": {},
     "output_type": "execute_result"
    }
   ],
   "source": [
    "new=l1[1]   # [2] will come again it is a list, one element\n",
    "new[0]"
   ]
  },
  {
   "cell_type": "code",
   "execution_count": 46,
   "id": "d7a41f40-6cd8-467c-8543-c667722756d1",
   "metadata": {},
   "outputs": [
    {
     "data": {
      "text/plain": [
       "'A'"
      ]
     },
     "execution_count": 46,
     "metadata": {},
     "output_type": "execute_result"
    }
   ],
   "source": [
    "l1=[1,[2,'A']]\n",
    "l1[1][1]\n",
    "\n",
    "#  'A' is represented at index 1\n",
    "#  so we given l1[1]:[2,'A'] it is also a list\n",
    "#   the list has two element\n",
    "#  'A' at 1st index\n",
    "#  l1[1][1]"
   ]
  },
  {
   "cell_type": "code",
   "execution_count": 47,
   "id": "d15dcaf3-6ad3-441f-b735-71f3bb66efa5",
   "metadata": {},
   "outputs": [
    {
     "data": {
      "text/plain": [
       "[2, 'A']"
      ]
     },
     "execution_count": 47,
     "metadata": {},
     "output_type": "execute_result"
    }
   ],
   "source": [
    "l1=[1,[2,'A']]\n",
    "l1[1]"
   ]
  },
  {
   "cell_type": "code",
   "execution_count": 53,
   "id": "b34be1e2-c618-442d-923a-fa59a1f1c75a",
   "metadata": {},
   "outputs": [
    {
     "data": {
      "text/plain": [
       "2"
      ]
     },
     "execution_count": 53,
     "metadata": {},
     "output_type": "execute_result"
    }
   ],
   "source": [
    "l1=[1,[2,'A']]\n",
    "l1[1][0]"
   ]
  },
  {
   "cell_type": "code",
   "execution_count": 48,
   "id": "ab263c6f-0a55-4657-8c42-d2919117e3f4",
   "metadata": {},
   "outputs": [
    {
     "data": {
      "text/plain": [
       "[2, ['A', 'B']]"
      ]
     },
     "execution_count": 48,
     "metadata": {},
     "output_type": "execute_result"
    }
   ],
   "source": [
    "l1=[1,[2,['A','B']]]\n",
    "l1[1]"
   ]
  },
  {
   "cell_type": "code",
   "execution_count": 49,
   "id": "4dbf8f62-d6e2-4667-9001-1fe00f3df336",
   "metadata": {},
   "outputs": [
    {
     "data": {
      "text/plain": [
       "['A', 'B']"
      ]
     },
     "execution_count": 49,
     "metadata": {},
     "output_type": "execute_result"
    }
   ],
   "source": [
    "l1[1][1]"
   ]
  },
  {
   "cell_type": "code",
   "execution_count": 50,
   "id": "caeecb42-89a7-45d4-b2fa-fc37cdb99c41",
   "metadata": {},
   "outputs": [
    {
     "data": {
      "text/plain": [
       "'B'"
      ]
     },
     "execution_count": 50,
     "metadata": {},
     "output_type": "execute_result"
    }
   ],
   "source": [
    "l1[1][1][1]"
   ]
  },
  {
   "cell_type": "code",
   "execution_count": 51,
   "id": "d8a9b316-3a56-4109-a173-81c7400e13ff",
   "metadata": {},
   "outputs": [
    {
     "data": {
      "text/plain": [
       "'A'"
      ]
     },
     "execution_count": 51,
     "metadata": {},
     "output_type": "execute_result"
    }
   ],
   "source": [
    "l1[1][1][0]"
   ]
  },
  {
   "cell_type": "code",
   "execution_count": 52,
   "id": "95d6c26d-815a-4129-baf9-9cc31d4ed839",
   "metadata": {},
   "outputs": [
    {
     "data": {
      "text/plain": [
       "2"
      ]
     },
     "execution_count": 52,
     "metadata": {},
     "output_type": "execute_result"
    }
   ],
   "source": [
    "len(l1)"
   ]
  },
  {
   "cell_type": "code",
   "execution_count": 59,
   "id": "fdd7f059-8a75-46a2-90d2-b7a55f84dd9a",
   "metadata": {},
   "outputs": [
    {
     "data": {
      "text/plain": [
       "'Apple'"
      ]
     },
     "execution_count": 59,
     "metadata": {},
     "output_type": "execute_result"
    }
   ],
   "source": [
    "l1=[1,2,[3,[4,[5,['Apple']]]]]\n",
    "l1[2][1][1][1][0]"
   ]
  },
  {
   "cell_type": "code",
   "execution_count": null,
   "id": "7e15382f-8935-4691-8b43-79c91cdf19ad",
   "metadata": {},
   "outputs": [],
   "source": [
    "l1=[1,2,[3,[4,[5,['Apple']]]]]\n",
    "len(l1"
   ]
  },
  {
   "cell_type": "code",
   "execution_count": null,
   "id": "efcdd9ef-3cf3-4010-8c57-230e8a5e75d3",
   "metadata": {},
   "outputs": [],
   "source": [
    "list1=['Apple]"
   ]
  },
  {
   "cell_type": "code",
   "execution_count": 95,
   "id": "13fc59ce-a523-4de8-a390-feb0d781b416",
   "metadata": {},
   "outputs": [
    {
     "data": {
      "text/plain": [
       "'Banana'"
      ]
     },
     "execution_count": 95,
     "metadata": {},
     "output_type": "execute_result"
    }
   ],
   "source": [
    "list1=['Apple',\n",
    "       1,'solapur',\n",
    "       ['cherry','papaya',70,[123,'Banana'],'tomato'],\n",
    "       'python']\n",
    "list1[3][3][1]"
   ]
  },
  {
   "cell_type": "code",
   "execution_count": 86,
   "id": "8cd5c9c7-9334-481f-8ee7-8d1e55cea366",
   "metadata": {},
   "outputs": [
    {
     "data": {
      "text/plain": [
       "'Banana'"
      ]
     },
     "execution_count": 86,
     "metadata": {},
     "output_type": "execute_result"
    }
   ],
   "source": [
    "list1=['Apple',\n",
    "       1,'solapur',\n",
    "       ['cherry','papaya',70,[123,'Banana'],'tomato'],\n",
    "       'python']\n",
    "list1[3][3][1]"
   ]
  },
  {
   "cell_type": "code",
   "execution_count": 69,
   "id": "ac003f95-9178-42fe-a92d-c90dca1b23fc",
   "metadata": {},
   "outputs": [
    {
     "data": {
      "text/plain": [
       "'Cherry'"
      ]
     },
     "execution_count": 69,
     "metadata": {},
     "output_type": "execute_result"
    }
   ],
   "source": [
    "list1=[[[[[[[1,'Cherry']]]]]]]\n",
    "list1[0][0][0][0][0][0][1]"
   ]
  },
  {
   "cell_type": "code",
   "execution_count": 70,
   "id": "4030f491-1241-4645-a1ac-d8fde66b5ef1",
   "metadata": {},
   "outputs": [
    {
     "data": {
      "text/plain": [
       "2"
      ]
     },
     "execution_count": 70,
     "metadata": {},
     "output_type": "execute_result"
    }
   ],
   "source": [
    "list1=['MH',\n",
    "       ['Nagpur',['orange',['likes',['king'],['shivaji',['son',['shmbaji']]]]]]]\n",
    "len(list1)"
   ]
  },
  {
   "cell_type": "code",
   "execution_count": 79,
   "id": "4b7626e6-0b17-48a7-a3ea-6defa6b21189",
   "metadata": {},
   "outputs": [
    {
     "data": {
      "text/plain": [
       "'shmbaji'"
      ]
     },
     "execution_count": 79,
     "metadata": {},
     "output_type": "execute_result"
    }
   ],
   "source": [
    "list1[1][1][1][2][1][1][0]"
   ]
  },
  {
   "cell_type": "code",
   "execution_count": null,
   "id": "3bb19b12-817e-4491-a90d-304ee52eefe6",
   "metadata": {},
   "outputs": [],
   "source": [
    "# in operator: for loop\n",
    "# index : for loop\n",
    "# mutablity check\n",
    "# slicing\n",
    "\n",
    "# positive index\n",
    "# negative index\n"
   ]
  },
  {
   "cell_type": "code",
   "execution_count": 1,
   "id": "8b620ace-d3e9-482e-a0ff-1ca9771b4022",
   "metadata": {},
   "outputs": [
    {
     "name": "stdout",
     "output_type": "stream",
     "text": [
      "1\n",
      "2\n",
      "3\n",
      "A\n",
      "B\n",
      "C\n",
      "True\n",
      "False\n"
     ]
    }
   ],
   "source": [
    "l4=[1,2,3,'A','B','C',True,False]\n",
    "\n",
    "#  -8  -7  -6     -5      -4       -3      -2       -1\n",
    "#  1   2    3      A       B       C       True    False\n",
    "#  0   1    2      3       4        5       6       7\n",
    "\n",
    "for i in range(len(l4)):\n",
    "    print(l4[i])"
   ]
  },
  {
   "cell_type": "code",
   "execution_count": 2,
   "id": "0bd13ea0-e15e-45fc-ae9f-9d3576cc1449",
   "metadata": {},
   "outputs": [
    {
     "name": "stdout",
     "output_type": "stream",
     "text": [
      "positive index of 1 is 0\n",
      "positive index of 2 is 1\n",
      "positive index of 3 is 2\n",
      "positive index of A is 3\n",
      "positive index of B is 4\n",
      "positive index of C is 5\n",
      "positive index of True is 6\n",
      "positive index of False is 7\n"
     ]
    }
   ],
   "source": [
    "l4=[1,2,3,'A','B','C',True,False]\n",
    "for i in range(len(l4)):\n",
    "    print(f\"positive index of {l4[i]} is {i}\" )"
   ]
  },
  {
   "cell_type": "code",
   "execution_count": 3,
   "id": "b3427f9a-9172-4884-8a88-84b2818588fa",
   "metadata": {},
   "outputs": [
    {
     "name": "stdout",
     "output_type": "stream",
     "text": [
      "negative index of 1 is -8\n",
      "negative index of 2 is -7\n",
      "negative index of 3 is -6\n",
      "negative index of A is -5\n",
      "negative index of B is -4\n",
      "negative index of C is -3\n",
      "negative index of True is -2\n",
      "negative index of False is -1\n"
     ]
    }
   ],
   "source": [
    "l4=[1,2,3,'A','B','C',True,False]\n",
    "for i in range(len(l4)):\n",
    "    print(f\"negative index of {l4[i]} is {i-len(l4)}\")"
   ]
  },
  {
   "cell_type": "code",
   "execution_count": 7,
   "id": "aa620f7f-b9a1-43a6-a6e7-4548701c75e1",
   "metadata": {},
   "outputs": [
    {
     "name": "stdout",
     "output_type": "stream",
     "text": [
      "positive index of 0  negative index of -8 for 1 is -8\n",
      "positive index of 1  negative index of -7 for 2 is -7\n",
      "positive index of 2  negative index of -6 for 3 is -6\n",
      "positive index of 3  negative index of -5 for A is -5\n",
      "positive index of 4  negative index of -4 for B is -4\n",
      "positive index of 5  negative index of -3 for C is -3\n",
      "positive index of 6  negative index of -2 for True is -2\n",
      "positive index of 7  negative index of -1 for False is -1\n"
     ]
    }
   ],
   "source": [
    "l4=[1,2,3,'A','B','C',True,False]\n",
    "for i in range(len(l4)):\n",
    "    print(f\"positive index of {i}  negative index of {i-len(l4)} for {l4[i]} is {i-len(l4)}\")"
   ]
  },
  {
   "cell_type": "code",
   "execution_count": 4,
   "id": "12ec5470-b671-421f-9fcf-11f6319b6573",
   "metadata": {},
   "outputs": [
    {
     "data": {
      "text/plain": [
       "[100, 2, 3]"
      ]
     },
     "execution_count": 4,
     "metadata": {},
     "output_type": "execute_result"
    }
   ],
   "source": [
    "# here we wnt to change 1 with 100\n",
    "l=[1,2,3]\n",
    "l[0]=100\n",
    "l"
   ]
  },
  {
   "cell_type": "code",
   "execution_count": 5,
   "id": "171ea0b1-4959-4777-b4e9-ccfd6faa9e1c",
   "metadata": {},
   "outputs": [
    {
     "ename": "TypeError",
     "evalue": "'str' object does not support item assignment",
     "output_type": "error",
     "traceback": [
      "\u001b[1;31m---------------------------------------------------------------------------\u001b[0m",
      "\u001b[1;31mTypeError\u001b[0m                                 Traceback (most recent call last)",
      "Cell \u001b[1;32mIn[5], line 3\u001b[0m\n\u001b[0;32m      1\u001b[0m \u001b[38;5;66;03m# we wnt to change h with I\u001b[39;00m\n\u001b[0;32m      2\u001b[0m s\u001b[38;5;241m=\u001b[39m\u001b[38;5;124m'\u001b[39m\u001b[38;5;124mnaresh\u001b[39m\u001b[38;5;124m'\u001b[39m\n\u001b[1;32m----> 3\u001b[0m s[\u001b[38;5;241m5\u001b[39m]\u001b[38;5;241m=\u001b[39m\u001b[38;5;124m'\u001b[39m\u001b[38;5;124mI\u001b[39m\u001b[38;5;124m'\u001b[39m\n\u001b[0;32m      4\u001b[0m s\n",
      "\u001b[1;31mTypeError\u001b[0m: 'str' object does not support item assignment"
     ]
    }
   ],
   "source": [
    "# we wnt to change h with I\n",
    "s='naresh'\n",
    "s[5]='I'   # it is immutable\n",
    "s"
   ]
  },
  {
   "cell_type": "code",
   "execution_count": 4,
   "id": "5d440f40-ea0c-4d81-9e10-9b811730aa1f",
   "metadata": {},
   "outputs": [
    {
     "data": {
      "text/plain": [
       "[4]"
      ]
     },
     "execution_count": 4,
     "metadata": {},
     "output_type": "execute_result"
    }
   ],
   "source": [
    "l=[1,2,3,4,5,6,'A','B','C','D','E','F','G']     # slicing\n",
    "l[3:-9:2]"
   ]
  },
  {
   "cell_type": "code",
   "execution_count": 3,
   "id": "6138210c-8276-4b06-b404-9c9ed17f5834",
   "metadata": {},
   "outputs": [
    {
     "data": {
      "text/plain": [
       "['E', 'C', 'A']"
      ]
     },
     "execution_count": 3,
     "metadata": {},
     "output_type": "execute_result"
    }
   ],
   "source": [
    "l=[1,2,3,4,5,6,'A','B','C','D','E','F','G']  \n",
    "l[-3:-9:-2]"
   ]
  },
  {
   "cell_type": "code",
   "execution_count": null,
   "id": "1b40fb91-e83b-4ecf-a082-c721fed7a223",
   "metadata": {},
   "outputs": [],
   "source": [
    "# tomorrow exam there\n",
    "# MCQ in python"
   ]
  },
  {
   "cell_type": "markdown",
   "id": "87e474fe-6ebf-4b2c-a34e-7d0fb2c2193a",
   "metadata": {},
   "source": [
    "**List Methods**"
   ]
  },
  {
   "cell_type": "code",
   "execution_count": 13,
   "id": "9c4aa38f-7dd2-433e-89ef-f7a455c91b89",
   "metadata": {},
   "outputs": [
    {
     "data": {
      "text/plain": [
       "['__add__',\n",
       " '__class__',\n",
       " '__class_getitem__',\n",
       " '__contains__',\n",
       " '__delattr__',\n",
       " '__delitem__',\n",
       " '__dir__',\n",
       " '__doc__',\n",
       " '__eq__',\n",
       " '__format__',\n",
       " '__ge__',\n",
       " '__getattribute__',\n",
       " '__getitem__',\n",
       " '__getstate__',\n",
       " '__gt__',\n",
       " '__hash__',\n",
       " '__iadd__',\n",
       " '__imul__',\n",
       " '__init__',\n",
       " '__init_subclass__',\n",
       " '__iter__',\n",
       " '__le__',\n",
       " '__len__',\n",
       " '__lt__',\n",
       " '__mul__',\n",
       " '__ne__',\n",
       " '__new__',\n",
       " '__reduce__',\n",
       " '__reduce_ex__',\n",
       " '__repr__',\n",
       " '__reversed__',\n",
       " '__rmul__',\n",
       " '__setattr__',\n",
       " '__setitem__',\n",
       " '__sizeof__',\n",
       " '__str__',\n",
       " '__subclasshook__',\n",
       " 'append',\n",
       " 'clear',\n",
       " 'copy',\n",
       " 'count',\n",
       " 'extend',\n",
       " 'index',\n",
       " 'insert',\n",
       " 'pop',\n",
       " 'remove',\n",
       " 'reverse',\n",
       " 'sort']"
      ]
     },
     "execution_count": 13,
     "metadata": {},
     "output_type": "execute_result"
    }
   ],
   "source": [
    "dir([])"
   ]
  },
  {
   "cell_type": "markdown",
   "id": "ebb5190f-798f-4609-baaa-21d07e6fd973",
   "metadata": {},
   "source": [
    "**Append**"
   ]
  },
  {
   "cell_type": "code",
   "execution_count": null,
   "id": "5bfea3be-9426-47a2-a5cb-a19348ac1245",
   "metadata": {},
   "outputs": [],
   "source": [
    "- adding element in a list at last index\n",
    "- append is very important\n",
    "- most of time we will use in real time\n",
    "- when you add the value the original list will be overwrite\n",
    "\n",
    "\n",
    "<>.<>"
   ]
  },
  {
   "cell_type": "code",
   "execution_count": 14,
   "id": "06bed6f5-abc9-4b0f-b182-bf65874583fe",
   "metadata": {},
   "outputs": [
    {
     "data": {
      "text/plain": [
       "['Apple', 'Ball', 'Cat']"
      ]
     },
     "execution_count": 14,
     "metadata": {},
     "output_type": "execute_result"
    }
   ],
   "source": [
    "l=['Apple','Ball','Cat']\n",
    "l"
   ]
  },
  {
   "cell_type": "code",
   "execution_count": null,
   "id": "eab6f586-bde5-427b-81bc-352c13fada88",
   "metadata": {},
   "outputs": [],
   "source": []
  },
  {
   "cell_type": "code",
   "execution_count": 15,
   "id": "34c4ab4d-d709-48fe-b976-63c5eab37fd1",
   "metadata": {},
   "outputs": [
    {
     "ename": "AttributeError",
     "evalue": "'list' object has no attribute 'appned'",
     "output_type": "error",
     "traceback": [
      "\u001b[1;31m---------------------------------------------------------------------------\u001b[0m",
      "\u001b[1;31mAttributeError\u001b[0m                            Traceback (most recent call last)",
      "Cell \u001b[1;32mIn[15], line 2\u001b[0m\n\u001b[0;32m      1\u001b[0m \u001b[38;5;66;03m# you want to add Doll in a given list\u001b[39;00m\n\u001b[1;32m----> 2\u001b[0m l\u001b[38;5;241m.\u001b[39mappned\n",
      "\u001b[1;31mAttributeError\u001b[0m: 'list' object has no attribute 'appned'"
     ]
    }
   ],
   "source": [
    "# you want to add Doll in a given list\n",
    "\n",
    "l.appned"
   ]
  },
  {
   "cell_type": "code",
   "execution_count": 16,
   "id": "d19e26ce-985f-4ca4-a2ed-03692153dc69",
   "metadata": {},
   "outputs": [
    {
     "data": {
      "text/plain": [
       "<function list.append(object, /)>"
      ]
     },
     "execution_count": 16,
     "metadata": {},
     "output_type": "execute_result"
    }
   ],
   "source": [
    "l=['Apple','Ball','Cat']\n",
    "l.append"
   ]
  },
  {
   "cell_type": "code",
   "execution_count": 17,
   "id": "5467a134-22cb-4dd8-88f3-3708b7d7a4ff",
   "metadata": {},
   "outputs": [
    {
     "ename": "TypeError",
     "evalue": "list.append() takes exactly one argument (0 given)",
     "output_type": "error",
     "traceback": [
      "\u001b[1;31m---------------------------------------------------------------------------\u001b[0m",
      "\u001b[1;31mTypeError\u001b[0m                                 Traceback (most recent call last)",
      "Cell \u001b[1;32mIn[17], line 1\u001b[0m\n\u001b[1;32m----> 1\u001b[0m l\u001b[38;5;241m.\u001b[39mappend()\n",
      "\u001b[1;31mTypeError\u001b[0m: list.append() takes exactly one argument (0 given)"
     ]
    }
   ],
   "source": [
    "l.append()"
   ]
  },
  {
   "cell_type": "code",
   "execution_count": 19,
   "id": "f616591b-302a-466d-a522-5f858e428f53",
   "metadata": {},
   "outputs": [
    {
     "data": {
      "text/plain": [
       "['Apple', 'Ball', 'Cat', 'Doll', 'Doll']"
      ]
     },
     "execution_count": 19,
     "metadata": {},
     "output_type": "execute_result"
    }
   ],
   "source": [
    "l.append('Doll')\n",
    "l"
   ]
  },
  {
   "cell_type": "code",
   "execution_count": 21,
   "id": "87ce6ddf-47dc-46c3-ba40-9c42516a54f9",
   "metadata": {},
   "outputs": [
    {
     "data": {
      "text/plain": [
       "[1, 2, 3, 4, 100]"
      ]
     },
     "execution_count": 21,
     "metadata": {},
     "output_type": "execute_result"
    }
   ],
   "source": [
    "l1=[1,2,3,4]\n",
    "l1.append(100)\n",
    "l1"
   ]
  },
  {
   "cell_type": "code",
   "execution_count": 23,
   "id": "5cfa91f2-a8dd-43e8-a790-00c8968a1b91",
   "metadata": {},
   "outputs": [
    {
     "data": {
      "text/plain": [
       "[10, 20, 'apple', ['A', 1], True]"
      ]
     },
     "execution_count": 23,
     "metadata": {},
     "output_type": "execute_result"
    }
   ],
   "source": [
    "l2=[]\n",
    "l2.append(10)\n",
    "l2.append(20)\n",
    "l2.append('apple')\n",
    "l2.append(['A',1])\n",
    "l2.append(True)\n",
    "l2"
   ]
  },
  {
   "cell_type": "code",
   "execution_count": 24,
   "id": "689461bf-3acb-41f5-a974-9cb3519cfabb",
   "metadata": {},
   "outputs": [
    {
     "ename": "TypeError",
     "evalue": "list.append() takes exactly one argument (0 given)",
     "output_type": "error",
     "traceback": [
      "\u001b[1;31m---------------------------------------------------------------------------\u001b[0m",
      "\u001b[1;31mTypeError\u001b[0m                                 Traceback (most recent call last)",
      "Cell \u001b[1;32mIn[24], line 2\u001b[0m\n\u001b[0;32m      1\u001b[0m l3\u001b[38;5;241m=\u001b[39m[]\n\u001b[1;32m----> 2\u001b[0m l3\u001b[38;5;241m.\u001b[39mappend()\n\u001b[0;32m      3\u001b[0m l3\u001b[38;5;241m.\u001b[39mappend()\n\u001b[0;32m      4\u001b[0m l3\u001b[38;5;241m.\u001b[39mappend()\n",
      "\u001b[1;31mTypeError\u001b[0m: list.append() takes exactly one argument (0 given)"
     ]
    }
   ],
   "source": [
    "l3=[]\n",
    "l3.append(100)\n",
    "l3.append(200)\n",
    "l3.append('Umesh')\n",
    "l3.append(['chand',27)\n",
    "l3.append()\n",
    "l3.append()\n",
    "l3.append()"
   ]
  },
  {
   "cell_type": "code",
   "execution_count": null,
   "id": "15beb4ce-c691-4dc4-98eb-0e6060739059",
   "metadata": {},
   "outputs": [],
   "source": [
    "**Append method used to save "
   ]
  },
  {
   "cell_type": "code",
   "execution_count": null,
   "id": "94482139-8816-4a78-905a-9c092d4975c0",
   "metadata": {},
   "outputs": [],
   "source": []
  },
  {
   "cell_type": "code",
   "execution_count": 25,
   "id": "e2d87cba-6257-49b8-82a0-4ab9b5d96f29",
   "metadata": {},
   "outputs": [
    {
     "data": {
      "text/plain": [
       "[1, 4, 9, 16, 25]"
      ]
     },
     "execution_count": 25,
     "metadata": {},
     "output_type": "execute_result"
    }
   ],
   "source": [
    "square_list=[]\n",
    "for i in range(1,6):\n",
    "    square_list.append(i*i)\n",
    "\n",
    "square_list"
   ]
  },
  {
   "cell_type": "code",
   "execution_count": null,
   "id": "b1d08804-c011-468a-99c5-59edd5a18d08",
   "metadata": {},
   "outputs": [],
   "source": [
    "str='hai hai hai'\n",
    "\n",
    "# what are index of 'a'\n",
    "# save that index number in a list"
   ]
  },
  {
   "cell_type": "code",
   "execution_count": 4,
   "id": "e29bf962-806c-466c-85a9-24353ea01818",
   "metadata": {},
   "outputs": [
    {
     "data": {
      "text/plain": [
       "([1, 5, 9], 15)"
      ]
     },
     "execution_count": 4,
     "metadata": {},
     "output_type": "execute_result"
    }
   ],
   "source": [
    "str1='hai hai hai'\n",
    "id_list=[]\n",
    "for i in range(len(str1)):\n",
    "    if str1[i]=='a':\n",
    "        id_list.append(i)\n",
    "\n",
    "id_list,sum(id_list)\n",
    "    "
   ]
  },
  {
   "cell_type": "code",
   "execution_count": 27,
   "id": "ef55b240-0b28-423c-b00a-886e96105620",
   "metadata": {},
   "outputs": [
    {
     "data": {
      "text/plain": [
       "15"
      ]
     },
     "execution_count": 27,
     "metadata": {},
     "output_type": "execute_result"
    }
   ],
   "source": [
    "summ=0\n",
    "for i in range(len(str1)):\n",
    "    if str1[i]=='a':\n",
    "        summ=summ+i\n",
    "\n",
    "summ"
   ]
  },
  {
   "cell_type": "code",
   "execution_count": null,
   "id": "a8b2bc56-b912-4cd1-8949-0849683e2e5c",
   "metadata": {},
   "outputs": [],
   "source": [
    "# Q2 l1=['hyd','mumbai','Chennai','blr']\n",
    "# ans=['mumbai','chennai']\n",
    "# we want element which are len of element>4\n",
    "\n",
    "# Q3 l1=['hyd','mumbai','Chennai','blr']\n",
    "#     ans=['mum#bai','chen#nai']\n",
    "#     we want element which are having '#'\n",
    "\n",
    "#Q4 l1=['hyd','mumbai','Chennai','blr']\n",
    "#  ans=l1=['hyd','mumbai','Chennai','blr']\n"
   ]
  },
  {
   "cell_type": "code",
   "execution_count": 7,
   "id": "50d43998-b5dc-49a0-bd25-732a6690aad9",
   "metadata": {},
   "outputs": [
    {
     "ename": "TypeError",
     "evalue": "list indices must be integers or slices, not str",
     "output_type": "error",
     "traceback": [
      "\u001b[1;31m---------------------------------------------------------------------------\u001b[0m",
      "\u001b[1;31mTypeError\u001b[0m                                 Traceback (most recent call last)",
      "Cell \u001b[1;32mIn[7], line 7\u001b[0m\n\u001b[0;32m      5\u001b[0m l1\u001b[38;5;241m=\u001b[39m[\u001b[38;5;124m'\u001b[39m\u001b[38;5;124mhyd\u001b[39m\u001b[38;5;124m'\u001b[39m,\u001b[38;5;124m'\u001b[39m\u001b[38;5;124mmumbai\u001b[39m\u001b[38;5;124m'\u001b[39m,\u001b[38;5;124m'\u001b[39m\u001b[38;5;124mChennai\u001b[39m\u001b[38;5;124m'\u001b[39m,\u001b[38;5;124m'\u001b[39m\u001b[38;5;124mblr\u001b[39m\u001b[38;5;124m'\u001b[39m]\n\u001b[0;32m      6\u001b[0m \u001b[38;5;28;01mfor\u001b[39;00m i \u001b[38;5;129;01min\u001b[39;00m l1:\n\u001b[1;32m----> 7\u001b[0m     \u001b[38;5;28;01mif\u001b[39;00m l1[i]\u001b[38;5;241m>\u001b[39m\u001b[38;5;124m'\u001b[39m\u001b[38;5;124m4\u001b[39m\u001b[38;5;124m'\u001b[39m:\n\u001b[0;32m      8\u001b[0m         \u001b[38;5;28mprint\u001b[39m(i)\n\u001b[0;32m     10\u001b[0m l1\n",
      "\u001b[1;31mTypeError\u001b[0m: list indices must be integers or slices, not str"
     ]
    }
   ],
   "source": [
    "# Q2 l1=['hyd','mumbai','Chennai','blr']\n",
    "# ans=['mumbai','chennai']\n",
    "# we want element which are len of element>4\n",
    "\n",
    "l1=['hyd','mumbai','Chennai','blr']\n",
    "for i in l1:\n",
    "    if l1[i]>'4':\n",
    "        print(i)\n",
    "\n",
    "l1"
   ]
  },
  {
   "cell_type": "code",
   "execution_count": 1,
   "id": "61877ee2-b4cf-4c9d-8107-008dcda668c2",
   "metadata": {},
   "outputs": [
    {
     "data": {
      "text/plain": [
       "['mumbai', 'Chennai']"
      ]
     },
     "execution_count": 1,
     "metadata": {},
     "output_type": "execute_result"
    }
   ],
   "source": [
    "# Q2 l1=['hyd','mumbai','Chennai','blr']\n",
    "# ans=['mumbai','chennai']\n",
    "# we want element which are len of element>4\n",
    "\n",
    "l1=['hyd','mumbai','Chennai','blr']\n",
    "ans=[]\n",
    "for i in l1:\n",
    "    if len(i)>4:\n",
    "        ans.append(i)\n",
    "\n",
    "ans"
   ]
  },
  {
   "cell_type": "code",
   "execution_count": 4,
   "id": "8631b5b0-a417-4547-b423-988c97e980b6",
   "metadata": {},
   "outputs": [
    {
     "data": {
      "text/plain": [
       "['mum#bai', 'Chen#nai']"
      ]
     },
     "execution_count": 4,
     "metadata": {},
     "output_type": "execute_result"
    }
   ],
   "source": [
    "# Q3 l1=['hyd','mumbai','Chennai','blr']\n",
    "#     ans=['mum#bai','chen#nai']\n",
    "#     we want element which are having '#'\n",
    "\n",
    "l1=['hyd','mum#bai','Chen#nai','blr']\n",
    "ans=[]\n",
    "for i in l1:\n",
    "    if '#' in i:\n",
    "        ans.append(i)\n",
    "\n",
    "ans"
   ]
  },
  {
   "cell_type": "code",
   "execution_count": 2,
   "id": "484ceca2-1222-4acb-aa24-a0f424ea7552",
   "metadata": {},
   "outputs": [
    {
     "data": {
      "text/plain": [
       "True"
      ]
     },
     "execution_count": 2,
     "metadata": {},
     "output_type": "execute_result"
    }
   ],
   "source": [
    "'nadeem' in '#'  # 'nadeem' is availabel in nadeem '#'\n",
    "'#' in 'nadeem'   #   '#' is available in nadeem\n",
    "'nad##m' in '#'   #  '#' is 'nad##m' available in '#'\n",
    "'#' in 'nad##m'  #   is '#' available in 'nad##m'"
   ]
  },
  {
   "cell_type": "code",
   "execution_count": 6,
   "id": "3256197f-6a7b-452d-97c7-987099c7c345",
   "metadata": {},
   "outputs": [
    {
     "data": {
      "text/plain": [
       "['HYD', 'MUMBAI', 'CHENNAI', 'BLR']"
      ]
     },
     "execution_count": 6,
     "metadata": {},
     "output_type": "execute_result"
    }
   ],
   "source": [
    "l1=['hyd','mumbai','Chennai','blr']\n",
    "ans=[]\n",
    "for i in l1:\n",
    "        ans.append(i.upper())\n",
    "\n",
    "ans"
   ]
  },
  {
   "cell_type": "code",
   "execution_count": 7,
   "id": "aa1c1777-2c15-4ef4-b6ab-1cfcfd991a17",
   "metadata": {},
   "outputs": [
    {
     "data": {
      "text/plain": [
       "['Hyd', 'Mumbai', 'Chennai', 'Blr']"
      ]
     },
     "execution_count": 7,
     "metadata": {},
     "output_type": "execute_result"
    }
   ],
   "source": [
    "l1=['hyd','mumbai','Chennai','blr']\n",
    "ans=[]\n",
    "for i in l1:\n",
    "        ans.append(i.capitalize())\n",
    "\n",
    "ans"
   ]
  },
  {
   "cell_type": "code",
   "execution_count": null,
   "id": "320d5ccc-bd48-4b3d-939e-b61c388bca1e",
   "metadata": {},
   "outputs": [],
   "source": [
    "# do the same using capitalize\n",
    "#b step-1 split the string\n",
    "# step-2 take empty list\n",
    "# step-3 iterate the each letter apply capitalize and append it\n",
    "# step-4 join the list"
   ]
  },
  {
   "cell_type": "markdown",
   "id": "7c2683a4-e1a8-42c1-8a6e-2b9c3553ddeb",
   "metadata": {},
   "source": [
    "**split vs join**"
   ]
  },
  {
   "cell_type": "markdown",
   "id": "04fe0ec5-c42b-4536-8e8b-76c9a651e471",
   "metadata": {},
   "source": [
    "- split will apply for string, to divide the word or characters\n",
    "- when we split the element will be stored in a list format \n",
    "- join is used to combine the element of a list in a string format\n",
    "- **split-string**\n",
    "- **join-list**"
   ]
  },
  {
   "cell_type": "code",
   "execution_count": 11,
   "id": "1e9d0da6-2e72-4f31-b248-b8b07aac2b0a",
   "metadata": {},
   "outputs": [
    {
     "name": "stdout",
     "output_type": "stream",
     "text": [
      "Hello\n",
      "Im\n",
      "Learning\n",
      "Python\n"
     ]
    },
    {
     "data": {
      "text/plain": [
       "[]"
      ]
     },
     "execution_count": 11,
     "metadata": {},
     "output_type": "execute_result"
    }
   ],
   "source": [
    "str1='hello im learning python'\n",
    "words=str1.split()\n",
    "new_words=[]\n",
    "for i in words:\n",
    "    print(i.capitalize())\n",
    "\n",
    "new_words"
   ]
  },
  {
   "cell_type": "code",
   "execution_count": 8,
   "id": "2d671cbf-7cd4-4856-8b7c-c73fbbdaaedc",
   "metadata": {},
   "outputs": [
    {
     "data": {
      "text/plain": [
       "['Hello', 'Im', 'Learning', 'Python']"
      ]
     },
     "execution_count": 8,
     "metadata": {},
     "output_type": "execute_result"
    }
   ],
   "source": [
    "str1='hello im learning python'\n",
    "words=str1.split()\n",
    "new_words=[]\n",
    "for i in words:\n",
    "    new_words.append(i.capitalize())\n",
    "\n",
    "new_words"
   ]
  },
  {
   "cell_type": "code",
   "execution_count": 9,
   "id": "6026aecd-9568-4437-aaa7-e770142c1c3a",
   "metadata": {},
   "outputs": [
    {
     "data": {
      "text/plain": [
       "'HelloImLearningPython'"
      ]
     },
     "execution_count": 9,
     "metadata": {},
     "output_type": "execute_result"
    }
   ],
   "source": [
    "str1='hello im learning python'\n",
    "words=str1.split()\n",
    "new_words=[]\n",
    "for i in words:\n",
    "    new_words.append(i.capitalize())\n",
    "\n",
    "''.join(new_words)"
   ]
  },
  {
   "cell_type": "code",
   "execution_count": 10,
   "id": "576b6f2f-25da-40f8-9cc2-9f42f8f23b6c",
   "metadata": {},
   "outputs": [
    {
     "data": {
      "text/plain": [
       "'Hello Im Learning Python'"
      ]
     },
     "execution_count": 10,
     "metadata": {},
     "output_type": "execute_result"
    }
   ],
   "source": [
    "str1='hello im learning python'\n",
    "words=str1.split()\n",
    "new_words=[]\n",
    "for i in words:\n",
    "    new_words.append(i.capitalize())\n",
    "\n",
    "' '.join(new_words)"
   ]
  },
  {
   "cell_type": "code",
   "execution_count": null,
   "id": "49891d0f-02d5-4c99-bc26-df9f411730c8",
   "metadata": {},
   "outputs": [],
   "source": [
    "# calculate the distance between two points\n",
    "# a=[1,2]\n",
    "# b=[4,5]\n",
    "# a=[x1,x2]\n",
    "# b=[y1,y2]\n",
    "\n",
    "# step-0: import math\n",
    "# step-1: v1=x2-x1=a[2]-a[1]     ======index\n",
    "# step-2: v2=y2-y1=b[2]-a[1]     ======index\n",
    "# step-3:v11=v2**2\n",
    "# step-4: v22=v2**2\n",
    "# step 5: ans=math.sqrt(v11+v22"
   ]
  },
  {
   "cell_type": "code",
   "execution_count": 8,
   "id": "b7ffc8e7-9a91-4aef-b169-a90ac98e3b56",
   "metadata": {},
   "outputs": [
    {
     "name": "stdout",
     "output_type": "stream",
     "text": [
      "4.242640687119285\n"
     ]
    }
   ],
   "source": [
    "import math\n",
    "a=[1,2]\n",
    "b=[1,5]\n",
    "v1=b[0]-a[0]\n",
    "v2=b[1]-a[1]\n",
    "v11=v2**2\n",
    "v22=v2**2\n",
    "print(math.sqrt(v11+v22))"
   ]
  },
  {
   "cell_type": "code",
   "execution_count": 14,
   "id": "ca590cc8-dd70-4ae2-857f-26a957d451b9",
   "metadata": {},
   "outputs": [
    {
     "ename": "IndexError",
     "evalue": "list index out of range",
     "output_type": "error",
     "traceback": [
      "\u001b[1;31m---------------------------------------------------------------------------\u001b[0m",
      "\u001b[1;31mIndexError\u001b[0m                                Traceback (most recent call last)",
      "Cell \u001b[1;32mIn[14], line 4\u001b[0m\n\u001b[0;32m      2\u001b[0m a\u001b[38;5;241m=\u001b[39m[\u001b[38;5;241m1\u001b[39m,\u001b[38;5;241m2\u001b[39m]\n\u001b[0;32m      3\u001b[0m b\u001b[38;5;241m=\u001b[39m[\u001b[38;5;241m4\u001b[39m,\u001b[38;5;241m5\u001b[39m]\n\u001b[1;32m----> 4\u001b[0m \u001b[38;5;28mprint\u001b[39m(math\u001b[38;5;241m.\u001b[39msqrt(math\u001b[38;5;241m.\u001b[39mpow((a[\u001b[38;5;241m2\u001b[39m]\u001b[38;5;241m-\u001b[39ma[\u001b[38;5;241m1\u001b[39m]),\u001b[38;5;241m2\u001b[39m)\u001b[38;5;241m+\u001b[39mmath\u001b[38;5;241m.\u001b[39mpow((b[\u001b[38;5;241m2\u001b[39m]\u001b[38;5;241m-\u001b[39mb[\u001b[38;5;241m1\u001b[39m]),\u001b[38;5;241m2\u001b[39m)))\n",
      "\u001b[1;31mIndexError\u001b[0m: list index out of range"
     ]
    }
   ],
   "source": [
    "import math\n",
    "a=[1,2]\n",
    "b=[4,5]\n",
    "print(math.sqrt(math.pow((a[2]-a[1]),2)+math.pow((b[2]-b[1]),2)))"
   ]
  },
  {
   "cell_type": "code",
   "execution_count": null,
   "id": "da15ad67-eb4e-4d39-9d75-1b36c7d8e418",
   "metadata": {},
   "outputs": [],
   "source": [
    "points=[[1,2],[2.3],[3,4]]\n",
    "val=[2,3]\n",
    "\n",
    "# calculate the distance between val[2,3] to each and every point\n",
    "# and find the maximum distance\n",
    "\n",
    "import math\n",
    "a=[1,2]\n",
    "b=[1,5]\n",
    "# for loop\n",
    "v1=b[0]-a[0]\n",
    "v2=b[1]-a[1]\n",
    "v11=v2**2\n",
    "v22=v2**2\n",
    "print(math.sqrt(math.pow((a[2]-a[1]),2)+math.pow((b[2]-b[1]),2)))"
   ]
  },
  {
   "cell_type": "code",
   "execution_count": 9,
   "id": "d425c5da-0936-45a5-b9bb-f322f150902c",
   "metadata": {},
   "outputs": [
    {
     "name": "stdout",
     "output_type": "stream",
     "text": [
      "1 2\n",
      "2 3\n",
      "==================\n"
     ]
    },
    {
     "ename": "IndexError",
     "evalue": "list index out of range",
     "output_type": "error",
     "traceback": [
      "\u001b[1;31m---------------------------------------------------------------------------\u001b[0m",
      "\u001b[1;31mIndexError\u001b[0m                                Traceback (most recent call last)",
      "Cell \u001b[1;32mIn[9], line 5\u001b[0m\n\u001b[0;32m      2\u001b[0m val\u001b[38;5;241m=\u001b[39m[\u001b[38;5;241m2\u001b[39m,\u001b[38;5;241m3\u001b[39m]\n\u001b[0;32m      4\u001b[0m \u001b[38;5;28;01mfor\u001b[39;00m i \u001b[38;5;129;01min\u001b[39;00m points:\n\u001b[1;32m----> 5\u001b[0m     \u001b[38;5;28mprint\u001b[39m(i[\u001b[38;5;241m0\u001b[39m],i[\u001b[38;5;241m1\u001b[39m])\n\u001b[0;32m      6\u001b[0m     \u001b[38;5;28mprint\u001b[39m(val[\u001b[38;5;241m0\u001b[39m],val[\u001b[38;5;241m1\u001b[39m])\n\u001b[0;32m      7\u001b[0m     \u001b[38;5;28mprint\u001b[39m(\u001b[38;5;124m'\u001b[39m\u001b[38;5;124m==================\u001b[39m\u001b[38;5;124m'\u001b[39m)\n",
      "\u001b[1;31mIndexError\u001b[0m: list index out of range"
     ]
    }
   ],
   "source": [
    "points=[[1,2],[2.3],[3,4]]\n",
    "val=[2,3]\n",
    "\n",
    "for i in points:\n",
    "    print(i[0],i[1])\n",
    "    print(val[0],val[1])\n",
    "    print('==================')"
   ]
  },
  {
   "cell_type": "code",
   "execution_count": 26,
   "id": "a5560266-658d-427f-956a-1328e7ac478e",
   "metadata": {},
   "outputs": [
    {
     "name": "stdout",
     "output_type": "stream",
     "text": [
      "1 2\n",
      "2 3\n",
      "2 3\n",
      "2 3\n",
      "3 4\n",
      "2 3\n"
     ]
    }
   ],
   "source": [
    "points=[[1,2],[2,3],[3,4]]\n",
    "val=[2,3]\n",
    "\n",
    "for i in points:\n",
    "    print(i[0],i[1])\n",
    "    print(val[0],val[1])\n",
    "    o1=val[0]-i[0]\n",
    "    o2=val[1]-i[1]\n",
    "    print(f\"{val[1]}-val[0]\""
   ]
  },
  {
   "cell_type": "code",
   "execution_count": 27,
   "id": "2899ad74-28e5-43b3-9eae-c7ba60c45572",
   "metadata": {},
   "outputs": [
    {
     "data": {
      "text/plain": [
       "[5, 3, 3, 3, 3]"
      ]
     },
     "execution_count": 27,
     "metadata": {},
     "output_type": "execute_result"
    }
   ],
   "source": [
    "# Q8) str='hello hai how are you'\n",
    "# Maximum len of word using split and max method\n",
    "# sum of all the indexes of the maximum len of word using append\n",
    "\n",
    "str1='hello hai how are you'\n",
    "words=str1.split()\n",
    "words\n",
    "str2=[]\n",
    "\n",
    "for i in words:\n",
    "    x=len(i)\n",
    "    str2.append(x)\n",
    "\n",
    "str2\n",
    "    "
   ]
  },
  {
   "cell_type": "code",
   "execution_count": 28,
   "id": "9c1233df-8cb1-420e-8679-9ee7ba074159",
   "metadata": {},
   "outputs": [
    {
     "data": {
      "text/plain": [
       "['hello', 'hai', 'how', 'are', 'you']"
      ]
     },
     "execution_count": 28,
     "metadata": {},
     "output_type": "execute_result"
    }
   ],
   "source": [
    "str1='hello hai how are you'\n",
    "words=str1.split()\n",
    "words"
   ]
  },
  {
   "cell_type": "code",
   "execution_count": 29,
   "id": "a4e30f22-2aaa-4e00-a4de-0db24df51743",
   "metadata": {},
   "outputs": [
    {
     "data": {
      "text/plain": [
       "5"
      ]
     },
     "execution_count": 29,
     "metadata": {},
     "output_type": "execute_result"
    }
   ],
   "source": [
    "str1='hello hai how are you'\n",
    "words=str1.split()\n",
    "words\n",
    "str2=[]\n",
    "\n",
    "for i in words:\n",
    "    x=len(i)\n",
    "    str2.append(x)\n",
    "\n",
    "max(str2)"
   ]
  },
  {
   "cell_type": "code",
   "execution_count": 2,
   "id": "01917354-fdea-4390-a7c2-b48e62a35ce8",
   "metadata": {},
   "outputs": [
    {
     "name": "stdout",
     "output_type": "stream",
     "text": [
      "hello\n"
     ]
    }
   ],
   "source": [
    "str1='hello hai how are you'\n",
    "words=str1.split()\n",
    "words\n",
    "len_words=[]\n",
    "\n",
    "for i in words:\n",
    "    x=len(i)\n",
    "    len_words.append(x)\n",
    "\n",
    "max_len=max(len_words)\n",
    "\n",
    "for i in words:\n",
    "    if len(i)==max_len:\n",
    "        print(i)\n",
    "\n",
    "# first we are splitting\n",
    "# then we are calculating each and every len of words and append in a list\n",
    "# we are taking the max value fron the list\n",
    "\n",
    "# again we are iterating words list\n",
    "# calculating len of each word\n",
    "# if that word length equal to max value\n",
    "#   then that is our answer\n",
    "hello==0"
   ]
  },
  {
   "cell_type": "code",
   "execution_count": 175,
   "id": "55d626af-a9ef-470b-8d95-1c029f1fbd4c",
   "metadata": {},
   "outputs": [
    {
     "name": "stdin",
     "output_type": "stream",
     "text": [
      "What is capital of India Delhi\n",
      "Who is PM of india Modi\n",
      "Who is ICT ODI captian Rohit\n"
     ]
    }
   ],
   "source": [
    "# 10 )\n",
    "#  You have two lists\n",
    "# qns=['What is capital of India',\n",
    "#       'Who is PM of india',\n",
    "#        'Who is ICT ODI captian']\n",
    "# ans = ['Delhi','Modi','Rohit']\n",
    "\n",
    "# For i in qns:\n",
    "#     print(i)\n",
    "#     ans= delhi\n",
    "#      index should match\n",
    "#      delhi  modi\n",
    "#      marks= marks+1\n",
    "# print the total marks\n",
    "\n",
    "qns=['What is capital of India',\n",
    "     'Who is PM of india',\n",
    "     'Who is ICT ODI captian']\n",
    "ans= ['Delhi','Modi','Rohit']\n",
    "\n",
    "for i in qns:\n",
    "    ans=input(i)"
   ]
  },
  {
   "cell_type": "code",
   "execution_count": 3,
   "id": "284614da-30ba-4d63-99b6-bc2ccad31b7c",
   "metadata": {},
   "outputs": [
    {
     "name": "stdin",
     "output_type": "stream",
     "text": [
      "What is capital of India Delhi\n",
      "Who is PM of india Modi\n",
      "Who is ICT ODI captian Rohit\n"
     ]
    },
    {
     "name": "stdout",
     "output_type": "stream",
     "text": [
      "the total marks are: 3\n"
     ]
    }
   ],
   "source": [
    "qns_list=['What is capital of India',\n",
    "       'Who is PM of india',\n",
    "        'Who is ICT ODI captian']\n",
    "ans_list= ['Delhi','Modi','Rohit']\n",
    "marks=0\n",
    "\n",
    "for i in range(len(qns_list)):\n",
    "    ans=input(qns_list[i])\n",
    "    if ans==ans_list[i]:\n",
    "        marks=marks+1\n",
    "\n",
    "print(\"the total marks are:\",marks)"
   ]
  },
  {
   "cell_type": "code",
   "execution_count": 4,
   "id": "02a9ad53-aaff-4f20-9a83-28a5d4320c27",
   "metadata": {},
   "outputs": [
    {
     "name": "stdin",
     "output_type": "stream",
     "text": [
      "What is capital of India delhi\n",
      "Who is PM of india modi\n",
      "Who is ICT ODI captian rohit\n"
     ]
    },
    {
     "name": "stdout",
     "output_type": "stream",
     "text": [
      "the total marks are: 3\n"
     ]
    }
   ],
   "source": [
    "qns_list=['What is capital of India',\n",
    "       'Who is PM of india',\n",
    "        'Who is ICT ODI captian']\n",
    "ans_list= ['Delhi','Modi','Rohit']\n",
    "marks=0\n",
    "\n",
    "for i in range(len(qns_list)):\n",
    "    ans=input(qns_list[i])\n",
    "    if ans.lower()==ans_list[i].lower():\n",
    "        marks=marks+1\n",
    "\n",
    "print(\"the total marks are:\",marks)"
   ]
  },
  {
   "cell_type": "code",
   "execution_count": 16,
   "id": "829daac1-6f55-443e-b21f-92b8d5a7e02e",
   "metadata": {},
   "outputs": [
    {
     "data": {
      "text/plain": [
       "['__add__',\n",
       " '__class__',\n",
       " '__class_getitem__',\n",
       " '__contains__',\n",
       " '__delattr__',\n",
       " '__delitem__',\n",
       " '__dir__',\n",
       " '__doc__',\n",
       " '__eq__',\n",
       " '__format__',\n",
       " '__ge__',\n",
       " '__getattribute__',\n",
       " '__getitem__',\n",
       " '__getstate__',\n",
       " '__gt__',\n",
       " '__hash__',\n",
       " '__iadd__',\n",
       " '__imul__',\n",
       " '__init__',\n",
       " '__init_subclass__',\n",
       " '__iter__',\n",
       " '__le__',\n",
       " '__len__',\n",
       " '__lt__',\n",
       " '__mul__',\n",
       " '__ne__',\n",
       " '__new__',\n",
       " '__reduce__',\n",
       " '__reduce_ex__',\n",
       " '__repr__',\n",
       " '__reversed__',\n",
       " '__rmul__',\n",
       " '__setattr__',\n",
       " '__setitem__',\n",
       " '__sizeof__',\n",
       " '__str__',\n",
       " '__subclasshook__',\n",
       " 'append',\n",
       " 'clear',\n",
       " 'copy',\n",
       " 'count',\n",
       " 'extend',\n",
       " 'index',\n",
       " 'insert',\n",
       " 'pop',\n",
       " 'remove',\n",
       " 'reverse',\n",
       " 'sort']"
      ]
     },
     "execution_count": 16,
     "metadata": {},
     "output_type": "execute_result"
    }
   ],
   "source": [
    "dir(list)"
   ]
  },
  {
   "cell_type": "code",
   "execution_count": null,
   "id": "7219cb28-627a-4f47-ae74-c6c62025e3fa",
   "metadata": {},
   "outputs": [],
   "source": [
    "# append vs extend vs concatenation vs insert\n",
    "# pop vs remove\n",
    "# reverse vs reversed\n",
    "# sort vs sorted\n",
    "# index\n",
    "# count\n",
    "# clear and copy"
   ]
  },
  {
   "cell_type": "code",
   "execution_count": null,
   "id": "9e3d02d1-6e70-43ec-b5e6-4d94dea21ae2",
   "metadata": {},
   "outputs": [],
   "source": [
    "str1='hello how are you'\n",
    "str2=[]\n",
    "for i in str1"
   ]
  },
  {
   "cell_type": "code",
   "execution_count": 21,
   "id": "66497f99-bbc2-4b96-92e7-d79c33a60530",
   "metadata": {},
   "outputs": [],
   "source": [
    "str1='hello how are you'\n",
    "str2=[]\n",
    "for i in range(len(str1)):\n",
    "    str2.append(i)"
   ]
  },
  {
   "cell_type": "code",
   "execution_count": null,
   "id": "78efa7fe-aa5c-4f00-bb14-50f4b3b65a7a",
   "metadata": {},
   "outputs": [],
   "source": [
    "square_list=[]\n",
    "for i in range(1,6):\n",
    "    square_list.append(i*i)\n",
    "\n",
    "square_list"
   ]
  },
  {
   "cell_type": "code",
   "execution_count": 23,
   "id": "4a07b50c-9651-4e82-8731-6cc2438b1e64",
   "metadata": {},
   "outputs": [
    {
     "data": {
      "text/plain": [
       "[1, 4, 9, 16, 25, 36, 49, 64]"
      ]
     },
     "execution_count": 23,
     "metadata": {},
     "output_type": "execute_result"
    }
   ],
   "source": [
    "square_list=[]\n",
    "for i in range(1,9):\n",
    "    square_list.append(i*i)\n",
    "\n",
    "square_list"
   ]
  },
  {
   "cell_type": "code",
   "execution_count": 26,
   "id": "ebb981d6-271d-44b8-9c9b-5764e772e836",
   "metadata": {},
   "outputs": [
    {
     "data": {
      "text/plain": [
       "[1, 5, 9]"
      ]
     },
     "execution_count": 26,
     "metadata": {},
     "output_type": "execute_result"
    }
   ],
   "source": [
    "str1='hai hai hai'\n",
    "id_list=[]\n",
    "for i in range(len(str1)):\n",
    "    if str1[i]=='a':\n",
    "        id_list.append(i)\n",
    "\n",
    "id_list"
   ]
  },
  {
   "cell_type": "code",
   "execution_count": 30,
   "id": "5b276e70-145f-4e23-a44f-0a7ca305b213",
   "metadata": {},
   "outputs": [
    {
     "data": {
      "text/plain": [
       "[0, 0, 0]"
      ]
     },
     "execution_count": 30,
     "metadata": {},
     "output_type": "execute_result"
    }
   ],
   "source": [
    "str1='hai hai hai'\n",
    "id_list=[]\n",
    "for i in range(len(str1)):\n",
    "    if str1[i]=='a':\n",
    "        id_list.insert(i,0)\n",
    "\n",
    "id_list"
   ]
  },
  {
   "cell_type": "code",
   "execution_count": 32,
   "id": "c655957b-c02a-4ca8-8fcb-05b04a17cb0e",
   "metadata": {},
   "outputs": [
    {
     "ename": "AttributeError",
     "evalue": "'list' object has no attribute 'concatenation'",
     "output_type": "error",
     "traceback": [
      "\u001b[1;31m---------------------------------------------------------------------------\u001b[0m",
      "\u001b[1;31mAttributeError\u001b[0m                            Traceback (most recent call last)",
      "Cell \u001b[1;32mIn[32], line 5\u001b[0m\n\u001b[0;32m      3\u001b[0m \u001b[38;5;28;01mfor\u001b[39;00m i \u001b[38;5;129;01min\u001b[39;00m \u001b[38;5;28mrange\u001b[39m(\u001b[38;5;28mlen\u001b[39m(str1)):\n\u001b[0;32m      4\u001b[0m     \u001b[38;5;28;01mif\u001b[39;00m str1[i]\u001b[38;5;241m==\u001b[39m\u001b[38;5;124m'\u001b[39m\u001b[38;5;124ma\u001b[39m\u001b[38;5;124m'\u001b[39m:\n\u001b[1;32m----> 5\u001b[0m         id_list\u001b[38;5;241m.\u001b[39mconcatenation(i)\n\u001b[0;32m      7\u001b[0m id_list\n",
      "\u001b[1;31mAttributeError\u001b[0m: 'list' object has no attribute 'concatenation'"
     ]
    }
   ],
   "source": [
    "str1='hai hai hai'\n",
    "id_list=[]\n",
    "for i in range(len(str1)):\n",
    "    if str1[i]=='a':\n",
    "        id_list.concatenation(i)\n",
    "\n",
    "id_list"
   ]
  },
  {
   "cell_type": "code",
   "execution_count": 33,
   "id": "6015651c-ddc9-4a59-85a9-9aea4d555c57",
   "metadata": {},
   "outputs": [
    {
     "ename": "TypeError",
     "evalue": "'int' object is not iterable",
     "output_type": "error",
     "traceback": [
      "\u001b[1;31m---------------------------------------------------------------------------\u001b[0m",
      "\u001b[1;31mTypeError\u001b[0m                                 Traceback (most recent call last)",
      "Cell \u001b[1;32mIn[33], line 5\u001b[0m\n\u001b[0;32m      3\u001b[0m \u001b[38;5;28;01mfor\u001b[39;00m i \u001b[38;5;129;01min\u001b[39;00m \u001b[38;5;28mrange\u001b[39m(\u001b[38;5;28mlen\u001b[39m(str1)):\n\u001b[0;32m      4\u001b[0m     \u001b[38;5;28;01mif\u001b[39;00m str1[i]\u001b[38;5;241m==\u001b[39m\u001b[38;5;124m'\u001b[39m\u001b[38;5;124ma\u001b[39m\u001b[38;5;124m'\u001b[39m:\n\u001b[1;32m----> 5\u001b[0m         id_list\u001b[38;5;241m.\u001b[39mextend(i)\n\u001b[0;32m      7\u001b[0m id_list\n",
      "\u001b[1;31mTypeError\u001b[0m: 'int' object is not iterable"
     ]
    }
   ],
   "source": [
    "str1='hai hai hai'\n",
    "id_list=[]\n",
    "for i in range(len(str1)):\n",
    "    if str1[i]=='a':\n",
    "        id_list.extend(i)\n",
    "\n",
    "id_list"
   ]
  },
  {
   "cell_type": "code",
   "execution_count": null,
   "id": "96240e2f-068c-41cc-b0cd-f9d3ce72c014",
   "metadata": {},
   "outputs": [],
   "source": [
    "method vs keyword\n",
    "key words\n"
   ]
  },
  {
   "cell_type": "markdown",
   "id": "ab29fe75-151b-46fe-9cb8-84723f281b12",
   "metadata": {},
   "source": [
    "**copy**"
   ]
  },
  {
   "cell_type": "code",
   "execution_count": 34,
   "id": "2c0bc8c8-40e3-42ad-af23-5d1b1d7ee611",
   "metadata": {},
   "outputs": [
    {
     "data": {
      "text/plain": [
       "[1, 2, 3, 100, 200, 80, 70, 60]"
      ]
     },
     "execution_count": 34,
     "metadata": {},
     "output_type": "execute_result"
    }
   ],
   "source": [
    "l1=[1,2,3,100,200,80,70,60]\n",
    "l2=l1.copy()\n",
    "l2"
   ]
  },
  {
   "cell_type": "code",
   "execution_count": 36,
   "id": "e90d0373-5bc5-43df-8961-52326c63ccc8",
   "metadata": {},
   "outputs": [
    {
     "data": {
      "text/plain": [
       "([1, 2, 3, 100, 200, 80, 70, 60], [1, 2, 3, 100, 200, 80, 70, 60])"
      ]
     },
     "execution_count": 36,
     "metadata": {},
     "output_type": "execute_result"
    }
   ],
   "source": [
    "l1,l2"
   ]
  },
  {
   "cell_type": "markdown",
   "id": "3a670667-d8bc-4091-96af-4ff42ccd395e",
   "metadata": {},
   "source": [
    "**clear**"
   ]
  },
  {
   "cell_type": "code",
   "execution_count": 38,
   "id": "2e87479a-ba5e-4315-9b68-1551cbd74fb3",
   "metadata": {},
   "outputs": [
    {
     "data": {
      "text/plain": [
       "[]"
      ]
     },
     "execution_count": 38,
     "metadata": {},
     "output_type": "execute_result"
    }
   ],
   "source": [
    "l1.clear()\n",
    "l1"
   ]
  },
  {
   "cell_type": "code",
   "execution_count": 39,
   "id": "42f64d7b-cc86-4b22-9b19-37c7d7d12c89",
   "metadata": {},
   "outputs": [
    {
     "data": {
      "text/plain": [
       "[1, 2, 3, 100, 200, 80, 70, 60]"
      ]
     },
     "execution_count": 39,
     "metadata": {},
     "output_type": "execute_result"
    }
   ],
   "source": [
    "l2"
   ]
  },
  {
   "cell_type": "code",
   "execution_count": 40,
   "id": "692aa967-04ab-4a25-9795-781e2197549e",
   "metadata": {},
   "outputs": [
    {
     "name": "stdout",
     "output_type": "stream",
     "text": [
      "<class 'list'>\n"
     ]
    }
   ],
   "source": [
    "print(type([]))"
   ]
  },
  {
   "cell_type": "markdown",
   "id": "b0b5711d-c2ef-40b3-b705-a5eddce55114",
   "metadata": {},
   "source": [
    "**append-extend-concatenation-insert**"
   ]
  },
  {
   "cell_type": "code",
   "execution_count": 41,
   "id": "33ab364a-3b3b-4ff9-898f-93fabf8a252b",
   "metadata": {},
   "outputs": [
    {
     "name": "stdout",
     "output_type": "stream",
     "text": [
      "[1, 2, 3, 4, ['A', 'B', 'C', 'D']]\n",
      "['A', 'B', 'C', 'D']\n"
     ]
    }
   ],
   "source": [
    "l1=[1,2,3,4]\n",
    "l2=['A','B','C','D']\n",
    "l1.append(l2)\n",
    "print(l1)\n",
    "print(l2)\n",
    "\n",
    "# list is overwrite with l2 values"
   ]
  },
  {
   "cell_type": "code",
   "execution_count": 42,
   "id": "ebaf396f-cf70-43ea-92d7-d8f4d4fb3bbe",
   "metadata": {},
   "outputs": [
    {
     "name": "stdout",
     "output_type": "stream",
     "text": [
      "[1, 2, 3, 4]\n",
      "['A', 'B', 'C', 'D']\n"
     ]
    }
   ],
   "source": [
    "l1=[1,2,3,4]\n",
    "l2=['A','B','C','D']\n",
    "l1+l2\n",
    "print(l1)\n",
    "print(l2)"
   ]
  },
  {
   "cell_type": "code",
   "execution_count": 43,
   "id": "bd988e30-b647-4a3c-9e93-98a4c2c35f38",
   "metadata": {},
   "outputs": [
    {
     "name": "stdout",
     "output_type": "stream",
     "text": [
      "[1, 2, 3, 4, 'A', 'B', 'C', 'D']\n",
      "['A', 'B', 'C', 'D']\n"
     ]
    }
   ],
   "source": [
    "l1=[1,2,3,4]\n",
    "l2=['A','B','C','D']\n",
    "l1.extend(l2)\n",
    "print(l1)\n",
    "print(l2)"
   ]
  },
  {
   "cell_type": "code",
   "execution_count": 44,
   "id": "d2d2e362-c3c8-403a-9b78-a1505e3e3863",
   "metadata": {},
   "outputs": [
    {
     "name": "stdout",
     "output_type": "stream",
     "text": [
      "[1, 2, 3, 4]\n",
      "['A', 'B', 'C', 'D', 1, 2, 3, 4]\n"
     ]
    }
   ],
   "source": [
    "l1=[1,2,3,4]\n",
    "l2=['A','B','C','D']\n",
    "l2.extend(l1)\n",
    "print(l1)\n",
    "print(l2)"
   ]
  },
  {
   "cell_type": "code",
   "execution_count": 45,
   "id": "86fea874-ad5b-4cc1-911c-715b18d1b027",
   "metadata": {},
   "outputs": [
    {
     "name": "stdout",
     "output_type": "stream",
     "text": [
      "[1, 2, 3, 4, 'A', 'B', 'C', 'D']\n",
      "['A', 'B', 'C', 'D', 1, 2, 3, 4]\n",
      "[1, 2, 3, 4]\n",
      "['A', 'B', 'C', 'D']\n"
     ]
    }
   ],
   "source": [
    "l1=[1,2,3,4]\n",
    "l2=['A','B','C','D']\n",
    "print(l1+l2)\n",
    "print(l2+l1)\n",
    "print(l1)\n",
    "print(l2)"
   ]
  },
  {
   "cell_type": "code",
   "execution_count": 72,
   "id": "5da83964-9593-4e82-a908-c892589ed375",
   "metadata": {},
   "outputs": [
    {
     "name": "stdout",
     "output_type": "stream",
     "text": [
      "[1, 2, 3, 4, 5]\n",
      "['A', 'B', 'C', 'D', 6]\n"
     ]
    }
   ],
   "source": [
    "l1=[1,2,3,4]\n",
    "l2=['A','B','C','D']\n",
    "l1.insert(4,5)\n",
    "l2.insert(4,6)\n",
    "print(l1)\n",
    "print(l2)"
   ]
  },
  {
   "cell_type": "code",
   "execution_count": 48,
   "id": "1258d69a-efdc-45fe-a62c-15199bdf260e",
   "metadata": {},
   "outputs": [
    {
     "data": {
      "text/plain": [
       "[1, 2, 3, 4, 'a', 'p', 'p', 'l', 'e']"
      ]
     },
     "execution_count": 48,
     "metadata": {},
     "output_type": "execute_result"
    }
   ],
   "source": [
    "l1=[1,2,3,4]\n",
    "l1.extend('apple')\n",
    "l1"
   ]
  },
  {
   "cell_type": "code",
   "execution_count": 50,
   "id": "7703e529-dfcf-45a8-b4d9-e53f6ecc32fb",
   "metadata": {},
   "outputs": [
    {
     "data": {
      "text/plain": [
       "[1, 2, 3, 4, 10, 20, 30, 40]"
      ]
     },
     "execution_count": 50,
     "metadata": {},
     "output_type": "execute_result"
    }
   ],
   "source": [
    "l1=[1,2,3,4]\n",
    "l1.extend([10,20,30,40])\n",
    "l1"
   ]
  },
  {
   "cell_type": "code",
   "execution_count": 51,
   "id": "16449cb5-2aee-492d-a2ef-4fccb5335003",
   "metadata": {},
   "outputs": [
    {
     "data": {
      "text/plain": [
       "[1, 2, 3, 4, 10, 20, 30, 40]"
      ]
     },
     "execution_count": 51,
     "metadata": {},
     "output_type": "execute_result"
    }
   ],
   "source": [
    "l1=[1,2,3,4]\n",
    "l1.extend((10,20,30,40))\n",
    "l1     # tupple"
   ]
  },
  {
   "cell_type": "code",
   "execution_count": null,
   "id": "5ed59e5f-2a4c-4cd3-b348-6c5add508781",
   "metadata": {},
   "outputs": [],
   "source": [
    "- append just append the values with base data type\n",
    "- extend is cancatenation the values, and the list will be overwrite with new values\n",
    "- extend can take any iterable format type i.e, string list tupple\n",
    "- extend and concatenation both are same\n",
    "- the list will not overwrite in concatenation"
   ]
  },
  {
   "cell_type": "markdown",
   "id": "ce4a2271-62f6-4597-9806-8b363b4ff1ae",
   "metadata": {},
   "source": [
    "**index**"
   ]
  },
  {
   "cell_type": "markdown",
   "id": "d4fc5305-e82c-4f91-8e15-44bad3e58c56",
   "metadata": {},
   "source": [
    "- same like string only"
   ]
  },
  {
   "cell_type": "code",
   "execution_count": 58,
   "id": "9d9070ff-c1eb-4b96-a1c2-8694997fe9b6",
   "metadata": {},
   "outputs": [
    {
     "data": {
      "text/plain": [
       "[1, 2, 3, 'Apple', 10, 20, 30, 40]"
      ]
     },
     "execution_count": 58,
     "metadata": {},
     "output_type": "execute_result"
    }
   ],
   "source": [
    "l1=[1,2,3,'Apple',10,20,30,40]\n",
    "l1.index(2)\n",
    "l1.index('Apple')\n",
    "l1\n",
    "l1"
   ]
  },
  {
   "cell_type": "code",
   "execution_count": 56,
   "id": "9f34ae82-fecc-42c9-903c-740235bd2d40",
   "metadata": {},
   "outputs": [
    {
     "data": {
      "text/plain": [
       "(3, 6)"
      ]
     },
     "execution_count": 56,
     "metadata": {},
     "output_type": "execute_result"
    }
   ],
   "source": [
    "l1=[1,2,3,'Apple',10,20,'Apple',40]\n",
    "l1.index(2)\n",
    "i1=l1.index('Apple')\n",
    "i2=l1.index('Apple',i1+1)\n",
    "i1,i2"
   ]
  },
  {
   "cell_type": "code",
   "execution_count": null,
   "id": "0245b123-782d-4ae5-96bd-93b35ae5b811",
   "metadata": {},
   "outputs": [],
   "source": [
    "- case-1: diretly get the index\n",
    "\n",
    "- case-2: next value index, by providing  start value\n",
    "\n",
    "- case- 3: in between the indexes"
   ]
  },
  {
   "cell_type": "code",
   "execution_count": 61,
   "id": "d02f8233-1aad-49e6-920f-4ae67b47c2bd",
   "metadata": {},
   "outputs": [
    {
     "name": "stdout",
     "output_type": "stream",
     "text": [
      "3\n"
     ]
    }
   ],
   "source": [
    "l1=[1,2,3,'Apple',10,20,'Apple',40]\n",
    "l1.index(2)\n",
    "i1=l1.index('Apple')    #  case - 1\n",
    "i2=l1.index('Apple',i1+1)    # case - 2\n",
    "i3=l1.index('Apple',2,5)     #  case - 3\n",
    "print(i3)"
   ]
  },
  {
   "cell_type": "code",
   "execution_count": null,
   "id": "c83fc3e4-cd8c-409a-aa11-69899570074a",
   "metadata": {},
   "outputs": [],
   "source": [
    "# append vs extend vs concatenation vs insert\n",
    "# pop vs remove\n",
    "# reverse vs reversed\n",
    "# sort vs sorted\n",
    "# index\n",
    "# count\n",
    "# clear and copy"
   ]
  },
  {
   "cell_type": "code",
   "execution_count": 74,
   "id": "f95b917e-cdb1-4940-a469-5f592dce0460",
   "metadata": {},
   "outputs": [
    {
     "name": "stdout",
     "output_type": "stream",
     "text": [
      "[1, 2, 4]\n",
      "['A', 'B', 'C', 'D']\n"
     ]
    }
   ],
   "source": [
    "l1=[1,2,3,4]\n",
    "l2=['A','B','C','D']\n",
    "l1.pop(-2)\n",
    "print(l1)\n",
    "print(l2)"
   ]
  },
  {
   "cell_type": "code",
   "execution_count": 80,
   "id": "91c05ed4-7047-4e97-b595-66a9998a7286",
   "metadata": {},
   "outputs": [
    {
     "data": {
      "text/plain": [
       "[1, 2, 3, 'Apple', 10, 20, 40]"
      ]
     },
     "execution_count": 80,
     "metadata": {},
     "output_type": "execute_result"
    }
   ],
   "source": [
    "l1=[1,2,3,'Apple',10,20,'Apple',40]\n",
    "l1.pop(-2)\n",
    "l1"
   ]
  },
  {
   "cell_type": "code",
   "execution_count": 81,
   "id": "fd0a6408-49b9-4c94-ae48-15982058b663",
   "metadata": {},
   "outputs": [
    {
     "data": {
      "text/plain": [
       "[1, 2, 3, 'Apple', 10, 20, 'Apple']"
      ]
     },
     "execution_count": 81,
     "metadata": {},
     "output_type": "execute_result"
    }
   ],
   "source": [
    "l1=[1,2,3,'Apple',10,20,'Apple',40]\n",
    "l1.pop(-1)\n",
    "l1"
   ]
  },
  {
   "cell_type": "code",
   "execution_count": 82,
   "id": "5779d74e-bf03-411d-9f50-802894cf9e01",
   "metadata": {},
   "outputs": [
    {
     "data": {
      "text/plain": [
       "[1, 2, 3, 'Apple', 10, 'Apple', 40]"
      ]
     },
     "execution_count": 82,
     "metadata": {},
     "output_type": "execute_result"
    }
   ],
   "source": [
    "l1=[1,2,3,'Apple',10,20,'Apple',40]\n",
    "l1.pop(-3)\n",
    "l1"
   ]
  },
  {
   "cell_type": "code",
   "execution_count": 83,
   "id": "911369a1-ceac-48cc-a966-38238808a2b1",
   "metadata": {},
   "outputs": [
    {
     "data": {
      "text/plain": [
       "[1, 3, 'Apple', 10, 20, 'Apple', 40]"
      ]
     },
     "execution_count": 83,
     "metadata": {},
     "output_type": "execute_result"
    }
   ],
   "source": [
    "l1=[1,2,3,'Apple',10,20,'Apple',40]\n",
    "l1.remove(2)\n",
    "l1"
   ]
  },
  {
   "cell_type": "code",
   "execution_count": 87,
   "id": "1cc3558c-6109-4f18-aeeb-6d367edc2afa",
   "metadata": {},
   "outputs": [
    {
     "data": {
      "text/plain": [
       "[1, 2, 'Apple', 10, 20, 'Apple', 40]"
      ]
     },
     "execution_count": 87,
     "metadata": {},
     "output_type": "execute_result"
    }
   ],
   "source": [
    "l1=[1,2,3,'Apple',10,20,'Apple',40]\n",
    "l1.remove(3)\n",
    "l1"
   ]
  },
  {
   "cell_type": "code",
   "execution_count": 92,
   "id": "2fe45610-92f9-47c2-99de-04bdd32a7f3d",
   "metadata": {},
   "outputs": [
    {
     "ename": "TypeError",
     "evalue": "list.remove() takes exactly one argument (2 given)",
     "output_type": "error",
     "traceback": [
      "\u001b[1;31m---------------------------------------------------------------------------\u001b[0m",
      "\u001b[1;31mTypeError\u001b[0m                                 Traceback (most recent call last)",
      "Cell \u001b[1;32mIn[92], line 2\u001b[0m\n\u001b[0;32m      1\u001b[0m l1\u001b[38;5;241m=\u001b[39m[\u001b[38;5;241m1\u001b[39m,\u001b[38;5;241m2\u001b[39m,\u001b[38;5;241m3\u001b[39m,\u001b[38;5;124m'\u001b[39m\u001b[38;5;124mApple\u001b[39m\u001b[38;5;124m'\u001b[39m,\u001b[38;5;241m10\u001b[39m,\u001b[38;5;241m20\u001b[39m,\u001b[38;5;124m'\u001b[39m\u001b[38;5;124mApple\u001b[39m\u001b[38;5;124m'\u001b[39m,\u001b[38;5;241m40\u001b[39m]\n\u001b[1;32m----> 2\u001b[0m l1\u001b[38;5;241m.\u001b[39mremove(\u001b[38;5;124m'\u001b[39m\u001b[38;5;124mApple\u001b[39m\u001b[38;5;124m'\u001b[39m,\u001b[38;5;241m2\u001b[39m)\n\u001b[0;32m      3\u001b[0m l1\n",
      "\u001b[1;31mTypeError\u001b[0m: list.remove() takes exactly one argument (2 given)"
     ]
    }
   ],
   "source": [
    "l1=[1,2,3,'Apple',10,20,'Apple',40]\n",
    "l1.remove('Apple')\n",
    "l1"
   ]
  },
  {
   "cell_type": "code",
   "execution_count": 93,
   "id": "0b639438-0dc5-475a-9522-58f118797960",
   "metadata": {},
   "outputs": [
    {
     "data": {
      "text/plain": [
       "[40, 'Apple', 20, 10, 'Apple', 3, 2, 1]"
      ]
     },
     "execution_count": 93,
     "metadata": {},
     "output_type": "execute_result"
    }
   ],
   "source": [
    "l1=[1,2,3,'Apple',10,20,'Apple',40]\n",
    "l1.reverse()\n",
    "l1"
   ]
  },
  {
   "cell_type": "code",
   "execution_count": 109,
   "id": "460b5816-6c35-40c2-ab90-d27e85ef4bf3",
   "metadata": {},
   "outputs": [
    {
     "data": {
      "text/plain": [
       "[40, 'Apple', 20, 10, 'Apple', 3, 2, 1]"
      ]
     },
     "execution_count": 109,
     "metadata": {},
     "output_type": "execute_result"
    }
   ],
   "source": [
    "l1=[1,2,3,'Apple',10,20,'Apple',40]\n",
    "l1.reverse()\n",
    "l1"
   ]
  },
  {
   "cell_type": "code",
   "execution_count": 112,
   "id": "5a77a674-9c61-4ee6-9db3-75866aea96b3",
   "metadata": {},
   "outputs": [
    {
     "data": {
      "text/plain": [
       "[1, 2, 3, 'Apple', 10, 20, 'Apple', 40]"
      ]
     },
     "execution_count": 112,
     "metadata": {},
     "output_type": "execute_result"
    }
   ],
   "source": [
    "l1=[1,2,3,'Apple',10,20,'Apple',40]\n",
    "reversed(l1)\n",
    "l1"
   ]
  },
  {
   "cell_type": "code",
   "execution_count": 108,
   "id": "bd9705a5-8970-4f36-9ac9-b29fb3b8e156",
   "metadata": {},
   "outputs": [
    {
     "name": "stdout",
     "output_type": "stream",
     "text": [
      "40 Apple 20 10 Apple 3 2 1 "
     ]
    }
   ],
   "source": [
    "l1=[1,2,3,'Apple',10,20,'Apple',40]\n",
    "output=reversed(l1)\n",
    "for i in output:\n",
    "    print(i,end=' ')"
   ]
  },
  {
   "cell_type": "code",
   "execution_count": 114,
   "id": "8c0770db-618f-4ecd-a807-51d959867717",
   "metadata": {},
   "outputs": [
    {
     "data": {
      "text/plain": [
       "<list_reverseiterator at 0x1dc09c85690>"
      ]
     },
     "execution_count": 114,
     "metadata": {},
     "output_type": "execute_result"
    }
   ],
   "source": [
    "reversed(l1)"
   ]
  },
  {
   "cell_type": "code",
   "execution_count": 131,
   "id": "1c599b08-6947-45ec-a0f3-12fe8a488c3b",
   "metadata": {},
   "outputs": [
    {
     "ename": "TypeError",
     "evalue": "sort() takes no positional arguments",
     "output_type": "error",
     "traceback": [
      "\u001b[1;31m---------------------------------------------------------------------------\u001b[0m",
      "\u001b[1;31mTypeError\u001b[0m                                 Traceback (most recent call last)",
      "Cell \u001b[1;32mIn[131], line 2\u001b[0m\n\u001b[0;32m      1\u001b[0m l1\u001b[38;5;241m=\u001b[39m[\u001b[38;5;241m1\u001b[39m,\u001b[38;5;241m2\u001b[39m,\u001b[38;5;241m3\u001b[39m,\u001b[38;5;124m'\u001b[39m\u001b[38;5;124mApple\u001b[39m\u001b[38;5;124m'\u001b[39m,\u001b[38;5;241m10\u001b[39m,\u001b[38;5;241m20\u001b[39m,\u001b[38;5;124m'\u001b[39m\u001b[38;5;124mApple\u001b[39m\u001b[38;5;124m'\u001b[39m,\u001b[38;5;241m40\u001b[39m]\n\u001b[1;32m----> 2\u001b[0m l1\u001b[38;5;241m.\u001b[39msort(l1, \u001b[38;5;28mreversed\u001b[39m\u001b[38;5;241m=\u001b[39m\u001b[38;5;28;01mFalse\u001b[39;00m)\n\u001b[0;32m      3\u001b[0m l1\n",
      "\u001b[1;31mTypeError\u001b[0m: sort() takes no positional arguments"
     ]
    }
   ],
   "source": [
    "l1=[1,2,3,'Apple',10,20,'Apple',40]\n",
    "l1.sort(l1, reversed=False)\n",
    "l1"
   ]
  },
  {
   "cell_type": "code",
   "execution_count": 120,
   "id": "6862e244-e823-4861-8fe8-d49f5f2c74fd",
   "metadata": {},
   "outputs": [
    {
     "ename": "NameError",
     "evalue": "name 'sort' is not defined",
     "output_type": "error",
     "traceback": [
      "\u001b[1;31m---------------------------------------------------------------------------\u001b[0m",
      "\u001b[1;31mNameError\u001b[0m                                 Traceback (most recent call last)",
      "Cell \u001b[1;32mIn[120], line 1\u001b[0m\n\u001b[1;32m----> 1\u001b[0m sort(\u001b[38;5;124m'\u001b[39m\u001b[38;5;124mpython\u001b[39m\u001b[38;5;124m'\u001b[39m)\n",
      "\u001b[1;31mNameError\u001b[0m: name 'sort' is not defined"
     ]
    }
   ],
   "source": [
    "sort('python')"
   ]
  },
  {
   "cell_type": "code",
   "execution_count": 134,
   "id": "93b6fb6a-42e3-4015-ae8c-a6f64fda57d6",
   "metadata": {},
   "outputs": [
    {
     "data": {
      "text/plain": [
       "['Hyd', 'Mum', 'Blr', 'Chn', 'Ndls']"
      ]
     },
     "execution_count": 134,
     "metadata": {},
     "output_type": "execute_result"
    }
   ],
   "source": [
    "l1=['Hyd','Mum','Blr','Chn','Ndls']\n",
    "l2=l1.copy()\n",
    "l2"
   ]
  },
  {
   "cell_type": "code",
   "execution_count": 135,
   "id": "38cb9296-e230-4a14-82ac-6b8f443ce224",
   "metadata": {},
   "outputs": [
    {
     "data": {
      "text/plain": [
       "(['Hyd', 'Mum', 'Blr', 'Chn', 'Ndls'], ['Hyd', 'Mum', 'Blr', 'Chn', 'Ndls'])"
      ]
     },
     "execution_count": 135,
     "metadata": {},
     "output_type": "execute_result"
    }
   ],
   "source": [
    "l1,l2"
   ]
  },
  {
   "cell_type": "code",
   "execution_count": 142,
   "id": "bfacdc9d-9bb5-471f-9e2d-d2cb11f7641b",
   "metadata": {},
   "outputs": [
    {
     "data": {
      "text/plain": [
       "['Hyd', 'Mum', 'Blr', 'Chn', 'Ndls']"
      ]
     },
     "execution_count": 142,
     "metadata": {},
     "output_type": "execute_result"
    }
   ],
   "source": [
    "l1=['Hyd','Mum','Blr','Chn','Ndls']\n",
    "l2=l1.copy()\n",
    "l2"
   ]
  },
  {
   "cell_type": "code",
   "execution_count": 143,
   "id": "13d95bb6-df22-4499-9d8f-00d62ce0fbf1",
   "metadata": {},
   "outputs": [
    {
     "data": {
      "text/plain": [
       "(['Hyd', 'Mum', 'Blr', 'Chn', 'Ndls'], ['Hyd', 'Mum', 'Blr', 'Chn', 'Ndls'])"
      ]
     },
     "execution_count": 143,
     "metadata": {},
     "output_type": "execute_result"
    }
   ],
   "source": [
    "l1,l2"
   ]
  },
  {
   "cell_type": "code",
   "execution_count": 144,
   "id": "39d37e15-9b6b-48fd-bbd2-ea341ed1b8b5",
   "metadata": {},
   "outputs": [
    {
     "data": {
      "text/plain": [
       "[]"
      ]
     },
     "execution_count": 144,
     "metadata": {},
     "output_type": "execute_result"
    }
   ],
   "source": [
    "l1.clear()\n",
    "l1"
   ]
  },
  {
   "cell_type": "code",
   "execution_count": 145,
   "id": "65d9c00c-54fa-4253-a188-27162cc8fad1",
   "metadata": {},
   "outputs": [
    {
     "data": {
      "text/plain": [
       "['Hyd', 'Mum', 'Blr', 'Chn', 'Ndls']"
      ]
     },
     "execution_count": 145,
     "metadata": {},
     "output_type": "execute_result"
    }
   ],
   "source": [
    "l2"
   ]
  },
  {
   "cell_type": "code",
   "execution_count": 157,
   "id": "894fa230-dcd2-498d-9f38-c69db6b9518d",
   "metadata": {},
   "outputs": [
    {
     "data": {
      "text/plain": [
       "[1,\n",
       " 2,\n",
       " 3,\n",
       " 'Apple',\n",
       " 10,\n",
       " 20,\n",
       " 'Apple',\n",
       " 40,\n",
       " 2,\n",
       " 20,\n",
       " 2,\n",
       " 30,\n",
       " 3,\n",
       " 3,\n",
       " 2,\n",
       " 3,\n",
       " 30,\n",
       " 20,\n",
       " 10,\n",
       " 20,\n",
       " 10,\n",
       " 2,\n",
       " 'Apple',\n",
       " 40,\n",
       " 'Apple',\n",
       " 40]"
      ]
     },
     "execution_count": 157,
     "metadata": {},
     "output_type": "execute_result"
    }
   ],
   "source": [
    "l1=[1,2,3,'Apple',10,20,'Apple',40,2,20,2,30,3,3,2,3,30,20,10,20,10,2,'Apple',40,'Apple',40]\n",
    "l1.count('Apple')\n",
    "l1"
   ]
  },
  {
   "cell_type": "code",
   "execution_count": 167,
   "id": "e4d46cdd-b5ce-401f-adee-31407c020bc9",
   "metadata": {},
   "outputs": [
    {
     "name": "stdout",
     "output_type": "stream",
     "text": [
      "1\n",
      "5\n",
      "4\n",
      "4\n",
      "3\n",
      "4\n",
      "2\n",
      "3\n"
     ]
    }
   ],
   "source": [
    "l1=[1,2,3,'Apple',10,20,'Apple',40,2,20,2,30,3,3,2,3,30,20,10,20,10,2,'Apple',40,'Apple',40]\n",
    "l2=l1.count(1)\n",
    "print(l2)\n",
    "l3=l1.count(2)\n",
    "print(l3)\n",
    "l4=l1.count(3)\n",
    "print(l4)\n",
    "l5=l1.count('Apple')\n",
    "print(l5)\n",
    "l6=l1.count(10)\n",
    "print(l6)\n",
    "l7=l1.count(20)\n",
    "print(l7)\n",
    "l8=l1.count(30)\n",
    "print(l8)\n",
    "l9=l1.count(40)\n",
    "print(l9)"
   ]
  },
  {
   "cell_type": "code",
   "execution_count": 173,
   "id": "7d069119-e88e-4d8a-969e-53a1cf42ce61",
   "metadata": {},
   "outputs": [
    {
     "data": {
      "text/plain": [
       "3"
      ]
     },
     "execution_count": 173,
     "metadata": {},
     "output_type": "execute_result"
    }
   ],
   "source": [
    "l1=[1,2,3,'Apple',10,20,'Apple',40,2,20,2,30,3,3,2,3,30,20,10,20,10,2,'Apple',40,'Apple',40]\n",
    "l2=l1.count(1)\n",
    "l2\n",
    "l3=l1.count(2)\n",
    "l4=l1.count(3)\n",
    "l5=l1.count('Apple')\n",
    "l6=l1.count(10)\n",
    "l7=l1.count(20)\n",
    "l8=l1.count(30)\n",
    "l9=l1.count(40)\n",
    "l9"
   ]
  },
  {
   "cell_type": "code",
   "execution_count": 177,
   "id": "3627877b-3bf2-4afa-8a35-cca7f658c6df",
   "metadata": {},
   "outputs": [
    {
     "name": "stdin",
     "output_type": "stream",
     "text": [
      "What is capital of India Delhi\n",
      "Who is PM of india Modi\n",
      "Who is ICT ODI captian Rohit\n"
     ]
    }
   ],
   "source": [
    "# 10 )\n",
    "#  You have two lists\n",
    "# qns=['What is capital of India',\n",
    " #      'Who is PM of india',\n",
    " #       'Who is ICT ODI captian']\n",
    "# ans = ['Delhi','Modi','Rohit']\n",
    "\n",
    "# For i in qns:\n",
    "#     print(i)\n",
    "#     ans= delhi\n",
    "#      index should match\n",
    "#      delhi  modi\n",
    "#      marks= marks+1\n",
    "# print the total marks\n",
    "\n",
    "qns=['What is capital of India',\n",
    "      'Who is PM of india',\n",
    "       'Who is ICT ODI captian']\n",
    "ans = ['Delhi','Modi','Rohit']\n",
    "for i in qns:\n",
    "    ans=input(i)"
   ]
  },
  {
   "cell_type": "code",
   "execution_count": 179,
   "id": "5a056238-67fd-4b7f-b782-3df97ffdf972",
   "metadata": {},
   "outputs": [
    {
     "name": "stdin",
     "output_type": "stream",
     "text": [
      "What is capital of India Delhi\n",
      "Who is PM of india Modi\n",
      "Who is ICT ODI captian Rohit\n"
     ]
    }
   ],
   "source": [
    "qns=['What is capital of India',\n",
    "      'Who is PM of india',\n",
    "       'Who is ICT ODI captian']\n",
    "ans = ['Delhi','Modi','Rohit']\n",
    "for i in qns:\n",
    "    ans=input(i)"
   ]
  },
  {
   "cell_type": "code",
   "execution_count": 182,
   "id": "0bb58605-f7d3-4c95-a68f-1991ab8b491b",
   "metadata": {},
   "outputs": [
    {
     "name": "stdin",
     "output_type": "stream",
     "text": [
      "What is capital of India: Delhi\n",
      "Who is PM of india: modi\n",
      "Who is ICT ODI captian: Rohit\n"
     ]
    },
    {
     "name": "stdout",
     "output_type": "stream",
     "text": [
      "The Total Marks are: 2\n"
     ]
    }
   ],
   "source": [
    "qns_list=['What is capital of India:',\n",
    "      'Who is PM of india:',\n",
    "       'Who is ICT ODI captian:']\n",
    "ans_list= ['Delhi','Modi','Rohit']\n",
    "marks=0\n",
    "\n",
    "for i in range(len(qns_list)):\n",
    "    ans=input(qns_list[i])\n",
    "    if ans==ans_list[i]:\n",
    "        marks=marks+1\n",
    "\n",
    "print(\"The Total Marks are:\",marks)"
   ]
  },
  {
   "cell_type": "code",
   "execution_count": 183,
   "id": "7b326384-5291-458e-a48b-7163d95cdfec",
   "metadata": {},
   "outputs": [
    {
     "name": "stdin",
     "output_type": "stream",
     "text": [
      "What is capital of India: Delhi\n",
      "Who is PM of india: modi\n",
      "Who is ICT ODI captian: Rohit\n"
     ]
    },
    {
     "name": "stdout",
     "output_type": "stream",
     "text": [
      "The Total Marks are: 3\n"
     ]
    }
   ],
   "source": [
    "qns_list=['What is capital of India:',\n",
    "      'Who is PM of india:',\n",
    "       'Who is ICT ODI captian:']\n",
    "ans_list= ['Delhi','Modi','Rohit']\n",
    "marks=0\n",
    "\n",
    "for i in range(len(qns_list)):\n",
    "    ans=input(qns_list[i])\n",
    "    if ans.lower()==ans_list[i].lower():\n",
    "        marks=marks+1\n",
    "\n",
    "print(\"The Total Marks are:\",marks)"
   ]
  },
  {
   "cell_type": "code",
   "execution_count": 184,
   "id": "a1a0f6ce-ec3c-4629-b63c-50dfb5abf23e",
   "metadata": {},
   "outputs": [
    {
     "name": "stdin",
     "output_type": "stream",
     "text": [
      "What is capital of India: delhi\n",
      "Who is PM of india: Modi\n",
      "Who is ICT ODI captian: rohit\n"
     ]
    },
    {
     "name": "stdout",
     "output_type": "stream",
     "text": [
      "The Total Marks are: 3\n"
     ]
    }
   ],
   "source": [
    "qns_list=['What is capital of India:',\n",
    "      'Who is PM of india:',\n",
    "       'Who is ICT ODI captian:']\n",
    "ans_list=['Delhi','Modi','Rohit']\n",
    "marks=0\n",
    "\n",
    "for i in range(len(qns_list)):\n",
    "    ans=input(qns_list[i])\n",
    "    if ans.upper()==ans_list[i].upper():\n",
    "        marks=marks+1\n",
    "\n",
    "print(\"The Total Marks are:\",marks)"
   ]
  },
  {
   "cell_type": "code",
   "execution_count": 186,
   "id": "c27a1dbf-8952-4ec9-90bf-97889905217f",
   "metadata": {},
   "outputs": [
    {
     "ename": "AttributeError",
     "evalue": "'list' object has no attribute 'upper'",
     "output_type": "error",
     "traceback": [
      "\u001b[1;31m---------------------------------------------------------------------------\u001b[0m",
      "\u001b[1;31mAttributeError\u001b[0m                            Traceback (most recent call last)",
      "Cell \u001b[1;32mIn[186], line 2\u001b[0m\n\u001b[0;32m      1\u001b[0m ans\u001b[38;5;241m=\u001b[39m[\u001b[38;5;124m'\u001b[39m\u001b[38;5;124mdelhi\u001b[39m\u001b[38;5;124m'\u001b[39m,\u001b[38;5;124m'\u001b[39m\u001b[38;5;124mmodi\u001b[39m\u001b[38;5;124m'\u001b[39m,\u001b[38;5;124m'\u001b[39m\u001b[38;5;124mrohit\u001b[39m\u001b[38;5;124m'\u001b[39m]\n\u001b[1;32m----> 2\u001b[0m ans\u001b[38;5;241m.\u001b[39mupper()\n",
      "\u001b[1;31mAttributeError\u001b[0m: 'list' object has no attribute 'upper'"
     ]
    }
   ],
   "source": [
    "ans=['delhi','modi','rohit']\n",
    "ans.upper()"
   ]
  },
  {
   "cell_type": "code",
   "execution_count": 188,
   "id": "40be20dc-bc4f-47ff-8549-a74e782c1686",
   "metadata": {},
   "outputs": [
    {
     "name": "stdin",
     "output_type": "stream",
     "text": [
      "What is capital of India: DELHI\n",
      "Who is PM of india: MODI\n",
      "Who is ICT ODI captian: ROHIT\n"
     ]
    },
    {
     "name": "stdout",
     "output_type": "stream",
     "text": [
      "The Total Marks are: 3\n"
     ]
    }
   ],
   "source": [
    "qns_list=['What is capital of India:',\n",
    "      'Who is PM of india:',\n",
    "       'Who is ICT ODI captian:']\n",
    "ans_list=['Delhi','Modi','Rohit']\n",
    "marks=0\n",
    "\n",
    "for i in range(len(qns_list)):\n",
    "    ans=input(qns_list[i])\n",
    "    if ans.capitalize()==ans_list[i].capitalize():\n",
    "        marks=marks+1\n",
    "\n",
    "print(\"The Total Marks are:\",marks)"
   ]
  },
  {
   "cell_type": "code",
   "execution_count": 191,
   "id": "325bb254-ddea-4e0c-a264-0dfe37928a96",
   "metadata": {},
   "outputs": [
    {
     "name": "stdout",
     "output_type": "stream",
     "text": [
      "Help on built-in function dir in module builtins:\n",
      "\n",
      "dir(...)\n",
      "    dir([object]) -> list of strings\n",
      "    \n",
      "    If called without an argument, return the names in the current scope.\n",
      "    Else, return an alphabetized list of names comprising (some of) the attributes\n",
      "    of the given object, and of attributes reachable from it.\n",
      "    If the object supplies a method named __dir__, it will be used; otherwise\n",
      "    the default dir() logic is used and returns:\n",
      "      for a module object: the module's attributes.\n",
      "      for a class object:  its attributes, and recursively the attributes\n",
      "        of its bases.\n",
      "      for any other object: its attributes, its class's attributes, and\n",
      "        recursively the attributes of its class's base classes.\n",
      "\n"
     ]
    }
   ],
   "source": [
    "help(dir)"
   ]
  },
  {
   "cell_type": "code",
   "execution_count": 193,
   "id": "b8acdaeb-dd01-4c8e-8953-d8a0d0f42c8b",
   "metadata": {
    "scrolled": true
   },
   "outputs": [
    {
     "data": {
      "text/plain": [
       "['__add__',\n",
       " '__class__',\n",
       " '__class_getitem__',\n",
       " '__contains__',\n",
       " '__delattr__',\n",
       " '__delitem__',\n",
       " '__dir__',\n",
       " '__doc__',\n",
       " '__eq__',\n",
       " '__format__',\n",
       " '__ge__',\n",
       " '__getattribute__',\n",
       " '__getitem__',\n",
       " '__getstate__',\n",
       " '__gt__',\n",
       " '__hash__',\n",
       " '__iadd__',\n",
       " '__imul__',\n",
       " '__init__',\n",
       " '__init_subclass__',\n",
       " '__iter__',\n",
       " '__le__',\n",
       " '__len__',\n",
       " '__lt__',\n",
       " '__mul__',\n",
       " '__ne__',\n",
       " '__new__',\n",
       " '__reduce__',\n",
       " '__reduce_ex__',\n",
       " '__repr__',\n",
       " '__reversed__',\n",
       " '__rmul__',\n",
       " '__setattr__',\n",
       " '__setitem__',\n",
       " '__sizeof__',\n",
       " '__str__',\n",
       " '__subclasshook__',\n",
       " 'append',\n",
       " 'clear',\n",
       " 'copy',\n",
       " 'count',\n",
       " 'extend',\n",
       " 'index',\n",
       " 'insert',\n",
       " 'pop',\n",
       " 'remove',\n",
       " 'reverse',\n",
       " 'sort']"
      ]
     },
     "execution_count": 193,
     "metadata": {},
     "output_type": "execute_result"
    }
   ],
   "source": [
    "dir([])"
   ]
  },
  {
   "cell_type": "code",
   "execution_count": 194,
   "id": "a4f8cdb7-c509-40cf-9b09-a9818a1d5ca5",
   "metadata": {
    "scrolled": true
   },
   "outputs": [
    {
     "data": {
      "text/plain": [
       "['__add__',\n",
       " '__class__',\n",
       " '__class_getitem__',\n",
       " '__contains__',\n",
       " '__delattr__',\n",
       " '__delitem__',\n",
       " '__dir__',\n",
       " '__doc__',\n",
       " '__eq__',\n",
       " '__format__',\n",
       " '__ge__',\n",
       " '__getattribute__',\n",
       " '__getitem__',\n",
       " '__getstate__',\n",
       " '__gt__',\n",
       " '__hash__',\n",
       " '__iadd__',\n",
       " '__imul__',\n",
       " '__init__',\n",
       " '__init_subclass__',\n",
       " '__iter__',\n",
       " '__le__',\n",
       " '__len__',\n",
       " '__lt__',\n",
       " '__mul__',\n",
       " '__ne__',\n",
       " '__new__',\n",
       " '__reduce__',\n",
       " '__reduce_ex__',\n",
       " '__repr__',\n",
       " '__reversed__',\n",
       " '__rmul__',\n",
       " '__setattr__',\n",
       " '__setitem__',\n",
       " '__sizeof__',\n",
       " '__str__',\n",
       " '__subclasshook__',\n",
       " 'append',\n",
       " 'clear',\n",
       " 'copy',\n",
       " 'count',\n",
       " 'extend',\n",
       " 'index',\n",
       " 'insert',\n",
       " 'pop',\n",
       " 'remove',\n",
       " 'reverse',\n",
       " 'sort']"
      ]
     },
     "execution_count": 194,
     "metadata": {},
     "output_type": "execute_result"
    }
   ],
   "source": [
    "dir(list)"
   ]
  },
  {
   "cell_type": "code",
   "execution_count": 195,
   "id": "82aabf63-cdbb-4695-887d-68173871e907",
   "metadata": {
    "scrolled": true
   },
   "outputs": [
    {
     "data": {
      "text/plain": [
       "['In',\n",
       " 'Out',\n",
       " '_',\n",
       " '_103',\n",
       " '_109',\n",
       " '_112',\n",
       " '_114',\n",
       " '_116',\n",
       " '_134',\n",
       " '_135',\n",
       " '_138',\n",
       " '_142',\n",
       " '_143',\n",
       " '_144',\n",
       " '_145',\n",
       " '_146',\n",
       " '_149',\n",
       " '_15',\n",
       " '_150',\n",
       " '_151',\n",
       " '_152',\n",
       " '_153',\n",
       " '_154',\n",
       " '_156',\n",
       " '_157',\n",
       " '_158',\n",
       " '_159',\n",
       " '_16',\n",
       " '_165',\n",
       " '_166',\n",
       " '_173',\n",
       " '_174',\n",
       " '_189',\n",
       " '_190',\n",
       " '_193',\n",
       " '_194',\n",
       " '_23',\n",
       " '_26',\n",
       " '_30',\n",
       " '_34',\n",
       " '_36',\n",
       " '_38',\n",
       " '_39',\n",
       " '_48',\n",
       " '_50',\n",
       " '_51',\n",
       " '_56',\n",
       " '_57',\n",
       " '_58',\n",
       " '_75',\n",
       " '_76',\n",
       " '_77',\n",
       " '_78',\n",
       " '_79',\n",
       " '_80',\n",
       " '_81',\n",
       " '_82',\n",
       " '_83',\n",
       " '_84',\n",
       " '_87',\n",
       " '_89',\n",
       " '_91',\n",
       " '_93',\n",
       " '_96',\n",
       " '__',\n",
       " '___',\n",
       " '__builtin__',\n",
       " '__builtins__',\n",
       " '__doc__',\n",
       " '__loader__',\n",
       " '__name__',\n",
       " '__package__',\n",
       " '__session__',\n",
       " '__spec__',\n",
       " '_dh',\n",
       " '_i',\n",
       " '_i1',\n",
       " '_i10',\n",
       " '_i100',\n",
       " '_i101',\n",
       " '_i102',\n",
       " '_i103',\n",
       " '_i104',\n",
       " '_i105',\n",
       " '_i106',\n",
       " '_i107',\n",
       " '_i108',\n",
       " '_i109',\n",
       " '_i110',\n",
       " '_i111',\n",
       " '_i112',\n",
       " '_i113',\n",
       " '_i114',\n",
       " '_i115',\n",
       " '_i116',\n",
       " '_i117',\n",
       " '_i118',\n",
       " '_i119',\n",
       " '_i12',\n",
       " '_i120',\n",
       " '_i121',\n",
       " '_i122',\n",
       " '_i123',\n",
       " '_i124',\n",
       " '_i125',\n",
       " '_i126',\n",
       " '_i127',\n",
       " '_i128',\n",
       " '_i129',\n",
       " '_i130',\n",
       " '_i131',\n",
       " '_i132',\n",
       " '_i133',\n",
       " '_i134',\n",
       " '_i135',\n",
       " '_i136',\n",
       " '_i137',\n",
       " '_i138',\n",
       " '_i139',\n",
       " '_i14',\n",
       " '_i140',\n",
       " '_i141',\n",
       " '_i142',\n",
       " '_i143',\n",
       " '_i144',\n",
       " '_i145',\n",
       " '_i146',\n",
       " '_i147',\n",
       " '_i148',\n",
       " '_i149',\n",
       " '_i15',\n",
       " '_i150',\n",
       " '_i151',\n",
       " '_i152',\n",
       " '_i153',\n",
       " '_i154',\n",
       " '_i155',\n",
       " '_i156',\n",
       " '_i157',\n",
       " '_i158',\n",
       " '_i159',\n",
       " '_i16',\n",
       " '_i160',\n",
       " '_i161',\n",
       " '_i162',\n",
       " '_i163',\n",
       " '_i164',\n",
       " '_i165',\n",
       " '_i166',\n",
       " '_i167',\n",
       " '_i168',\n",
       " '_i169',\n",
       " '_i17',\n",
       " '_i170',\n",
       " '_i171',\n",
       " '_i172',\n",
       " '_i173',\n",
       " '_i174',\n",
       " '_i175',\n",
       " '_i176',\n",
       " '_i177',\n",
       " '_i178',\n",
       " '_i179',\n",
       " '_i18',\n",
       " '_i180',\n",
       " '_i181',\n",
       " '_i182',\n",
       " '_i183',\n",
       " '_i184',\n",
       " '_i185',\n",
       " '_i186',\n",
       " '_i187',\n",
       " '_i188',\n",
       " '_i189',\n",
       " '_i19',\n",
       " '_i190',\n",
       " '_i191',\n",
       " '_i192',\n",
       " '_i193',\n",
       " '_i194',\n",
       " '_i195',\n",
       " '_i2',\n",
       " '_i20',\n",
       " '_i21',\n",
       " '_i22',\n",
       " '_i23',\n",
       " '_i24',\n",
       " '_i25',\n",
       " '_i26',\n",
       " '_i27',\n",
       " '_i28',\n",
       " '_i29',\n",
       " '_i3',\n",
       " '_i30',\n",
       " '_i31',\n",
       " '_i32',\n",
       " '_i33',\n",
       " '_i34',\n",
       " '_i35',\n",
       " '_i36',\n",
       " '_i37',\n",
       " '_i38',\n",
       " '_i39',\n",
       " '_i4',\n",
       " '_i40',\n",
       " '_i41',\n",
       " '_i42',\n",
       " '_i43',\n",
       " '_i44',\n",
       " '_i45',\n",
       " '_i46',\n",
       " '_i47',\n",
       " '_i48',\n",
       " '_i49',\n",
       " '_i5',\n",
       " '_i50',\n",
       " '_i51',\n",
       " '_i52',\n",
       " '_i53',\n",
       " '_i54',\n",
       " '_i55',\n",
       " '_i56',\n",
       " '_i57',\n",
       " '_i58',\n",
       " '_i59',\n",
       " '_i6',\n",
       " '_i60',\n",
       " '_i61',\n",
       " '_i62',\n",
       " '_i63',\n",
       " '_i64',\n",
       " '_i65',\n",
       " '_i66',\n",
       " '_i67',\n",
       " '_i68',\n",
       " '_i69',\n",
       " '_i70',\n",
       " '_i71',\n",
       " '_i72',\n",
       " '_i73',\n",
       " '_i74',\n",
       " '_i75',\n",
       " '_i76',\n",
       " '_i77',\n",
       " '_i78',\n",
       " '_i79',\n",
       " '_i8',\n",
       " '_i80',\n",
       " '_i81',\n",
       " '_i82',\n",
       " '_i83',\n",
       " '_i84',\n",
       " '_i85',\n",
       " '_i86',\n",
       " '_i87',\n",
       " '_i88',\n",
       " '_i89',\n",
       " '_i90',\n",
       " '_i91',\n",
       " '_i92',\n",
       " '_i93',\n",
       " '_i94',\n",
       " '_i95',\n",
       " '_i96',\n",
       " '_i97',\n",
       " '_i98',\n",
       " '_i99',\n",
       " '_ih',\n",
       " '_ii',\n",
       " '_iii',\n",
       " '_oh',\n",
       " 'ans',\n",
       " 'ans_list',\n",
       " 'exit',\n",
       " 'get_ipython',\n",
       " 'i',\n",
       " 'i1',\n",
       " 'i2',\n",
       " 'i3',\n",
       " 'id_list',\n",
       " 'l1',\n",
       " 'l2',\n",
       " 'l3',\n",
       " 'l4',\n",
       " 'l5',\n",
       " 'l6',\n",
       " 'l7',\n",
       " 'l8',\n",
       " 'l9',\n",
       " 'marks',\n",
       " 'open',\n",
       " 'output',\n",
       " 'qns',\n",
       " 'qns_list',\n",
       " 'quit',\n",
       " 'square_list',\n",
       " 'str1',\n",
       " 'str2']"
      ]
     },
     "execution_count": 195,
     "metadata": {},
     "output_type": "execute_result"
    }
   ],
   "source": [
    "dir()"
   ]
  },
  {
   "cell_type": "markdown",
   "id": "9760525c-d143-4f06-af83-53f269c5d659",
   "metadata": {},
   "source": [
    "**insert**"
   ]
  },
  {
   "cell_type": "code",
   "execution_count": null,
   "id": "d4bc772e-5757-440a-9ed3-0df0213d4cb8",
   "metadata": {},
   "outputs": [],
   "source": [
    "- will insert the element based on index\n",
    "- append will add the element at last only"
   ]
  },
  {
   "cell_type": "code",
   "execution_count": 3,
   "id": "9d2b923c-ba0b-4abd-9798-fdb84482de92",
   "metadata": {},
   "outputs": [
    {
     "data": {
      "text/plain": [
       "[1, 2, 3, 'Banana', 'Apple', 10, 20, 'Apple', 40]"
      ]
     },
     "execution_count": 3,
     "metadata": {},
     "output_type": "execute_result"
    }
   ],
   "source": [
    "l1=[1,2,3,'Apple',10,20,'Apple',40]\n",
    "l1.insert(3,'Banana')\n",
    "l1"
   ]
  },
  {
   "cell_type": "code",
   "execution_count": 4,
   "id": "8a3904e2-88ac-4764-9c72-52edfc3b6654",
   "metadata": {},
   "outputs": [
    {
     "data": {
      "text/plain": [
       "[1, 2, 3, 'Banana', 'Apple', 10, 20, 'Apple', 40]"
      ]
     },
     "execution_count": 4,
     "metadata": {},
     "output_type": "execute_result"
    }
   ],
   "source": [
    "l1=[1,2,3,'Apple',10,20,'Apple',40]\n",
    "i1=l1.index('Apple')\n",
    "l1.insert(i1,'Banana')\n",
    "l1"
   ]
  },
  {
   "cell_type": "code",
   "execution_count": 5,
   "id": "72858acd-1a33-4add-97ba-f0df6f2dc31d",
   "metadata": {},
   "outputs": [
    {
     "data": {
      "text/plain": [
       "[1, 2, 3, 'Apple', 10, 20, 'Apple', 'Cherry', 40]"
      ]
     },
     "execution_count": 5,
     "metadata": {},
     "output_type": "execute_result"
    }
   ],
   "source": [
    "l1=[1,2,3,'Apple',10,20,'Apple',40]\n",
    "i1=l1.index(40)\n",
    "l1.insert(i1,'Cherry')\n",
    "l1"
   ]
  },
  {
   "cell_type": "code",
   "execution_count": 6,
   "id": "af46403f-bf3a-4f23-b302-d1c37dac0648",
   "metadata": {},
   "outputs": [
    {
     "data": {
      "text/plain": [
       "[1, 2, 3, 'Apple', 10, 20, 'Apple', 'Cherry', 40]"
      ]
     },
     "execution_count": 6,
     "metadata": {},
     "output_type": "execute_result"
    }
   ],
   "source": [
    "l1=[1,2,3,'Apple',10,20,'Apple',40]\n",
    "# insert 'cherry' before 40\n",
    "# you need to find index of the 40\n",
    "i1=l1.index(40)\n",
    "l1.insert(i1,'Cherry')\n",
    "l1"
   ]
  },
  {
   "cell_type": "code",
   "execution_count": 11,
   "id": "ba6ac6aa-5fc9-4711-880c-9aae925a45a2",
   "metadata": {},
   "outputs": [
    {
     "data": {
      "text/plain": [
       "[1, 2, 3, 'Apple', 10, 20, 'Cherry', 'Apple', 40]"
      ]
     },
     "execution_count": 11,
     "metadata": {},
     "output_type": "execute_result"
    }
   ],
   "source": [
    "l1=[1,2,3,'Apple',10,20,'Apple',40]\n",
    "# if we want to add cherry before 2nd apple then how\n",
    "# step-1 we want to find the index of 2nd 'Apple'\n",
    "# step-2 how to find the second apple index\n",
    "i1=l1.index('Apple')\n",
    "i2=l1.index('Apple',i1+1)\n",
    "l1.insert(i2,'Cherry')\n",
    "l1"
   ]
  },
  {
   "cell_type": "markdown",
   "id": "0d67ca2b-cac6-4a64-9e50-2c5a9ffc1701",
   "metadata": {},
   "source": [
    "**pop-remove-del**"
   ]
  },
  {
   "cell_type": "code",
   "execution_count": null,
   "id": "ed387740-7b73-4635-99ae-dafcc388bd02",
   "metadata": {},
   "outputs": [],
   "source": [
    "- pop will remove the item\n",
    "- pop also display the item which is removing\n",
    "- pop will take one argument:index\n",
    "- pop will remove the item based on index\n",
    "- if you dont provide any index, by default it will remove last value\n",
    "- because the default index value is -1"
   ]
  },
  {
   "cell_type": "code",
   "execution_count": 12,
   "id": "13ff56f5-0fee-4fdc-88f3-5740d24b393b",
   "metadata": {},
   "outputs": [
    {
     "data": {
      "text/plain": [
       "40"
      ]
     },
     "execution_count": 12,
     "metadata": {},
     "output_type": "execute_result"
    }
   ],
   "source": [
    "l1=[1,2,3,'Apple',10,20,'Apple',40]\n",
    "l1.pop()"
   ]
  },
  {
   "cell_type": "code",
   "execution_count": 17,
   "id": "c4731eb0-3c56-4852-a451-062969e796d1",
   "metadata": {},
   "outputs": [
    {
     "data": {
      "text/plain": [
       "[1, 2, 3, 10, 20, 'Apple', 40]"
      ]
     },
     "execution_count": 17,
     "metadata": {},
     "output_type": "execute_result"
    }
   ],
   "source": [
    "l1=[1,2,3,'Apple',10,20,'Apple',40]\n",
    "i1=l1.index('Apple')\n",
    "l1.pop(i1)\n",
    "l1"
   ]
  },
  {
   "cell_type": "code",
   "execution_count": 24,
   "id": "33b5c172-c773-47d1-9fea-e53dee4778a0",
   "metadata": {},
   "outputs": [
    {
     "data": {
      "text/plain": [
       "[1, 2, 3, 'Apple', 10, 20, 40]"
      ]
     },
     "execution_count": 24,
     "metadata": {},
     "output_type": "execute_result"
    }
   ],
   "source": [
    "# we are concentrating only on second apple\n",
    "l1=[1,2,3,'Apple',10,20,'Apple',40]\n",
    "i1=l1.index('Apple')\n",
    "i2=l1.index('Apple',i1+1)\n",
    "l1.pop(i2)\n",
    "l1"
   ]
  },
  {
   "cell_type": "code",
   "execution_count": 22,
   "id": "90a51a55-9fd9-4263-b8ba-119df3fc63ba",
   "metadata": {},
   "outputs": [
    {
     "data": {
      "text/plain": [
       "[1, 2, 3, 10, 20, 40]"
      ]
     },
     "execution_count": 22,
     "metadata": {},
     "output_type": "execute_result"
    }
   ],
   "source": [
    "l1=[1,2,3,'Apple',10,20,'Apple',40]\n",
    "i1=l1.index('Apple')\n",
    "l1.pop(i1)   #  l1= [1,2,3,10,20,'Apple',40]\n",
    "i1=l1.index('Apple')\n",
    "l1.pop(i1)\n",
    "l1"
   ]
  },
  {
   "cell_type": "code",
   "execution_count": 29,
   "id": "f8e4d1e2-b2e8-45e5-9703-4141476e6513",
   "metadata": {},
   "outputs": [
    {
     "data": {
      "text/plain": [
       "[1, 2, 3, 10, 20, 40]"
      ]
     },
     "execution_count": 29,
     "metadata": {},
     "output_type": "execute_result"
    }
   ],
   "source": [
    "l1=[1,2,3,'Apple',10,20,'Apple',40]\n",
    "for i in range(2):\n",
    "    i1=l1.index('Apple')\n",
    "    l1.pop(i1)\n",
    "\n",
    "l1"
   ]
  },
  {
   "cell_type": "code",
   "execution_count": 23,
   "id": "dccfd9d9-4377-4fd3-8fc0-c76c8368ea0e",
   "metadata": {},
   "outputs": [],
   "source": [
    "str='hai apple how are you apple i m good apple thank you apple'\n",
    "# o/p= hai how are you i m good thank you\n",
    "# idea: \n",
    "# step-1 split\n",
    "# iterate it\n",
    "# pop it\n",
    "# join it"
   ]
  },
  {
   "cell_type": "code",
   "execution_count": 38,
   "id": "aa7f6d49-9a71-4cfc-a923-a9a059e7b86d",
   "metadata": {},
   "outputs": [
    {
     "data": {
      "text/plain": [
       "'hai how are you im good thank you'"
      ]
     },
     "execution_count": 38,
     "metadata": {},
     "output_type": "execute_result"
    }
   ],
   "source": [
    "str='hai apple how are you apple im good apple thank you apple'\n",
    "list1=str.split()\n",
    "count=list1.count('apple')\n",
    "for i in range(count):\n",
    "    i1=list1.index('apple')\n",
    "    list1.pop(i1)\n",
    "' '.join(list1)"
   ]
  },
  {
   "cell_type": "markdown",
   "id": "984c942e-a704-4b0b-8f15-7b95fe40bab2",
   "metadata": {},
   "source": [
    "**remove**"
   ]
  },
  {
   "cell_type": "code",
   "execution_count": null,
   "id": "8da49c8d-285c-49d7-9ff8-43b6fef9e2b1",
   "metadata": {},
   "outputs": [],
   "source": [
    "-pop will take the index\n",
    "-remove will take the value\n",
    "-remove will delete the first occurance "
   ]
  },
  {
   "cell_type": "code",
   "execution_count": 40,
   "id": "4897c6ce-8754-48c0-9d28-e8b2bcb4fd0e",
   "metadata": {},
   "outputs": [
    {
     "data": {
      "text/plain": [
       "[1, 2, 3, 10, 20, 'Apple', 40]"
      ]
     },
     "execution_count": 40,
     "metadata": {},
     "output_type": "execute_result"
    }
   ],
   "source": [
    "l1=[1,2,3,'Apple',10,20,'Apple',40]\n",
    "l1.remove('Apple')\n",
    "l1"
   ]
  },
  {
   "cell_type": "code",
   "execution_count": 45,
   "id": "e1800854-f5ba-4b1c-b054-d4070792b6e9",
   "metadata": {},
   "outputs": [
    {
     "data": {
      "text/plain": [
       "'hai how are you im good thank you'"
      ]
     },
     "execution_count": 45,
     "metadata": {},
     "output_type": "execute_result"
    }
   ],
   "source": [
    "str='hai apple how are you apple im good apple thank you apple'\n",
    "list1=str.split()\n",
    "count=list1.count('apple')\n",
    "for i in range(count):\n",
    "    list1.remove('apple')\n",
    "    \n",
    "' '.join(list1)"
   ]
  },
  {
   "cell_type": "markdown",
   "id": "6c2f5bab-2de1-4f4b-8e73-b558aeae6541",
   "metadata": {},
   "source": [
    "**del**"
   ]
  },
  {
   "cell_type": "code",
   "execution_count": 47,
   "id": "f86e15f6-5cd1-4ab7-a222-b0b12641e9c2",
   "metadata": {},
   "outputs": [
    {
     "data": {
      "text/plain": [
       "[1, 2, 3, 10, 20, 'Apple', 40]"
      ]
     },
     "execution_count": 47,
     "metadata": {},
     "output_type": "execute_result"
    }
   ],
   "source": [
    "l1=[1,2,3,'Apple',10,20,'Apple',40]\n",
    "del(l1[3])\n",
    "l1"
   ]
  },
  {
   "cell_type": "code",
   "execution_count": null,
   "id": "d20d2c68-bba7-4e9d-8e6d-ae7620a05b6b",
   "metadata": {},
   "outputs": [],
   "source": [
    "- representation\n",
    "- type\n",
    "len\n",
    "max\n",
    "min\n",
    "sum\n",
    "sorted\n",
    "reversed"
   ]
  },
  {
   "cell_type": "code",
   "execution_count": 48,
   "id": "4820f95e-24fa-4331-97e8-998f8996cf3d",
   "metadata": {},
   "outputs": [
    {
     "data": {
      "text/plain": [
       "['__add__',\n",
       " '__class__',\n",
       " '__class_getitem__',\n",
       " '__contains__',\n",
       " '__delattr__',\n",
       " '__dir__',\n",
       " '__doc__',\n",
       " '__eq__',\n",
       " '__format__',\n",
       " '__ge__',\n",
       " '__getattribute__',\n",
       " '__getitem__',\n",
       " '__getnewargs__',\n",
       " '__getstate__',\n",
       " '__gt__',\n",
       " '__hash__',\n",
       " '__init__',\n",
       " '__init_subclass__',\n",
       " '__iter__',\n",
       " '__le__',\n",
       " '__len__',\n",
       " '__lt__',\n",
       " '__mul__',\n",
       " '__ne__',\n",
       " '__new__',\n",
       " '__reduce__',\n",
       " '__reduce_ex__',\n",
       " '__repr__',\n",
       " '__rmul__',\n",
       " '__setattr__',\n",
       " '__sizeof__',\n",
       " '__str__',\n",
       " '__subclasshook__',\n",
       " 'count',\n",
       " 'index']"
      ]
     },
     "execution_count": 48,
     "metadata": {},
     "output_type": "execute_result"
    }
   ],
   "source": [
    "dir(())"
   ]
  },
  {
   "cell_type": "code",
   "execution_count": null,
   "id": "3adb83fc-6c58-4175-8836-a413f0be22c7",
   "metadata": {},
   "outputs": [],
   "source": []
  }
 ],
 "metadata": {
  "kernelspec": {
   "display_name": "Python 3 (ipykernel)",
   "language": "python",
   "name": "python3"
  },
  "language_info": {
   "codemirror_mode": {
    "name": "ipython",
    "version": 3
   },
   "file_extension": ".py",
   "mimetype": "text/x-python",
   "name": "python",
   "nbconvert_exporter": "python",
   "pygments_lexer": "ipython3",
   "version": "3.11.7"
  }
 },
 "nbformat": 4,
 "nbformat_minor": 5
}
