{
 "cells": [
  {
   "cell_type": "code",
   "execution_count": 1,
   "id": "853ecbee-ce01-4102-96d8-9972bf84274a",
   "metadata": {},
   "outputs": [],
   "source": [
    "true=True"
   ]
  },
  {
   "cell_type": "code",
   "execution_count": 2,
   "id": "fce640ee-8753-4011-9844-f314e03bdca3",
   "metadata": {},
   "outputs": [
    {
     "data": {
      "text/plain": [
       "True"
      ]
     },
     "execution_count": 2,
     "metadata": {},
     "output_type": "execute_result"
    }
   ],
   "source": [
    "true"
   ]
  },
  {
   "cell_type": "markdown",
   "id": "4f8c8a17-bdc8-4300-918e-54ebe28c986e",
   "metadata": {},
   "source": [
    "**type casting**\n",
    "- convert one data type to another data type is called type casting\n",
    "- which means we wants to convert\n",
    "- integer type to all other(float,str,bool) data types\n",
    "- float type to all other(integer,str,bool) data types\n",
    "- integer type to all other(float,str,bool) data types\n",
    "- integer type to all other(float,str,bool) data types"
   ]
  },
  {
   "cell_type": "markdown",
   "id": "42946552-ba70-4ddf-aefa-1fb5e8f46522",
   "metadata": {},
   "source": [
    "**integer to other data type**"
   ]
  },
  {
   "cell_type": "markdown",
   "id": "ccf14d46-5035-4441-8fb2-21538e192d4d",
   "metadata": {},
   "source": [
    "$int- $float"
   ]
  },
  {
   "cell_type": "code",
   "execution_count": 5,
   "id": "6026d194-f247-4c29-9a3e-6c64d2d7ef79",
   "metadata": {},
   "outputs": [
    {
     "data": {
      "text/plain": [
       "int"
      ]
     },
     "execution_count": 5,
     "metadata": {},
     "output_type": "execute_result"
    }
   ],
   "source": [
    "num=100\n",
    "type(num)"
   ]
  },
  {
   "cell_type": "code",
   "execution_count": 6,
   "id": "6eac573b-4298-4b7a-88c1-66e32298f959",
   "metadata": {},
   "outputs": [
    {
     "data": {
      "text/plain": [
       "float"
      ]
     },
     "execution_count": 6,
     "metadata": {},
     "output_type": "execute_result"
    }
   ],
   "source": [
    "float_num=float(num)\n",
    "type(float_num)"
   ]
  },
  {
   "cell_type": "code",
   "execution_count": null,
   "id": "d20a8a9b-7a89-4226-9b48-7a1567b6105a",
   "metadata": {},
   "outputs": [],
   "source": [
    "type(str_num)"
   ]
  },
  {
   "cell_type": "code",
   "execution_count": 8,
   "id": "f4fa64af-a81d-4675-bbf2-2d67d44b253e",
   "metadata": {},
   "outputs": [
    {
     "data": {
      "text/plain": [
       "True"
      ]
     },
     "execution_count": 8,
     "metadata": {},
     "output_type": "execute_result"
    }
   ],
   "source": [
    "bool(num)"
   ]
  },
  {
   "cell_type": "code",
   "execution_count": 9,
   "id": "47354d1b-75e3-4e81-acd9-e2a1ec3b2d62",
   "metadata": {},
   "outputs": [
    {
     "data": {
      "text/plain": [
       "(200.0, '200', True)"
      ]
     },
     "execution_count": 9,
     "metadata": {},
     "output_type": "execute_result"
    }
   ],
   "source": [
    "float(200),str(200),bool(200)"
   ]
  },
  {
   "cell_type": "code",
   "execution_count": 10,
   "id": "5fec7071-9eec-498b-b294-8e43653a6671",
   "metadata": {},
   "outputs": [
    {
     "data": {
      "text/plain": [
       "(-500.0, '-500', True)"
      ]
     },
     "execution_count": 10,
     "metadata": {},
     "output_type": "execute_result"
    }
   ],
   "source": [
    "float(-500),str(-500),bool(-200)"
   ]
  },
  {
   "cell_type": "code",
   "execution_count": 11,
   "id": "7a120028-18a9-47de-bd34-ce9ab3ff5441",
   "metadata": {},
   "outputs": [
    {
     "data": {
      "text/plain": [
       "False"
      ]
     },
     "execution_count": 11,
     "metadata": {},
     "output_type": "execute_result"
    }
   ],
   "source": [
    "# when integer of boolean conversion become False\n",
    "bool(0)"
   ]
  },
  {
   "cell_type": "markdown",
   "id": "c78d46ea-c83a-4d32-a024-30ba94301c91",
   "metadata": {},
   "source": [
    "**Note**"
   ]
  },
  {
   "cell_type": "code",
   "execution_count": null,
   "id": "02c65b97-0261-4b69-834f-30a5bc764407",
   "metadata": {},
   "outputs": [],
   "source": [
    "integer=0 then only boolean conversion become false\n"
   ]
  },
  {
   "cell_type": "code",
   "execution_count": null,
   "id": "57f87d20-f1d4-4591-9605-2e56b9b0fefb",
   "metadata": {},
   "outputs": [],
   "source": [
    "float to other type"
   ]
  },
  {
   "cell_type": "code",
   "execution_count": 13,
   "id": "b3e266ce-7219-4c1d-a415-a8a10667cfb8",
   "metadata": {},
   "outputs": [
    {
     "data": {
      "text/plain": [
       "200"
      ]
     },
     "execution_count": 13,
     "metadata": {},
     "output_type": "execute_result"
    }
   ],
   "source": [
    "int(200.5)"
   ]
  },
  {
   "cell_type": "code",
   "execution_count": 14,
   "id": "bb429f3b-05e1-4ae3-a2b7-97b249dce629",
   "metadata": {},
   "outputs": [
    {
     "data": {
      "text/plain": [
       "'200.5'"
      ]
     },
     "execution_count": 14,
     "metadata": {},
     "output_type": "execute_result"
    }
   ],
   "source": [
    "str(200.5)"
   ]
  },
  {
   "cell_type": "code",
   "execution_count": 15,
   "id": "e85a7314-8ceb-422c-94bd-e26c94c71184",
   "metadata": {},
   "outputs": [
    {
     "data": {
      "text/plain": [
       "True"
      ]
     },
     "execution_count": 15,
     "metadata": {},
     "output_type": "execute_result"
    }
   ],
   "source": [
    "bool(200.5)"
   ]
  },
  {
   "cell_type": "code",
   "execution_count": 16,
   "id": "c89d7306-f9b3-4bf6-883a-5e31be42418b",
   "metadata": {},
   "outputs": [
    {
     "data": {
      "text/plain": [
       "(200, '200.5', False)"
      ]
     },
     "execution_count": 16,
     "metadata": {},
     "output_type": "execute_result"
    }
   ],
   "source": [
    "int(200.5), str(200.5), bool(0.0)"
   ]
  },
  {
   "cell_type": "markdown",
   "id": "650607d9-32fe-4716-a6e9-0cdc23cde1bf",
   "metadata": {},
   "source": [
    "**string to another type**"
   ]
  },
  {
   "cell_type": "code",
   "execution_count": null,
   "id": "38292538-e9bc-4284-b20f-1d295dd0b722",
   "metadata": {},
   "outputs": [],
   "source": [
    "# case"
   ]
  },
  {
   "cell_type": "code",
   "execution_count": 18,
   "id": "e3cf32cb-b346-4a24-98bc-a133adb5526b",
   "metadata": {},
   "outputs": [
    {
     "ename": "ValueError",
     "evalue": "invalid literal for int() with base 10: 'apple'",
     "output_type": "error",
     "traceback": [
      "\u001b[1;31m---------------------------------------------------------------------------\u001b[0m",
      "\u001b[1;31mValueError\u001b[0m                                Traceback (most recent call last)",
      "Cell \u001b[1;32mIn[18], line 1\u001b[0m\n\u001b[1;32m----> 1\u001b[0m \u001b[38;5;28mint\u001b[39m(\u001b[38;5;124m'\u001b[39m\u001b[38;5;124mapple\u001b[39m\u001b[38;5;124m'\u001b[39m)\n",
      "\u001b[1;31mValueError\u001b[0m: invalid literal for int() with base 10: 'apple'"
     ]
    }
   ],
   "source": [
    "int('apple')"
   ]
  },
  {
   "cell_type": "code",
   "execution_count": 19,
   "id": "ad05e6df-5a45-4022-8f8f-c6152bf67d14",
   "metadata": {},
   "outputs": [
    {
     "ename": "ValueError",
     "evalue": "could not convert string to float: 'apple'",
     "output_type": "error",
     "traceback": [
      "\u001b[1;31m---------------------------------------------------------------------------\u001b[0m",
      "\u001b[1;31mValueError\u001b[0m                                Traceback (most recent call last)",
      "Cell \u001b[1;32mIn[19], line 1\u001b[0m\n\u001b[1;32m----> 1\u001b[0m \u001b[38;5;28mfloat\u001b[39m(\u001b[38;5;124m'\u001b[39m\u001b[38;5;124mapple\u001b[39m\u001b[38;5;124m'\u001b[39m)\n",
      "\u001b[1;31mValueError\u001b[0m: could not convert string to float: 'apple'"
     ]
    }
   ],
   "source": [
    "float('apple')"
   ]
  },
  {
   "cell_type": "code",
   "execution_count": 20,
   "id": "67145cbd-e28c-44e4-845c-b57cc22a209f",
   "metadata": {},
   "outputs": [
    {
     "data": {
      "text/plain": [
       "True"
      ]
     },
     "execution_count": 20,
     "metadata": {},
     "output_type": "execute_result"
    }
   ],
   "source": [
    "bool('apple')"
   ]
  },
  {
   "cell_type": "code",
   "execution_count": 21,
   "id": "239a38a2-a54a-4581-b91a-c6cf80760d98",
   "metadata": {},
   "outputs": [
    {
     "data": {
      "text/plain": [
       "10"
      ]
     },
     "execution_count": 21,
     "metadata": {},
     "output_type": "execute_result"
    }
   ],
   "source": [
    "int('10')"
   ]
  },
  {
   "cell_type": "code",
   "execution_count": 22,
   "id": "2a6ce713-f285-4b3b-8499-dadb30a21b13",
   "metadata": {},
   "outputs": [
    {
     "data": {
      "text/plain": [
       "10.0"
      ]
     },
     "execution_count": 22,
     "metadata": {},
     "output_type": "execute_result"
    }
   ],
   "source": [
    "float('10')"
   ]
  },
  {
   "cell_type": "code",
   "execution_count": 23,
   "id": "6b2e6fa2-2aae-426b-ba9a-c9c907a9e2b6",
   "metadata": {},
   "outputs": [
    {
     "data": {
      "text/plain": [
       "True"
      ]
     },
     "execution_count": 23,
     "metadata": {},
     "output_type": "execute_result"
    }
   ],
   "source": [
    "bool('10')"
   ]
  },
  {
   "cell_type": "code",
   "execution_count": 6,
   "id": "f99b9e57-f406-4c72-b5d0-4831d98e37f7",
   "metadata": {},
   "outputs": [
    {
     "ename": "SyntaxError",
     "evalue": "unterminated string literal (detected at line 1) (2754525917.py, line 1)",
     "output_type": "error",
     "traceback": [
      "\u001b[1;36m  Cell \u001b[1;32mIn[6], line 1\u001b[1;36m\u001b[0m\n\u001b[1;33m    int('10.5'), float(10.5'), bool('10.5')\u001b[0m\n\u001b[1;37m                                         ^\u001b[0m\n\u001b[1;31mSyntaxError\u001b[0m\u001b[1;31m:\u001b[0m unterminated string literal (detected at line 1)\n"
     ]
    }
   ],
   "source": [
    "int('10.5'), float(10.5'), bool('10.5')"
   ]
  },
  {
   "cell_type": "code",
   "execution_count": null,
   "id": "d32eb14a-74eb-4a69-891c-d502453a3aee",
   "metadata": {},
   "outputs": [],
   "source": [
    "int('10')\n",
    "int(10.5')"
   ]
  },
  {
   "cell_type": "markdown",
   "id": "fee4acfc-3d6e-49f9-8e59-797c2d5f5db0",
   "metadata": {},
   "source": [
    "- float is a boss\n",
    "- float of any valuebit is integer in string format\n",
    "- or float in string format will works\n",
    "- but integer will works only for integer in string format\n",
    "- integer type casting will fail for float in string format"
   ]
  },
  {
   "cell_type": "code",
   "execution_count": 26,
   "id": "1c531730-f905-4a15-9bb4-349a1dd420aa",
   "metadata": {},
   "outputs": [
    {
     "data": {
      "text/plain": [
       "True"
      ]
     },
     "execution_count": 26,
     "metadata": {},
     "output_type": "execute_result"
    }
   ],
   "source": [
    "bool('0')"
   ]
  },
  {
   "cell_type": "code",
   "execution_count": 27,
   "id": "fe0dc10c-57cb-4eaf-bdbb-b9d69db0b1d4",
   "metadata": {},
   "outputs": [
    {
     "data": {
      "text/plain": [
       "False"
      ]
     },
     "execution_count": 27,
     "metadata": {},
     "output_type": "execute_result"
    }
   ],
   "source": [
    "bool('')"
   ]
  },
  {
   "cell_type": "markdown",
   "id": "6e5fac07-a91a-42f6-8d6e-1dadc8049fef",
   "metadata": {},
   "source": [
    "- `something is there is true \n",
    "- empty string of boolean is false\n",
    "- False means nothong either 0 or empty"
   ]
  },
  {
   "cell_type": "code",
   "execution_count": 28,
   "id": "fd277598-f8ee-4474-aa57-87e74963d5cb",
   "metadata": {},
   "outputs": [],
   "source": [
    "# boolean to other type"
   ]
  },
  {
   "cell_type": "code",
   "execution_count": 29,
   "id": "97b0dbb7-6bc9-42ad-9de2-918c488e77ae",
   "metadata": {},
   "outputs": [
    {
     "data": {
      "text/plain": [
       "(1, 'True', 1.0)"
      ]
     },
     "execution_count": 29,
     "metadata": {},
     "output_type": "execute_result"
    }
   ],
   "source": [
    "int(True), str(True), float(True)"
   ]
  },
  {
   "cell_type": "code",
   "execution_count": 30,
   "id": "d8cf0292-4655-4185-bc53-b2c102794396",
   "metadata": {},
   "outputs": [
    {
     "data": {
      "text/plain": [
       "0"
      ]
     },
     "execution_count": 30,
     "metadata": {},
     "output_type": "execute_result"
    }
   ],
   "source": [
    "int(False)"
   ]
  },
  {
   "cell_type": "code",
   "execution_count": 31,
   "id": "af464553-c0c9-4e47-b4b3-c031e4fcb30a",
   "metadata": {},
   "outputs": [
    {
     "data": {
      "text/plain": [
       "0.0"
      ]
     },
     "execution_count": 31,
     "metadata": {},
     "output_type": "execute_result"
    }
   ],
   "source": [
    "float(False)"
   ]
  },
  {
   "cell_type": "code",
   "execution_count": 32,
   "id": "9c44ab6d-c9a6-4ecd-9885-6b101eba8ab2",
   "metadata": {},
   "outputs": [
    {
     "data": {
      "text/plain": [
       "'False'"
      ]
     },
     "execution_count": 32,
     "metadata": {},
     "output_type": "execute_result"
    }
   ],
   "source": [
    "str(False)"
   ]
  },
  {
   "cell_type": "code",
   "execution_count": 33,
   "id": "a263dd15-0df0-4bea-a485-711561d1d9f8",
   "metadata": {},
   "outputs": [
    {
     "ename": "SyntaxError",
     "evalue": "invalid syntax (3794316600.py, line 1)",
     "output_type": "error",
     "traceback": [
      "\u001b[1;36m  Cell \u001b[1;32mIn[33], line 1\u001b[1;36m\u001b[0m\n\u001b[1;33m    str object not callable\u001b[0m\n\u001b[1;37m        ^\u001b[0m\n\u001b[1;31mSyntaxError\u001b[0m\u001b[1;31m:\u001b[0m invalid syntax\n"
     ]
    }
   ],
   "source": [
    "str object not callable"
   ]
  },
  {
   "cell_type": "code",
   "execution_count": 3,
   "id": "70ee345c-4689-4787-9412-8d2ca0ca6167",
   "metadata": {},
   "outputs": [
    {
     "data": {
      "text/plain": [
       "(10.0, '10', True)"
      ]
     },
     "execution_count": 3,
     "metadata": {},
     "output_type": "execute_result"
    }
   ],
   "source": [
    "num=10\n",
    "float(num), str(num), bool(num)"
   ]
  },
  {
   "cell_type": "code",
   "execution_count": 4,
   "id": "a184aa30-8c11-4991-b366-22ee8c846775",
   "metadata": {},
   "outputs": [
    {
     "data": {
      "text/plain": [
       "(10.0, '10', True)"
      ]
     },
     "execution_count": 4,
     "metadata": {},
     "output_type": "execute_result"
    }
   ],
   "source": [
    "num=10\n",
    "float(num), str(num), bool(num)"
   ]
  },
  {
   "cell_type": "code",
   "execution_count": null,
   "id": "8e8eaf5b-f39f-47d1-977c-69931e8b56bd",
   "metadata": {},
   "outputs": [],
   "source": []
  }
 ],
 "metadata": {
  "kernelspec": {
   "display_name": "Python 3 (ipykernel)",
   "language": "python",
   "name": "python3"
  },
  "language_info": {
   "codemirror_mode": {
    "name": "ipython",
    "version": 3
   },
   "file_extension": ".py",
   "mimetype": "text/x-python",
   "name": "python",
   "nbconvert_exporter": "python",
   "pygments_lexer": "ipython3",
   "version": "3.11.7"
  }
 },
 "nbformat": 4,
 "nbformat_minor": 5
}
