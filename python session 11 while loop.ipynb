{
 "cells": [
  {
   "cell_type": "markdown",
   "id": "494cc6e3-6781-44e5-9d40-da52ff7c0f28",
   "metadata": {},
   "source": [
    "**While loops**"
   ]
  },
  {
   "cell_type": "code",
   "execution_count": null,
   "id": "efc64c36-b57d-4667-a526-c6b653ab9900",
   "metadata": {},
   "outputs": [],
   "source": [
    "**loops**\n",
    "- for loop\n",
    "- while loop\n",
    "- if you want to run an infinite iteration will choose while loops\n",
    "- every loop we need three things\n",
    "    - initial point (starting point)\n",
    "    - increment or decrement\n",
    "    - condition (stop point)"
   ]
  },
  {
   "cell_type": "code",
   "execution_count": null,
   "id": "902c251f-6347-46af-8802-225bdc69bd5e",
   "metadata": {},
   "outputs": [],
   "source": [
    "for i in range(1,10,2):\n",
    "    print(i,end=' ')"
   ]
  },
  {
   "cell_type": "code",
   "execution_count": null,
   "id": "e88ba88d-a2a7-4c9b-9c40-e26c17a7a6a8",
   "metadata": {},
   "outputs": [],
   "source": [
    "- in for loop all the three thing in a single line: range(start,stop,step)\n",
    "- in while loop we will use these three things, in as a three lines"
   ]
  },
  {
   "cell_type": "code",
   "execution_count": null,
   "id": "ab10253b-3f65-4746-9bf5-363999ec5bcd",
   "metadata": {},
   "outputs": [],
   "source": [
    "<start point>\n",
    "while <how to stop>:\n",
    "    codeline1\n",
    "    codeline3\n",
    "    <increment or decrement>"
   ]
  },
  {
   "cell_type": "code",
   "execution_count": null,
   "id": "9c787725-31dd-46aa-b6b0-ec5d4388a520",
   "metadata": {},
   "outputs": [],
   "source": [
    "for i in range(1,10,2):\n",
    "    print(i,end=' ')"
   ]
  },
  {
   "cell_type": "code",
   "execution_count": null,
   "id": "689ae173-bc44-4ce2-8311-26ff00173b7c",
   "metadata": {},
   "outputs": [],
   "source": [
    "i=1\n",
    "while i<2:\n",
    "    print(i)\n",
    "    i=i+1"
   ]
  },
  {
   "cell_type": "code",
   "execution_count": null,
   "id": "f545ecce-3026-420a-917e-3be997ad7350",
   "metadata": {},
   "outputs": [],
   "source": [
    "i=1\n",
    "while i<11:\n",
    "    print(i)\n",
    "    i=i+1"
   ]
  },
  {
   "cell_type": "code",
   "execution_count": null,
   "id": "c279d637-5a09-417d-9a74-4613fd629d2e",
   "metadata": {},
   "outputs": [],
   "source": [
    "i=1\n",
    "while 2<2:\n",
    "    print(i)\n",
    "    i=i+1"
   ]
  },
  {
   "cell_type": "code",
   "execution_count": null,
   "id": "6b74545b-da79-40a6-9f5e-cc346bc1e9e5",
   "metadata": {},
   "outputs": [],
   "source": [
    "i=1\n",
    "while i<5:\n",
    "    print(i)\n",
    "    i=i+1"
   ]
  },
  {
   "cell_type": "code",
   "execution_count": null,
   "id": "28da36c4-25c3-49b4-9596-c18bbc75eb89",
   "metadata": {},
   "outputs": [],
   "source": [
    "i=1\n",
    "while i<11:\n",
    "    print(i,end=' ')\n",
    "    i=i+1"
   ]
  },
  {
   "cell_type": "code",
   "execution_count": null,
   "id": "e4746ca6-db17-4c7c-955a-29cde768c932",
   "metadata": {},
   "outputs": [],
   "source": [
    "i=1\n",
    "while i==10:\n",
    "    print(i)\n",
    "    i=i+1"
   ]
  },
  {
   "cell_type": "code",
   "execution_count": null,
   "id": "7430d914-b47b-43e5-a95b-fa60d7c2220d",
   "metadata": {},
   "outputs": [],
   "source": [
    "i=1\n",
    "while i<11:\n",
    "    print(i)\n",
    "    i=i-1\n",
    "    if i==10:\n",
    "        break\n",
    "    \n",
    "# step-1: start i=1   while"
   ]
  },
  {
   "cell_type": "code",
   "execution_count": null,
   "id": "6635709e-ff4c-44c6-b761-82e8bc2ab5aa",
   "metadata": {},
   "outputs": [],
   "source": [
    "i=1\n",
    "while i<11:\n",
    "    print(i,end=' ')\n",
    "    i=i-1\n",
    "    if i==-10:\n",
    "        break"
   ]
  },
  {
   "cell_type": "code",
   "execution_count": null,
   "id": "024a2659-a675-4180-81a3-01b12cb8af01",
   "metadata": {},
   "outputs": [],
   "source": [
    "# 20 to 1\n",
    "# -20 t0 0"
   ]
  },
  {
   "cell_type": "code",
   "execution_count": null,
   "id": "5a8c5cd6-295c-461c-be89-c1d29e005dce",
   "metadata": {},
   "outputs": [],
   "source": [
    "i=20\n",
    "while i>1:\n",
    "    print(i)\n",
    "    i=i-1"
   ]
  },
  {
   "cell_type": "code",
   "execution_count": null,
   "id": "2fb4664d-c741-4651-9c2a-6e0f0c283f0a",
   "metadata": {},
   "outputs": [],
   "source": [
    "i=1\n",
    "while i<0:\n",
    "    print(i)\n",
    "    i=i-1"
   ]
  },
  {
   "cell_type": "code",
   "execution_count": null,
   "id": "91de330f-7e01-4bd7-bc40-1d9171884a80",
   "metadata": {},
   "outputs": [],
   "source": []
  }
 ],
 "metadata": {
  "kernelspec": {
   "display_name": "Python 3 (ipykernel)",
   "language": "python",
   "name": "python3"
  },
  "language_info": {
   "codemirror_mode": {
    "name": "ipython",
    "version": 3
   },
   "file_extension": ".py",
   "mimetype": "text/x-python",
   "name": "python",
   "nbconvert_exporter": "python",
   "pygments_lexer": "ipython3",
   "version": "3.11.7"
  }
 },
 "nbformat": 4,
 "nbformat_minor": 5
}
