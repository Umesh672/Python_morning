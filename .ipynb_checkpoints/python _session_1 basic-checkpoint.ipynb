{
 "cells": [
  {
   "cell_type": "code",
   "execution_count": 1,
   "id": "b3d1a23b-450a-4fd5-81b9-7776ad5225e4",
   "metadata": {},
   "outputs": [
    {
     "data": {
      "text/plain": [
       "80"
      ]
     },
     "execution_count": 1,
     "metadata": {},
     "output_type": "execute_result"
    }
   ],
   "source": [
    "a=30\n",
    "b=50\n",
    "c=a+b\n",
    "c"
   ]
  },
  {
   "cell_type": "code",
   "execution_count": null,
   "id": "7ab3a1b2-4313-42d7-b548-4f8a5ea17a12",
   "metadata": {},
   "outputs": [],
   "source": [
    "a=10\n",
    "b=20\n",
    "c=a+b\n",
    "c   # shift + enter at a time to run "
   ]
  },
  {
   "cell_type": "code",
   "execution_count": null,
   "id": "3fdb3949-ac82-48db-826a-cac1b736454c",
   "metadata": {},
   "outputs": [],
   "source": [
    "a=100\n",
    "b=200\n",
    "c=a+b\n",
    "c"
   ]
  },
  {
   "cell_type": "code",
   "execution_count": null,
   "id": "5d7277e3-844e-4b81-8adb-9010d35beeaf",
   "metadata": {},
   "outputs": [],
   "source": [
    "c"
   ]
  },
  {
   "cell_type": "markdown",
   "id": "2a4d7ebe-7bea-479f-961f-d92c6f6d11a6",
   "metadata": {},
   "source": [
    "iam learning python today"
   ]
  },
  {
   "cell_type": "markdown",
   "id": "fc11eb04-e281-4978-b1ae-dff89628adfe",
   "metadata": {},
   "source": [
    "my name is umesh chandra kushwaha \n",
    "i am pursuing data science course "
   ]
  },
  {
   "cell_type": "markdown",
   "id": "4062e0f6-2fa3-44e8-9a1d-3ff711c40d20",
   "metadata": {},
   "source": [
    "# python"
   ]
  },
  {
   "cell_type": "markdown",
   "id": "c9d6067c-365f-41ce-b116-3369e6cf8464",
   "metadata": {},
   "source": [
    "# pthon\n",
    "## python\n",
    "### python\n",
    "#### code mode to markdown mode : esc + m\n",
    "#### mark mode to code mode : esc + y"
   ]
  },
  {
   "cell_type": "code",
   "execution_count": null,
   "id": "a9742ff8-8788-41ff-8a36-a511b288ee82",
   "metadata": {},
   "outputs": [],
   "source": []
  },
  {
   "cell_type": "markdown",
   "id": "b5704058-1863-4691-a5b7-0c6cc618ac95",
   "metadata": {},
   "source": [
    "- today i learned how to open jupyter notebook\n",
    "\n",
    "- i created a folder for python\n",
    "\n",
    "- from tomrrow onwards i will open all my python notebook in this folder only\n",
    "\n",
    "- i understand about the kernel\n",
    "\n",
    "- when kernel id busy i will not run any other code cell\n",
    "\n",
    "- because python kernel will run step by step\n",
    "\n",
    "- i also learned how to run the code using shift + enter\n",
    "\n",
    "- i also learned how to run the story\n",
    "\n",
    "- this is called markdown mode"
   ]
  },
  {
   "cell_type": "markdown",
   "id": "633be11f-690c-49e6-a71a-00ac1735470e",
   "metadata": {},
   "source": [
    "<img src=\"https://data1.ibtimes.co.in/photo/en/full/78498/sri-lanka-has-made-three-changes-lakshan-sandakan-dhananjaya-de-silva-debutant-roshen-silva.jpg?w=720\" alt=\"Dolomites Tre Cime Di Lavaredo Milky Way Panorama - Michael Shainblum ...\" class=\" nofocus\" tabindex=\"0\" aria-label=\"Dolomites Tre Cime Di Lavaredo Milky Way Panorama - Michael Shainblum ...\" role=\"button\" data-bm=\"6\">"
   ]
  },
  {
   "cell_type": "code",
   "execution_count": null,
   "id": "84a4550a-2e5d-4716-af6c-2622c0ac6dff",
   "metadata": {},
   "outputs": [],
   "source": []
  }
 ],
 "metadata": {
  "kernelspec": {
   "display_name": "Python 3 (ipykernel)",
   "language": "python",
   "name": "python3"
  },
  "language_info": {
   "codemirror_mode": {
    "name": "ipython",
    "version": 3
   },
   "file_extension": ".py",
   "mimetype": "text/x-python",
   "name": "python",
   "nbconvert_exporter": "python",
   "pygments_lexer": "ipython3",
   "version": "3.11.7"
  }
 },
 "nbformat": 4,
 "nbformat_minor": 5
}
