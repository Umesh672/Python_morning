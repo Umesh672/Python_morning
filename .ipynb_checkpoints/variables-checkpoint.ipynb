{
 "cells": [
  {
   "cell_type": "markdown",
   "id": "f6fe4b42-0dae-43f6-840f-b148513ef7c8",
   "metadata": {},
   "source": [
    "## Variables\n",
    "\n",
    " - variables are used to store the values\n",
    " - and the value can change"
   ]
  },
  {
   "cell_type": "code",
   "execution_count": 1,
   "id": "31244d5f-dd6a-41ee-9aad-8493bd4d3b71",
   "metadata": {},
   "outputs": [
    {
     "data": {
      "text/plain": [
       "100"
      ]
     },
     "execution_count": 1,
     "metadata": {},
     "output_type": "execute_result"
    }
   ],
   "source": [
    "number=100 # value 100 stored in a variable name called 'number'\n",
    "number     "
   ]
  },
  {
   "cell_type": "code",
   "execution_count": 2,
   "id": "f358da1d-f19a-4949-8398-0317e865ff7e",
   "metadata": {},
   "outputs": [
    {
     "data": {
      "text/plain": [
       "200"
      ]
     },
     "execution_count": 2,
     "metadata": {},
     "output_type": "execute_result"
    }
   ],
   "source": [
    "number=200  # value 200 stored in a variable name called 'number'\n",
    "number"
   ]
  },
  {
   "cell_type": "markdown",
   "id": "dbfb40d4-255d-4e7d-b913-162ccca21ab7",
   "metadata": {},
   "source": [
    "** note **\n",
    "- python is step by step process\n",
    "- python will take last output as the latest value\n",
    "- in above code we are using same variable: number\n",
    "- but number value changed two times\n",
    "- first time 100\n",
    "- second time 200\n",
    "- latest value 200"
   ]
  },
  {
   "cell_type": "code",
   "execution_count": 3,
   "id": "ef63d3b5-cf05-4eb2-8e40-216bab038c66",
   "metadata": {},
   "outputs": [
    {
     "data": {
      "text/plain": [
       "200"
      ]
     },
     "execution_count": 3,
     "metadata": {},
     "output_type": "execute_result"
    }
   ],
   "source": [
    "NUMBER=200\n",
    "NUMBER"
   ]
  },
  {
   "cell_type": "code",
   "execution_count": 4,
   "id": "d08e1145-190c-4fcb-b75c-652e6728be05",
   "metadata": {},
   "outputs": [
    {
     "data": {
      "text/plain": [
       "(200, 200)"
      ]
     },
     "execution_count": 4,
     "metadata": {},
     "output_type": "execute_result"
    }
   ],
   "source": [
    "number, NUMBER\n"
   ]
  },
  {
   "cell_type": "code",
   "execution_count": 5,
   "id": "179f70c4-9947-4c79-8d46-880cdd96d8fd",
   "metadata": {},
   "outputs": [
    {
     "data": {
      "text/plain": [
       "300"
      ]
     },
     "execution_count": 5,
     "metadata": {},
     "output_type": "execute_result"
    }
   ],
   "source": [
    "NUMber=300\n",
    "NUMber"
   ]
  },
  {
   "cell_type": "code",
   "execution_count": 6,
   "id": "dc3969ce-94c2-4c62-95c7-c8b509412a50",
   "metadata": {},
   "outputs": [
    {
     "data": {
      "text/plain": [
       "400"
      ]
     },
     "execution_count": 6,
     "metadata": {},
     "output_type": "execute_result"
    }
   ],
   "source": [
    "number123=400\n",
    "number123"
   ]
  },
  {
   "cell_type": "code",
   "execution_count": 7,
   "id": "3c05f82b-60eb-4291-9143-8138741e9063",
   "metadata": {},
   "outputs": [
    {
     "ename": "SyntaxError",
     "evalue": "invalid decimal literal (3682356261.py, line 1)",
     "output_type": "error",
     "traceback": [
      "\u001b[1;36m  Cell \u001b[1;32mIn[7], line 1\u001b[1;36m\u001b[0m\n\u001b[1;33m    123number=500\u001b[0m\n\u001b[1;37m      ^\u001b[0m\n\u001b[1;31mSyntaxError\u001b[0m\u001b[1;31m:\u001b[0m invalid decimal literal\n"
     ]
    }
   ],
   "source": [
    "123number=500"
   ]
  },
  {
   "cell_type": "code",
   "execution_count": 8,
   "id": "8e12c3d3-5b1b-479b-8cdc-65b0d12cd351",
   "metadata": {},
   "outputs": [
    {
     "ename": "SyntaxError",
     "evalue": "cannot assign to expression here. Maybe you meant '==' instead of '='? (1823274275.py, line 1)",
     "output_type": "error",
     "traceback": [
      "\u001b[1;36m  Cell \u001b[1;32mIn[8], line 1\u001b[1;36m\u001b[0m\n\u001b[1;33m    numb%er=600\u001b[0m\n\u001b[1;37m    ^\u001b[0m\n\u001b[1;31mSyntaxError\u001b[0m\u001b[1;31m:\u001b[0m cannot assign to expression here. Maybe you meant '==' instead of '='?\n"
     ]
    }
   ],
   "source": [
    "numb%er=600\n",
    "numb%er"
   ]
  },
  {
   "cell_type": "code",
   "execution_count": 9,
   "id": "da01f292-228f-4813-853d-191629e46186",
   "metadata": {},
   "outputs": [
    {
     "ename": "SyntaxError",
     "evalue": "invalid syntax (2656576567.py, line 1)",
     "output_type": "error",
     "traceback": [
      "\u001b[1;36m  Cell \u001b[1;32mIn[9], line 1\u001b[1;36m\u001b[0m\n\u001b[1;33m    number one=800\u001b[0m\n\u001b[1;37m           ^\u001b[0m\n\u001b[1;31mSyntaxError\u001b[0m\u001b[1;31m:\u001b[0m invalid syntax\n"
     ]
    }
   ],
   "source": [
    "number one=800\n",
    "number one"
   ]
  },
  {
   "cell_type": "code",
   "execution_count": 10,
   "id": "49adc939-41c0-421b-a76a-05c4176cd514",
   "metadata": {},
   "outputs": [
    {
     "data": {
      "text/plain": [
       "900"
      ]
     },
     "execution_count": 10,
     "metadata": {},
     "output_type": "execute_result"
    }
   ],
   "source": [
    "number_one=900\n",
    "number_one"
   ]
  },
  {
   "cell_type": "code",
   "execution_count": 11,
   "id": "d7d48cf4-1f41-466a-9384-fa81bfa6874f",
   "metadata": {},
   "outputs": [
    {
     "data": {
      "text/plain": [
       "1000"
      ]
     },
     "execution_count": 11,
     "metadata": {},
     "output_type": "execute_result"
    }
   ],
   "source": [
    "_=1000\n",
    "_"
   ]
  },
  {
   "cell_type": "code",
   "execution_count": 12,
   "id": "dc2b2bfd-a581-496c-9542-759d0846ff1e",
   "metadata": {},
   "outputs": [
    {
     "data": {
      "text/plain": [
       "(100, 200)"
      ]
     },
     "execution_count": 12,
     "metadata": {},
     "output_type": "execute_result"
    }
   ],
   "source": [
    "n1=100,200\n",
    "n1"
   ]
  },
  {
   "cell_type": "code",
   "execution_count": 13,
   "id": "227e15d5-0ef6-49c2-b8b0-88a20586375a",
   "metadata": {},
   "outputs": [
    {
     "ename": "TypeError",
     "evalue": "cannot unpack non-iterable int object",
     "output_type": "error",
     "traceback": [
      "\u001b[1;31m---------------------------------------------------------------------------\u001b[0m",
      "\u001b[1;31mTypeError\u001b[0m                                 Traceback (most recent call last)",
      "Cell \u001b[1;32mIn[13], line 1\u001b[0m\n\u001b[1;32m----> 1\u001b[0m n2,n3\u001b[38;5;241m=\u001b[39m\u001b[38;5;241m200\u001b[39m\n",
      "\u001b[1;31mTypeError\u001b[0m: cannot unpack non-iterable int object"
     ]
    }
   ],
   "source": [
    "n2,n3=200"
   ]
  },
  {
   "cell_type": "code",
   "execution_count": 14,
   "id": "a0142c20-e6c7-4cd4-9e88-e94dc6bcad72",
   "metadata": {},
   "outputs": [
    {
     "data": {
      "text/plain": [
       "200"
      ]
     },
     "execution_count": 14,
     "metadata": {},
     "output_type": "execute_result"
    }
   ],
   "source": [
    "n4,n5=100,200\n",
    "n4\n",
    "n5"
   ]
  },
  {
   "cell_type": "code",
   "execution_count": 15,
   "id": "226fb4fd-29ad-41ff-89b2-690781a739b5",
   "metadata": {},
   "outputs": [
    {
     "name": "stdout",
     "output_type": "stream",
     "text": [
      "100\n",
      "200\n"
     ]
    }
   ],
   "source": [
    "n4,n5=100,200\n",
    "print(n4)\n",
    "print(n5)"
   ]
  },
  {
   "cell_type": "code",
   "execution_count": 16,
   "id": "86b7b84f-d424-4e42-854f-1052075941d4",
   "metadata": {},
   "outputs": [
    {
     "ename": "SyntaxError",
     "evalue": "invalid decimal literal (243713465.py, line 5)",
     "output_type": "error",
     "traceback": [
      "\u001b[1;36m  Cell \u001b[1;32mIn[16], line 5\u001b[1;36m\u001b[0m\n\u001b[1;33m    123number=600\u001b[0m\n\u001b[1;37m      ^\u001b[0m\n\u001b[1;31mSyntaxError\u001b[0m\u001b[1;31m:\u001b[0m invalid decimal literal\n"
     ]
    }
   ],
   "source": [
    "numner=200\n",
    "NUMBER=300\n",
    "NUMber=400\n",
    "number123=500\n",
    "123number=600\n",
    "num%ber"
   ]
  },
  {
   "cell_type": "code",
   "execution_count": 17,
   "id": "3accf2dc-8344-4488-9797-330896e76c14",
   "metadata": {},
   "outputs": [],
   "source": [
    "n1,_=200,300"
   ]
  },
  {
   "cell_type": "markdown",
   "id": "d060031f-8c56-439d-9b5a-796b291869e3",
   "metadata": {},
   "source": [
    "- python variables are case sensitive\n",
    "- variables can be declare as capital letters\n",
    "- variables can be declare as small letters\n",
    "- variables can not start with number(prefix)\n",
    "- numbers can be suffix of the variables\n",
    "- variables can not have special character except ** underscore **\n",
    "- variables does not have space between the names\n",
    "- only underscore possible\n",
    "- keywords or reserved words can not use as variables\n",
    "- two values can be assign to a single variables\n",
    "- one value can not assign to a two variables\n"
   ]
  },
  {
   "cell_type": "code",
   "execution_count": null,
   "id": "655b3385-1004-478b-a195-c04247bdef4f",
   "metadata": {},
   "outputs": [],
   "source": []
  }
 ],
 "metadata": {
  "kernelspec": {
   "display_name": "Python 3 (ipykernel)",
   "language": "python",
   "name": "python3"
  },
  "language_info": {
   "codemirror_mode": {
    "name": "ipython",
    "version": 3
   },
   "file_extension": ".py",
   "mimetype": "text/x-python",
   "name": "python",
   "nbconvert_exporter": "python",
   "pygments_lexer": "ipython3",
   "version": "3.11.7"
  }
 },
 "nbformat": 4,
 "nbformat_minor": 5
}
