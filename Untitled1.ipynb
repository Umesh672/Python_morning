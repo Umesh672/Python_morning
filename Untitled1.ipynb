{
 "cells": [
  {
   "cell_type": "code",
   "execution_count": 50,
   "id": "677f71f3-fbaa-44f6-b2d8-5e57147be6aa",
   "metadata": {},
   "outputs": [
    {
     "ename": "ValueError",
     "evalue": "substring not found",
     "output_type": "error",
     "traceback": [
      "\u001b[1;31m---------------------------------------------------------------------------\u001b[0m",
      "\u001b[1;31mValueError\u001b[0m                                Traceback (most recent call last)",
      "Cell \u001b[1;32mIn[50], line 3\u001b[0m\n\u001b[0;32m      1\u001b[0m str1\u001b[38;5;241m=\u001b[39m\u001b[38;5;124m'\u001b[39m\u001b[38;5;124mvirat.kohli@rcb.com, Rohit.sharma@mi.com, KL.rahul@lucknow.com\u001b[39m\u001b[38;5;124m'\u001b[39m\n\u001b[0;32m      2\u001b[0m list1\u001b[38;5;241m=\u001b[39mstr1\u001b[38;5;241m.\u001b[39msplit(\u001b[38;5;124m'\u001b[39m\u001b[38;5;124m.\u001b[39m\u001b[38;5;124m'\u001b[39m)\n\u001b[1;32m----> 3\u001b[0m list1[\u001b[38;5;241m0\u001b[39m][:list1[\u001b[38;5;241m0\u001b[39m]\u001b[38;5;241m.\u001b[39mindex(\u001b[38;5;124m'\u001b[39m\u001b[38;5;124m.\u001b[39m\u001b[38;5;124m'\u001b[39m)]\n\u001b[0;32m      4\u001b[0m list1[\u001b[38;5;241m1\u001b[39m][:list1[\u001b[38;5;241m1\u001b[39m]\u001b[38;5;241m.\u001b[39mindex(\u001b[38;5;124m'\u001b[39m\u001b[38;5;124m.\u001b[39m\u001b[38;5;124m'\u001b[39m)]\n\u001b[0;32m      5\u001b[0m list1[\u001b[38;5;241m2\u001b[39m][:list1[\u001b[38;5;241m2\u001b[39m]\u001b[38;5;241m.\u001b[39mindex(\u001b[38;5;124m'\u001b[39m\u001b[38;5;124m.\u001b[39m\u001b[38;5;124m'\u001b[39m)]\n",
      "\u001b[1;31mValueError\u001b[0m: substring not found"
     ]
    }
   ],
   "source": [
    "str1='virat.kohli@rcb.com, Rohit.sharma@mi.com, KL.rahul@lucknow.com'\n",
    "list1=str1.split('.')\n",
    "list1[0][:list1[0].index('.')]\n",
    "list1[1][:list1[1].index('.')]\n",
    "list1[2][:list1[2].index('.')]\n",
    "[list1[0],list1[1],list1[2]]"
   ]
  },
  {
   "cell_type": "code",
   "execution_count": 16,
   "id": "e893aa4e-754a-4953-ac92-f2368590d66a",
   "metadata": {},
   "outputs": [
    {
     "ename": "ValueError",
     "evalue": "substring not found",
     "output_type": "error",
     "traceback": [
      "\u001b[1;31m---------------------------------------------------------------------------\u001b[0m",
      "\u001b[1;31mValueError\u001b[0m                                Traceback (most recent call last)",
      "Cell \u001b[1;32mIn[16], line 3\u001b[0m\n\u001b[0;32m      1\u001b[0m str1\u001b[38;5;241m=\u001b[39m\u001b[38;5;124m'\u001b[39m\u001b[38;5;124mvirat.kohli@rcb.com, Rohit.sharma@mi.com, KL.rahul@lucknow.com\u001b[39m\u001b[38;5;124m'\u001b[39m\n\u001b[0;32m      2\u001b[0m list1\u001b[38;5;241m=\u001b[39mstr1\u001b[38;5;241m.\u001b[39msplit(\u001b[38;5;124m'\u001b[39m\u001b[38;5;124m.\u001b[39m\u001b[38;5;124m'\u001b[39m)\n\u001b[1;32m----> 3\u001b[0m list1[\u001b[38;5;241m0\u001b[39m][:list1[\u001b[38;5;241m0\u001b[39m]\u001b[38;5;241m.\u001b[39mindex(\u001b[38;5;124m'\u001b[39m\u001b[38;5;124m.\u001b[39m\u001b[38;5;124m'\u001b[39m)]\n",
      "\u001b[1;31mValueError\u001b[0m: substring not found"
     ]
    }
   ],
   "source": [
    "str1='virat.kohli@rcb.com, Rohit.sharma@mi.com, KL.rahul@lucknow.com'\n",
    "list1=str1.split('.')\n",
    "list1[0][:list1[0].index('.')]"
   ]
  },
  {
   "cell_type": "code",
   "execution_count": 35,
   "id": "c2fc934d-fe7d-458d-8d58-e2812e8360bc",
   "metadata": {},
   "outputs": [
    {
     "data": {
      "text/plain": [
       "(['Mum#bai', 'Chen#nai'], ['Hyd', 'blr'])"
      ]
     },
     "execution_count": 35,
     "metadata": {},
     "output_type": "execute_result"
    }
   ],
   "source": [
    "l1=['Hyd','Mum#bai','Chen#nai','blr']\n",
    "ans_with=[]\n",
    "ans_without=[]\n",
    "for i in l1:\n",
    "    if '#' in i:\n",
    "        ans_with.append(i)\n",
    "\n",
    "    else:\n",
    "        ans_without.append(i)\n",
    "\n",
    "ans_with, ans_without"
   ]
  },
  {
   "cell_type": "code",
   "execution_count": 37,
   "id": "46f11f9d-0bb4-489e-85e5-04c71fb38aec",
   "metadata": {},
   "outputs": [
    {
     "data": {
      "text/plain": [
       "(['Mum#bai', 'Chen#nai'], ['Hyd', 'blr'])"
      ]
     },
     "execution_count": 37,
     "metadata": {},
     "output_type": "execute_result"
    }
   ],
   "source": [
    "l1=['Hyd','Mum#bai','Chen#nai','blr']\n",
    "ans_with=[]\n",
    "ans_without=[]\n",
    "for i in l1:\n",
    "    if '#' in i:\n",
    "        ans_with.append(i)\n",
    "    if '#' not in i:\n",
    "        ans_without.append(i)\n",
    "\n",
    "ans_with, ans_without"
   ]
  },
  {
   "cell_type": "code",
   "execution_count": 46,
   "id": "b16ae088-aeaf-442f-8c31-dca89e689bb4",
   "metadata": {},
   "outputs": [
    {
     "data": {
      "text/plain": [
       "['Mum#bai', 'Chen#nai']"
      ]
     },
     "execution_count": 46,
     "metadata": {},
     "output_type": "execute_result"
    }
   ],
   "source": [
    "# [<output> <for loop> <if condition>]\n",
    "\n",
    "l1=['Hyd','Mum#bai','Chen#nai','blr']\n",
    "op=[i for i in l1 if '#' in i]\n",
    "op"
   ]
  },
  {
   "cell_type": "code",
   "execution_count": 51,
   "id": "0aa859a0-656b-4b98-a76e-6837e2815978",
   "metadata": {},
   "outputs": [
    {
     "ename": "ValueError",
     "evalue": "substring not found",
     "output_type": "error",
     "traceback": [
      "\u001b[1;31m---------------------------------------------------------------------------\u001b[0m",
      "\u001b[1;31mValueError\u001b[0m                                Traceback (most recent call last)",
      "Cell \u001b[1;32mIn[51], line 3\u001b[0m\n\u001b[0;32m      1\u001b[0m str1\u001b[38;5;241m=\u001b[39m\u001b[38;5;124m'\u001b[39m\u001b[38;5;124mvirat.kohli@rcb.com, Rohit.sharma@mi.com, KL.rahul@lucknow.com\u001b[39m\u001b[38;5;124m'\u001b[39m\n\u001b[0;32m      2\u001b[0m list1\u001b[38;5;241m=\u001b[39mstr1\u001b[38;5;241m.\u001b[39msplit(\u001b[38;5;124m'\u001b[39m\u001b[38;5;124m.\u001b[39m\u001b[38;5;124m'\u001b[39m)\n\u001b[1;32m----> 3\u001b[0m list1[\u001b[38;5;241m0\u001b[39m][:list1[\u001b[38;5;241m0\u001b[39m]\u001b[38;5;241m.\u001b[39mindex(\u001b[38;5;124m'\u001b[39m\u001b[38;5;124m.\u001b[39m\u001b[38;5;124m'\u001b[39m)]\n",
      "\u001b[1;31mValueError\u001b[0m: substring not found"
     ]
    }
   ],
   "source": [
    "str1='virat.kohli@rcb.com, Rohit.sharma@mi.com, KL.rahul@lucknow.com'\n",
    "list1=str1.split('.')\n",
    "list1[0][:list1[0].index('.')]"
   ]
  },
  {
   "cell_type": "code",
   "execution_count": 11,
   "id": "336a9fec-4493-412e-a385-7945f92a54a8",
   "metadata": {},
   "outputs": [
    {
     "data": {
      "text/plain": [
       "['virat.kohli', 'rcb.com, Rohit.sharma', 'mi.com, KL.rahul', 'lucknow.com']"
      ]
     },
     "execution_count": 11,
     "metadata": {},
     "output_type": "execute_result"
    }
   ],
   "source": [
    "str1='virat.kohli@rcb.com, Rohit.sharma@mi.com, KL.rahul@lucknow.com'\n",
    "list2=str1.split('@')\n",
    "list2\n"
   ]
  },
  {
   "cell_type": "code",
   "execution_count": 19,
   "id": "23a62966-8def-4eda-a3c5-6acb800e96db",
   "metadata": {},
   "outputs": [
    {
     "data": {
      "text/plain": [
       "['virat', ' Rohit', ' KL']"
      ]
     },
     "execution_count": 19,
     "metadata": {},
     "output_type": "execute_result"
    }
   ],
   "source": [
    "str1='virat.kohli@rcb.com, Rohit.sharma@mi.com, KL.rahul@lucknow.com'\n",
    "list1=str1.split(',')\n",
    "first_name=[i [:i.index('.')] for i in list1]\n",
    "first_name\n"
   ]
  },
  {
   "cell_type": "code",
   "execution_count": 4,
   "id": "06eb9f97-990b-4f41-b344-8b30c337a950",
   "metadata": {},
   "outputs": [
    {
     "data": {
      "text/plain": [
       "['NARESH', 'IT', 'PYTHON', 'DS']"
      ]
     },
     "execution_count": 4,
     "metadata": {},
     "output_type": "execute_result"
    }
   ],
   "source": [
    "l=['naresh','it','python','ds']\n",
    "list(map(lambda i:i.upper(),l))"
   ]
  },
  {
   "cell_type": "markdown",
   "id": "080faa59-6666-4ea9-a98f-0f501cfe16c7",
   "metadata": {},
   "source": [
    "## file handling"
   ]
  },
  {
   "cell_type": "code",
   "execution_count": 10,
   "id": "3ee7a169-825f-42da-9ab9-22f9ad058aba",
   "metadata": {},
   "outputs": [
    {
     "name": "stdout",
     "output_type": "stream",
     "text": [
      "Help on built-in function dir in module builtins:\n",
      "\n",
      "dir(...)\n",
      "    dir([object]) -> list of strings\n",
      "    \n",
      "    If called without an argument, return the names in the current scope.\n",
      "    Else, return an alphabetized list of names comprising (some of) the attributes\n",
      "    of the given object, and of attributes reachable from it.\n",
      "    If the object supplies a method named __dir__, it will be used; otherwise\n",
      "    the default dir() logic is used and returns:\n",
      "      for a module object: the module's attributes.\n",
      "      for a class object:  its attributes, and recursively the attributes\n",
      "        of its bases.\n",
      "      for any other object: its attributes, its class's attributes, and\n",
      "        recursively the attributes of its class's base classes.\n",
      "\n"
     ]
    }
   ],
   "source": [
    "help(dir)"
   ]
  },
  {
   "cell_type": "code",
   "execution_count": 15,
   "id": "e31b0d6d-9bc4-40ab-9cf1-6e577aeaa7df",
   "metadata": {},
   "outputs": [
    {
     "name": "stdout",
     "output_type": "stream",
     "text": [
      "{'Data': 68, 'science': 115, 'interdisciplinary': 105, 'academic': 97, 'field': 102, 'that': 116, 'uses': 117, 'statistics,': 115, 'scientific': 115, 'computing,': 99, 'methods,': 109, 'processes,': 112, 'visualization,': 118, 'algorithms': 97, 'and': 97, 'systems': 115, 'to': 116, 'extract': 101, 'or': 111, 'extrapolate': 101, 'knowledge': 107, 'insights': 105, 'from': 102, 'potentially': 112, 'noisy,': 110, 'structured,': 115, 'unstructured': 117, 'data.': 100, 'also': 97, 'integrates': 105, 'domain': 100, 'underlying': 117, 'application': 97, 'domain.': 100, 'multifaceted': 109, 'can': 99, 'be': 98, 'described': 100, 'as': 97, 'science,': 115, 'research': 114, 'paradigm,': 112, 'method,': 109, 'discipline,': 100, 'workflow,': 119, 'profession.': 112} "
     ]
    }
   ],
   "source": [
    "str1=\"\"\"Data science is an interdisciplinary academic field that uses statistics, \n",
    "scientific computing, scientific methods, processes, scientific visualization, \n",
    "algorithms and systems to extract or extrapolate knowledge and insights from potentially noisy, structured, or unstructured data.\n",
    "Data science also integrates domain knowledge from the underlying application domain. Data science is multifaceted and can be described as a science,\n",
    "a research paradigm, a research method, a discipline, a workflow, and a profession.\"\"\"\n",
    "\n",
    "dict={}\n",
    "list=[]\n",
    "str2=str1.split()\n",
    "for i in str2:\n",
    "    if i not in ('a','an','is','the'):\n",
    "        list.append(i)\n",
    "        for i in range(len(list)):\n",
    "            dict[list[i]]=ord(list[i][0])\n",
    "\n",
    "print(dict,end=' ')"
   ]
  },
  {
   "cell_type": "code",
   "execution_count": 20,
   "id": "8ec2a8a0-45d9-444f-ac6e-aba9e0adb1ef",
   "metadata": {},
   "outputs": [
    {
     "data": {
      "text/plain": [
       "{'Data': 68,\n",
       " 'science': 115,\n",
       " 'interdisciplinary': 105,\n",
       " 'academic': 97,\n",
       " 'field': 102,\n",
       " 'that': 116,\n",
       " 'uses': 117,\n",
       " 'statistics,': 115,\n",
       " 'scientific': 115,\n",
       " 'computing,': 99,\n",
       " 'methods,': 109,\n",
       " 'processes,': 112,\n",
       " 'visualization,': 118,\n",
       " 'algorithms': 97,\n",
       " 'and': 97,\n",
       " 'systems': 115,\n",
       " 'to': 116,\n",
       " 'extract': 101,\n",
       " 'or': 111,\n",
       " 'extrapolate': 101,\n",
       " 'knowledge': 107,\n",
       " 'insights': 105,\n",
       " 'from': 102,\n",
       " 'potentially': 112,\n",
       " 'noisy,': 110,\n",
       " 'structured,': 115,\n",
       " 'unstructured': 117,\n",
       " 'data.': 100,\n",
       " 'also': 97,\n",
       " 'integrates': 105,\n",
       " 'domain': 100,\n",
       " 'underlying': 117,\n",
       " 'application': 97,\n",
       " 'domain.': 100,\n",
       " 'multifaceted': 109,\n",
       " 'can': 99,\n",
       " 'be': 98,\n",
       " 'described': 100,\n",
       " 'as': 97,\n",
       " 'science,': 115,\n",
       " 'research': 114,\n",
       " 'paradigm,': 112,\n",
       " 'method,': 109,\n",
       " 'discipline,': 100,\n",
       " 'workflow,': 119,\n",
       " 'profession.': 112}"
      ]
     },
     "execution_count": 20,
     "metadata": {},
     "output_type": "execute_result"
    }
   ],
   "source": [
    "word_list=str1.split()\n",
    "list_words=[i for i in word_list if i not in 'a an is the']\n",
    "dict_word={}\n",
    "for i in list_words:\n",
    "    dict_word[i]=ord(i[0])\n",
    "\n",
    "dict_word"
   ]
  },
  {
   "cell_type": "code",
   "execution_count": 21,
   "id": "7f9e3cb5-e2c7-41ed-a726-6d7068fb7e88",
   "metadata": {},
   "outputs": [
    {
     "name": "stdout",
     "output_type": "stream",
     "text": [
      "{'Data': 68, 'science': 115, 'interdisciplinary': 105, 'academic': 97, 'field': 102, 'that': 116, 'uses': 117, 'statistics,': 115, 'scientific': 115, 'computing,': 99, 'methods,': 109, 'processes,': 112, 'visualization,': 118, 'algorithms': 97, 'and': 97, 'systems': 115, 'to': 116, 'extract': 101, 'or': 111, 'extrapolate': 101, 'knowledge': 107, 'insights': 105, 'from': 102, 'potentially': 112, 'noisy,': 110, 'structured,': 115, 'unstructured': 117, 'data.': 100, 'also': 97, 'integrates': 105, 'domain': 100, 'underlying': 117, 'application': 97, 'domain.': 100, 'multifaceted': 109, 'can': 99, 'be': 98, 'described': 100, 'as': 97, 'science,': 115, 'research': 114, 'paradigm,': 112, 'method,': 109, 'discipline,': 100, 'workflow,': 119, 'profession.': 112} "
     ]
    }
   ],
   "source": [
    "word_list=str1.split()\n",
    "list_words=[i for i in word_list if i not in 'a an is the']\n",
    "dict_word={}\n",
    "for i in list_words:\n",
    "    dict_word[i]=ord(i[0])\n",
    "\n",
    "print(dict_word,end=' ')"
   ]
  },
  {
   "cell_type": "code",
   "execution_count": 29,
   "id": "e4f54b3d-5d1c-4403-8a3d-1b5148085977",
   "metadata": {},
   "outputs": [
    {
     "data": {
      "text/plain": [
       "'India'"
      ]
     },
     "execution_count": 29,
     "metadata": {},
     "output_type": "execute_result"
    }
   ],
   "source": [
    "d={'Fruits':[{'Apple':{'kashmir':['India']}}]}\n",
    "d['Fruits'][0]['Apple']['kashmir'][0]"
   ]
  },
  {
   "cell_type": "code",
   "execution_count": 41,
   "id": "ead0ad85-6a2d-410f-a1fd-43c924ea12ee",
   "metadata": {},
   "outputs": [
    {
     "ename": "TypeError",
     "evalue": "'set' object is not subscriptable",
     "output_type": "error",
     "traceback": [
      "\u001b[1;31m---------------------------------------------------------------------------\u001b[0m",
      "\u001b[1;31mTypeError\u001b[0m                                 Traceback (most recent call last)",
      "Cell \u001b[1;32mIn[41], line 2\u001b[0m\n\u001b[0;32m      1\u001b[0m d\u001b[38;5;241m=\u001b[39m{\u001b[38;5;124m'\u001b[39m\u001b[38;5;124mFruits\u001b[39m\u001b[38;5;124m'\u001b[39m:{\u001b[38;5;124m'\u001b[39m\u001b[38;5;124mBenganapalli\u001b[39m\u001b[38;5;124m'\u001b[39m:{\u001b[38;5;124m'\u001b[39m\u001b[38;5;124mMango\u001b[39m\u001b[38;5;124m'\u001b[39m:{\u001b[38;5;124m'\u001b[39m\u001b[38;5;124mNagpur\u001b[39m\u001b[38;5;124m'\u001b[39m:{\u001b[38;5;124m'\u001b[39m\u001b[38;5;124mMH\u001b[39m\u001b[38;5;124m'\u001b[39m:{\u001b[38;5;124m'\u001b[39m\u001b[38;5;124mShivaji\u001b[39m\u001b[38;5;124m'\u001b[39m:{\u001b[38;5;124m'\u001b[39m\u001b[38;5;124mShambaji\u001b[39m\u001b[38;5;124m'\u001b[39m}}}}}}}\n\u001b[1;32m----> 2\u001b[0m d[\u001b[38;5;124m'\u001b[39m\u001b[38;5;124mFruits\u001b[39m\u001b[38;5;124m'\u001b[39m][\u001b[38;5;124m'\u001b[39m\u001b[38;5;124mBenganapalli\u001b[39m\u001b[38;5;124m'\u001b[39m][\u001b[38;5;124m'\u001b[39m\u001b[38;5;124mMango\u001b[39m\u001b[38;5;124m'\u001b[39m][\u001b[38;5;124m'\u001b[39m\u001b[38;5;124mNagpur\u001b[39m\u001b[38;5;124m'\u001b[39m][\u001b[38;5;124m'\u001b[39m\u001b[38;5;124mMH\u001b[39m\u001b[38;5;124m'\u001b[39m][\u001b[38;5;124m'\u001b[39m\u001b[38;5;124mShivaji\u001b[39m\u001b[38;5;124m'\u001b[39m][\u001b[38;5;124m'\u001b[39m\u001b[38;5;124mShambaji\u001b[39m\u001b[38;5;124m'\u001b[39m]\n",
      "\u001b[1;31mTypeError\u001b[0m: 'set' object is not subscriptable"
     ]
    }
   ],
   "source": [
    "d={'Fruits':{'Benganapalli':{'Mango':{'Nagpur':{'MH':{'Shivaji':{'Shambaji'}}}}}}}\n",
    "d['Fruits']['Benganapalli']['Mango']['Nagpur']['MH']['Shivaji']['Shambaji']"
   ]
  },
  {
   "cell_type": "code",
   "execution_count": 36,
   "id": "e34c5298-1827-4c16-9252-accb79de6696",
   "metadata": {},
   "outputs": [
    {
     "data": {
      "text/plain": [
       "{'Fruits': {'Benganapalli': {'Mango': {'Nagpur': {'MH': {'Shivaji': {'Shambaji'}}}}}}}"
      ]
     },
     "execution_count": 36,
     "metadata": {},
     "output_type": "execute_result"
    }
   ],
   "source": [
    "d={'Fruits':{'Benganapalli':{'Mango':{'Nagpur':{'MH':{'Shivaji':{'Shambaji'}}}}}}}\n",
    "d"
   ]
  },
  {
   "cell_type": "code",
   "execution_count": 42,
   "id": "1f380347-f0e5-4ef9-8a94-57ed13db408a",
   "metadata": {},
   "outputs": [
    {
     "data": {
      "text/plain": [
       "{1, 2, 3, 4}"
      ]
     },
     "execution_count": 42,
     "metadata": {},
     "output_type": "execute_result"
    }
   ],
   "source": [
    "my_set={1,2,3,4}\n",
    "my_set"
   ]
  },
  {
   "cell_type": "code",
   "execution_count": 43,
   "id": "710b2ddb-8c60-4dac-8540-8b8fdd234e06",
   "metadata": {},
   "outputs": [
    {
     "ename": "SyntaxError",
     "evalue": "unterminated string literal (detected at line 1) (1968309874.py, line 1)",
     "output_type": "error",
     "traceback": [
      "\u001b[1;36m  Cell \u001b[1;32mIn[43], line 1\u001b[1;36m\u001b[0m\n\u001b[1;33m    print (\"Hello World)\u001b[0m\n\u001b[1;37m           ^\u001b[0m\n\u001b[1;31mSyntaxError\u001b[0m\u001b[1;31m:\u001b[0m unterminated string literal (detected at line 1)\n"
     ]
    }
   ],
   "source": [
    "print (\"Hello World)"
   ]
  },
  {
   "cell_type": "code",
   "execution_count": 44,
   "id": "a930dc40-b6f1-485c-920b-090a6a7f8033",
   "metadata": {},
   "outputs": [
    {
     "ename": "KeyError",
     "evalue": "'address'",
     "output_type": "error",
     "traceback": [
      "\u001b[1;31m---------------------------------------------------------------------------\u001b[0m",
      "\u001b[1;31mKeyError\u001b[0m                                  Traceback (most recent call last)",
      "Cell \u001b[1;32mIn[44], line 2\u001b[0m\n\u001b[0;32m      1\u001b[0m my_dict \u001b[38;5;241m=\u001b[39m{\u001b[38;5;124m'\u001b[39m\u001b[38;5;124mname\u001b[39m\u001b[38;5;124m'\u001b[39m: \u001b[38;5;124m'\u001b[39m\u001b[38;5;124mAlice\u001b[39m\u001b[38;5;124m'\u001b[39m, \u001b[38;5;124m'\u001b[39m\u001b[38;5;124mage\u001b[39m\u001b[38;5;124m'\u001b[39m:\u001b[38;5;241m23\u001b[39m}\n\u001b[1;32m----> 2\u001b[0m \u001b[38;5;28mprint\u001b[39m(my_dict[\u001b[38;5;124m'\u001b[39m\u001b[38;5;124maddress\u001b[39m\u001b[38;5;124m'\u001b[39m])\n",
      "\u001b[1;31mKeyError\u001b[0m: 'address'"
     ]
    }
   ],
   "source": [
    "my_dict ={'name': 'Alice', 'age':23}\n",
    "print(my_dict['address'])"
   ]
  },
  {
   "cell_type": "code",
   "execution_count": 52,
   "id": "f247e283-b4f6-4e1b-83a4-398e3ec0bba0",
   "metadata": {},
   "outputs": [
    {
     "name": "stdout",
     "output_type": "stream",
     "text": [
      "23\n"
     ]
    }
   ],
   "source": [
    "my_dict ={'name': 'Alice', 'age':23}\n",
    "print(my_dict['age'])"
   ]
  },
  {
   "cell_type": "code",
   "execution_count": 57,
   "id": "9b542d5f-85dc-4134-8a50-f101402796b1",
   "metadata": {},
   "outputs": [
    {
     "ename": "ValueError",
     "evalue": "list.remove(x): x not in list",
     "output_type": "error",
     "traceback": [
      "\u001b[1;31m---------------------------------------------------------------------------\u001b[0m",
      "\u001b[1;31mValueError\u001b[0m                                Traceback (most recent call last)",
      "Cell \u001b[1;32mIn[57], line 2\u001b[0m\n\u001b[0;32m      1\u001b[0m my_list \u001b[38;5;241m=\u001b[39m [\u001b[38;5;241m1\u001b[39m, \u001b[38;5;241m2\u001b[39m, \u001b[38;5;241m3\u001b[39m]\n\u001b[1;32m----> 2\u001b[0m my_list\u001b[38;5;241m.\u001b[39mremove(\u001b[38;5;241m4\u001b[39m)\n",
      "\u001b[1;31mValueError\u001b[0m: list.remove(x): x not in list"
     ]
    }
   ],
   "source": [
    "my_list = [1, 2, 3]\n",
    "my_list.remove(4)"
   ]
  },
  {
   "cell_type": "code",
   "execution_count": 58,
   "id": "fc409b48-bb05-49aa-a00c-98b89bf8f30f",
   "metadata": {},
   "outputs": [
    {
     "ename": "IndexError",
     "evalue": "list index out of range",
     "output_type": "error",
     "traceback": [
      "\u001b[1;31m---------------------------------------------------------------------------\u001b[0m",
      "\u001b[1;31mIndexError\u001b[0m                                Traceback (most recent call last)",
      "Cell \u001b[1;32mIn[58], line 2\u001b[0m\n\u001b[0;32m      1\u001b[0m my_list \u001b[38;5;241m=\u001b[39m [\u001b[38;5;241m1\u001b[39m, \u001b[38;5;241m2\u001b[39m, \u001b[38;5;241m3\u001b[39m]\n\u001b[1;32m----> 2\u001b[0m \u001b[38;5;28mprint\u001b[39m(my_list[\u001b[38;5;241m3\u001b[39m])\n",
      "\u001b[1;31mIndexError\u001b[0m: list index out of range"
     ]
    }
   ],
   "source": [
    "my_list = [1, 2, 3]\n",
    "print(my_list[3])"
   ]
  },
  {
   "cell_type": "code",
   "execution_count": 59,
   "id": "1ecc4fa5-c7f9-4e34-ac8d-1134a2cb88a9",
   "metadata": {},
   "outputs": [
    {
     "ename": "NameError",
     "evalue": "name 'APPLE' is not defined",
     "output_type": "error",
     "traceback": [
      "\u001b[1;31m---------------------------------------------------------------------------\u001b[0m",
      "\u001b[1;31mNameError\u001b[0m                                 Traceback (most recent call last)",
      "Cell \u001b[1;32mIn[59], line 1\u001b[0m\n\u001b[1;32m----> 1\u001b[0m MANGO \u001b[38;5;241m=\u001b[39m APPLE\n",
      "\u001b[1;31mNameError\u001b[0m: name 'APPLE' is not defined"
     ]
    }
   ],
   "source": [
    "MANGO = APPLE"
   ]
  },
  {
   "cell_type": "code",
   "execution_count": 60,
   "id": "50970d1e-d6f2-4924-81c4-b4e1c9315240",
   "metadata": {},
   "outputs": [
    {
     "ename": "NameError",
     "evalue": "name 'power' is not defined",
     "output_type": "error",
     "traceback": [
      "\u001b[1;31m---------------------------------------------------------------------------\u001b[0m",
      "\u001b[1;31mNameError\u001b[0m                                 Traceback (most recent call last)",
      "Cell \u001b[1;32mIn[60], line 1\u001b[0m\n\u001b[1;32m----> 1\u001b[0m power(ab)\n",
      "\u001b[1;31mNameError\u001b[0m: name 'power' is not defined"
     ]
    }
   ],
   "source": [
    "power(ab)"
   ]
  },
  {
   "cell_type": "code",
   "execution_count": null,
   "id": "c416d188-4892-438b-9fd1-9ab40b506311",
   "metadata": {},
   "outputs": [],
   "source": []
  }
 ],
 "metadata": {
  "kernelspec": {
   "display_name": "Python 3 (ipykernel)",
   "language": "python",
   "name": "python3"
  },
  "language_info": {
   "codemirror_mode": {
    "name": "ipython",
    "version": 3
   },
   "file_extension": ".py",
   "mimetype": "text/x-python",
   "name": "python",
   "nbconvert_exporter": "python",
   "pygments_lexer": "ipython3",
   "version": "3.11.7"
  }
 },
 "nbformat": 4,
 "nbformat_minor": 5
}
