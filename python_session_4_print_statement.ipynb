{
 "cells": [
  {
   "cell_type": "code",
   "execution_count": 1,
   "id": "f5591890-2c95-4272-830a-4fa8d09c3de5",
   "metadata": {},
   "outputs": [
    {
     "name": "stdout",
     "output_type": "stream",
     "text": [
      "10\n"
     ]
    }
   ],
   "source": [
    "print(10)"
   ]
  },
  {
   "cell_type": "code",
   "execution_count": 2,
   "id": "ff978107-b96c-4216-b3bf-17bc9df66f46",
   "metadata": {},
   "outputs": [
    {
     "name": "stdout",
     "output_type": "stream",
     "text": [
      "python\n"
     ]
    }
   ],
   "source": [
    "print('python')"
   ]
  },
  {
   "cell_type": "code",
   "execution_count": 3,
   "id": "516a74a8-32b0-4ddf-a9fc-14453a7a2206",
   "metadata": {},
   "outputs": [
    {
     "name": "stdout",
     "output_type": "stream",
     "text": [
      "10 20 30\n"
     ]
    }
   ],
   "source": [
    "print(10,20,30)"
   ]
  },
  {
   "cell_type": "code",
   "execution_count": 6,
   "id": "da972bee-0e02-4719-b24a-9191a32c44a0",
   "metadata": {},
   "outputs": [
    {
     "name": "stdout",
     "output_type": "stream",
     "text": [
      "10 20 naresh it True\n"
     ]
    }
   ],
   "source": [
    "print(10,20,'naresh it',True)"
   ]
  },
  {
   "cell_type": "code",
   "execution_count": 7,
   "id": "5fc6a709-ebb6-4218-8d35-bd33e18c77e3",
   "metadata": {},
   "outputs": [
    {
     "name": "stdout",
     "output_type": "stream",
     "text": [
      "10 20\n"
     ]
    }
   ],
   "source": [
    "n1=10\n",
    "n2=20\n",
    "print(n1,n2)"
   ]
  },
  {
   "cell_type": "code",
   "execution_count": 19,
   "id": "480b7ef2-867b-4c64-8d8a-f1960bdac6f0",
   "metadata": {},
   "outputs": [
    {
     "name": "stdout",
     "output_type": "stream",
     "text": [
      "10 23 30\n",
      "10\n",
      "23\n"
     ]
    },
    {
     "data": {
      "text/plain": [
       "(None, None)"
      ]
     },
     "execution_count": 19,
     "metadata": {},
     "output_type": "execute_result"
    }
   ],
   "source": [
    "print(10,23,30)\n",
    "print(10),print(23)"
   ]
  },
  {
   "cell_type": "code",
   "execution_count": 8,
   "id": "b770a227-422a-4227-8082-30125a49b1b5",
   "metadata": {},
   "outputs": [
    {
     "data": {
      "text/plain": [
       "(10, 10)"
      ]
     },
     "execution_count": 8,
     "metadata": {},
     "output_type": "execute_result"
    }
   ],
   "source": [
    "10,10"
   ]
  },
  {
   "cell_type": "code",
   "execution_count": null,
   "id": "82b4e52e-aa02-451e-a225-4b8492b6c79f",
   "metadata": {},
   "outputs": [],
   "source": []
  },
  {
   "cell_type": "markdown",
   "id": "e3187630-450e-4659-a134-000994d0692b",
   "metadata": {},
   "source": [
    "## format method"
   ]
  },
  {
   "cell_type": "code",
   "execution_count": 10,
   "id": "d27fe708-84cb-429f-a724-4f8ea5af6ddc",
   "metadata": {},
   "outputs": [
    {
     "name": "stdout",
     "output_type": "stream",
     "text": [
      "the addition of100 and 200 is 300\n"
     ]
    }
   ],
   "source": [
    "a=100\n",
    "b=200\n",
    "c=a+b\n",
    "print(\"the addition of{} and {} is {}\".format(a,b,c))"
   ]
  },
  {
   "cell_type": "code",
   "execution_count": null,
   "id": "58aacf14-601e-4971-8975-b3de6d1f09f6",
   "metadata": {},
   "outputs": [],
   "source": [
    "# read your name\n",
    "# read your age\n",
    "# read your city\n",
    "# my name is py"
   ]
  },
  {
   "cell_type": "code",
   "execution_count": 12,
   "id": "c5ac9759-ddd9-4b3a-a764-74c515d88fd7",
   "metadata": {},
   "outputs": [
    {
     "name": "stdout",
     "output_type": "stream",
     "text": [
      "my name is umesh,10 years old and in from hyderabad\n",
      "my name is umesh,33 years old and im from hyderabad\n",
      "my name is umesh, 33 years old and im from hyderabad\n"
     ]
    }
   ],
   "source": [
    "a='umesh'\n",
    "b=33\n",
    "c='hyderabad'\n",
    "print(\"my name is umesh,10 years old and in from hyderabad\")\n",
    "print(f\"my name is {a},{b} years old and im from {c}\")\n",
    "print(\"my name is {}, {} years old and im from {}\".format(a,b,c))"
   ]
  },
  {
   "cell_type": "code",
   "execution_count": 9,
   "id": "4a6bc812-3909-4960-8f42-75734a01c266",
   "metadata": {},
   "outputs": [
    {
     "name": "stdout",
     "output_type": "stream",
     "text": [
      "my name is umesh, i want to become DS, in google company\n"
     ]
    }
   ],
   "source": [
    "name='umesh'\n",
    "role='DS'\n",
    "company='google'\n",
    "print(\"my name is {}, i want to become {}, in {} company\".format(name,role,company))"
   ]
  },
  {
   "cell_type": "code",
   "execution_count": 11,
   "id": "89557023-43bf-403a-8100-5731581aea47",
   "metadata": {},
   "outputs": [
    {
     "name": "stdout",
     "output_type": "stream",
     "text": [
      "the addition of100 and 200 is 300\n"
     ]
    }
   ],
   "source": [
    "a=100\n",
    "b=200\n",
    "c=a+b\n",
    "print(f\"the addition of{a} and {b} is {c}\")"
   ]
  },
  {
   "cell_type": "code",
   "execution_count": 16,
   "id": "ee18f478-3b94-4d60-a161-c3a4772460ec",
   "metadata": {},
   "outputs": [
    {
     "name": "stdout",
     "output_type": "stream",
     "text": [
      "my name is umesh, 25 years old and im from hyd\n"
     ]
    }
   ],
   "source": [
    "name='umesh'\n",
    "age=25\n",
    "city='hyd'\n",
    "print(f\"my name is {name}, {age} years old and im from {city}\")"
   ]
  },
  {
   "cell_type": "code",
   "execution_count": 15,
   "id": "ddd2cc4a-f015-481c-80e2-52962db6e00f",
   "metadata": {},
   "outputs": [
    {
     "ename": "SyntaxError",
     "evalue": "f-string: empty expression not allowed (1582833642.py, line 4)",
     "output_type": "error",
     "traceback": [
      "\u001b[1;36m  Cell \u001b[1;32mIn[15], line 4\u001b[1;36m\u001b[0m\n\u001b[1;33m    print(f\"my name is {}, {} years old and im from {}\")\u001b[0m\n\u001b[1;37m                                                       ^\u001b[0m\n\u001b[1;31mSyntaxError\u001b[0m\u001b[1;31m:\u001b[0m f-string: empty expression not allowed\n"
     ]
    }
   ],
   "source": [
    "name='umesh'\n",
    "age=25\n",
    "city='hyd'\n",
    "print(f\"my name is {}, {} years old and im from {}\")"
   ]
  },
  {
   "cell_type": "code",
   "execution_count": 18,
   "id": "618e029a-fbd8-45e9-8e73-1fcc20bcf8f0",
   "metadata": {},
   "outputs": [
    {
     "name": "stdout",
     "output_type": "stream",
     "text": [
      "My Name is Umesh I want to become Data Scientist in the Google Company\n"
     ]
    }
   ],
   "source": [
    "name='Umesh'\n",
    "role='Data Scientist'\n",
    "company='Google'\n",
    "print(f\"My Name is {name} I want to become {role} in the {company} Company\")"
   ]
  },
  {
   "cell_type": "code",
   "execution_count": 1,
   "id": "83af5d9a-e942-47f3-aa7f-d18c61785a1b",
   "metadata": {},
   "outputs": [
    {
     "name": "stdout",
     "output_type": "stream",
     "text": [
      "the average of 100 and 200 is 150\n"
     ]
    }
   ],
   "source": [
    "num1=100\n",
    "num2=200\n",
    "average=(num1+num2)/2\n",
    "# the average of 100 and 200 is: 150\n",
    "print(f\"the average of 100 and 200 is 150\")"
   ]
  },
  {
   "cell_type": "code",
   "execution_count": 3,
   "id": "c2851db9-e1f4-45c6-b929-55308e4c5d61",
   "metadata": {},
   "outputs": [
    {
     "name": "stdout",
     "output_type": "stream",
     "text": [
      "the average of 100 and 200 is: 150.0\n"
     ]
    }
   ],
   "source": [
    "print(\"the average of {} and {} is: {}\".format(num1,num2,average))"
   ]
  },
  {
   "cell_type": "code",
   "execution_count": 7,
   "id": "d2e15f7a-3429-4e03-9328-f162de8ebcde",
   "metadata": {},
   "outputs": [
    {
     "name": "stdout",
     "output_type": "stream",
     "text": [
      "the area of circle is 452.15999999999997\n"
     ]
    }
   ],
   "source": [
    "# take the radius of circle \n",
    "# take the pi value=3.14\n",
    "#find the area of the circle = pi*r*r\n",
    "radius=12\n",
    "pi_value=3.14\n",
    "area=pi_value*radius*radius\n",
    "print(f\"the area of circle is: {area}\")\n"
   ]
  },
  {
   "cell_type": "code",
   "execution_count": 6,
   "id": "9e307325-30a6-4273-bcff-445fccec2688",
   "metadata": {},
   "outputs": [
    {
     "name": "stdout",
     "output_type": "stream",
     "text": [
      "area of triangle 65.0\n"
     ]
    }
   ],
   "source": [
    "base=13\n",
    "heifht=10\n",
    "area_of_triangle=1/2*base*heifht\n",
    "print(\"area of triangle {}\".format(area_of_triangle))"
   ]
  },
  {
   "cell_type": "code",
   "execution_count": 20,
   "id": "555b899a-e228-478e-96c5-8129eb6a4dec",
   "metadata": {},
   "outputs": [
    {
     "name": "stdout",
     "output_type": "stream",
     "text": [
      "total tip amount is: 100.0\n",
      "total bill is: 1100.0\n"
     ]
    }
   ],
   "source": [
    "bill=1000\n",
    "tip=10\n",
    "tip_amount=bill*tip/100\n",
    "total_bill=(bill+tip_amount)\n",
    "print(f\"total tip amount is: {tip_amount}\")\n",
    "print(f\"total bill is: {total_bill}\")"
   ]
  },
  {
   "cell_type": "markdown",
   "id": "27a47da2-871d-4ee4-810d-c3aa1e4ae8f8",
   "metadata": {},
   "source": [
    "# end operator"
   ]
  },
  {
   "cell_type": "code",
   "execution_count": 17,
   "id": "9246febb-189c-4e23-afbf-de026f6b2558",
   "metadata": {},
   "outputs": [
    {
     "name": "stdout",
     "output_type": "stream",
     "text": [
      "10 20\n"
     ]
    }
   ],
   "source": [
    "print(10,end=' ')\n",
    "print(20)"
   ]
  },
  {
   "cell_type": "code",
   "execution_count": null,
   "id": "9102c62d-3940-4a6e-94f0-45463a4b945b",
   "metadata": {},
   "outputs": [],
   "source": [
    "$end$\n",
    "combining multiple print statement in a single line"
   ]
  },
  {
   "cell_type": "code",
   "execution_count": 18,
   "id": "a8151035-8f31-4426-8afc-3aa7a5978bb8",
   "metadata": {},
   "outputs": [
    {
     "name": "stdout",
     "output_type": "stream",
     "text": [
      "1020&30\n"
     ]
    }
   ],
   "source": [
    "print(10,end='')\n",
    "print(20,end='&')\n",
    "print(30)"
   ]
  },
  {
   "cell_type": "code",
   "execution_count": null,
   "id": "90d2295f-66fb-47e4-bbd6-f1d68f2001a8",
   "metadata": {},
   "outputs": [],
   "source": [
    "seperator operator $sep$\n",
    "- seperate the multiple values in a single print statement"
   ]
  },
  {
   "cell_type": "code",
   "execution_count": 23,
   "id": "6a6fc53d-a399-4d7f-8c79-9f87b02b0e53",
   "metadata": {},
   "outputs": [
    {
     "name": "stdout",
     "output_type": "stream",
     "text": [
      "10 & 20 & 30\n"
     ]
    }
   ],
   "source": [
    "print(10,20,30,sep=' & ')\n",
    "# 10 & 20 & 30"
   ]
  },
  {
   "cell_type": "code",
   "execution_count": 24,
   "id": "d505ac51-6134-49f5-8035-666cb9f950a1",
   "metadata": {},
   "outputs": [
    {
     "name": "stdout",
     "output_type": "stream",
     "text": [
      "10---->20---->30\n"
     ]
    }
   ],
   "source": [
    "print(10,20,30,sep='---->')"
   ]
  },
  {
   "cell_type": "code",
   "execution_count": 25,
   "id": "2abb797b-29ee-4b81-8b22-082a2857fa32",
   "metadata": {},
   "outputs": [
    {
     "name": "stdout",
     "output_type": "stream",
     "text": [
      "the addition of 5 and 3 is 8.\n"
     ]
    }
   ],
   "source": [
    "print(f\"the addition of {5} and {3} is {5+3}.\")"
   ]
  },
  {
   "cell_type": "code",
   "execution_count": 27,
   "id": "6189fc15-4f03-48e4-9450-94d1d368bed6",
   "metadata": {},
   "outputs": [
    {
     "name": "stdout",
     "output_type": "stream",
     "text": [
      "the addition of 5 and 3 is 8.\n"
     ]
    }
   ],
   "source": [
    "print(\"the addition of {} and {} is {}.\".format(5,3,5+3))"
   ]
  },
  {
   "cell_type": "code",
   "execution_count": null,
   "id": "5920dfb0-7e7c-4e91-88f1-0f528ac1aef1",
   "metadata": {},
   "outputs": [],
   "source": [
    "print(f\"the addition of {5} and {3} is {5+3}.\")"
   ]
  },
  {
   "cell_type": "code",
   "execution_count": 28,
   "id": "e6f8a2d4-7bc5-49fb-88b1-7d2c20c57680",
   "metadata": {},
   "outputs": [
    {
     "name": "stdout",
     "output_type": "stream",
     "text": [
      "the area of circle is: 452.15999999999997\n"
     ]
    }
   ],
   "source": [
    "radius=12\n",
    "pi_value=3.14\n",
    "area=pi_value*radius*radius\n",
    "print(f\"the area of circle is: {area}\")"
   ]
  },
  {
   "cell_type": "code",
   "execution_count": null,
   "id": "1752c585-ad76-4c29-823b-7bbdc26acd0e",
   "metadata": {},
   "outputs": [],
   "source": []
  }
 ],
 "metadata": {
  "kernelspec": {
   "display_name": "Python 3 (ipykernel)",
   "language": "python",
   "name": "python3"
  },
  "language_info": {
   "codemirror_mode": {
    "name": "ipython",
    "version": 3
   },
   "file_extension": ".py",
   "mimetype": "text/x-python",
   "name": "python",
   "nbconvert_exporter": "python",
   "pygments_lexer": "ipython3",
   "version": "3.11.7"
  }
 },
 "nbformat": 4,
 "nbformat_minor": 5
}
