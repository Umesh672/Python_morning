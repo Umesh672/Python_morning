{
 "cells": [
  {
   "cell_type": "code",
   "execution_count": null,
   "id": "68e0d0b4-e280-4a78-9d86-cbae43c4252a",
   "metadata": {},
   "outputs": [],
   "source": [
    "String  is methods\n",
    "\n",
    "'isalnum'\n",
    "'isalpha'\n",
    "'isascii'\n",
    "'isdecimal'\n",
    "'isdigit'\n",
    "'isidentifier'\n",
    "'islower'\n",
    "'isnumeric'\n",
    "'isprintable'\n",
    "'isspace'\n",
    "'istitle'\n",
    "'isupper'"
   ]
  },
  {
   "cell_type": "markdown",
   "id": "b14c9e18-239d-4251-9916-0d6f2d4b0f81",
   "metadata": {},
   "source": [
    "**'isalnum'**"
   ]
  },
  {
   "cell_type": "code",
   "execution_count": 3,
   "id": "b4d57e92-c9a2-4abe-a0bd-aefca294e014",
   "metadata": {},
   "outputs": [
    {
     "data": {
      "text/plain": [
       "False"
      ]
     },
     "execution_count": 3,
     "metadata": {},
     "output_type": "execute_result"
    }
   ],
   "source": [
    "str='umesh chandra kushwaha 123'\n",
    "str.isalnum()"
   ]
  },
  {
   "cell_type": "code",
   "execution_count": 4,
   "id": "e5222f8e-6271-4d1a-bf02-dc9ec44030a9",
   "metadata": {},
   "outputs": [
    {
     "data": {
      "text/plain": [
       "True"
      ]
     },
     "execution_count": 4,
     "metadata": {},
     "output_type": "execute_result"
    }
   ],
   "source": [
    "str='umesh123'\n",
    "str.isalnum()"
   ]
  },
  {
   "cell_type": "markdown",
   "id": "bc7fdddb-ebf1-4437-a71f-c373a05b6f92",
   "metadata": {},
   "source": [
    "**'isalpha'**"
   ]
  },
  {
   "cell_type": "code",
   "execution_count": 5,
   "id": "43f3a679-be63-4eb1-be1f-c3c8404f549a",
   "metadata": {},
   "outputs": [
    {
     "data": {
      "text/plain": [
       "False"
      ]
     },
     "execution_count": 5,
     "metadata": {},
     "output_type": "execute_result"
    }
   ],
   "source": [
    "str='umesh123'\n",
    "str.isalpha()"
   ]
  },
  {
   "cell_type": "code",
   "execution_count": 9,
   "id": "9e68f431-c3e4-4feb-9f06-30b23f39a572",
   "metadata": {},
   "outputs": [
    {
     "data": {
      "text/plain": [
       "True"
      ]
     },
     "execution_count": 9,
     "metadata": {},
     "output_type": "execute_result"
    }
   ],
   "source": [
    "str='umesh'\n",
    "str.isalpha()"
   ]
  },
  {
   "cell_type": "markdown",
   "id": "98f44df1-7e0f-488f-a6d3-df28cbfcb1a4",
   "metadata": {},
   "source": [
    "**'isascii'**"
   ]
  },
  {
   "cell_type": "code",
   "execution_count": 11,
   "id": "eccd23fd-7f4b-485f-8a7f-97fbdaa4ba1a",
   "metadata": {},
   "outputs": [
    {
     "data": {
      "text/plain": [
       "True"
      ]
     },
     "execution_count": 11,
     "metadata": {},
     "output_type": "execute_result"
    }
   ],
   "source": [
    "str='umesh'\n",
    "str.isascii()"
   ]
  },
  {
   "cell_type": "code",
   "execution_count": 15,
   "id": "364ebff8-391e-4fff-8592-d79cf7bba90e",
   "metadata": {},
   "outputs": [
    {
     "data": {
      "text/plain": [
       "True"
      ]
     },
     "execution_count": 15,
     "metadata": {},
     "output_type": "execute_result"
    }
   ],
   "source": [
    "str=''\n",
    "str.isascii()"
   ]
  },
  {
   "cell_type": "code",
   "execution_count": 33,
   "id": "81af9799-4817-4ba5-afa9-72326464da2f",
   "metadata": {},
   "outputs": [
    {
     "data": {
      "text/plain": [
       "True"
      ]
     },
     "execution_count": 33,
     "metadata": {},
     "output_type": "execute_result"
    }
   ],
   "source": [
    "str='123456'\n",
    "str.isascii()"
   ]
  },
  {
   "cell_type": "markdown",
   "id": "f7642dcb-bdaa-4f3e-9a2f-9f5cb6befc61",
   "metadata": {},
   "source": [
    "**'isdecimal'**"
   ]
  },
  {
   "cell_type": "code",
   "execution_count": 16,
   "id": "b31a78d3-288c-427d-86b2-384c05c88ac1",
   "metadata": {},
   "outputs": [
    {
     "data": {
      "text/plain": [
       "False"
      ]
     },
     "execution_count": 16,
     "metadata": {},
     "output_type": "execute_result"
    }
   ],
   "source": [
    "str='umesh123'\n",
    "str.isdecimal()"
   ]
  },
  {
   "cell_type": "code",
   "execution_count": 19,
   "id": "e7b697cf-7f65-462f-8da9-573d53a64d39",
   "metadata": {},
   "outputs": [
    {
     "data": {
      "text/plain": [
       "True"
      ]
     },
     "execution_count": 19,
     "metadata": {},
     "output_type": "execute_result"
    }
   ],
   "source": [
    "str='123'\n",
    "str.isdecimal()"
   ]
  },
  {
   "cell_type": "markdown",
   "id": "8ad456f8-5205-44ca-a778-bddff89bf052",
   "metadata": {},
   "source": [
    "**' isdigit '**"
   ]
  },
  {
   "cell_type": "code",
   "execution_count": 20,
   "id": "766fd865-0b98-4b00-b27c-d26015c45210",
   "metadata": {},
   "outputs": [
    {
     "data": {
      "text/plain": [
       "False"
      ]
     },
     "execution_count": 20,
     "metadata": {},
     "output_type": "execute_result"
    }
   ],
   "source": [
    "str='umesh123'\n",
    "str.isdigit()"
   ]
  },
  {
   "cell_type": "code",
   "execution_count": 23,
   "id": "e8ae7418-53b8-43f1-9adb-aa1bfb23156c",
   "metadata": {},
   "outputs": [
    {
     "data": {
      "text/plain": [
       "True"
      ]
     },
     "execution_count": 23,
     "metadata": {},
     "output_type": "execute_result"
    }
   ],
   "source": [
    "str='123'\n",
    "str.isdigit()"
   ]
  },
  {
   "cell_type": "markdown",
   "id": "a8b80772-1555-4899-96b6-e3d56a2c7fb6",
   "metadata": {},
   "source": [
    "**'isidentifier'**"
   ]
  },
  {
   "cell_type": "code",
   "execution_count": 24,
   "id": "cf096440-9539-45ff-97a0-81d1ae4853fd",
   "metadata": {},
   "outputs": [
    {
     "data": {
      "text/plain": [
       "True"
      ]
     },
     "execution_count": 24,
     "metadata": {},
     "output_type": "execute_result"
    }
   ],
   "source": [
    "str='umesh123'\n",
    "str.isidentifier()"
   ]
  },
  {
   "cell_type": "code",
   "execution_count": 25,
   "id": "865a33ed-3bb2-4406-871a-04a19c66fc94",
   "metadata": {},
   "outputs": [
    {
     "data": {
      "text/plain": [
       "True"
      ]
     },
     "execution_count": 25,
     "metadata": {},
     "output_type": "execute_result"
    }
   ],
   "source": [
    "str='umesh123'\n",
    "str.isidentifier()"
   ]
  },
  {
   "cell_type": "markdown",
   "id": "ff523091-f57f-4a7c-a78c-33e79d9f7edb",
   "metadata": {},
   "source": [
    "**'islower'**"
   ]
  },
  {
   "cell_type": "code",
   "execution_count": 26,
   "id": "6ed1facd-cd11-4347-a525-e0f2b75d6a0d",
   "metadata": {},
   "outputs": [
    {
     "data": {
      "text/plain": [
       "True"
      ]
     },
     "execution_count": 26,
     "metadata": {},
     "output_type": "execute_result"
    }
   ],
   "source": [
    "str='umesh'\n",
    "str.islower()"
   ]
  },
  {
   "cell_type": "code",
   "execution_count": 27,
   "id": "99f0c027-a504-4c9c-ad8f-0372f15a67f8",
   "metadata": {},
   "outputs": [
    {
     "data": {
      "text/plain": [
       "False"
      ]
     },
     "execution_count": 27,
     "metadata": {},
     "output_type": "execute_result"
    }
   ],
   "source": [
    "str='UMESH'\n",
    "str.islower()"
   ]
  },
  {
   "cell_type": "markdown",
   "id": "f7d4598e-5101-459e-9447-537aba5ab590",
   "metadata": {},
   "source": [
    "**'isnumeric'**"
   ]
  },
  {
   "cell_type": "code",
   "execution_count": 28,
   "id": "ae667025-6185-40eb-928f-48525cedf4fb",
   "metadata": {},
   "outputs": [
    {
     "data": {
      "text/plain": [
       "False"
      ]
     },
     "execution_count": 28,
     "metadata": {},
     "output_type": "execute_result"
    }
   ],
   "source": [
    "str='umesh'\n",
    "str.isnumeric()"
   ]
  },
  {
   "cell_type": "code",
   "execution_count": 31,
   "id": "505cc62c-be6f-4a43-8ff3-ac1c8e43cce8",
   "metadata": {},
   "outputs": [
    {
     "data": {
      "text/plain": [
       "True"
      ]
     },
     "execution_count": 31,
     "metadata": {},
     "output_type": "execute_result"
    }
   ],
   "source": [
    "str='123'\n",
    "str.isnumeric()"
   ]
  },
  {
   "cell_type": "markdown",
   "id": "11692edd-9f36-490e-bd2b-280ca2f188ee",
   "metadata": {},
   "source": [
    "**'isprintable'**"
   ]
  },
  {
   "cell_type": "code",
   "execution_count": 34,
   "id": "1f8c0d39-b8ea-447c-a1ba-e28c86ba0ae9",
   "metadata": {},
   "outputs": [
    {
     "data": {
      "text/plain": [
       "True"
      ]
     },
     "execution_count": 34,
     "metadata": {},
     "output_type": "execute_result"
    }
   ],
   "source": [
    "str='umesh'\n",
    "str.isprintable()"
   ]
  },
  {
   "cell_type": "code",
   "execution_count": 35,
   "id": "a93502d0-39a6-45ad-ae33-3269f19c5a0a",
   "metadata": {},
   "outputs": [
    {
     "data": {
      "text/plain": [
       "True"
      ]
     },
     "execution_count": 35,
     "metadata": {},
     "output_type": "execute_result"
    }
   ],
   "source": [
    "str='umesh 123'\n",
    "str.isprintable()"
   ]
  },
  {
   "cell_type": "markdown",
   "id": "b32235d3-a3f6-412a-ae7d-8f4e1c69ba64",
   "metadata": {},
   "source": [
    "**'isspace'**"
   ]
  },
  {
   "cell_type": "code",
   "execution_count": 39,
   "id": "f3964974-cb84-4577-a5df-f0619a122d53",
   "metadata": {},
   "outputs": [
    {
     "data": {
      "text/plain": [
       "True"
      ]
     },
     "execution_count": 39,
     "metadata": {},
     "output_type": "execute_result"
    }
   ],
   "source": [
    "str=' '\n",
    "str.isspace()"
   ]
  },
  {
   "cell_type": "code",
   "execution_count": 71,
   "id": "06e1cb8e-cb28-4d36-8a4e-e4163b38412a",
   "metadata": {},
   "outputs": [
    {
     "data": {
      "text/plain": [
       "False"
      ]
     },
     "execution_count": 71,
     "metadata": {},
     "output_type": "execute_result"
    }
   ],
   "source": [
    "str='umesh '\n",
    "str.isspace()"
   ]
  },
  {
   "cell_type": "markdown",
   "id": "bf4d2dc0-bbc3-4979-ad60-6cb8a1eeae38",
   "metadata": {},
   "source": [
    "**'istitle'**"
   ]
  },
  {
   "cell_type": "code",
   "execution_count": 40,
   "id": "67bf0e5c-9e0e-41b6-9f95-124ce0423ad9",
   "metadata": {},
   "outputs": [
    {
     "data": {
      "text/plain": [
       "False"
      ]
     },
     "execution_count": 40,
     "metadata": {},
     "output_type": "execute_result"
    }
   ],
   "source": [
    "str='umesh'\n",
    "str.istitle()"
   ]
  },
  {
   "cell_type": "code",
   "execution_count": 41,
   "id": "b0b17f40-dc26-44ee-a9b4-6347457a6fd7",
   "metadata": {},
   "outputs": [
    {
     "data": {
      "text/plain": [
       "True"
      ]
     },
     "execution_count": 41,
     "metadata": {},
     "output_type": "execute_result"
    }
   ],
   "source": [
    "str='Umesh'\n",
    "str.istitle()"
   ]
  },
  {
   "cell_type": "markdown",
   "id": "c490f322-3ed1-428d-ae78-79439f2b9f62",
   "metadata": {},
   "source": [
    "**'isupper'**"
   ]
  },
  {
   "cell_type": "code",
   "execution_count": 43,
   "id": "b92718e5-91ab-427e-8b58-304f88142667",
   "metadata": {},
   "outputs": [
    {
     "data": {
      "text/plain": [
       "False"
      ]
     },
     "execution_count": 43,
     "metadata": {},
     "output_type": "execute_result"
    }
   ],
   "source": [
    "str='umesh'\n",
    "str.isupper()"
   ]
  },
  {
   "cell_type": "code",
   "execution_count": 45,
   "id": "3d7ab48f-7c70-410e-af21-b71286be8059",
   "metadata": {},
   "outputs": [
    {
     "data": {
      "text/plain": [
       "True"
      ]
     },
     "execution_count": 45,
     "metadata": {},
     "output_type": "execute_result"
    }
   ],
   "source": [
    "str='UMESH'\n",
    "str.isupper()"
   ]
  },
  {
   "cell_type": "markdown",
   "id": "76743380-5743-4d1e-9f19-68ea5d9d2f2f",
   "metadata": {},
   "source": [
    "#"
   ]
  },
  {
   "cell_type": "code",
   "execution_count": null,
   "id": "695ad246-a889-4f7c-b3bc-732c4f78b0c6",
   "metadata": {},
   "outputs": [],
   "source": [
    "string methods\n",
    "\n",
    "- split\n",
    "\n",
    "- strip/lstrip/rstrip\n",
    "\n",
    "- startswith/endswith"
   ]
  },
  {
   "cell_type": "markdown",
   "id": "6285bdb3-1cb2-42db-8cf6-9a132d8bddb0",
   "metadata": {},
   "source": [
    "**'split'**"
   ]
  },
  {
   "cell_type": "code",
   "execution_count": 53,
   "id": "07fb61b8-4451-4d9d-9bd0-bca3ffc39172",
   "metadata": {},
   "outputs": [
    {
     "data": {
      "text/plain": [
       "['Hello!', 'my name is umesh', 'i am 35 years old.']"
      ]
     },
     "execution_count": 53,
     "metadata": {},
     "output_type": "execute_result"
    }
   ],
   "source": [
    "str='Hello!, my name is umesh, i am 35 years old.'\n",
    "str.split(\", \")"
   ]
  },
  {
   "cell_type": "markdown",
   "id": "8c42965c-7e07-4e06-b9a8-a0bf553dccdb",
   "metadata": {},
   "source": [
    "**'strip'**"
   ]
  },
  {
   "cell_type": "code",
   "execution_count": 54,
   "id": "d19e53f6-dcb3-4932-8069-7e1773b8a48d",
   "metadata": {},
   "outputs": [
    {
     "data": {
      "text/plain": [
       "'Hello!, my name is umesh, i am 35 years old.'"
      ]
     },
     "execution_count": 54,
     "metadata": {},
     "output_type": "execute_result"
    }
   ],
   "source": [
    "str='Hello!, my name is umesh, i am 35 years old.'\n",
    "str.strip(\", \")"
   ]
  },
  {
   "cell_type": "markdown",
   "id": "6061f796-f206-4ed7-a8aa-161f42360823",
   "metadata": {},
   "source": [
    "**'lstrip'**"
   ]
  },
  {
   "cell_type": "code",
   "execution_count": 56,
   "id": "59d57a10-62f3-4edf-be21-64d773ace2cd",
   "metadata": {},
   "outputs": [
    {
     "data": {
      "text/plain": [
       "'Hello!, my name is umesh, i am 35 years old.'"
      ]
     },
     "execution_count": 56,
     "metadata": {},
     "output_type": "execute_result"
    }
   ],
   "source": [
    "str='Hello!, my name is umesh, i am 35 years old.'\n",
    "str.lstrip()"
   ]
  },
  {
   "cell_type": "markdown",
   "id": "f68e32bf-df31-4435-b560-eb5e6575a22e",
   "metadata": {},
   "source": [
    "**'rstrip'**"
   ]
  },
  {
   "cell_type": "code",
   "execution_count": 57,
   "id": "0ca937d5-f379-42e2-9dd8-e5c8027adc7d",
   "metadata": {},
   "outputs": [
    {
     "data": {
      "text/plain": [
       "'Hello!, my name is umesh, i am 35 years old.'"
      ]
     },
     "execution_count": 57,
     "metadata": {},
     "output_type": "execute_result"
    }
   ],
   "source": [
    "str='Hello!, my name is umesh, i am 35 years old.'\n",
    "str.rstrip(\", \")"
   ]
  },
  {
   "cell_type": "markdown",
   "id": "7522e575-e21b-4f00-92d8-4ef2b671f465",
   "metadata": {},
   "source": [
    "**'startswith'**"
   ]
  },
  {
   "cell_type": "code",
   "execution_count": 64,
   "id": "365e18c6-26e1-432a-ace7-94a6cb509418",
   "metadata": {},
   "outputs": [
    {
     "data": {
      "text/plain": [
       "True"
      ]
     },
     "execution_count": 64,
     "metadata": {},
     "output_type": "execute_result"
    }
   ],
   "source": [
    "str='Hello!, my name is umesh, i am 35 years old.'\n",
    "str.startswith(\"Hello\")"
   ]
  },
  {
   "cell_type": "markdown",
   "id": "42176ace-5ab6-4de7-a128-34dc47e9c314",
   "metadata": {},
   "source": [
    "**'endswith'**"
   ]
  },
  {
   "cell_type": "code",
   "execution_count": 67,
   "id": "34e30300-cf0c-42a2-90fa-d6fc06617f50",
   "metadata": {},
   "outputs": [
    {
     "data": {
      "text/plain": [
       "True"
      ]
     },
     "execution_count": 67,
     "metadata": {},
     "output_type": "execute_result"
    }
   ],
   "source": [
    "str='Hello!, my name is umesh, i am 35 years old.'\n",
    "str.endswith(\"old.\")"
   ]
  },
  {
   "cell_type": "markdown",
   "id": "dfc89461-0ce6-44c2-ba21-d121fcc4c268",
   "metadata": {},
   "source": [
    "####"
   ]
  },
  {
   "cell_type": "markdown",
   "id": "5c9a476a-22d7-4082-977e-459e34b0739c",
   "metadata": {},
   "source": [
    "#####"
   ]
  },
  {
   "cell_type": "code",
   "execution_count": 19,
   "id": "f869161e-edc5-48ac-bedb-2b8f667672c9",
   "metadata": {},
   "outputs": [
    {
     "data": {
      "text/plain": [
       "[1]"
      ]
     },
     "execution_count": 19,
     "metadata": {},
     "output_type": "execute_result"
    }
   ],
   "source": [
    "l1=[1,[2,['A','B']]]\n",
    "\n",
    "#  -4    -3     -2      -1\n",
    "#   1     2      A       B\n",
    "#   0     1      2       3\n",
    "\n",
    "l1[-4:1]"
   ]
  },
  {
   "cell_type": "code",
   "execution_count": 25,
   "id": "cdc7938c-6129-47f5-a0b7-bf63c45caffe",
   "metadata": {},
   "outputs": [
    {
     "data": {
      "text/plain": [
       "[1]"
      ]
     },
     "execution_count": 25,
     "metadata": {},
     "output_type": "execute_result"
    }
   ],
   "source": [
    "l1=[1,[2,['A','B']]]\n",
    "\n",
    "#  -4      -3      -2      -1\n",
    "#   1       2       A       B\n",
    "#   0       1       2       3\n",
    "l1[:-1]"
   ]
  },
  {
   "cell_type": "code",
   "execution_count": 26,
   "id": "bf5f030d-d127-49c8-a19a-bc6ff11b7d35",
   "metadata": {},
   "outputs": [
    {
     "name": "stdout",
     "output_type": "stream",
     "text": [
      "1\n",
      "[2, 'A']\n"
     ]
    }
   ],
   "source": [
    "l1=[1,[2,'A']]\n",
    "for i in l1:\n",
    "    print(i)"
   ]
  },
  {
   "cell_type": "code",
   "execution_count": 27,
   "id": "9f76cdec-2aed-4cba-8723-6fc2888673cf",
   "metadata": {},
   "outputs": [
    {
     "name": "stdout",
     "output_type": "stream",
     "text": [
      "0 1\n",
      " the positive index of 1\n",
      "1 [2, 'A']\n",
      " the positive index of [2, 'A']\n"
     ]
    }
   ],
   "source": [
    "for i in range(len(l1)):\n",
    "    print(i,l1[i])\n",
    "    print(f\" the positive index of {l1[i]}\")"
   ]
  },
  {
   "cell_type": "code",
   "execution_count": 29,
   "id": "bfda7cd8-c462-4af8-a803-c671794c9e52",
   "metadata": {},
   "outputs": [
    {
     "name": "stdout",
     "output_type": "stream",
     "text": [
      "0 -2\n",
      " the negative index of 1 is -2\n",
      "1 -1\n",
      " the negative index of [2, 'A'] is -1\n"
     ]
    }
   ],
   "source": [
    "for i in range(len(l1)):\n",
    "    print(i,i-len(l1))\n",
    "    print(f\" the negative index of {l1[i]} is {i-len(l1)}\")"
   ]
  },
  {
   "cell_type": "code",
   "execution_count": null,
   "id": "b281b414-67f5-40f6-94f3-16b65cd02040",
   "metadata": {},
   "outputs": [],
   "source": []
  }
 ],
 "metadata": {
  "kernelspec": {
   "display_name": "Python 3 (ipykernel)",
   "language": "python",
   "name": "python3"
  },
  "language_info": {
   "codemirror_mode": {
    "name": "ipython",
    "version": 3
   },
   "file_extension": ".py",
   "mimetype": "text/x-python",
   "name": "python",
   "nbconvert_exporter": "python",
   "pygments_lexer": "ipython3",
   "version": "3.11.7"
  }
 },
 "nbformat": 4,
 "nbformat_minor": 5
}
