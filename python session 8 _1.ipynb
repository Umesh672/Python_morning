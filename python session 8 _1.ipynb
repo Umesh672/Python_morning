{
 "cells": [
  {
   "cell_type": "code",
   "execution_count": null,
   "id": "781578fe-1f1f-418c-9011-2e0ab3319612",
   "metadata": {},
   "outputs": [],
   "source": [
    "# implement the above problem by taking a random input between 1,100"
   ]
  },
  {
   "cell_type": "code",
   "execution_count": 13,
   "id": "79f1c5d3-36f9-4f49-9c52-d04481f79f8c",
   "metadata": {},
   "outputs": [
    {
     "name": "stdin",
     "output_type": "stream",
     "text": [
      "enter the start value: 12\n",
      "enter the end value: 23\n"
     ]
    },
    {
     "name": "stdout",
     "output_type": "stream",
     "text": [
      "the 22 is even\n"
     ]
    }
   ],
   "source": [
    "import random\n",
    "start=eval(input(\"enter the start value:\"))\n",
    "end=eval(input(\"enter the end value:\"))\n",
    "num=random.randint(start,end)\n",
    "if num%2==0:\n",
    "    print(f\"the {num} is even\")\n",
    "else:\n",
    "    print(f\" the {num} is odd\")\n"
   ]
  },
  {
   "cell_type": "code",
   "execution_count": null,
   "id": "a07fc28c-b496-447d-a019-77e818bea452",
   "metadata": {},
   "outputs": [],
   "source": [
    "# wap ask the user enter the distance\n",
    "# cut off distance enter 25\n",
    "# if distance greater than 25km\n",
    "# print(\"good news your charge is applicable for only remaining of 25\")\n",
    "# chargeable distance=distance-cutoff\n",
    "# then enter the charge\n",
    "# print the total cost\n",
    "# otherwise\n",
    "# print the free ride"
   ]
  },
  {
   "cell_type": "code",
   "execution_count": null,
   "id": "17d8c9a6-4b08-40e1-925c-0e9bc1db0db7",
   "metadata": {},
   "outputs": [],
   "source": [
    "distance=eval(input(\"enter the distance\"))\n",
    "if distance>25:\n",
    "    charge=eval(input(\"enter the charge\")\n",
    "    cost=distance*charge            \n",
    "    print(\"the total charge is: {cost}\")\n",
    "else:\n",
    "    print(\""
   ]
  },
  {
   "cell_type": "code",
   "execution_count": null,
   "id": "6cb65e5a-d765-433e-afee-9664eb1989a6",
   "metadata": {},
   "outputs": [],
   "source": [
    "distance=eval(input(\"enter the distance\"))\n",
    "cutoff_distance=eval(input(\"enter the cutoff distance in km:\"))\n",
    "if distance>cutoff_distance:\n",
    "    chargeable_distance=distanve-cutoff_distance\n",
    "    cost=distance*charge            \n",
    "    print(\"the total chargeable distance is:\", chargeable_distance)\n",
    "else:\n",
    "    print(\" you need to pay)"
   ]
  },
  {
   "cell_type": "code",
   "execution_count": null,
   "id": "2c9ab9a0-cdf3-4dcb-91db-f7e2b70057c6",
   "metadata": {},
   "outputs": [],
   "source": [
    "wap  ask the user enter course\n",
    "enter the institute\n",
    "if the course equal to data science and institute is equal to naresh it\n",
    "then you are good\n",
    "otherwise\n",
    "you are bad"
   ]
  },
  {
   "cell_type": "code",
   "execution_count": 3,
   "id": "33378f39-0674-4502-957f-435ca8b3a765",
   "metadata": {},
   "outputs": [
    {
     "name": "stdin",
     "output_type": "stream",
     "text": [
      "enter the course: data science\n",
      "enter the institute: naresh it\n"
     ]
    },
    {
     "name": "stdout",
     "output_type": "stream",
     "text": [
      "good\n"
     ]
    }
   ],
   "source": [
    "course=input(\"enter the course:\")\n",
    "institute=input(\"enter the institute:\")\n",
    "if course=='data science' and institute=='naresh it':\n",
    "    print(\"good\")\n",
    "else:\n",
    "    print(\"bad\")"
   ]
  },
  {
   "cell_type": "code",
   "execution_count": null,
   "id": "4b278d18-9d13-4b72-b456-a00ab971c691",
   "metadata": {},
   "outputs": [],
   "source": [
    "course=input(\"enter the course:\")\n",
    "institute=input(\"enter the institute:\")\n",
    "if course=='data science' or institute=='naresh it':\n",
    "    print(\"good\")\n",
    "else:\n",
    "    print(\"bad\")"
   ]
  },
  {
   "cell_type": "code",
   "execution_count": null,
   "id": "c3f6b441-c8d7-4988-a6b7-983fa0d92c9d",
   "metadata": {},
   "outputs": [],
   "source": [
    "and means two condition need to satisfy\n",
    "or means any one condition need to satisfy"
   ]
  },
  {
   "cell_type": "code",
   "execution_count": null,
   "id": "336a0f7b-da77-4237-b7ca-c78c7cef9574",
   "metadata": {},
   "outputs": [],
   "source": [
    "wap ask the user enter the random number between 1 to 10, treat this as number1\n",
    "enter another number from keyboard, then number2\n",
    "if number1 equal ti number2\n",
    "print you won\n",
    "else\n",
    "print you lost"
   ]
  },
  {
   "cell_type": "code",
   "execution_count": 7,
   "id": "2f850511-1313-417d-9414-4180a0fb1936",
   "metadata": {},
   "outputs": [
    {
     "name": "stdin",
     "output_type": "stream",
     "text": [
      "enter another number 15\n"
     ]
    },
    {
     "name": "stdout",
     "output_type": "stream",
     "text": [
      "you lost\n"
     ]
    }
   ],
   "source": [
    "import random\n",
    "number1=random.randint(1,10)\n",
    "number2=input(\"enter another number\")\n",
    "if number1==number2:\n",
    "    print(\"you won\")\n",
    "else:\n",
    "    print(\"you lost\")"
   ]
  },
  {
   "cell_type": "code",
   "execution_count": null,
   "id": "28f5c9ef-8eac-4df1-a2f0-89c8352c37ac",
   "metadata": {},
   "outputs": [],
   "source": [
    "- till now we have seen one condition problem\n",
    "- which means if that condition is True will get one answer\n",
    "- if that condition False the will get another answer\n",
    "- how abour if we have more thentwo condition\n",
    "- if-elif-else\n",
    "- two condition means 3 result\n",
    "- if has one condition\n",
    "- elif second condition\n",
    "- if both are false then the result in else"
   ]
  },
  {
   "cell_type": "code",
   "execution_count": null,
   "id": "00b9444e-6ea1-4af1-a82c-e3a2465ba224",
   "metadata": {},
   "outputs": [],
   "source": [
    "if<condition>:\n",
    "    <statement>\n",
    "elif <condition>\n",
    "    <statement>\n",
    "else:\n",
    "    <statement>"
   ]
  },
  {
   "cell_type": "code",
   "execution_count": 3,
   "id": "6555c4fe-a93b-49c0-acea-4facf7d23705",
   "metadata": {},
   "outputs": [
    {
     "name": "stdin",
     "output_type": "stream",
     "text": [
      "enter the number 2\n"
     ]
    },
    {
     "name": "stdout",
     "output_type": "stream",
     "text": [
      "two\n"
     ]
    }
   ],
   "source": [
    "# wap ask the user enter the number\n",
    "# if number equal to 1 print one\n",
    "# if number equal to 2 print two\n",
    "# if number equal to 3 print three\n",
    "# otherwise print enter a valid number\n",
    "num1=eval(input(\"enter the number\"))\n",
    "if num1==1:\n",
    "    print(\"one\")\n",
    "elif num1==2:\n",
    "    print(\"two\")\n",
    "elif num1==3:\n",
    "    print(\"three\")\n",
    "else:\n",
    "    print(\"valid\")"
   ]
  },
  {
   "cell_type": "code",
   "execution_count": null,
   "id": "5323d2d3-16f6-41dc-965c-3892c5d90023",
   "metadata": {},
   "outputs": [],
   "source": [
    "wap ask the user enter the number\n",
    "if that number greater than zero print positive\n",
    "if that nimber less the sero print negative\n",
    "otherwise zero"
   ]
  },
  {
   "cell_type": "code",
   "execution_count": null,
   "id": "0e52f10f-3af5-4a4f-b844-3c35a447ba79",
   "metadata": {},
   "outputs": [],
   "source": [
    "num=eval(input(\"enter the number\"))\n",
    "if num>0:\n",
    "    print(\"positive\")\n",
    "elif num<0:\n",
    "    print(\"negative\")\n",
    "else:\n",
    "    print(\"zero\")"
   ]
  },
  {
   "cell_type": "code",
   "execution_count": null,
   "id": "961ba540-118b-4588-b896-a9cd5062c625",
   "metadata": {},
   "outputs": [],
   "source": [
    "wap ask the user enter the percentage of marks\n",
    "if p[ercentage greater tha 90 print Agrade\n",
    "if percentage between 75 to 90 print B grade\n",
    "if 50 to 75 print Cgrade\n",
    "if 35 to 50 print D grade\n",
    "if less than 35 print Fail"
   ]
  },
  {
   "cell_type": "code",
   "execution_count": 20,
   "id": "ddf4dcbf-4ef0-4e48-9493-1f342b417dca",
   "metadata": {},
   "outputs": [
    {
     "name": "stdout",
     "output_type": "stream",
     "text": [
      "D\n"
     ]
    }
   ],
   "source": [
    "import random\n",
    "percentage=random.randint(0,100)\n",
    "if percentage>=90:\n",
    "    print(\"A\")\n",
    "elif percentage>=75:\n",
    "    print(\"B\")\n",
    "elif percentage>=50:\n",
    "    print(\"C\")\n",
    "elif percentage>=35:\n",
    "    print(\"D\")\n",
    "else:\n",
    "    print(\"Fail\")"
   ]
  },
  {
   "cell_type": "code",
   "execution_count": 15,
   "id": "7afda582-4a9f-47b6-beab-45672b0196c8",
   "metadata": {},
   "outputs": [
    {
     "name": "stdin",
     "output_type": "stream",
     "text": [
      "enter the percentage of marks:  34\n"
     ]
    },
    {
     "name": "stdout",
     "output_type": "stream",
     "text": [
      "Fail\n"
     ]
    }
   ],
   "source": [
    "percentage=eval(input(\"enter the percentage of marks: \"))\n",
    "if percentage>=90:\n",
    "    print(\"A\")\n",
    "elif percentage>=75:\n",
    "    print(\"B\")\n",
    "elif percentage>=50:\n",
    "    print(\"C\")\n",
    "elif percentage>=35:\n",
    "    print(\"D\")\n",
    "else:\n",
    "    print(\"Fail\")"
   ]
  },
  {
   "cell_type": "code",
   "execution_count": null,
   "id": "bb2eeab8-9be9-418d-b1b2-31fcb7c4e9bf",
   "metadata": {},
   "outputs": [],
   "source": [
    "wap ask the user enter age\n",
    "if age reater than 100 print you  are lucky\n",
    "if the age is greater than 75 print old age\n",
    "if between 50 to 75 print ss\n",
    "if between 30 to 50 print MA\n",
    "if the age 15 to 30 print young age\n",
    "if the age tetween less than 15 print kid"
   ]
  },
  {
   "cell_type": "code",
   "execution_count": 24,
   "id": "0a912638-9775-4f4a-acfb-73e8e11bcec0",
   "metadata": {},
   "outputs": [
    {
     "name": "stdin",
     "output_type": "stream",
     "text": [
      "enter age 56\n"
     ]
    },
    {
     "name": "stdout",
     "output_type": "stream",
     "text": [
      "senior citizen\n"
     ]
    }
   ],
   "source": [
    "age=eval(input(\"enter age\"))\n",
    "if age>100:\n",
    "    print(\"you are lucky\")\n",
    "elif age>75:\n",
    "    print(\"old age\")\n",
    "elif age>=50:\n",
    "    print(\"senior citizen\")\n",
    "elif age>=30:\n",
    "    print(\"middle age\")\n",
    "elif age>=15:\n",
    "    print(\"young age\")\n",
    "else:\n",
    "    print(\"You are a kid\")\n"
   ]
  },
  {
   "cell_type": "code",
   "execution_count": null,
   "id": "79146ddd-7dd3-4acf-96be-dae172019f02",
   "metadata": {},
   "outputs": [],
   "source": []
  }
 ],
 "metadata": {
  "kernelspec": {
   "display_name": "Python 3 (ipykernel)",
   "language": "python",
   "name": "python3"
  },
  "language_info": {
   "codemirror_mode": {
    "name": "ipython",
    "version": 3
   },
   "file_extension": ".py",
   "mimetype": "text/x-python",
   "name": "python",
   "nbconvert_exporter": "python",
   "pygments_lexer": "ipython3",
   "version": "3.11.7"
  }
 },
 "nbformat": 4,
 "nbformat_minor": 5
}
