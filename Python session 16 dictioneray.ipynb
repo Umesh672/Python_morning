{
 "cells": [
  {
   "cell_type": "code",
   "execution_count": null,
   "id": "bca52806-0ba7-4528-bc23-4ac26276c44b",
   "metadata": {},
   "outputs": [],
   "source": [
    "- dictionary is a key: value pair\n",
    "- we can not use index number directly\n",
    "- whenever you want to call a value, we will use key"
   ]
  },
  {
   "cell_type": "code",
   "execution_count": 1,
   "id": "b2aeb7e7-87ba-4d84-b921-b119e8090a2a",
   "metadata": {},
   "outputs": [
    {
     "ename": "NameError",
     "evalue": "name 'i' is not defined",
     "output_type": "error",
     "traceback": [
      "\u001b[1;31m---------------------------------------------------------------------------\u001b[0m",
      "\u001b[1;31mNameError\u001b[0m                                 Traceback (most recent call last)",
      "Cell \u001b[1;32mIn[1], line 6\u001b[0m\n\u001b[0;32m      3\u001b[0m d1[\u001b[38;5;124m'\u001b[39m\u001b[38;5;124mShubham\u001b[39m\u001b[38;5;124m'\u001b[39m]\n\u001b[0;32m      4\u001b[0m d1[\u001b[38;5;124m'\u001b[39m\u001b[38;5;124mgovind\u001b[39m\u001b[38;5;124m'\u001b[39m]\n\u001b[1;32m----> 6\u001b[0m d1[i]\n",
      "\u001b[1;31mNameError\u001b[0m: name 'i' is not defined"
     ]
    }
   ],
   "source": [
    "d1={'Manish':25,'Shubham':20,'govind':30}\n",
    "d1['Manish']\n",
    "d1['Shubham']\n",
    "d1['govind']\n",
    "\n",
    "d1[i]"
   ]
  },
  {
   "cell_type": "code",
   "execution_count": 5,
   "id": "1a3de361-952e-422b-928c-1c7b1b18181f",
   "metadata": {},
   "outputs": [
    {
     "name": "stdout",
     "output_type": "stream",
     "text": [
      "Manish has age 25\n",
      "Shubham has age 20\n",
      "govind has age 30\n"
     ]
    }
   ],
   "source": [
    "d1={'Manish':25,'Shubham':20,'govind':30}\n",
    "for i in d1:\n",
    "    print(f\"{i} has age {d1[i]}\")"
   ]
  },
  {
   "cell_type": "code",
   "execution_count": 7,
   "id": "2072b297-4404-4841-9f03-2204a1f96efd",
   "metadata": {},
   "outputs": [
    {
     "name": "stdout",
     "output_type": "stream",
     "text": [
      "Vignseh has age 20\n",
      "Mohit has age 25\n",
      "nagesh has age 30\n"
     ]
    }
   ],
   "source": [
    "names=['Vignseh','Mohit','nagesh']\n",
    "age=[20,25,30]\n",
    "for i,j in zip(names,age):\n",
    "    print(f\"{i} has age {j}\")"
   ]
  },
  {
   "cell_type": "code",
   "execution_count": 9,
   "id": "d17f092b-e7de-4dc8-8173-60b75e29c64b",
   "metadata": {},
   "outputs": [
    {
     "name": "stdout",
     "output_type": "stream",
     "text": [
      "Manish 25\n",
      "Shubham 20\n",
      "govind 30\n"
     ]
    }
   ],
   "source": [
    "d1={'Manish':25,'Shubham':20,'govind':30}\n",
    "for i in d1:\n",
    "    print(i,d1[i])"
   ]
  },
  {
   "cell_type": "markdown",
   "id": "774e123f-13fe-4fa6-9cb2-c7988bcf9b81",
   "metadata": {},
   "source": [
    "**Dictionary to list**"
   ]
  },
  {
   "cell_type": "code",
   "execution_count": 2,
   "id": "0c00a2a8-662a-49c6-8ba6-42f0797261fc",
   "metadata": {},
   "outputs": [
    {
     "data": {
      "text/plain": [
       "(['Manish', 'Shubham', 'govind'], [25, 20, 30])"
      ]
     },
     "execution_count": 2,
     "metadata": {},
     "output_type": "execute_result"
    }
   ],
   "source": [
    "d1={'Manish':25,'Shubham':20,'govind':30}\n",
    "keys,values=[],[]\n",
    "for i in d1:\n",
    "    keys.append(i)\n",
    "    values.append(d1[i])\n",
    "\n",
    "keys,values"
   ]
  },
  {
   "cell_type": "code",
   "execution_count": 5,
   "id": "7675be62-9c75-4556-8a1a-64c29547cfd6",
   "metadata": {},
   "outputs": [],
   "source": [
    "d1={'Manish':25,'Shubham':20,'govind':30}\n",
    "keys=[i for i in d1]\n",
    "values=[d1[i] for i in d1]"
   ]
  },
  {
   "cell_type": "code",
   "execution_count": null,
   "id": "79f5586b-f869-46ee-bcc2-b7e0d7ff8d69",
   "metadata": {},
   "outputs": [],
   "source": []
  },
  {
   "cell_type": "markdown",
   "id": "50d97861-7bb1-4ea1-9f78-bd25ddc47f9a",
   "metadata": {},
   "source": [
    "**how to create empty list**"
   ]
  },
  {
   "cell_type": "code",
   "execution_count": 12,
   "id": "f056c7db-7a76-4a04-b090-f50db72b27e4",
   "metadata": {},
   "outputs": [
    {
     "data": {
      "text/plain": [
       "[20]"
      ]
     },
     "execution_count": 12,
     "metadata": {},
     "output_type": "execute_result"
    }
   ],
   "source": [
    "l=[]\n",
    "l.append(20)\n",
    "l"
   ]
  },
  {
   "cell_type": "markdown",
   "id": "0250c4d8-1685-4abf-992f-844de71687dc",
   "metadata": {},
   "source": [
    "**empty string**"
   ]
  },
  {
   "cell_type": "code",
   "execution_count": 13,
   "id": "60e28d38-f0c5-4cfb-9b68-5068605e5840",
   "metadata": {},
   "outputs": [
    {
     "data": {
      "text/plain": [
       "'a'"
      ]
     },
     "execution_count": 13,
     "metadata": {},
     "output_type": "execute_result"
    }
   ],
   "source": [
    "s=''\n",
    "s=s+'a'\n",
    "s"
   ]
  },
  {
   "cell_type": "markdown",
   "id": "fb4ff6da-b032-459a-b536-249c8ccdc1a0",
   "metadata": {},
   "source": [
    "**empty dictionary**"
   ]
  },
  {
   "cell_type": "code",
   "execution_count": 18,
   "id": "e7184973-727e-4552-8394-717bfd0a0af4",
   "metadata": {},
   "outputs": [
    {
     "data": {
      "text/plain": [
       "{'Umesh': 20, 'Mukesh': 25}"
      ]
     },
     "execution_count": 18,
     "metadata": {},
     "output_type": "execute_result"
    }
   ],
   "source": [
    "d={}\n",
    "d['Umesh']=20\n",
    "d['Mukesh']=25\n",
    "d"
   ]
  },
  {
   "cell_type": "code",
   "execution_count": 19,
   "id": "462035e5-67d1-4478-b4d8-707b21a464ef",
   "metadata": {},
   "outputs": [
    {
     "data": {
      "text/plain": [
       "{'Vignesh': 20, 'Mohit': 25, 'Nagesh': 30}"
      ]
     },
     "execution_count": 19,
     "metadata": {},
     "output_type": "execute_result"
    }
   ],
   "source": [
    "names=['Vignesh','Mohit','Nagesh']\n",
    "age=[20,25,30]\n",
    "NAMES={}\n",
    "for i,j in zip(names,age):\n",
    "    NAMES[i]=j\n",
    "\n",
    "NAMES"
   ]
  },
  {
   "cell_type": "markdown",
   "id": "0e78bd3a-0069-40c1-9dec-1f27e73c1459",
   "metadata": {},
   "source": [
    "**string List**"
   ]
  },
  {
   "cell_type": "code",
   "execution_count": 22,
   "id": "b6e78fbc-5547-45df-9fc6-ecfb1474c5f9",
   "metadata": {},
   "outputs": [
    {
     "data": {
      "text/plain": [
       "['hello', 'hai', 'hai', 'how', 'how', 'are', 'you']"
      ]
     },
     "execution_count": 22,
     "metadata": {},
     "output_type": "execute_result"
    }
   ],
   "source": [
    "s='hello hai hai how how are you'\n",
    "s.split()"
   ]
  },
  {
   "cell_type": "markdown",
   "id": "f2375fb4-dca0-4e83-b517-3fee942ae70b",
   "metadata": {},
   "source": [
    "**word frequency**"
   ]
  },
  {
   "cell_type": "code",
   "execution_count": 25,
   "id": "8c105cca-cb0d-4ec0-b89c-1d8159e2bf46",
   "metadata": {},
   "outputs": [
    {
     "data": {
      "text/plain": [
       "{'hello': 1, 'hai': 2, 'how': 2, 'are': 1, 'you': 1}"
      ]
     },
     "execution_count": 25,
     "metadata": {},
     "output_type": "execute_result"
    }
   ],
   "source": [
    "s='hello hai hai how how are you'\n",
    "words_list=s.split()\n",
    "words_list\n",
    "dict1={}\n",
    "for word in words_list:\n",
    "    dict1[word]=s.count(word)\n",
    "\n",
    "dict1"
   ]
  },
  {
   "cell_type": "code",
   "execution_count": null,
   "id": "d708cdc5-5da3-4a18-872b-73c311605ead",
   "metadata": {},
   "outputs": [],
   "source": [
    "# home work\n",
    "\n",
    "string1=\"\"\"Data science is an interdisciplinary academic field that uses statistics, \n",
    "scientific computing, scientific methods, processes, scientific visualization, \n",
    "algorithms and systems to extract or extrapolate knowledge and insights from potentially noisy, structured, or unstructured data.\n",
    "Data science also integrates domain knowledge from the underlying application domain. Data science is multifaceted and can be described as a science,\n",
    "a research paradigm, a research method, a discipline, a workflow, and a profession.\"\"\"\n",
    "string1.remove('a','an','is"
   ]
  },
  {
   "cell_type": "markdown",
   "id": "a8830fb1-3550-4a62-a9f1-def0e5f147e0",
   "metadata": {},
   "source": [
    "**mutable-immutable concept**"
   ]
  },
  {
   "cell_type": "code",
   "execution_count": null,
   "id": "e34d6ac9-db85-41a1-ad5f-189655ccbe49",
   "metadata": {},
   "outputs": [],
   "source": [
    "- change the elements using index\n",
    "- but in dict. there is no index\n",
    "- in dict. we will change the value based on key only\n",
    "- instead of using the index, change the "
   ]
  },
  {
   "cell_type": "code",
   "execution_count": 26,
   "id": "c6cde416-1b30-4ad2-a6f7-8ed630f2e885",
   "metadata": {},
   "outputs": [
    {
     "data": {
      "text/plain": [
       "{'Manish': 22, 'Shubham': 20, 'govind': 30}"
      ]
     },
     "execution_count": 26,
     "metadata": {},
     "output_type": "execute_result"
    }
   ],
   "source": [
    "d1={'Manish':25,'Shubham':20,'govind':30}\n",
    "d1['Manish']=22\n",
    "d1"
   ]
  },
  {
   "cell_type": "code",
   "execution_count": null,
   "id": "707b87e2-343f-45ae-a3b2-2860cfd2c913",
   "metadata": {},
   "outputs": [],
   "source": [
    "- list and dict. are mutable\n",
    "- tupple and string are immutable\n",
    "- difference b/n list and tupple"
   ]
  },
  {
   "cell_type": "code",
   "execution_count": 28,
   "id": "cd14f018-e9eb-4bdc-8e28-f9d0e071265e",
   "metadata": {},
   "outputs": [
    {
     "data": {
      "text/plain": [
       "'Mango'"
      ]
     },
     "execution_count": 28,
     "metadata": {},
     "output_type": "execute_result"
    }
   ],
   "source": [
    "d={'Fruits':['Mango']}\n",
    "d['Fruits'][0]"
   ]
  },
  {
   "cell_type": "code",
   "execution_count": 29,
   "id": "cc1c0387-9d53-4bc9-9b35-1637b6ae4db2",
   "metadata": {},
   "outputs": [
    {
     "data": {
      "text/plain": [
       "'kashmir'"
      ]
     },
     "execution_count": 29,
     "metadata": {},
     "output_type": "execute_result"
    }
   ],
   "source": [
    "d={'Fruits':[{'Apple':['kashmir']}]}\n",
    "d['Fruits'][0]['Apple'][0]"
   ]
  },
  {
   "cell_type": "code",
   "execution_count": 3,
   "id": "8fc1c2a2-751d-418d-a03d-7dd55545ffba",
   "metadata": {},
   "outputs": [
    {
     "data": {
      "text/plain": [
       "'India'"
      ]
     },
     "execution_count": 3,
     "metadata": {},
     "output_type": "execute_result"
    }
   ],
   "source": [
    "d={'Fruits':[{'Apple':{'kashmir':['India']}}]}\n",
    "\n",
    "d['Fruits'][0]['Apple']['kashmir'][0]"
   ]
  },
  {
   "cell_type": "code",
   "execution_count": 33,
   "id": "13ab4216-9b4d-4c44-83a5-f60e0d338c50",
   "metadata": {},
   "outputs": [
    {
     "data": {
      "text/plain": [
       "{'Nagpur': {'MH': {'Shivaji': {'Shambaji'}}}}"
      ]
     },
     "execution_count": 33,
     "metadata": {},
     "output_type": "execute_result"
    }
   ],
   "source": [
    "d={'Fruits':{'Benganapalli':{'Mango':{'Nagpur':{'MH':{'Shivaji':{'Shambaji'}}}}}}}\n",
    "d['Fruits']['Benganapalli']['Mango']"
   ]
  },
  {
   "cell_type": "markdown",
   "id": "0d50c7a1-365e-44f7-acbc-b0e36fbbdef4",
   "metadata": {},
   "source": [
    "**dictionary methods**"
   ]
  },
  {
   "cell_type": "code",
   "execution_count": null,
   "id": "baedcc44-5c4d-4789-b935-3b0931fc782f",
   "metadata": {},
   "outputs": [],
   "source": [
    "dir('')"
   ]
  },
  {
   "cell_type": "code",
   "execution_count": null,
   "id": "9c423a85-fdcb-49ad-9bd5-5bd9a1ef2d93",
   "metadata": {},
   "outputs": [],
   "source": [
    "string\n",
    "list\n",
    "tuple\n",
    "dictionary all are objects"
   ]
  },
  {
   "cell_type": "code",
   "execution_count": 1,
   "id": "4afbfd1e-bbf0-4b30-889b-1fdb1a401def",
   "metadata": {},
   "outputs": [
    {
     "name": "stdout",
     "output_type": "stream",
     "text": [
      "<class 'list'>\n"
     ]
    }
   ],
   "source": [
    "print(type([]))"
   ]
  },
  {
   "cell_type": "markdown",
   "id": "c45f9ce1-91a3-4917-a1a3-271fb0d6e39f",
   "metadata": {},
   "source": [
    "**items-keys-values**"
   ]
  },
  {
   "cell_type": "code",
   "execution_count": 2,
   "id": "58df66e7-51a9-493c-8aeb-0eae0b8fa50c",
   "metadata": {},
   "outputs": [
    {
     "data": {
      "text/plain": [
       "{'Manish': 25, 'Shubham': 20, 'govind': 30}"
      ]
     },
     "execution_count": 2,
     "metadata": {},
     "output_type": "execute_result"
    }
   ],
   "source": [
    "d1={'Manish':25,'Shubham':20,'govind':30}\n",
    "d1"
   ]
  },
  {
   "cell_type": "code",
   "execution_count": null,
   "id": "e6a8cf26-ada5-4875-a4b9-f161b29853c7",
   "metadata": {},
   "outputs": [],
   "source": [
    "# <package>.<methods name>"
   ]
  },
  {
   "cell_type": "code",
   "execution_count": 4,
   "id": "8986e03b-3e45-461e-b7ca-6d1c945b7b6a",
   "metadata": {},
   "outputs": [
    {
     "data": {
      "text/plain": [
       "dict_items([('Manish', 25), ('Shubham', 20), ('govind', 30)])"
      ]
     },
     "execution_count": 4,
     "metadata": {},
     "output_type": "execute_result"
    }
   ],
   "source": [
    "d1.items()"
   ]
  },
  {
   "cell_type": "code",
   "execution_count": 5,
   "id": "1d7717fd-e089-47c4-848e-a04ea4b7941b",
   "metadata": {},
   "outputs": [
    {
     "data": {
      "text/plain": [
       "dict_keys(['Manish', 'Shubham', 'govind'])"
      ]
     },
     "execution_count": 5,
     "metadata": {},
     "output_type": "execute_result"
    }
   ],
   "source": [
    "d1.keys()"
   ]
  },
  {
   "cell_type": "code",
   "execution_count": 7,
   "id": "c02632c2-eb73-47d6-8738-65fda44863ca",
   "metadata": {},
   "outputs": [
    {
     "data": {
      "text/plain": [
       "dict_values([25, 20, 30])"
      ]
     },
     "execution_count": 7,
     "metadata": {},
     "output_type": "execute_result"
    }
   ],
   "source": [
    "d1.values()"
   ]
  },
  {
   "cell_type": "code",
   "execution_count": null,
   "id": "8e9f4ad8-9089-4932-a583-b87c02ed8410",
   "metadata": {},
   "outputs": [],
   "source": [
    "# we already learn how to make a list from dictionary\n",
    "d1={'Manish':25,'Shubham':20,'govind':30}\n",
    "keys,values=[],[]\n",
    "for i in d1:\n",
    "    print(i,d1[i])\n",
    "    keys\n",
    "    values"
   ]
  },
  {
   "cell_type": "code",
   "execution_count": 10,
   "id": "cc81be8b-484d-4ada-a40a-3573b45c97af",
   "metadata": {},
   "outputs": [
    {
     "data": {
      "text/plain": [
       "dict_keys"
      ]
     },
     "execution_count": 10,
     "metadata": {},
     "output_type": "execute_result"
    }
   ],
   "source": [
    "type(d1.keys())"
   ]
  },
  {
   "cell_type": "code",
   "execution_count": 13,
   "id": "907a5b68-4fe2-45fd-985e-ca50f625351e",
   "metadata": {},
   "outputs": [
    {
     "data": {
      "text/plain": [
       "(['Manish', 'Shubham', 'govind'], [25, 20, 30])"
      ]
     },
     "execution_count": 13,
     "metadata": {},
     "output_type": "execute_result"
    }
   ],
   "source": [
    "list(d1.keys()),list(d1.values())"
   ]
  },
  {
   "cell_type": "code",
   "execution_count": null,
   "id": "39fc2e8c-6b31-4c7c-8772-cc14567a8f07",
   "metadata": {},
   "outputs": [],
   "source": [
    "- dictionary keys will give dictionary keys items in a list\n",
    "- it look like a list, but it is not a list\n",
    "- which means we can not apply list methods\n",
    "- so we need to convert into list type, by using list type casting"
   ]
  },
  {
   "cell_type": "code",
   "execution_count": 14,
   "id": "035528e0-3d27-464d-bfc7-ed0d1a94e73e",
   "metadata": {},
   "outputs": [
    {
     "data": {
      "text/plain": [
       "types.GenericAlias"
      ]
     },
     "execution_count": 14,
     "metadata": {},
     "output_type": "execute_result"
    }
   ],
   "source": [
    "type(list[d1.keys])   tensorflow python"
   ]
  },
  {
   "cell_type": "markdown",
   "id": "21fe2faa-c729-4774-be87-557b2a34c480",
   "metadata": {},
   "source": [
    "**method 1**"
   ]
  },
  {
   "cell_type": "code",
   "execution_count": 16,
   "id": "a1039dc7-686b-47dc-9843-3c03a54f8921",
   "metadata": {},
   "outputs": [
    {
     "data": {
      "text/plain": [
       "dict_items([('Manish', 25), ('Shubham', 20), ('govind', 30)])"
      ]
     },
     "execution_count": 16,
     "metadata": {},
     "output_type": "execute_result"
    }
   ],
   "source": [
    "d1.items()"
   ]
  },
  {
   "cell_type": "code",
   "execution_count": 17,
   "id": "228cd7e9-b58c-49c3-acd0-859757702068",
   "metadata": {},
   "outputs": [
    {
     "name": "stdout",
     "output_type": "stream",
     "text": [
      "('Manish', 25)\n",
      "('Shubham', 20)\n",
      "('govind', 30)\n"
     ]
    }
   ],
   "source": [
    "for i in d1.items():\n",
    "    print(i)"
   ]
  },
  {
   "cell_type": "code",
   "execution_count": 19,
   "id": "c909f734-9807-4147-a107-bd9f330564cc",
   "metadata": {},
   "outputs": [
    {
     "name": "stdout",
     "output_type": "stream",
     "text": [
      "Manish 25\n",
      "Shubham 20\n",
      "govind 30\n"
     ]
    }
   ],
   "source": [
    "for i,j in d1.items():\n",
    "    print(i,j)"
   ]
  },
  {
   "cell_type": "markdown",
   "id": "2f52620b-911f-4e20-b40d-46717937c735",
   "metadata": {},
   "source": [
    "**methods 3**"
   ]
  },
  {
   "cell_type": "code",
   "execution_count": 20,
   "id": "2105d133-650d-4966-a614-9c197be39c07",
   "metadata": {},
   "outputs": [
    {
     "name": "stdout",
     "output_type": "stream",
     "text": [
      "Manish 25\n",
      "Shubham 20\n",
      "govind 30\n"
     ]
    },
    {
     "data": {
      "text/plain": [
       "(['Manish', 'Shubham', 'govind'], [25, 20, 30])"
      ]
     },
     "execution_count": 20,
     "metadata": {},
     "output_type": "execute_result"
    }
   ],
   "source": [
    "keys,values=[],[]\n",
    "for i,j in d1.items():\n",
    "    print(i,j)\n",
    "    keys.append(i)\n",
    "    values.append(j)\n",
    "\n",
    "keys,values"
   ]
  },
  {
   "cell_type": "code",
   "execution_count": 21,
   "id": "e4af5e76-d881-4412-9d7e-7e650d628b13",
   "metadata": {},
   "outputs": [
    {
     "data": {
      "text/plain": [
       "['__class__',\n",
       " '__class_getitem__',\n",
       " '__contains__',\n",
       " '__delattr__',\n",
       " '__delitem__',\n",
       " '__dir__',\n",
       " '__doc__',\n",
       " '__eq__',\n",
       " '__format__',\n",
       " '__ge__',\n",
       " '__getattribute__',\n",
       " '__getitem__',\n",
       " '__getstate__',\n",
       " '__gt__',\n",
       " '__hash__',\n",
       " '__init__',\n",
       " '__init_subclass__',\n",
       " '__ior__',\n",
       " '__iter__',\n",
       " '__le__',\n",
       " '__len__',\n",
       " '__lt__',\n",
       " '__ne__',\n",
       " '__new__',\n",
       " '__or__',\n",
       " '__reduce__',\n",
       " '__reduce_ex__',\n",
       " '__repr__',\n",
       " '__reversed__',\n",
       " '__ror__',\n",
       " '__setattr__',\n",
       " '__setitem__',\n",
       " '__sizeof__',\n",
       " '__str__',\n",
       " '__subclasshook__',\n",
       " 'clear',\n",
       " 'copy',\n",
       " 'fromkeys',\n",
       " 'get',\n",
       " 'items',\n",
       " 'keys',\n",
       " 'pop',\n",
       " 'popitem',\n",
       " 'setdefault',\n",
       " 'update',\n",
       " 'values']"
      ]
     },
     "execution_count": 21,
     "metadata": {},
     "output_type": "execute_result"
    }
   ],
   "source": [
    "dir({})"
   ]
  },
  {
   "cell_type": "code",
   "execution_count": null,
   "id": "5a52d406-c209-46eb-b560-a1edff386fcf",
   "metadata": {},
   "outputs": [],
   "source": []
  }
 ],
 "metadata": {
  "kernelspec": {
   "display_name": "Python 3 (ipykernel)",
   "language": "python",
   "name": "python3"
  },
  "language_info": {
   "codemirror_mode": {
    "name": "ipython",
    "version": 3
   },
   "file_extension": ".py",
   "mimetype": "text/x-python",
   "name": "python",
   "nbconvert_exporter": "python",
   "pygments_lexer": "ipython3",
   "version": "3.11.7"
  }
 },
 "nbformat": 4,
 "nbformat_minor": 5
}
