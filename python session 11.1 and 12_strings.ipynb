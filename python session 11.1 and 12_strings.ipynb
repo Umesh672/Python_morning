{
 "cells": [
  {
   "cell_type": "code",
   "execution_count": 20,
   "id": "67f77525-58b9-41db-b980-1f3298d605d8",
   "metadata": {},
   "outputs": [
    {
     "name": "stdout",
     "output_type": "stream",
     "text": [
      "20\n",
      "19\n",
      "18\n",
      "17\n",
      "16\n",
      "15\n",
      "14\n",
      "13\n",
      "12\n",
      "11\n",
      "10\n",
      "9\n",
      "8\n",
      "7\n",
      "6\n",
      "5\n",
      "4\n",
      "3\n",
      "2\n",
      "1\n"
     ]
    }
   ],
   "source": [
    "i=20\n",
    "while i>0:\n",
    "    print(i)\n",
    "    i=i-1"
   ]
  },
  {
   "cell_type": "code",
   "execution_count": null,
   "id": "1fe3d1c7-a1b5-4936-83ba-8e65b924b646",
   "metadata": {},
   "outputs": [],
   "source": [
    "**True**\n",
    "- if you dont known about valid condition to enter inside while loop\n",
    "- then use **True**\n",
    "- True will give entry pass iorrespective of the condition\n",
    "- but if u want to come out we need to apply if condition and break inside the loop"
   ]
  },
  {
   "cell_type": "code",
   "execution_count": 19,
   "id": "272df7e7-516a-4b86-aa74-d0ca8440e0fe",
   "metadata": {},
   "outputs": [
    {
     "name": "stdout",
     "output_type": "stream",
     "text": [
      "1\n",
      "2\n",
      "3\n",
      "4\n",
      "5\n",
      "6\n",
      "7\n",
      "8\n",
      "9\n",
      "10\n"
     ]
    }
   ],
   "source": [
    "i=1\n",
    "while True:\n",
    "    print(i)\n",
    "    i=i+1\n",
    "    if i>10:\n",
    "        break"
   ]
  },
  {
   "cell_type": "code",
   "execution_count": 18,
   "id": "42a41654-b4fe-48dc-9391-03a779b05e42",
   "metadata": {},
   "outputs": [
    {
     "name": "stdout",
     "output_type": "stream",
     "text": [
      "20\n"
     ]
    }
   ],
   "source": [
    "i=20\n",
    "while True:\n",
    "    print(i)\n",
    "    i=i+1\n",
    "    if i>-15:\n",
    "        break"
   ]
  },
  {
   "cell_type": "code",
   "execution_count": 17,
   "id": "d4e5311f-fb84-4d22-bc5a-65b6265ce5dc",
   "metadata": {},
   "outputs": [
    {
     "name": "stdout",
     "output_type": "stream",
     "text": [
      "-19 -18 -17 -16 -15 -14 -13 -12 -11 -10 -9 -8 -7 -6 -5 -4 -3 -2 -1 0 1 "
     ]
    }
   ],
   "source": [
    "i=-20\n",
    "while i<1:\n",
    "    i=i+1\n",
    "    print(i,end=' ')"
   ]
  },
  {
   "cell_type": "code",
   "execution_count": 16,
   "id": "ce041b9d-9c73-4db9-a440-0c0e109f9e6c",
   "metadata": {},
   "outputs": [
    {
     "name": "stdout",
     "output_type": "stream",
     "text": [
      "94 is even\n",
      "94 is even\n",
      "94 is even\n"
     ]
    }
   ],
   "source": [
    "import random\n",
    "num=random.randint(1,100)\n",
    "for i in range(3):\n",
    "    if num%2==0:\n",
    "        print(f\"{num} is even\")\n",
    "    else:\n",
    "        print(f\"{num} is odd\")"
   ]
  },
  {
   "cell_type": "code",
   "execution_count": null,
   "id": "1a3723a3-91a2-4b92-8a9e-29f5b7cc77a2",
   "metadata": {},
   "outputs": [],
   "source": [
    "# all for loop need to do while loop"
   ]
  },
  {
   "cell_type": "code",
   "execution_count": 15,
   "id": "c80d2209-fbeb-4857-b97b-2589de2562a6",
   "metadata": {},
   "outputs": [
    {
     "name": "stdout",
     "output_type": "stream",
     "text": [
      "29 is odd\n",
      "88 is even\n",
      "77 is odd\n"
     ]
    }
   ],
   "source": [
    "import random\n",
    "for i in range(3):\n",
    "    num=random.randint(1,100)\n",
    "    if num%2==0:\n",
    "        print(f\"{num} is even\")\n",
    "    else:\n",
    "        print(f\"{num} is odd\")"
   ]
  },
  {
   "cell_type": "code",
   "execution_count": 14,
   "id": "1c6a4566-3a50-483f-9a4a-848c9539add5",
   "metadata": {},
   "outputs": [
    {
     "name": "stdout",
     "output_type": "stream",
     "text": [
      "0\n",
      "1\n",
      "2\n"
     ]
    }
   ],
   "source": [
    "import random\n",
    "i=0\n",
    "while i<3:\n",
    "    print(i)\n",
    "    i=i+1"
   ]
  },
  {
   "cell_type": "code",
   "execution_count": 13,
   "id": "ed065f5f-7e49-429b-87d9-4c35ffb137e7",
   "metadata": {},
   "outputs": [
    {
     "name": "stdout",
     "output_type": "stream",
     "text": [
      "56 is even\n",
      "42 is even\n",
      "30 is even\n"
     ]
    }
   ],
   "source": [
    "import random\n",
    "i=0\n",
    "while i<3:\n",
    "    num=random.randint(1,100)\n",
    "    if num%2==0:\n",
    "        print(f\"{num} is even\")\n",
    "    else:\n",
    "        print(f\"{num} is odd\")\n",
    "    i=i+1"
   ]
  },
  {
   "cell_type": "code",
   "execution_count": null,
   "id": "0ae37237-8a45-468b-b8bf-8a6327621c31",
   "metadata": {},
   "outputs": [],
   "source": [
    "# wap ask the user print the number is even or odd between 10 to 20\n",
    "for i in range(10,20):\n",
    "    print(i,end='  ')"
   ]
  },
  {
   "cell_type": "code",
   "execution_count": 12,
   "id": "bd702bed-e511-4963-9332-3493df63fc0c",
   "metadata": {},
   "outputs": [
    {
     "name": "stdout",
     "output_type": "stream",
     "text": [
      "10\n",
      "11\n",
      "12\n",
      "13\n",
      "14\n",
      "15\n",
      "16\n",
      "17\n",
      "18\n",
      "19\n"
     ]
    }
   ],
   "source": [
    "i=10\n",
    "while i<20:\n",
    "    print(i)\n",
    "    i=i+1"
   ]
  },
  {
   "cell_type": "code",
   "execution_count": 11,
   "id": "1757a752-f1aa-40a5-88a0-f55703866502",
   "metadata": {},
   "outputs": [
    {
     "name": "stdout",
     "output_type": "stream",
     "text": [
      "the square of 20 is 400\n",
      "the square of 21 is 441\n",
      "the square of 22 is 484\n",
      "the square of 23 is 529\n",
      "the square of 24 is 576\n",
      "the square of 25 is 625\n"
     ]
    }
   ],
   "source": [
    "#wap ask the user print the square of the number between 20 to 25\n",
    "\n",
    "for i in range(20,26):\n",
    "    print(f\"the square of {i} is {i*i}\")"
   ]
  },
  {
   "cell_type": "code",
   "execution_count": 10,
   "id": "262aa133-f0e3-4d25-b3d9-62fecbc09c70",
   "metadata": {},
   "outputs": [
    {
     "name": "stdout",
     "output_type": "stream",
     "text": [
      " 20 is 400\n",
      " 21 is 441\n",
      " 22 is 484\n",
      " 23 is 529\n",
      " 24 is 576\n"
     ]
    }
   ],
   "source": [
    "i=20\n",
    "while i<25:\n",
    "    print(f\" {i} is {i*i}\")\n",
    "    i=i+1"
   ]
  },
  {
   "cell_type": "code",
   "execution_count": 9,
   "id": "7ead7145-6211-4b7f-a5e9-0bb772b15ba3",
   "metadata": {},
   "outputs": [
    {
     "name": "stdout",
     "output_type": "stream",
     "text": [
      " 20 is 400  21 is 441  22 is 484  23 is 529  24 is 576  25 is 625 "
     ]
    }
   ],
   "source": [
    "i=20\n",
    "while i<26:\n",
    "    print(f\" {i} is {i*i}\",end=' ')\n",
    "    i=i+1"
   ]
  },
  {
   "cell_type": "code",
   "execution_count": 8,
   "id": "f201fc79-2f19-4d8e-82be-10c3848afa0e",
   "metadata": {},
   "outputs": [
    {
     "name": "stdin",
     "output_type": "stream",
     "text": [
      "enter the number 5\n"
     ]
    },
    {
     "name": "stdout",
     "output_type": "stream",
     "text": [
      "the square of 5 is 25\n"
     ]
    },
    {
     "name": "stdin",
     "output_type": "stream",
     "text": [
      "enter the number 6\n"
     ]
    },
    {
     "name": "stdout",
     "output_type": "stream",
     "text": [
      "the square of 6 is 36\n"
     ]
    },
    {
     "name": "stdin",
     "output_type": "stream",
     "text": [
      "enter the number 6\n"
     ]
    },
    {
     "name": "stdout",
     "output_type": "stream",
     "text": [
      "the square of 6 is 36\n"
     ]
    }
   ],
   "source": [
    "# WAP ask the user enter number three times find the square of the number\n",
    "# How many times loop should run\n",
    "\n",
    "for i in range(3):\n",
    "    num=eval(input(\"enter the number\"))\n",
    "    print(f\"the square of {num} is {num*num}\")"
   ]
  },
  {
   "cell_type": "code",
   "execution_count": 7,
   "id": "f597bf16-5027-46e7-b12f-10380ac9e02c",
   "metadata": {},
   "outputs": [
    {
     "name": "stdin",
     "output_type": "stream",
     "text": [
      "enter the number 5\n"
     ]
    },
    {
     "name": "stdout",
     "output_type": "stream",
     "text": [
      "the square of 5 is 25\n"
     ]
    },
    {
     "name": "stdin",
     "output_type": "stream",
     "text": [
      "enter the number 6\n"
     ]
    },
    {
     "name": "stdout",
     "output_type": "stream",
     "text": [
      "the square of 6 is 36\n"
     ]
    },
    {
     "name": "stdin",
     "output_type": "stream",
     "text": [
      "enter the number 6\n"
     ]
    },
    {
     "name": "stdout",
     "output_type": "stream",
     "text": [
      "the square of 6 is 36\n"
     ]
    }
   ],
   "source": [
    "i=0\n",
    "while i<3:\n",
    "    num=eval(input(\"enter the number\"))\n",
    "    print(f\"the square of {num} is {num*num}\")\n",
    "    i=i+1\n",
    "    "
   ]
  },
  {
   "cell_type": "code",
   "execution_count": 6,
   "id": "8cdc9a49-e7dc-4446-9879-1d2e57f444f8",
   "metadata": {},
   "outputs": [
    {
     "name": "stdin",
     "output_type": "stream",
     "text": [
      "enter the table 14\n"
     ]
    },
    {
     "name": "stdout",
     "output_type": "stream",
     "text": [
      "14 x 1 = 14\n",
      "14 x 2 = 28\n",
      "14 x 3 = 42\n",
      "14 x 4 = 56\n",
      "14 x 5 = 70\n",
      "14 x 6 = 84\n",
      "14 x 7 = 98\n",
      "14 x 8 = 112\n",
      "14 x 9 = 126\n",
      "14 x 10 = 140\n"
     ]
    }
   ],
   "source": [
    "# Print the 14th table\n",
    "# ans:   14 x 1 = 14\n",
    "#        14 x 2 = 28\n",
    "#        14 x 3 = 42\n",
    "#\n",
    "#\n",
    "#        14 x10 = 140\n",
    "# How many times 10\n",
    "\n",
    "num=eval(input(\"enter the table\"))\n",
    "for i in range(1,11):\n",
    "    val=i*num\n",
    "    print(f\"{num} x {i} = {val}\")"
   ]
  },
  {
   "cell_type": "code",
   "execution_count": 5,
   "id": "b22a831c-9836-41cc-8e28-90d415725e73",
   "metadata": {},
   "outputs": [
    {
     "name": "stdin",
     "output_type": "stream",
     "text": [
      "enter the table 14\n"
     ]
    },
    {
     "name": "stdout",
     "output_type": "stream",
     "text": [
      "14 x 1 = 14\n",
      "14 x 2 = 28\n",
      "14 x 3 = 42\n",
      "14 x 4 = 56\n",
      "14 x 5 = 70\n",
      "14 x 6 = 84\n",
      "14 x 7 = 98\n",
      "14 x 8 = 112\n",
      "14 x 9 = 126\n",
      "14 x 10 = 140\n"
     ]
    }
   ],
   "source": [
    "i=1\n",
    "num=eval(input(\"enter the table\"))\n",
    "while i<11:\n",
    "    val=i*num\n",
    "    print(f\"{num} x {i} = {val}\")\n",
    "    i=i+1"
   ]
  },
  {
   "cell_type": "code",
   "execution_count": null,
   "id": "bbe4c125-bd41-40b3-bdce-49f2eb1d63cf",
   "metadata": {},
   "outputs": [],
   "source": [
    "# Find the factors of 75\n",
    "# step-1: Iterate the loop = which numbers factor you want\n",
    "# step-2: Apply the if condition\n",
    "#         cond= divide the number with each i\n",
    "\n",
    "num=eval(input(\"factor number i want is:\"))\n",
    "for i in range(1,num+1):\n",
    "    if num%i==0:\n",
    "        print(f\"{i} is the divisor of {num}\")"
   ]
  },
  {
   "cell_type": "code",
   "execution_count": null,
   "id": "d356e459-67b5-40eb-81a4-a028f139b797",
   "metadata": {},
   "outputs": [],
   "source": [
    "i=1\n",
    "num=eval(input(\"factor number i want is:\"))\n",
    "while i<num:\n",
    "        if num%i==0:\n",
    "            print(f\"{i} is the divisor of {num}\")\n",
    "        i=i+1"
   ]
  },
  {
   "cell_type": "code",
   "execution_count": null,
   "id": "036b9af5-8464-4231-9eda-47d29b9a1d15",
   "metadata": {},
   "outputs": [],
   "source": [
    "# Initialize variables\n",
    "sum = 0\n",
    "count = 1\n",
    "\n",
    "# Iterate using a while loop to sum the first 10 natural numbers\n",
    "while count <= 10:\n",
    "    sum += count\n",
    "    count += 1\n",
    "\n",
    "# Print the result\n",
    "print(\"Sum of first 10 natural numbers:\", sum)"
   ]
  },
  {
   "cell_type": "code",
   "execution_count": 4,
   "id": "50393b38-3d96-41d8-9195-258d48b54d99",
   "metadata": {},
   "outputs": [
    {
     "name": "stdout",
     "output_type": "stream",
     "text": [
      "sum of 10 natural number is : 0 + 1 = 1\n",
      "sum of 10 natural number is : 1 + 2 = 3\n",
      "sum of 10 natural number is : 3 + 3 = 6\n",
      "sum of 10 natural number is : 6 + 4 = 10\n",
      "sum of 10 natural number is : 10 + 5 = 15\n",
      "sum of 10 natural number is : 15 + 6 = 21\n",
      "sum of 10 natural number is : 21 + 7 = 28\n",
      "sum of 10 natural number is : 28 + 8 = 36\n",
      "sum of 10 natural number is : 36 + 9 = 45\n",
      "sum of 10 natural number is : 45 + 10 = 55\n"
     ]
    }
   ],
   "source": [
    "# Write the sum of first 10 Natural numbers\n",
    "# 1 to 10\n",
    "# 1+2+3+4+5+6+7+8+9+10=55\n",
    "\n",
    "summ=0\n",
    "for i in range(1,11):\n",
    "    summ=summ+i\n",
    "    print(f\"sum of 10 natural number is : {summ-i} + {i} = {summ}\")"
   ]
  },
  {
   "cell_type": "code",
   "execution_count": 3,
   "id": "859b060f-d34d-4dcb-b353-257d00b13bed",
   "metadata": {},
   "outputs": [
    {
     "name": "stdout",
     "output_type": "stream",
     "text": [
      "sum of 10 natural numbers is : 0 + 1 = 1\n",
      "sum of 10 natural numbers is : 1 + 2 = 3\n",
      "sum of 10 natural numbers is : 3 + 3 = 6\n",
      "sum of 10 natural numbers is : 6 + 4 = 10\n",
      "sum of 10 natural numbers is : 10 + 5 = 15\n",
      "sum of 10 natural numbers is : 15 + 6 = 21\n",
      "sum of 10 natural numbers is : 21 + 7 = 28\n",
      "sum of 10 natural numbers is : 28 + 8 = 36\n",
      "sum of 10 natural numbers is : 36 + 9 = 45\n",
      "sum of 10 natural numbers is : 45 + 10 = 55\n"
     ]
    }
   ],
   "source": [
    "summ=0\n",
    "i=1\n",
    "while i<11:\n",
    "    summ=summ+i\n",
    "    print(f\"sum of 10 natural numbers is : {summ-i} + {i} = {summ}\")\n",
    "    i=i+1"
   ]
  },
  {
   "cell_type": "code",
   "execution_count": 1,
   "id": "30efd863-a6d3-4172-baa7-f93d5934111f",
   "metadata": {},
   "outputs": [
    {
     "name": "stdin",
     "output_type": "stream",
     "text": [
      "enter the number 10\n"
     ]
    },
    {
     "name": "stdout",
     "output_type": "stream",
     "text": [
      "5.5\n"
     ]
    }
   ],
   "source": [
    "# Average first 1 to 10 numbers\n",
    "# avg= summation of all the numbers/total number\n",
    "#Wap to find the average of ' N ' numbers in Python.\n",
    "summ=0\n",
    "N=eval(input(\"enter the number\"))\n",
    "for i in range(1,N+1):\n",
    "    summ=summ+i\n",
    "print(summ/N)"
   ]
  },
  {
   "cell_type": "code",
   "execution_count": 2,
   "id": "b7a624c0-c897-489b-8f96-39e055240a19",
   "metadata": {},
   "outputs": [
    {
     "name": "stdin",
     "output_type": "stream",
     "text": [
      "enter the number 10\n"
     ]
    },
    {
     "name": "stdout",
     "output_type": "stream",
     "text": [
      "11.0\n"
     ]
    }
   ],
   "source": [
    "N=eval(input(\"enter the number\"))\n",
    "for i in range(1,11):\n",
    "    summ=summ+i\n",
    "print(summ/N)"
   ]
  },
  {
   "cell_type": "code",
   "execution_count": 4,
   "id": "a02371b0-3670-4946-84bd-57dcc3fc84d0",
   "metadata": {},
   "outputs": [
    {
     "name": "stdin",
     "output_type": "stream",
     "text": [
      "enter the number 10\n"
     ]
    },
    {
     "name": "stdout",
     "output_type": "stream",
     "text": [
      "0.1\n",
      "0.3\n",
      "0.6\n",
      "1.0\n",
      "1.5\n",
      "2.1\n",
      "2.8\n",
      "3.6\n",
      "4.5\n",
      "5.5\n"
     ]
    }
   ],
   "source": [
    "summ=0\n",
    "i=1\n",
    "N=eval(input(\"enter the number\"))\n",
    "while i<N+1:\n",
    "    summ=summ+i\n",
    "    print(summ/N)\n",
    "    i=i+1"
   ]
  },
  {
   "cell_type": "code",
   "execution_count": 8,
   "id": "96d392c4-4cc1-4034-a3b3-d41fbbd1c338",
   "metadata": {},
   "outputs": [
    {
     "name": "stdin",
     "output_type": "stream",
     "text": [
      "enter the number 10\n"
     ]
    },
    {
     "name": "stdout",
     "output_type": "stream",
     "text": [
      "0.1\n",
      "0.3\n",
      "0.6\n",
      "1.0\n",
      "1.5\n",
      "2.1\n",
      "2.8\n",
      "3.6\n",
      "4.5\n",
      "5.5\n"
     ]
    }
   ],
   "source": [
    "summ=0\n",
    "i=1\n",
    "N=eval(input(\"enter the number\"))\n",
    "while i<11:\n",
    "    summ=summ+i\n",
    "    print(summ/N)\n",
    "    i=i+1"
   ]
  },
  {
   "cell_type": "code",
   "execution_count": 12,
   "id": "86e97a0a-aafd-4be8-ab77-974d4469a3b1",
   "metadata": {},
   "outputs": [
    {
     "name": "stdin",
     "output_type": "stream",
     "text": [
      "factor number i want is: 75\n"
     ]
    },
    {
     "name": "stdout",
     "output_type": "stream",
     "text": [
      "the number divisior for 75 is 6\n"
     ]
    }
   ],
   "source": [
    "# find the number of divisior of 75\n",
    "# 1,3,5,15,25,75\n",
    "# number=6\n",
    "count=0\n",
    "num=eval(input(\"factor number i want is:\"))\n",
    "for i in range(1,num+1):\n",
    "    if num%i==0:\n",
    "        count=count+1\n",
    "print(f\"the number divisior for {num} is {count}\")"
   ]
  },
  {
   "cell_type": "code",
   "execution_count": 1,
   "id": "32c1d37f-0152-44cf-b478-6c6ac68d9b5c",
   "metadata": {},
   "outputs": [
    {
     "name": "stdin",
     "output_type": "stream",
     "text": [
      "factor number i want is: 75\n"
     ]
    },
    {
     "ename": "KeyboardInterrupt",
     "evalue": "",
     "output_type": "error",
     "traceback": [
      "\u001b[1;31m---------------------------------------------------------------------------\u001b[0m",
      "\u001b[1;31mKeyboardInterrupt\u001b[0m                         Traceback (most recent call last)",
      "Cell \u001b[1;32mIn[1], line 4\u001b[0m\n\u001b[0;32m      2\u001b[0m i\u001b[38;5;241m=\u001b[39m\u001b[38;5;241m1\u001b[39m\n\u001b[0;32m      3\u001b[0m num\u001b[38;5;241m=\u001b[39m\u001b[38;5;28meval\u001b[39m(\u001b[38;5;28minput\u001b[39m(\u001b[38;5;124m\"\u001b[39m\u001b[38;5;124mfactor number i want is:\u001b[39m\u001b[38;5;124m\"\u001b[39m))\n\u001b[1;32m----> 4\u001b[0m \u001b[38;5;28;01mwhile\u001b[39;00m i\u001b[38;5;241m<\u001b[39mnum\u001b[38;5;241m+\u001b[39m\u001b[38;5;241m1\u001b[39m:\n\u001b[0;32m      5\u001b[0m     \u001b[38;5;28;01mif\u001b[39;00m num\u001b[38;5;241m%\u001b[39mi\u001b[38;5;241m==\u001b[39m\u001b[38;5;241m0\u001b[39m:\n\u001b[0;32m      6\u001b[0m         count\u001b[38;5;241m=\u001b[39mcount\u001b[38;5;241m+\u001b[39m\u001b[38;5;241m1\u001b[39m       \n",
      "\u001b[1;31mKeyboardInterrupt\u001b[0m: "
     ]
    }
   ],
   "source": [
    "count=0\n",
    "i=1\n",
    "num=eval(input(\"factor number i want is:\"))\n",
    "while i<num+1:\n",
    "    if num%i==0:\n",
    "        count=count+1       \n",
    "print(f\"the number divisior for {num} is {count}\")\n",
    "i=i+1"
   ]
  },
  {
   "cell_type": "markdown",
   "id": "484167c7-8cdf-46ee-8c68-dfe85a27fc7f",
   "metadata": {},
   "source": [
    "# python session 12 strings"
   ]
  },
  {
   "cell_type": "code",
   "execution_count": null,
   "id": "02d84d16-a942-43ca-a7cc-feb29275ba46",
   "metadata": {},
   "outputs": [],
   "source": [
    "###################### Part 1 ####################\n",
    "- Initialization\n",
    "- type\n",
    "- len\n",
    "- max\n",
    "- min\n",
    "- sorted\n",
    "- revesed\n",
    "- in\n",
    "- for loop\n",
    "- index\n",
    "- for loop using index\n",
    "- mutable concept\n",
    "- concatenation\n",
    "######################### Part 2 ##########################\n",
    "- methods"
   ]
  },
  {
   "cell_type": "code",
   "execution_count": null,
   "id": "eba615f6-8fe0-41dc-b394-fd6e477b01e8",
   "metadata": {},
   "outputs": [],
   "source": [
    "Initialization"
   ]
  },
  {
   "cell_type": "code",
   "execution_count": 4,
   "id": "fcafd9b7-edaf-4ac7-9eb8-1bf697a41241",
   "metadata": {},
   "outputs": [
    {
     "data": {
      "text/plain": [
       "'python'"
      ]
     },
     "execution_count": 4,
     "metadata": {},
     "output_type": "execute_result"
    }
   ],
   "source": [
    "str1='python'\n",
    "str1"
   ]
  },
  {
   "cell_type": "code",
   "execution_count": 2,
   "id": "3239d553-bb51-46ce-acbe-4c62c7f70adb",
   "metadata": {},
   "outputs": [
    {
     "data": {
      "text/plain": [
       "'python'"
      ]
     },
     "execution_count": 2,
     "metadata": {},
     "output_type": "execute_result"
    }
   ],
   "source": [
    "str2=\"python\"\n",
    "str2"
   ]
  },
  {
   "cell_type": "code",
   "execution_count": 6,
   "id": "989c3573-fb54-447c-b63d-737ed5fb2e84",
   "metadata": {},
   "outputs": [
    {
     "name": "stdout",
     "output_type": "stream",
     "text": [
      "python\n"
     ]
    }
   ],
   "source": [
    "print(str1)"
   ]
  },
  {
   "cell_type": "code",
   "execution_count": null,
   "id": "a081a043-49eb-4858-bd3b-ca4f5e8c762f",
   "metadata": {},
   "outputs": [],
   "source": [
    "**note**\n",
    "- if we mentioned single quotes or double quotes by default python provides in single quotes only\n",
    "- if we print the string we will answer with out quotes\n",
    "- triple quotes are using dor doc string\n",
    "- in order to convey the information about coding part we will use doc string\n",
    "- anything inside the single or double quotes is considered as string in python"
   ]
  },
  {
   "cell_type": "markdown",
   "id": "7117e8d8-228a-40e2-9dc0-d2652b257178",
   "metadata": {},
   "source": [
    "**triple quote**"
   ]
  },
  {
   "cell_type": "code",
   "execution_count": 2,
   "id": "0e62efe1-2ca5-4ac0-892f-32c91641f3e9",
   "metadata": {},
   "outputs": [
    {
     "name": "stdout",
     "output_type": "stream",
     "text": [
      "hello\n",
      "        i am umesh\n"
     ]
    }
   ],
   "source": [
    "str3=\"\"\"hello\n",
    "        i am umesh\"\"\"\n",
    "print(str3)"
   ]
  },
  {
   "cell_type": "markdown",
   "id": "201e5255-1b2f-44fe-a242-73c412649aa3",
   "metadata": {},
   "source": [
    "**type**"
   ]
  },
  {
   "cell_type": "code",
   "execution_count": 7,
   "id": "d69cc82a-f21f-4265-ab21-2383371e2b52",
   "metadata": {},
   "outputs": [
    {
     "data": {
      "text/plain": [
       "str"
      ]
     },
     "execution_count": 7,
     "metadata": {},
     "output_type": "execute_result"
    }
   ],
   "source": [
    "type(str1)"
   ]
  },
  {
   "cell_type": "code",
   "execution_count": null,
   "id": "366633d9-727e-46f3-9ebc-1f4268d83782",
   "metadata": {},
   "outputs": [],
   "source": [
    "str4='10'    #  integer value in the forn of srting\n",
    "str5='10.5'   #  float value\n",
    "str6='abc123'  # alphanumeric\n",
    "str7"
   ]
  },
  {
   "cell_type": "markdown",
   "id": "0b4b792c-9eb4-44ef-8c51-10cd580bcd96",
   "metadata": {},
   "source": [
    "**length**"
   ]
  },
  {
   "cell_type": "code",
   "execution_count": 8,
   "id": "62e7db54-a085-4df5-814e-2886d37f785a",
   "metadata": {},
   "outputs": [
    {
     "data": {
      "text/plain": [
       "6"
      ]
     },
     "execution_count": 8,
     "metadata": {},
     "output_type": "execute_result"
    }
   ],
   "source": [
    "str1='python'\n",
    "len(str1)"
   ]
  },
  {
   "cell_type": "code",
   "execution_count": 9,
   "id": "5e3fbd57-80e8-41de-93d8-c36785994854",
   "metadata": {},
   "outputs": [
    {
     "data": {
      "text/plain": [
       "8"
      ]
     },
     "execution_count": 9,
     "metadata": {},
     "output_type": "execute_result"
    }
   ],
   "source": [
    "str2='kushwaha'\n",
    "len(str2)"
   ]
  },
  {
   "cell_type": "markdown",
   "id": "f13d350c-8ac9-4d14-a81d-3d7520316326",
   "metadata": {},
   "source": [
    "**max and min**"
   ]
  },
  {
   "cell_type": "code",
   "execution_count": 10,
   "id": "a27adaa3-0cfb-4abb-99e0-3dbdfad5b2a1",
   "metadata": {},
   "outputs": [
    {
     "data": {
      "text/plain": [
       "'u'"
      ]
     },
     "execution_count": 10,
     "metadata": {},
     "output_type": "execute_result"
    }
   ],
   "source": [
    "str1='umesh'\n",
    "max(str1)"
   ]
  },
  {
   "cell_type": "code",
   "execution_count": 11,
   "id": "d0a5eb8f-aa48-4cf5-93e7-2ccc4b2e4b94",
   "metadata": {},
   "outputs": [
    {
     "data": {
      "text/plain": [
       "'y'"
      ]
     },
     "execution_count": 11,
     "metadata": {},
     "output_type": "execute_result"
    }
   ],
   "source": [
    "str2='python'\n",
    "max(str2)"
   ]
  },
  {
   "cell_type": "code",
   "execution_count": 14,
   "id": "704069fb-731e-4bdb-bb0d-1e46ccb5686f",
   "metadata": {},
   "outputs": [
    {
     "data": {
      "text/plain": [
       "(112, 121, 116, 104, 111, 110)"
      ]
     },
     "execution_count": 14,
     "metadata": {},
     "output_type": "execute_result"
    }
   ],
   "source": [
    "ord('p'),ord('y'),ord('t'),ord('h'),ord('o'),ord('n')"
   ]
  },
  {
   "cell_type": "code",
   "execution_count": 13,
   "id": "f006dfc1-de39-4c3b-8f9b-e8d2105cf63d",
   "metadata": {},
   "outputs": [
    {
     "data": {
      "text/plain": [
       "'h'"
      ]
     },
     "execution_count": 13,
     "metadata": {},
     "output_type": "execute_result"
    }
   ],
   "source": [
    "str1='python'\n",
    "min(str1)"
   ]
  },
  {
   "cell_type": "markdown",
   "id": "361222ee-a619-402e-9a26-aa356f7da6e6",
   "metadata": {},
   "source": [
    "**keyword vs methods**"
   ]
  },
  {
   "cell_type": "code",
   "execution_count": null,
   "id": "8e61096f-f432-4736-aeb3-9910083caf23",
   "metadata": {},
   "outputs": [],
   "source": [
    "type(<>)\n",
    "print(<>)\n",
    "len(<>)\n",
    "max(<>)\n",
    "min(<>)\n",
    "eval(<>)"
   ]
  },
  {
   "cell_type": "code",
   "execution_count": null,
   "id": "ed0b954e-03f6-44e1-acd5-10e36f53d468",
   "metadata": {},
   "outputs": [],
   "source": [
    "- in order to use methods we need to call packages\n",
    "\n",
    "import random\n",
    "randon.randint()\n"
   ]
  },
  {
   "cell_type": "code",
   "execution_count": 15,
   "id": "c8a120a2-ee67-41c0-a57c-8dff44d73324",
   "metadata": {},
   "outputs": [
    {
     "data": {
      "text/plain": [
       "'y'"
      ]
     },
     "execution_count": 15,
     "metadata": {},
     "output_type": "execute_result"
    }
   ],
   "source": [
    "str1='python123'\n",
    "max(str1)"
   ]
  },
  {
   "cell_type": "code",
   "execution_count": 7,
   "id": "38be96d3-cb76-4a05-b36e-1424c08b863b",
   "metadata": {},
   "outputs": [
    {
     "data": {
      "text/plain": [
       "'1'"
      ]
     },
     "execution_count": 7,
     "metadata": {},
     "output_type": "execute_result"
    }
   ],
   "source": [
    "str1='python123'\n",
    "min(str1)"
   ]
  },
  {
   "cell_type": "markdown",
   "id": "56e7dca0-a8da-4526-9f41-6081e3058214",
   "metadata": {},
   "source": [
    "**sum**"
   ]
  },
  {
   "cell_type": "code",
   "execution_count": 16,
   "id": "339e7c4f-4047-49cb-bfa1-1bd5206cf281",
   "metadata": {},
   "outputs": [
    {
     "ename": "TypeError",
     "evalue": "unsupported operand type(s) for +: 'int' and 'str'",
     "output_type": "error",
     "traceback": [
      "\u001b[1;31m---------------------------------------------------------------------------\u001b[0m",
      "\u001b[1;31mTypeError\u001b[0m                                 Traceback (most recent call last)",
      "Cell \u001b[1;32mIn[16], line 2\u001b[0m\n\u001b[0;32m      1\u001b[0m str1\u001b[38;5;241m=\u001b[39m\u001b[38;5;124m'\u001b[39m\u001b[38;5;124mpython\u001b[39m\u001b[38;5;124m'\u001b[39m\n\u001b[1;32m----> 2\u001b[0m \u001b[38;5;28msum\u001b[39m(str1)\n",
      "\u001b[1;31mTypeError\u001b[0m: unsupported operand type(s) for +: 'int' and 'str'"
     ]
    }
   ],
   "source": [
    "str1='python'\n",
    "sum(str1)"
   ]
  },
  {
   "cell_type": "code",
   "execution_count": 19,
   "id": "f86a85ae-cfe0-4bd7-b30c-38cd474fd296",
   "metadata": {},
   "outputs": [
    {
     "data": {
      "text/plain": [
       "'python'"
      ]
     },
     "execution_count": 19,
     "metadata": {},
     "output_type": "execute_result"
    }
   ],
   "source": [
    "'p'+'y'+'t'+'h'+'o'+'n'"
   ]
  },
  {
   "cell_type": "markdown",
   "id": "7bd7b4bd-08ce-471f-be7e-553b0585d5f0",
   "metadata": {},
   "source": [
    "**sorted**"
   ]
  },
  {
   "cell_type": "code",
   "execution_count": null,
   "id": "fa739fac-45b6-4353-852a-75feeb769422",
   "metadata": {},
   "outputs": [],
   "source": [
    "len('python')\n",
    "len"
   ]
  },
  {
   "cell_type": "code",
   "execution_count": 20,
   "id": "3fecfa3e-c74c-4050-8647-3602885b9083",
   "metadata": {},
   "outputs": [
    {
     "data": {
      "text/plain": [
       "['h', 'n', 'o', 'p', 't', 'y']"
      ]
     },
     "execution_count": 20,
     "metadata": {},
     "output_type": "execute_result"
    }
   ],
   "source": [
    "str1='python'\n",
    "sorted(str1)"
   ]
  },
  {
   "cell_type": "code",
   "execution_count": null,
   "id": "ef3569a5-2c42-4e4c-89ed-b939a349a00b",
   "metadata": {},
   "outputs": [],
   "source": [
    "- sorted gives ascending order based on ASCII number\n",
    "- sorted is kind of a function\n",
    "- every function we have arguments\n",
    "- in that one default argument is **reverse=False**\n",
    "- by default sorted output gives **ascending order**\n",
    "- we can change the order by providing **reverse=True**\n",
    "- if u donot mention, it will give the default answer"
   ]
  },
  {
   "cell_type": "code",
   "execution_count": 21,
   "id": "704acf19-42ab-4367-98a3-fa85c0f8120a",
   "metadata": {},
   "outputs": [
    {
     "ename": "TypeError",
     "evalue": "sorted expected 1 argument, got 0",
     "output_type": "error",
     "traceback": [
      "\u001b[1;31m---------------------------------------------------------------------------\u001b[0m",
      "\u001b[1;31mTypeError\u001b[0m                                 Traceback (most recent call last)",
      "Cell \u001b[1;32mIn[21], line 1\u001b[0m\n\u001b[1;32m----> 1\u001b[0m \u001b[38;5;28msorted\u001b[39m()\n",
      "\u001b[1;31mTypeError\u001b[0m: sorted expected 1 argument, got 0"
     ]
    }
   ],
   "source": [
    "sorted()"
   ]
  },
  {
   "cell_type": "code",
   "execution_count": 23,
   "id": "e7b5fec2-dbb3-4a9d-910c-0f03c7365a82",
   "metadata": {},
   "outputs": [
    {
     "data": {
      "text/plain": [
       "['y', 't', 'p', 'o', 'n', 'h']"
      ]
     },
     "execution_count": 23,
     "metadata": {},
     "output_type": "execute_result"
    }
   ],
   "source": [
    "sorted(str1,reverse=True)"
   ]
  },
  {
   "cell_type": "code",
   "execution_count": 24,
   "id": "c248d3f3-e3e7-45a9-9cdf-1866e97e856d",
   "metadata": {},
   "outputs": [
    {
     "data": {
      "text/plain": [
       "0j"
      ]
     },
     "execution_count": 24,
     "metadata": {},
     "output_type": "execute_result"
    }
   ],
   "source": [
    "complex()"
   ]
  },
  {
   "cell_type": "code",
   "execution_count": 25,
   "id": "7b18e638-e23d-4e4a-aa21-de39f5bd339b",
   "metadata": {},
   "outputs": [
    {
     "data": {
      "text/plain": [
       "(10+20j)"
      ]
     },
     "execution_count": 25,
     "metadata": {},
     "output_type": "execute_result"
    }
   ],
   "source": [
    "complex(10,20)"
   ]
  },
  {
   "cell_type": "code",
   "execution_count": 27,
   "id": "f5ea7205-67bd-423d-bfff-211bfcaf8b6b",
   "metadata": {},
   "outputs": [
    {
     "data": {
      "text/plain": [
       "(10+30j)"
      ]
     },
     "execution_count": 27,
     "metadata": {},
     "output_type": "execute_result"
    }
   ],
   "source": [
    "complex(real=10,imag=30)"
   ]
  },
  {
   "cell_type": "code",
   "execution_count": 28,
   "id": "bfa99ece-98c5-40be-b579-9ef45bf39fc7",
   "metadata": {},
   "outputs": [
    {
     "ename": "TypeError",
     "evalue": "Random.randint() missing 2 required positional arguments: 'a' and 'b'",
     "output_type": "error",
     "traceback": [
      "\u001b[1;31m---------------------------------------------------------------------------\u001b[0m",
      "\u001b[1;31mTypeError\u001b[0m                                 Traceback (most recent call last)",
      "Cell \u001b[1;32mIn[28], line 2\u001b[0m\n\u001b[0;32m      1\u001b[0m \u001b[38;5;28;01mimport\u001b[39;00m \u001b[38;5;21;01mrandom\u001b[39;00m\n\u001b[1;32m----> 2\u001b[0m random\u001b[38;5;241m.\u001b[39mrandint()\n",
      "\u001b[1;31mTypeError\u001b[0m: Random.randint() missing 2 required positional arguments: 'a' and 'b'"
     ]
    }
   ],
   "source": [
    "import random\n",
    "random.randint()"
   ]
  },
  {
   "cell_type": "code",
   "execution_count": null,
   "id": "72156515-7a63-4a1d-8055-939fa85aab4e",
   "metadata": {},
   "outputs": [],
   "source": [
    "function()\n",
    "function(a,b)\n",
    "function(a=10,b=20)"
   ]
  },
  {
   "cell_type": "code",
   "execution_count": 31,
   "id": "b01c1d95-6db7-4f63-ae8b-9ec7d040c036",
   "metadata": {},
   "outputs": [
    {
     "data": {
      "text/plain": [
       "0.9025799546468164"
      ]
     },
     "execution_count": 31,
     "metadata": {},
     "output_type": "execute_result"
    }
   ],
   "source": [
    "import random    # it will give answer but we cannot change\n",
    "random.random()"
   ]
  },
  {
   "cell_type": "code",
   "execution_count": 33,
   "id": "63e25aef-105e-4804-8876-a943b539b5c2",
   "metadata": {},
   "outputs": [
    {
     "data": {
      "text/plain": [
       "2"
      ]
     },
     "execution_count": 33,
     "metadata": {},
     "output_type": "execute_result"
    }
   ],
   "source": [
    "random.randint(1,10)  # answer will change"
   ]
  },
  {
   "cell_type": "code",
   "execution_count": 34,
   "id": "189e04a7-cd10-40b3-8945-a5df1a914b1b",
   "metadata": {},
   "outputs": [
    {
     "data": {
      "text/plain": [
       "(10+20j)"
      ]
     },
     "execution_count": 34,
     "metadata": {},
     "output_type": "execute_result"
    }
   ],
   "source": [
    "complex(10,20)"
   ]
  },
  {
   "cell_type": "code",
   "execution_count": 35,
   "id": "de38d69f-0353-48b5-a1d9-5740c3a4b0fe",
   "metadata": {},
   "outputs": [
    {
     "ename": "SyntaxError",
     "evalue": "invalid syntax. Maybe you meant '==' or ':=' instead of '='? (1322657665.py, line 1)",
     "output_type": "error",
     "traceback": [
      "\u001b[1;36m  Cell \u001b[1;32mIn[35], line 1\u001b[1;36m\u001b[0m\n\u001b[1;33m    sorted((iterable='python')\u001b[0m\n\u001b[1;37m            ^\u001b[0m\n\u001b[1;31mSyntaxError\u001b[0m\u001b[1;31m:\u001b[0m invalid syntax. Maybe you meant '==' or ':=' instead of '='?\n"
     ]
    }
   ],
   "source": [
    "sorted((iterable='python')  # error"
   ]
  },
  {
   "cell_type": "code",
   "execution_count": 36,
   "id": "2433200b-4a07-43b2-ba4b-f799e5a3790a",
   "metadata": {},
   "outputs": [
    {
     "data": {
      "text/plain": [
       "10"
      ]
     },
     "execution_count": 36,
     "metadata": {},
     "output_type": "execute_result"
    }
   ],
   "source": [
    "random.randint(a=10,b=20)  # answer"
   ]
  },
  {
   "cell_type": "code",
   "execution_count": 37,
   "id": "0dcb6357-bde2-4ea3-a4ea-b1521b676fbe",
   "metadata": {},
   "outputs": [
    {
     "data": {
      "text/plain": [
       "['h', 'n', 'o', 'p', 't', 'y']"
      ]
     },
     "execution_count": 37,
     "metadata": {},
     "output_type": "execute_result"
    }
   ],
   "source": [
    "sorted('python')"
   ]
  },
  {
   "cell_type": "code",
   "execution_count": null,
   "id": "cd578db3-b83e-4315-b50f-0860ea531e11",
   "metadata": {},
   "outputs": [],
   "source": [
    "**note**\n",
    "- we have argument before / and after slash\n",
    "- we can use the arguments names after / only\n",
    "- for example sorted has two arguments ine is iterable and another is reverse\n",
    "- iterable is mentioned before / symbol\n",
    "- reverse is mentioned after / symbol\n",
    "- so we can use reverse arguments name while we are diong the work\n",
    "- we cannot use iterable arguments name\n",
    "- instead of using iterable na,me we can directly specify the value"
   ]
  },
  {
   "cell_type": "markdown",
   "id": "f56b6f73-ff28-4bbf-b09b-04b17af285a3",
   "metadata": {},
   "source": [
    "**reversed**"
   ]
  },
  {
   "cell_type": "code",
   "execution_count": 38,
   "id": "95671105-6a1f-41fb-ad0b-bdfa3590eaa6",
   "metadata": {},
   "outputs": [
    {
     "data": {
      "text/plain": [
       "<reversed at 0x23e9c6a4640>"
      ]
     },
     "execution_count": 38,
     "metadata": {},
     "output_type": "execute_result"
    }
   ],
   "source": [
    "reversed('python')"
   ]
  },
  {
   "cell_type": "code",
   "execution_count": null,
   "id": "7d55f024-7c79-41a0-aa0b-3b1775557f9a",
   "metadata": {},
   "outputs": [],
   "source": [
    "- i already done my work\n",
    "- your output is stored in that memory location\n",
    "- whenever you see this kind of answer less than or greater than the symbol\n",
    "- use for loop to see the answer"
   ]
  },
  {
   "cell_type": "code",
   "execution_count": 39,
   "id": "e9134b97-3098-46cd-8cdd-c3d47a3885b4",
   "metadata": {},
   "outputs": [
    {
     "name": "stdout",
     "output_type": "stream",
     "text": [
      "n\n",
      "o\n",
      "h\n",
      "t\n",
      "y\n",
      "p\n"
     ]
    }
   ],
   "source": [
    "str1='python'\n",
    "output=reversed(str1)\n",
    "for i in output:\n",
    "    print(i)"
   ]
  },
  {
   "cell_type": "code",
   "execution_count": 40,
   "id": "e534cfa7-3269-4e75-8025-0e3c8fd766f5",
   "metadata": {},
   "outputs": [
    {
     "name": "stdout",
     "output_type": "stream",
     "text": [
      "d\n",
      "c\n",
      "y\n",
      "z\n",
      "a\n"
     ]
    }
   ],
   "source": [
    "str1='azycd'\n",
    "output=reversed(str1)\n",
    "for i in output:\n",
    "    print(i)"
   ]
  },
  {
   "cell_type": "code",
   "execution_count": 41,
   "id": "45151e7a-7445-46d7-9c3c-6939bd40af53",
   "metadata": {},
   "outputs": [
    {
     "data": {
      "text/plain": [
       "['a', 'c', 'd', 'y', 'z']"
      ]
     },
     "execution_count": 41,
     "metadata": {},
     "output_type": "execute_result"
    }
   ],
   "source": [
    "sorted('azycd')"
   ]
  },
  {
   "cell_type": "code",
   "execution_count": null,
   "id": "8e25451d-28f5-4574-ac70-70efcfa7dfa8",
   "metadata": {},
   "outputs": [],
   "source": [
    "**sorted**\n",
    "- it will provides the values either ascending or descending order\n",
    "- when run directly it will give one answer\n",
    "- the function has a default behaviour"
   ]
  },
  {
   "cell_type": "code",
   "execution_count": 3,
   "id": "dbfbd953-cf9f-4ff0-86d4-4a760322c4df",
   "metadata": {},
   "outputs": [
    {
     "data": {
      "text/plain": [
       "['a', 'e', 'h', 'n', 'r', 's']"
      ]
     },
     "execution_count": 3,
     "metadata": {},
     "output_type": "execute_result"
    }
   ],
   "source": [
    "sorted('naresh')"
   ]
  },
  {
   "cell_type": "code",
   "execution_count": 4,
   "id": "cba2ff04-0c13-4260-bbfa-228677bb1ca8",
   "metadata": {},
   "outputs": [
    {
     "ename": "TypeError",
     "evalue": "sorted expected 1 argument, got 2",
     "output_type": "error",
     "traceback": [
      "\u001b[1;31m---------------------------------------------------------------------------\u001b[0m",
      "\u001b[1;31mTypeError\u001b[0m                                 Traceback (most recent call last)",
      "Cell \u001b[1;32mIn[4], line 1\u001b[0m\n\u001b[1;32m----> 1\u001b[0m \u001b[38;5;28msorted\u001b[39m(\u001b[38;5;124m'\u001b[39m\u001b[38;5;124mnaresh\u001b[39m\u001b[38;5;124m'\u001b[39m,\u001b[38;5;28;01mTrue\u001b[39;00m)\n",
      "\u001b[1;31mTypeError\u001b[0m: sorted expected 1 argument, got 2"
     ]
    }
   ],
   "source": [
    "sorted('naresh',True)"
   ]
  },
  {
   "cell_type": "code",
   "execution_count": 5,
   "id": "634a0f08-dc49-4ee9-a3eb-8eaaad115169",
   "metadata": {},
   "outputs": [
    {
     "data": {
      "text/plain": [
       "['s', 'r', 'n', 'h', 'e', 'a']"
      ]
     },
     "execution_count": 5,
     "metadata": {},
     "output_type": "execute_result"
    }
   ],
   "source": [
    "sorted('naresh',reverse=True)"
   ]
  },
  {
   "cell_type": "code",
   "execution_count": 6,
   "id": "e086583b-f6d5-4605-8bd0-48cf3616ec23",
   "metadata": {},
   "outputs": [
    {
     "data": {
      "text/plain": [
       "<reversed at 0x21e8ecbd570>"
      ]
     },
     "execution_count": 6,
     "metadata": {},
     "output_type": "execute_result"
    }
   ],
   "source": [
    "reversed('naresh')"
   ]
  },
  {
   "cell_type": "code",
   "execution_count": 3,
   "id": "aa94bed5-c8cd-4ba1-866a-aaf312e859d4",
   "metadata": {},
   "outputs": [
    {
     "name": "stdout",
     "output_type": "stream",
     "text": [
      "h\n",
      "s\n",
      "e\n",
      "r\n",
      "a\n",
      "n\n"
     ]
    }
   ],
   "source": [
    "for i in reversed('naresh'):\n",
    "    print(i)"
   ]
  },
  {
   "cell_type": "code",
   "execution_count": 2,
   "id": "68223112-f87f-4eb8-8d87-10d064792317",
   "metadata": {},
   "outputs": [
    {
     "name": "stdout",
     "output_type": "stream",
     "text": [
      "h s e r a n "
     ]
    }
   ],
   "source": [
    "for i in reversed('naresh'):\n",
    "    print(i,end=' ')"
   ]
  },
  {
   "cell_type": "code",
   "execution_count": 10,
   "id": "166cda5a-818b-497e-8cfc-bb971d125934",
   "metadata": {},
   "outputs": [
    {
     "data": {
      "text/plain": [
       "[1, 2, 10, 20, 30]"
      ]
     },
     "execution_count": 10,
     "metadata": {},
     "output_type": "execute_result"
    }
   ],
   "source": [
    "sorted([1,10,2,20,30])"
   ]
  },
  {
   "cell_type": "code",
   "execution_count": null,
   "id": "baac860f-c3b0-4a64-9586-b7e6f9d35be5",
   "metadata": {},
   "outputs": [],
   "source": []
  },
  {
   "cell_type": "code",
   "execution_count": 6,
   "id": "8c4730de-986a-495c-a57d-a7bb4addc145",
   "metadata": {},
   "outputs": [
    {
     "data": {
      "text/plain": [
       "[30, 20, 10, 2, 1]"
      ]
     },
     "execution_count": 6,
     "metadata": {},
     "output_type": "execute_result"
    }
   ],
   "source": [
    "sorted([1,10,2,20,30],reverse=True)"
   ]
  },
  {
   "cell_type": "code",
   "execution_count": null,
   "id": "e0e5cc82-0dfe-493f-86cc-b84b5c879773",
   "metadata": {},
   "outputs": [],
   "source": [
    "**in operator**"
   ]
  },
  {
   "cell_type": "code",
   "execution_count": 11,
   "id": "739a2ee3-b362-42a4-be06-c4d5e561520f",
   "metadata": {},
   "outputs": [
    {
     "data": {
      "text/plain": [
       "True"
      ]
     },
     "execution_count": 11,
     "metadata": {},
     "output_type": "execute_result"
    }
   ],
   "source": [
    "str1='naresh'\n",
    "'n' in str1"
   ]
  },
  {
   "cell_type": "code",
   "execution_count": 12,
   "id": "0207529c-c8ad-4ffe-93b4-a17bf4f0c6ab",
   "metadata": {},
   "outputs": [
    {
     "data": {
      "text/plain": [
       "True"
      ]
     },
     "execution_count": 12,
     "metadata": {},
     "output_type": "execute_result"
    }
   ],
   "source": [
    "str1='naresh'\n",
    "'nn' not in str1"
   ]
  },
  {
   "cell_type": "code",
   "execution_count": null,
   "id": "90f4d8c1-2ee2-4877-877e-32ffe5698a15",
   "metadata": {},
   "outputs": [],
   "source": []
  },
  {
   "cell_type": "code",
   "execution_count": null,
   "id": "9db75238-9f94-4e7c-988a-62c532b62dc7",
   "metadata": {},
   "outputs": [],
   "source": [
    "**note**\n",
    "- in operator directly access the letters"
   ]
  },
  {
   "cell_type": "code",
   "execution_count": null,
   "id": "5dfbf72a-e0a3-4b16-a965-61444d8388c8",
   "metadata": {},
   "outputs": [],
   "source": [
    " #wap ask the user count how many 'a' are present in a given string\n",
    "# str1='hai naresh how are you'\n",
    "\n",
    "# idea:counter wrapper\n",
    "# step-1= count=0\n",
    "# step-2= using for loop in operator iterate through given string\n",
    "# step-3= apply the if condition, whenver the letter equal to 'a'\n",
    "# step-4= count+1"
   ]
  },
  {
   "cell_type": "code",
   "execution_count": 14,
   "id": "74bde902-0cde-4137-8274-0b22c0888b91",
   "metadata": {},
   "outputs": [
    {
     "name": "stdout",
     "output_type": "stream",
     "text": [
      "a\n",
      "a\n",
      "a\n",
      "3\n"
     ]
    }
   ],
   "source": [
    "count=0\n",
    "str1='hai naresh how are you'\n",
    "for i in str1:\n",
    "    if i=='a':\n",
    "        print(i)\n",
    "        count=count+1\n",
    "print(count)"
   ]
  },
  {
   "cell_type": "code",
   "execution_count": null,
   "id": "b37c4edb-ba43-4534-bfce-704f742c613a",
   "metadata": {},
   "outputs": [],
   "source": [
    "# wap ask the user how many vowels are there in a string\n",
    "# str1='hai naresh how are you'\n",
    "# ans=9"
   ]
  },
  {
   "cell_type": "code",
   "execution_count": 15,
   "id": "82577512-9b21-41e2-80ec-018d788ce532",
   "metadata": {},
   "outputs": [
    {
     "name": "stdout",
     "output_type": "stream",
     "text": [
      "the count is: 9\n"
     ]
    }
   ],
   "source": [
    "count=0\n",
    "str1='hai naresh how are you'\n",
    "str2='aeiou'\n",
    "for i in str1:\n",
    "    if i in 'aeiou':\n",
    "        count=count+1\n",
    "\n",
    "print(\"the count is:\",count)"
   ]
  },
  {
   "cell_type": "code",
   "execution_count": null,
   "id": "319b35b0-11a3-44c0-83d3-fbf8c6b9f79c",
   "metadata": {},
   "outputs": [],
   "source": [
    "if i=='a'or i=='e'or i=='i'or i=='o'or i='u':"
   ]
  },
  {
   "cell_type": "code",
   "execution_count": null,
   "id": "e47d6fdc-ee71-4ec5-8897-81d0cc51be87",
   "metadata": {},
   "outputs": [],
   "source": [
    "# Q3- home works\n",
    "# str1='hai naresh how are you'\n",
    "# reapeated vowels are there\n",
    "# we dont want repeat vowels\n",
    "# count the vowels avoid the repeated one\n",
    "# count the vowels avoid the repeatition: unique vowels\n",
    "\n",
    "# idea\n",
    "# 1-count=0\n",
    "# 2-take one more empty string: ex= s2=''\n",
    "# s2=''\n",
    "# 3- using for loop in operator iterate through given string\n",
    "# 4-condition-1 that letter should not available in s2\n",
    "# 5-         dondition -2: vowel check  condition\n",
    "# 6-              count=count+1\n",
    "# 7-          update  the s2=  s2=s2+<letter>"
   ]
  },
  {
   "cell_type": "code",
   "execution_count": 1,
   "id": "32f64fa4-01ad-40e5-9d03-6c3d3fcf764c",
   "metadata": {},
   "outputs": [
    {
     "name": "stdout",
     "output_type": "stream",
     "text": [
      "the count of unique vowels is: 5\n"
     ]
    }
   ],
   "source": [
    "count=0\n",
    "str1='hai naresh how are you'\n",
    "str2=' '\n",
    "for i in str1:\n",
    "    if i not in str2:\n",
    "        if i in 'aeiou':\n",
    "            count=count+1\n",
    "            str2=str2+i\n",
    "print(f\"the count of unique vowels is: {count}\")"
   ]
  },
  {
   "cell_type": "markdown",
   "id": "538c7204-82d6-47c5-8e01-66678721d3a5",
   "metadata": {},
   "source": [
    "**how to update the empty string**"
   ]
  },
  {
   "cell_type": "code",
   "execution_count": 16,
   "id": "d4911b1f-fd4c-4562-9b58-2b31be8638c1",
   "metadata": {},
   "outputs": [
    {
     "data": {
      "text/plain": [
       "'python'"
      ]
     },
     "execution_count": 16,
     "metadata": {},
     "output_type": "execute_result"
    }
   ],
   "source": [
    "s1='python'\n",
    "s2=''\n",
    "\n",
    "for i in s1:\n",
    "    s2=s2+i   # concatenation\n",
    "\n",
    "s2"
   ]
  },
  {
   "cell_type": "markdown",
   "id": "f12f587e-264d-45f6-8149-0d604239f37f",
   "metadata": {},
   "source": [
    "**concatenation**"
   ]
  },
  {
   "cell_type": "code",
   "execution_count": 17,
   "id": "befe9f60-1a17-4249-a350-a83be885f1f5",
   "metadata": {},
   "outputs": [
    {
     "data": {
      "text/plain": [
       "'hellobye'"
      ]
     },
     "execution_count": 17,
     "metadata": {},
     "output_type": "execute_result"
    }
   ],
   "source": [
    "s1='hello'\n",
    "s2='bye'\n",
    "s1+s2"
   ]
  },
  {
   "cell_type": "code",
   "execution_count": 18,
   "id": "cb25d690-adf3-432f-b3f5-920bf86618e3",
   "metadata": {},
   "outputs": [
    {
     "data": {
      "text/plain": [
       "'hello bye'"
      ]
     },
     "execution_count": 18,
     "metadata": {},
     "output_type": "execute_result"
    }
   ],
   "source": [
    "s1='hello '\n",
    "s2='bye'\n",
    "s1+s2"
   ]
  },
  {
   "cell_type": "code",
   "execution_count": 20,
   "id": "6cf47d8a-73ae-496f-87c7-b1380496c072",
   "metadata": {},
   "outputs": [
    {
     "data": {
      "text/plain": [
       "'hello bye'"
      ]
     },
     "execution_count": 20,
     "metadata": {},
     "output_type": "execute_result"
    }
   ],
   "source": [
    "s1='hello'\n",
    "s2=' '\n",
    "s3='bye'\n",
    "s1+s2+s3"
   ]
  },
  {
   "cell_type": "code",
   "execution_count": 21,
   "id": "c184b86e-929a-4875-add1-a75bb5a4fb7b",
   "metadata": {},
   "outputs": [
    {
     "data": {
      "text/plain": [
       "'hello bye'"
      ]
     },
     "execution_count": 21,
     "metadata": {},
     "output_type": "execute_result"
    }
   ],
   "source": [
    "s1='hello'\n",
    "s2=' bye'\n",
    "s1+s2"
   ]
  },
  {
   "cell_type": "code",
   "execution_count": 23,
   "id": "e4d68098-728f-4a5b-bccd-6c2c413e30af",
   "metadata": {},
   "outputs": [
    {
     "data": {
      "text/plain": [
       "'hello   bye'"
      ]
     },
     "execution_count": 23,
     "metadata": {},
     "output_type": "execute_result"
    }
   ],
   "source": [
    "s1='hello'\n",
    "s2='   '\n",
    "s3='bye'\n",
    "s4=s1+s2+s3\n",
    "s4"
   ]
  },
  {
   "cell_type": "code",
   "execution_count": 24,
   "id": "8f7e962d-a88b-41a8-9113-141ea7e74740",
   "metadata": {},
   "outputs": [
    {
     "ename": "TypeError",
     "evalue": "can't multiply sequence by non-int of type 'str'",
     "output_type": "error",
     "traceback": [
      "\u001b[1;31m---------------------------------------------------------------------------\u001b[0m",
      "\u001b[1;31mTypeError\u001b[0m                                 Traceback (most recent call last)",
      "Cell \u001b[1;32mIn[24], line 3\u001b[0m\n\u001b[0;32m      1\u001b[0m s1\u001b[38;5;241m=\u001b[39m\u001b[38;5;124m'\u001b[39m\u001b[38;5;124mhello\u001b[39m\u001b[38;5;124m'\u001b[39m\n\u001b[0;32m      2\u001b[0m s2\u001b[38;5;241m=\u001b[39m\u001b[38;5;124m'\u001b[39m\u001b[38;5;124mbye\u001b[39m\u001b[38;5;124m'\u001b[39m\n\u001b[1;32m----> 3\u001b[0m s1\u001b[38;5;241m*\u001b[39ms2\n",
      "\u001b[1;31mTypeError\u001b[0m: can't multiply sequence by non-int of type 'str'"
     ]
    }
   ],
   "source": [
    "s1='hello'\n",
    "s2='bye'\n",
    "s1*s2\n",
    "\n",
    "#"
   ]
  },
  {
   "cell_type": "code",
   "execution_count": 25,
   "id": "c1cb968b-450c-4485-841a-79b606141a3e",
   "metadata": {},
   "outputs": [
    {
     "ename": "TypeError",
     "evalue": "unsupported operand type(s) for /: 'str' and 'str'",
     "output_type": "error",
     "traceback": [
      "\u001b[1;31m---------------------------------------------------------------------------\u001b[0m",
      "\u001b[1;31mTypeError\u001b[0m                                 Traceback (most recent call last)",
      "Cell \u001b[1;32mIn[25], line 3\u001b[0m\n\u001b[0;32m      1\u001b[0m s1\u001b[38;5;241m=\u001b[39m\u001b[38;5;124m'\u001b[39m\u001b[38;5;124mhello\u001b[39m\u001b[38;5;124m'\u001b[39m\n\u001b[0;32m      2\u001b[0m s2\u001b[38;5;241m=\u001b[39m\u001b[38;5;124m'\u001b[39m\u001b[38;5;124mbye\u001b[39m\u001b[38;5;124m'\u001b[39m\n\u001b[1;32m----> 3\u001b[0m s1\u001b[38;5;241m/\u001b[39ms2\n",
      "\u001b[1;31mTypeError\u001b[0m: unsupported operand type(s) for /: 'str' and 'str'"
     ]
    }
   ],
   "source": [
    "s1='hello'\n",
    "s2='bye'\n",
    "s1/s2"
   ]
  },
  {
   "cell_type": "code",
   "execution_count": 26,
   "id": "66e5594f-41e5-4bd2-b3b0-e51081fcac46",
   "metadata": {},
   "outputs": [
    {
     "ename": "TypeError",
     "evalue": "unsupported operand type(s) for -: 'str' and 'str'",
     "output_type": "error",
     "traceback": [
      "\u001b[1;31m---------------------------------------------------------------------------\u001b[0m",
      "\u001b[1;31mTypeError\u001b[0m                                 Traceback (most recent call last)",
      "Cell \u001b[1;32mIn[26], line 3\u001b[0m\n\u001b[0;32m      1\u001b[0m s1\u001b[38;5;241m=\u001b[39m\u001b[38;5;124m'\u001b[39m\u001b[38;5;124mhello\u001b[39m\u001b[38;5;124m'\u001b[39m\n\u001b[0;32m      2\u001b[0m s2\u001b[38;5;241m=\u001b[39m\u001b[38;5;124m'\u001b[39m\u001b[38;5;124mbye\u001b[39m\u001b[38;5;124m'\u001b[39m\n\u001b[1;32m----> 3\u001b[0m s1\u001b[38;5;241m-\u001b[39ms2\n",
      "\u001b[1;31mTypeError\u001b[0m: unsupported operand type(s) for -: 'str' and 'str'"
     ]
    }
   ],
   "source": [
    "s1='hello'\n",
    "s2='bye'\n",
    "s1-s2"
   ]
  },
  {
   "cell_type": "code",
   "execution_count": 27,
   "id": "b7c584d8-5fe6-4a34-906f-0f5fd53c7a62",
   "metadata": {},
   "outputs": [
    {
     "data": {
      "text/plain": [
       "'hellobye'"
      ]
     },
     "execution_count": 27,
     "metadata": {},
     "output_type": "execute_result"
    }
   ],
   "source": [
    "s1='hello'\n",
    "s2='bye'\n",
    "s1+s2"
   ]
  },
  {
   "cell_type": "code",
   "execution_count": 28,
   "id": "19c05444-40f3-42ad-8d45-c6504b19a0af",
   "metadata": {},
   "outputs": [
    {
     "data": {
      "text/plain": [
       "'hellohello'"
      ]
     },
     "execution_count": 28,
     "metadata": {},
     "output_type": "execute_result"
    }
   ],
   "source": [
    "s1='hello'\n",
    "s2=2\n",
    "s1*s2"
   ]
  },
  {
   "cell_type": "code",
   "execution_count": null,
   "id": "64c9bc3b-43a8-40a7-bd63-a7188afdb07d",
   "metadata": {},
   "outputs": [],
   "source": [
    "s1+s1====s1*2"
   ]
  },
  {
   "cell_type": "code",
   "execution_count": null,
   "id": "36ea94e9-b473-4529-81e7-c040638cd48c",
   "metadata": {},
   "outputs": [],
   "source": [
    "**index operations**\n",
    "\n",
    "- index meaning a number attached to a letter\n",
    "- in python index start with zero\n",
    "- we have two direction\n",
    "        - positive direction\n",
    "            -positive numbers starts with zero\n",
    "        - negative direction\n",
    "            -negative number starts with -1 applicable to the last letter"
   ]
  },
  {
   "cell_type": "code",
   "execution_count": null,
   "id": "94de346d-02de-4731-b5b8-c8fa37554948",
   "metadata": {},
   "outputs": [],
   "source": [
    "s1='python'\n",
    "\n",
    "-6   -5   -4    -3    -2     -1\n",
    "p    y     t     h     o      n\n",
    "1    2     3     4     5      6"
   ]
  },
  {
   "cell_type": "code",
   "execution_count": 30,
   "id": "c4660bf4-2b1f-4607-bc0a-c0ffd73928ba",
   "metadata": {},
   "outputs": [
    {
     "data": {
      "text/plain": [
       "('p', 'y', 't', 'h', 'o', 'n')"
      ]
     },
     "execution_count": 30,
     "metadata": {},
     "output_type": "execute_result"
    }
   ],
   "source": [
    "s1='python'\n",
    "s1[0],s1[1],s1[2],s1[3],s1[4],s1[5]"
   ]
  },
  {
   "cell_type": "code",
   "execution_count": 31,
   "id": "81d7ac37-6c8c-4d6a-8881-cbb71225cb1a",
   "metadata": {},
   "outputs": [
    {
     "data": {
      "text/plain": [
       "('n', 'o', 'h', 't', 'y', 'p')"
      ]
     },
     "execution_count": 31,
     "metadata": {},
     "output_type": "execute_result"
    }
   ],
   "source": [
    "s1='python'\n",
    "s1[-1],s1[-2],s1[-3],s1[-4],s1[-5],s1[-6]"
   ]
  },
  {
   "cell_type": "markdown",
   "id": "ed6abe7a-5f69-4311-bab2-5520d29e2dcf",
   "metadata": {},
   "source": [
    "**mutable-immutable concept**"
   ]
  },
  {
   "cell_type": "code",
   "execution_count": null,
   "id": "0c3d58ed-c2f2-417b-9fd9-73bb3ebb4217",
   "metadata": {},
   "outputs": [],
   "source": [
    "- mutable: can change\n",
    "    - we can change using indexing concept\n",
    "- immutable: cannot change\n",
    "    - we cannot change using indexing concept"
   ]
  },
  {
   "cell_type": "code",
   "execution_count": 8,
   "id": "34dd018d-df6a-4a28-89e5-8cb484f367b4",
   "metadata": {},
   "outputs": [
    {
     "data": {
      "text/plain": [
       "'l'"
      ]
     },
     "execution_count": 8,
     "metadata": {},
     "output_type": "execute_result"
    }
   ],
   "source": [
    "s='welcome'\n",
    "# i want to replaced 'l' with 'L'\n",
    "# possible\n",
    "# not possible\n",
    "\n",
    "s[2]"
   ]
  },
  {
   "cell_type": "code",
   "execution_count": 9,
   "id": "7e3e2e61-3af3-4383-a758-d534a3d5f3ab",
   "metadata": {},
   "outputs": [
    {
     "ename": "TypeError",
     "evalue": "'str' object does not support item assignment",
     "output_type": "error",
     "traceback": [
      "\u001b[1;31m---------------------------------------------------------------------------\u001b[0m",
      "\u001b[1;31mTypeError\u001b[0m                                 Traceback (most recent call last)",
      "Cell \u001b[1;32mIn[9], line 1\u001b[0m\n\u001b[1;32m----> 1\u001b[0m s[\u001b[38;5;241m2\u001b[39m]\u001b[38;5;241m=\u001b[39m\u001b[38;5;124m'\u001b[39m\u001b[38;5;124mL\u001b[39m\u001b[38;5;124m'\u001b[39m\n",
      "\u001b[1;31mTypeError\u001b[0m: 'str' object does not support item assignment"
     ]
    }
   ],
   "source": [
    "s[2]='L'    # strings are immutable"
   ]
  },
  {
   "cell_type": "markdown",
   "id": "8e101043-206c-43ff-b581-39a695b4ec15",
   "metadata": {},
   "source": [
    "## string are Immutable"
   ]
  },
  {
   "cell_type": "code",
   "execution_count": 13,
   "id": "fb5602d8-833b-4c75-8c83-6a32eec53b8a",
   "metadata": {},
   "outputs": [
    {
     "data": {
      "text/plain": [
       "[1, 200, 3, 4]"
      ]
     },
     "execution_count": 13,
     "metadata": {},
     "output_type": "execute_result"
    }
   ],
   "source": [
    "l=[1,2,3,4]      #2=200\n",
    "l[1]=200\n",
    "l"
   ]
  },
  {
   "cell_type": "code",
   "execution_count": 1,
   "id": "38401e11-a4cc-4687-ba91-03b4c5e8ca2f",
   "metadata": {},
   "outputs": [
    {
     "ename": "TypeError",
     "evalue": "'str' object does not support item assignment",
     "output_type": "error",
     "traceback": [
      "\u001b[1;31m---------------------------------------------------------------------------\u001b[0m",
      "\u001b[1;31mTypeError\u001b[0m                                 Traceback (most recent call last)",
      "Cell \u001b[1;32mIn[1], line 2\u001b[0m\n\u001b[0;32m      1\u001b[0m s\u001b[38;5;241m=\u001b[39m\u001b[38;5;124m'\u001b[39m\u001b[38;5;124mwlecome\u001b[39m\u001b[38;5;124m'\u001b[39m\n\u001b[1;32m----> 2\u001b[0m s[\u001b[38;5;241m2\u001b[39m]\u001b[38;5;241m=\u001b[39m\u001b[38;5;124m'\u001b[39m\u001b[38;5;124mL\u001b[39m\u001b[38;5;124m'\u001b[39m\n\u001b[0;32m      3\u001b[0m \u001b[38;5;66;03m##############################\u001b[39;00m\n\u001b[0;32m      4\u001b[0m l\u001b[38;5;241m=\u001b[39m[\u001b[38;5;241m1\u001b[39m,\u001b[38;5;241m2\u001b[39m,\u001b[38;5;241m3\u001b[39m,\u001b[38;5;241m4\u001b[39m]\n",
      "\u001b[1;31mTypeError\u001b[0m: 'str' object does not support item assignment"
     ]
    }
   ],
   "source": [
    "s='wlecome'\n",
    "s[2]='L'\n",
    "##############################\n",
    "l=[1,2,3,4]\n",
    "l[1]=200\n",
    "l"
   ]
  },
  {
   "cell_type": "code",
   "execution_count": null,
   "id": "f2f01941-3004-4a95-88fe-f8b1b3caad73",
   "metadata": {},
   "outputs": [],
   "source": [
    "range belongs to which family\n",
    "        math\n",
    "inside range bracket what we need to provide\n",
    "        number\n",
    "how many numbers we need to provide\n",
    "        number of letters=len(string)\n",
    "how to access the letter using number\n",
    "        by using index"
   ]
  },
  {
   "cell_type": "code",
   "execution_count": 14,
   "id": "a81410a2-9c40-47a8-872e-40802a138bb9",
   "metadata": {},
   "outputs": [
    {
     "name": "stdout",
     "output_type": "stream",
     "text": [
      "w\n",
      "e\n",
      "l\n",
      "c\n",
      "o\n",
      "m\n",
      "e\n"
     ]
    }
   ],
   "source": [
    "# Q4 print each letters using\n",
    "s='welcome'\n",
    "# range belongs to which family\n",
    "# inside bracket we need to provide a number\n",
    "# how many numbers we need to provide\n",
    "#           number of letter=7\n",
    "#  how to access\n",
    "\n",
    "for i in s:\n",
    "    print(i)"
   ]
  },
  {
   "cell_type": "code",
   "execution_count": 16,
   "id": "fc695d85-d9c5-4121-b25d-1b1f349c44f8",
   "metadata": {},
   "outputs": [
    {
     "name": "stdout",
     "output_type": "stream",
     "text": [
      "w\n",
      "e\n",
      "l\n",
      "c\n",
      "o\n",
      "m\n",
      "e\n"
     ]
    }
   ],
   "source": [
    "s='welcome'\n",
    "for i in range(7):\n",
    "    print(s[i])"
   ]
  },
  {
   "cell_type": "code",
   "execution_count": 19,
   "id": "b45fbd98-b4b4-42a5-a890-29c64e397c46",
   "metadata": {},
   "outputs": [
    {
     "name": "stdout",
     "output_type": "stream",
     "text": [
      "w\n",
      "e\n",
      "l\n",
      "c\n",
      "o\n",
      "m\n",
      "e\n",
      " \n",
      "t\n",
      "o\n",
      " \n",
      "n\n",
      "a\n",
      "r\n",
      "e\n",
      "s\n",
      "h\n",
      " \n",
      "i\n",
      "t\n"
     ]
    }
   ],
   "source": [
    "s='welcome to naresh it'\n",
    "n=len(s)\n",
    "for i in range(n):\n",
    "    print(s[i])"
   ]
  },
  {
   "cell_type": "code",
   "execution_count": null,
   "id": "b139e177-db0a-48b3-ba25-f25f10d46b90",
   "metadata": {},
   "outputs": [],
   "source": [
    "- **for-in** direcltly access the letter\n",
    "- **for-range** will access using index"
   ]
  },
  {
   "cell_type": "code",
   "execution_count": null,
   "id": "622ad451-42dc-40be-99a0-1a587d075698",
   "metadata": {},
   "outputs": [],
   "source": [
    "for i in "
   ]
  },
  {
   "cell_type": "code",
   "execution_count": null,
   "id": "eb68d61b-9246-46a2-b116-c4c5997749a0",
   "metadata": {},
   "outputs": [],
   "source": [
    "#wap ask the user iterate using a string\n",
    "# string='welcome'\n",
    "#p[rint the positive index of w is 0\n",
    "#        the                  e is 1\n",
    "#                             l is 2"
   ]
  },
  {
   "cell_type": "code",
   "execution_count": 8,
   "id": "3973f59d-93c5-4a15-9f73-cabe40194d3f",
   "metadata": {},
   "outputs": [
    {
     "name": "stdout",
     "output_type": "stream",
     "text": [
      "0 w\n",
      " the positive index of w\n",
      "1 e\n",
      " the positive index of e\n",
      "2 l\n",
      " the positive index of l\n",
      "3 c\n",
      " the positive index of c\n",
      "4 o\n",
      " the positive index of o\n",
      "5 m\n",
      " the positive index of m\n",
      "6 e\n",
      " the positive index of e\n"
     ]
    }
   ],
   "source": [
    "s='welcome'\n",
    "\n",
    "for i in range(len(s)):\n",
    "    print(i,s[i])\n",
    "    print(f\" the positive index of {s[i]}\")"
   ]
  },
  {
   "cell_type": "code",
   "execution_count": 20,
   "id": "b8ed16f2-b5e3-42f8-9fe4-06b369cbb844",
   "metadata": {},
   "outputs": [
    {
     "name": "stdout",
     "output_type": "stream",
     "text": [
      "0 -7\n",
      " the negative index of w is -7\n",
      "1 -6\n",
      " the negative index of e is -6\n",
      "2 -5\n",
      " the negative index of l is -5\n",
      "3 -4\n",
      " the negative index of c is -4\n",
      "4 -3\n",
      " the negative index of o is -3\n",
      "5 -2\n",
      " the negative index of m is -2\n",
      "6 -1\n",
      " the negative index of e is -1\n"
     ]
    }
   ],
   "source": [
    "s='welcome'\n",
    "for i in range(len(s)):\n",
    "    print(i,i-len(s))\n",
    "    print(f\" the negative index of {s[i]} is {i-len(s)}\")"
   ]
  },
  {
   "cell_type": "code",
   "execution_count": 10,
   "id": "0cdf89be-096c-4baa-850e-e9ed41b8353d",
   "metadata": {},
   "outputs": [
    {
     "name": "stdout",
     "output_type": "stream",
     "text": [
      "0 -7\n",
      " the negative index of is (0, -7)\n",
      "1 -6\n",
      " the negative index of is (1, -6)\n",
      "2 -5\n",
      " the negative index of is (2, -5)\n",
      "3 -4\n",
      " the negative index of is (3, -4)\n",
      "4 -3\n",
      " the negative index of is (4, -3)\n",
      "5 -2\n",
      " the negative index of is (5, -2)\n",
      "6 -1\n",
      " the negative index of is (6, -1)\n"
     ]
    }
   ],
   "source": [
    "s='welcome'\n",
    "for i in range(len(s)):\n",
    "    print(i,i-len(s))\n",
    "    print(f\" the negative index of is {i-len(s)}\")"
   ]
  },
  {
   "cell_type": "code",
   "execution_count": null,
   "id": "dfe33e68-9220-4a46-989b-22d9785797c1",
   "metadata": {},
   "outputs": [],
   "source": [
    "# Q7 wap \n",
    "# string='welcome'\n",
    "# print the negative index of w is -7\n",
    "\n",
    "\n",
    "# the positive index is 0 and the negative index is -7 for w"
   ]
  },
  {
   "cell_type": "code",
   "execution_count": 5,
   "id": "c7b366a8-8edf-45ac-9572-ce7b41910bbd",
   "metadata": {},
   "outputs": [
    {
     "name": "stdout",
     "output_type": "stream",
     "text": [
      "w\n",
      "e\n",
      "l\n",
      "c\n",
      "o\n",
      "m\n",
      "e\n"
     ]
    }
   ],
   "source": [
    "s='welcome'\n",
    "for i in range(len(s)):\n",
    "    print(s[i])"
   ]
  },
  {
   "cell_type": "code",
   "execution_count": 14,
   "id": "fd32c7f1-3d2d-4df1-b454-41cd1c8c41ca",
   "metadata": {},
   "outputs": [
    {
     "name": "stdout",
     "output_type": "stream",
     "text": [
      "0 -7\n",
      "the positive index is 0  negative is -7 for w is -7\n",
      "1 -6\n",
      "the positive index is 1  negative is -6 for e is -6\n",
      "2 -5\n",
      "the positive index is 2  negative is -5 for l is -5\n",
      "3 -4\n",
      "the positive index is 3  negative is -4 for c is -4\n",
      "4 -3\n",
      "the positive index is 4  negative is -3 for o is -3\n",
      "5 -2\n",
      "the positive index is 5  negative is -2 for m is -2\n",
      "6 -1\n",
      "the positive index is 6  negative is -1 for e is -1\n"
     ]
    }
   ],
   "source": [
    "s='welcome'\n",
    "for i in range(len(s)):\n",
    "    print(i,i-len(s))\n",
    "    print(f\"the positive index is {i}  negative is {i-len(s)} for {s[i]} is {i-len(s)}\")"
   ]
  },
  {
   "cell_type": "code",
   "execution_count": 21,
   "id": "4d151a6a-f94d-4dc0-92f0-4379984b292d",
   "metadata": {},
   "outputs": [
    {
     "name": "stdout",
     "output_type": "stream",
     "text": [
      "1\n",
      "8\n",
      "18\n"
     ]
    }
   ],
   "source": [
    "# Q8 wap ask the user get the index of each 'a' in a given string\n",
    "# s='hai how are you i am good\n",
    "\n",
    "count=0\n",
    "s='hai how are you i am good'\n",
    "for i in range(len(s)):\n",
    "    if s[i]=='a':\n",
    "        print(i)\n"
   ]
  },
  {
   "cell_type": "code",
   "execution_count": 23,
   "id": "9485db47-89d2-4264-be78-eab9f0a85a69",
   "metadata": {},
   "outputs": [
    {
     "name": "stdout",
     "output_type": "stream",
     "text": [
      "a\n",
      "a\n",
      "a\n"
     ]
    }
   ],
   "source": [
    "# Q9 wap ask the user to get count of number of 'a' in a given string\n",
    "#   using for-range\n",
    "count=0\n",
    "s='hai how are you i am good'\n",
    "for i in s:\n",
    "    if i=='a':\n",
    "        print(i)"
   ]
  },
  {
   "cell_type": "code",
   "execution_count": 26,
   "id": "71f0a2c2-47f8-47da-847d-23799bd6b152",
   "metadata": {},
   "outputs": [
    {
     "data": {
      "text/plain": [
       "3"
      ]
     },
     "execution_count": 26,
     "metadata": {},
     "output_type": "execute_result"
    }
   ],
   "source": [
    "# Q10  wap ask the user get the sum of all index number of 'a'\n",
    "\n",
    "count=0\n",
    "s='hai how are you i am good'\n",
    "for i in range(len(s)):\n",
    "    if s[i]=='a':\n",
    "        count=count+1\n",
    "\n",
    "count"
   ]
  },
  {
   "cell_type": "code",
   "execution_count": 15,
   "id": "a9e84ecb-639e-4804-9d6e-c187d68d007c",
   "metadata": {},
   "outputs": [
    {
     "data": {
      "text/plain": [
       "27"
      ]
     },
     "execution_count": 15,
     "metadata": {},
     "output_type": "execute_result"
    }
   ],
   "source": [
    "summ=0\n",
    "s='hai how are you i am good'\n",
    "for i in range(len(s)):\n",
    "    if s[i]=='a':\n",
    "        summ=summ+i\n",
    "\n",
    "summ"
   ]
  },
  {
   "cell_type": "code",
   "execution_count": 28,
   "id": "d7e6d627-f6be-49f6-8454-babfa8bddd2e",
   "metadata": {},
   "outputs": [
    {
     "name": "stdout",
     "output_type": "stream",
     "text": [
      "a\n",
      "i\n",
      "o\n",
      "a\n",
      "e\n",
      "o\n",
      "u\n",
      "i\n",
      "a\n",
      "o\n",
      "o\n",
      "the number of vowels are: 11\n"
     ]
    }
   ],
   "source": [
    "# Q11 wap ask the user get the vowels from a given string using for-range\n",
    "\n",
    "count=0\n",
    "summ=0\n",
    "s='hai how are you i am good'\n",
    "for i in range(len(s)):\n",
    "    if s[i] in 'aeiou':\n",
    "        print(s[i])\n",
    "        count=count+1\n",
    "\n",
    "print(\"the number of vowels are:\", count)"
   ]
  },
  {
   "cell_type": "code",
   "execution_count": 34,
   "id": "06d7de6d-5193-4e62-bcb2-dfae83c4757c",
   "metadata": {},
   "outputs": [
    {
     "name": "stdout",
     "output_type": "stream",
     "text": [
      "a\n",
      "i\n",
      "o\n",
      "e\n",
      "u\n",
      "the count of unique vowels is: 5\n"
     ]
    }
   ],
   "source": [
    "count=0\n",
    "s='hai how are you i am good'\n",
    "s1=' '\n",
    "for i in range(len(s)):\n",
    "    if s[i] not in s1:\n",
    "        if s[i] in 'aeiou':\n",
    "            print(s[i])\n",
    "            count=count+1\n",
    "            s1=s1+s[i]\n",
    "print(f\"the count of unique vowels is: {count}\")"
   ]
  },
  {
   "cell_type": "code",
   "execution_count": 35,
   "id": "caaccc91-430c-4939-8340-45765f680723",
   "metadata": {},
   "outputs": [
    {
     "name": "stdout",
     "output_type": "stream",
     "text": [
      "a\n",
      "i\n",
      "o\n",
      "e\n",
      "u\n",
      "the count of unique vowels is: 5\n"
     ]
    }
   ],
   "source": [
    "# Q13 update wap ask the user get the vowels from a given string using for-range\n",
    "\n",
    "count=0\n",
    "s='hai how are you i am good'\n",
    "s1=' '\n",
    "for i in range(len(s)):\n",
    "    if s[i] not in s1 and s[i] in 'aeiou':\n",
    "            print(s[i])\n",
    "            count=count+1\n",
    "            s1=s1+s[i]\n",
    "print(f\"the count of unique vowels is: {count}\")"
   ]
  },
  {
   "cell_type": "code",
   "execution_count": null,
   "id": "e1b885c0-f2d5-4f45-8bca-0a45f227154b",
   "metadata": {},
   "outputs": [],
   "source": [
    "# Q14 string= 'ola ola ola'\n",
    "# number of ola = 3\n",
    "\n",
    "# Q15 string1 = 'hello hello hello how how how how are you'\n",
    "# what is the most repeated word = how\n",
    "\n",
    "# Q16 string1= 'hellooooo how areee u'\n",
    "# what is the maximum length of word= hellooooo\n",
    "# what is the minimum length of word = u\n",
    "\n",
    "# Q17 without using sorted then sort the letters"
   ]
  },
  {
   "cell_type": "code",
   "execution_count": 6,
   "id": "454695d4-50b9-4f48-a69c-a5549ed7b3b0",
   "metadata": {},
   "outputs": [],
   "source": [
    "# Q14 string= 'ola ola ola'\n",
    "# number of ola = 3\n",
    "\n",
    "count=0\n",
    "string='ola ola ola'\n",
    "for i in range(len(string)):\n",
    "    if i=='ola':\n",
    "        print(i)"
   ]
  },
  {
   "cell_type": "code",
   "execution_count": 7,
   "id": "efebd23f-7006-446b-902f-92f0926e6136",
   "metadata": {},
   "outputs": [
    {
     "data": {
      "text/plain": [
       "3"
      ]
     },
     "execution_count": 7,
     "metadata": {},
     "output_type": "execute_result"
    }
   ],
   "source": [
    "str1='ola ola ola'\n",
    "for i in range(len(str1)):\n",
    "    if str1[i:i+3]=='ola':\n",
    "        count=count+1\n",
    "\n",
    "count"
   ]
  },
  {
   "cell_type": "code",
   "execution_count": 8,
   "id": "65b7d34c-d99c-40b3-bd22-82278d6e3866",
   "metadata": {},
   "outputs": [
    {
     "data": {
      "text/plain": [
       "1"
      ]
     },
     "execution_count": 8,
     "metadata": {},
     "output_type": "execute_result"
    }
   ],
   "source": [
    "str1='ola ola ola'\n",
    "str1.count('ola ola ola')"
   ]
  },
  {
   "cell_type": "code",
   "execution_count": 9,
   "id": "b65ad0f5-900f-467e-a0b1-70a6416fa807",
   "metadata": {},
   "outputs": [
    {
     "data": {
      "text/plain": [
       "1"
      ]
     },
     "execution_count": 9,
     "metadata": {},
     "output_type": "execute_result"
    }
   ],
   "source": [
    "str1='ola ola ola'\n",
    "str1.count(str1)"
   ]
  },
  {
   "cell_type": "markdown",
   "id": "4be74479-8150-474b-ae69-e237e66c53f3",
   "metadata": {},
   "source": [
    "**Slice**"
   ]
  },
  {
   "cell_type": "markdown",
   "id": "6f6c9a48-1eb0-4a82-898c-c54003cfcce0",
   "metadata": {},
   "source": [
    "- we can cut into pieces\n",
    "- similarly to range concept\n",
    "- start,stop,step here also"
   ]
  },
  {
   "cell_type": "code",
   "execution_count": null,
   "id": "fdbbffa0-d9a8-458f-92f5-057541e58179",
   "metadata": {},
   "outputs": [],
   "source": [
    "str1='hai how are you'"
   ]
  },
  {
   "cell_type": "code",
   "execution_count": null,
   "id": "5b4de9ae-fd02-43a6-bb9a-91a481bb38b3",
   "metadata": {},
   "outputs": [],
   "source": [
    "-15   -14    -13    -12   -11   -10   -9   -8   -7    -6     -5    -4     -3     -2     -1\n",
    "h      a      i             h     o     w        a     r      e            y      o     u\n",
    "0      1      2       3      4     5    6    7    8    9      10     11    12    13      14"
   ]
  },
  {
   "cell_type": "code",
   "execution_count": null,
   "id": "be8fcc73-7f73-475e-b9be-481441fe26a4",
   "metadata": {},
   "outputs": [],
   "source": []
  },
  {
   "cell_type": "code",
   "execution_count": null,
   "id": "1287afce-f4e5-496a-a637-3f31030a7b57",
   "metadata": {},
   "outputs": [],
   "source": [
    "# case -\n",
    "str1[start:stop:step]"
   ]
  },
  {
   "cell_type": "code",
   "execution_count": null,
   "id": "e2691bff-2e34-44fc-a819-0f1aedae9de8",
   "metadata": {},
   "outputs": [],
   "source": [
    "$pattern-1$\n",
    "**str1[start:]**\n",
    "    - by deault start value= start only\n",
    "    - last value= last only\n",
    "    - step nothing mentioned means, it is a positive direction and increment by 1"
   ]
  },
  {
   "cell_type": "code",
   "execution_count": 3,
   "id": "6711f892-2b0c-4285-bdbd-2d375f3180cc",
   "metadata": {},
   "outputs": [
    {
     "data": {
      "text/plain": [
       "'ow are you'"
      ]
     },
     "execution_count": 3,
     "metadata": {},
     "output_type": "execute_result"
    }
   ],
   "source": [
    "# -15   -14    -13    -12   -11   -10   -9   -8   -7    -6     -5    -4     -3     -2     -1\n",
    "# h      a      i             h     o     w        a     r      e            y      o      u\n",
    "# 0      1      2       3     4     5    6    7    8    9      10     11    12     13     14\n",
    "str1='hai how are you'\n",
    "str1[5:]"
   ]
  },
  {
   "cell_type": "code",
   "execution_count": 4,
   "id": "6741bdbf-9b25-4cbb-927e-c28cf481b03f",
   "metadata": {},
   "outputs": [
    {
     "data": {
      "text/plain": [
       "'how are you'"
      ]
     },
     "execution_count": 4,
     "metadata": {},
     "output_type": "execute_result"
    }
   ],
   "source": [
    "str1[-11:]"
   ]
  },
  {
   "cell_type": "code",
   "execution_count": 5,
   "id": "55e4b032-9f58-4555-8d82-f5ae4aba84b4",
   "metadata": {},
   "outputs": [
    {
     "data": {
      "text/plain": [
       "'e you'"
      ]
     },
     "execution_count": 5,
     "metadata": {},
     "output_type": "execute_result"
    }
   ],
   "source": [
    "str1[10:]"
   ]
  },
  {
   "cell_type": "code",
   "execution_count": 17,
   "id": "4afdf2b0-a3ee-4bb8-be00-f736398b073e",
   "metadata": {},
   "outputs": [
    {
     "data": {
      "text/plain": [
       "'e you'"
      ]
     },
     "execution_count": 17,
     "metadata": {},
     "output_type": "execute_result"
    }
   ],
   "source": [
    "str1[-5:]"
   ]
  },
  {
   "cell_type": "code",
   "execution_count": 8,
   "id": "a75b819a-b258-4804-9897-28c8b58e9879",
   "metadata": {},
   "outputs": [
    {
     "data": {
      "text/plain": [
       "('ow are you', 'ow are you')"
      ]
     },
     "execution_count": 8,
     "metadata": {},
     "output_type": "execute_result"
    }
   ],
   "source": [
    "str1[5:],str1[-10:]"
   ]
  },
  {
   "cell_type": "markdown",
   "id": "8b0d5e0e-664e-4f50-b5e2-01a623d656b7",
   "metadata": {},
   "source": [
    "$pattern-2$\n",
    "str1[start:stop]\n",
    "- start value means default start value\n",
    "- step is not mentioned positive direction\n",
    "- last=step-1"
   ]
  },
  {
   "cell_type": "code",
   "execution_count": 9,
   "id": "9188793e-678c-4a20-9961-479184b38e2f",
   "metadata": {},
   "outputs": [
    {
     "data": {
      "text/plain": [
       "'ow are yo'"
      ]
     },
     "execution_count": 9,
     "metadata": {},
     "output_type": "execute_result"
    }
   ],
   "source": [
    "str1[5:14]"
   ]
  },
  {
   "cell_type": "code",
   "execution_count": 10,
   "id": "92b5c853-a881-4fef-9bde-a6854cc610e1",
   "metadata": {},
   "outputs": [
    {
     "data": {
      "text/plain": [
       "'w a'"
      ]
     },
     "execution_count": 10,
     "metadata": {},
     "output_type": "execute_result"
    }
   ],
   "source": [
    "str1[6:-6]"
   ]
  },
  {
   "cell_type": "code",
   "execution_count": 11,
   "id": "a7909563-0edf-4740-9593-6fecae34ee52",
   "metadata": {},
   "outputs": [
    {
     "data": {
      "text/plain": [
       "'e yo'"
      ]
     },
     "execution_count": 11,
     "metadata": {},
     "output_type": "execute_result"
    }
   ],
   "source": [
    "str1[-5:14]"
   ]
  },
  {
   "cell_type": "code",
   "execution_count": 12,
   "id": "ead2e501-3ede-4989-a44e-bc156eb27fc1",
   "metadata": {},
   "outputs": [
    {
     "data": {
      "text/plain": [
       "''"
      ]
     },
     "execution_count": 12,
     "metadata": {},
     "output_type": "execute_result"
    }
   ],
   "source": [
    "str1[5:-14]"
   ]
  },
  {
   "cell_type": "code",
   "execution_count": 13,
   "id": "8e48c3b5-d291-4b09-9442-808acab0726e",
   "metadata": {},
   "outputs": [
    {
     "data": {
      "text/plain": [
       "'how are'"
      ]
     },
     "execution_count": 13,
     "metadata": {},
     "output_type": "execute_result"
    }
   ],
   "source": [
    "str1[4:-4]"
   ]
  },
  {
   "cell_type": "code",
   "execution_count": 15,
   "id": "bec2e131-fd62-48b9-b0b1-157cf7a5219b",
   "metadata": {},
   "outputs": [
    {
     "data": {
      "text/plain": [
       "'e yo'"
      ]
     },
     "execution_count": 15,
     "metadata": {},
     "output_type": "execute_result"
    }
   ],
   "source": [
    "str1[-5:14]"
   ]
  },
  {
   "cell_type": "code",
   "execution_count": 16,
   "id": "487b0332-a907-4f53-bf2b-6279d4973a79",
   "metadata": {},
   "outputs": [
    {
     "data": {
      "text/plain": [
       "''"
      ]
     },
     "execution_count": 16,
     "metadata": {},
     "output_type": "execute_result"
    }
   ],
   "source": [
    "str1[-5:-14]"
   ]
  },
  {
   "cell_type": "code",
   "execution_count": null,
   "id": "a64fe211-f161-4286-9d7c-b2a8bc2353fb",
   "metadata": {},
   "outputs": [],
   "source": []
  },
  {
   "cell_type": "code",
   "execution_count": null,
   "id": "3d85827a-13dc-406c-b311-f3147fb9fad2",
   "metadata": {},
   "outputs": [],
   "source": [
    "# -15   -14    -13    -12   -11   -10   -9   -8   -7    -6     -5    -4     -3     -2     -1\n",
    "# h      a      i             h     o    w         a     r      e            y      o      u\n",
    "# 0      1      2       3     4     5    6    7    8    9      10     11    12     13     14\n",
    "str1='hai how are you'\n",
    "str1[5:]"
   ]
  },
  {
   "cell_type": "markdown",
   "id": "11673ae2-b498-4d35-ab5f-337253698793",
   "metadata": {},
   "source": [
    "**truncation behaviour**\n",
    "- whenever string range is limited, but we provided unlimited number\n",
    "- string will consider till the range we have\n",
    "- in the above example our range only 15 letters\n",
    "- we provided 500 then 500 will truncate till 15 letters only"
   ]
  },
  {
   "cell_type": "code",
   "execution_count": 18,
   "id": "33cc0a1d-b9b3-4723-98ac-354717fa1c4d",
   "metadata": {},
   "outputs": [
    {
     "data": {
      "text/plain": [
       "'ow are you'"
      ]
     },
     "execution_count": 18,
     "metadata": {},
     "output_type": "execute_result"
    }
   ],
   "source": [
    "str1[5:500]"
   ]
  },
  {
   "cell_type": "code",
   "execution_count": 19,
   "id": "2ae9fca5-22bd-4037-8e04-e06dadc46e5e",
   "metadata": {},
   "outputs": [
    {
     "data": {
      "text/plain": [
       "'hai how are you'"
      ]
     },
     "execution_count": 19,
     "metadata": {},
     "output_type": "execute_result"
    }
   ],
   "source": [
    "str1[-500:500]"
   ]
  },
  {
   "cell_type": "code",
   "execution_count": 20,
   "id": "ba5271b5-e38b-4020-9b32-814534309068",
   "metadata": {},
   "outputs": [
    {
     "data": {
      "text/plain": [
       "'u'"
      ]
     },
     "execution_count": 20,
     "metadata": {},
     "output_type": "execute_result"
    }
   ],
   "source": [
    "str1[-1:500]"
   ]
  },
  {
   "cell_type": "code",
   "execution_count": 21,
   "id": "1a4775d2-3fe3-476d-9f90-dbf70498ce24",
   "metadata": {},
   "outputs": [
    {
     "data": {
      "text/plain": [
       "''"
      ]
     },
     "execution_count": 21,
     "metadata": {},
     "output_type": "execute_result"
    }
   ],
   "source": [
    "str1[500:]"
   ]
  },
  {
   "cell_type": "code",
   "execution_count": 23,
   "id": "d815c260-39ff-45b2-949e-bf7f28dd5bd9",
   "metadata": {},
   "outputs": [
    {
     "data": {
      "text/plain": [
       "''"
      ]
     },
     "execution_count": 23,
     "metadata": {},
     "output_type": "execute_result"
    }
   ],
   "source": [
    "str1[-500:-100]"
   ]
  },
  {
   "cell_type": "code",
   "execution_count": null,
   "id": "c3d4c12c-100b-4df8-bfda-02136300cdbb",
   "metadata": {},
   "outputs": [],
   "source": [
    "$pattern-3$\n",
    "- str1[start:stop:step]\n",
    "- start value means start only\n",
    "- if step value positive\n",
    "    - lastvalue=stop-1\n",
    "- if step value negative\n",
    "    - last value=stop+1"
   ]
  },
  {
   "cell_type": "code",
   "execution_count": 24,
   "id": "50d7db5b-b227-4d2a-9b18-afcbfa8aa042",
   "metadata": {},
   "outputs": [
    {
     "data": {
      "text/plain": [
       "15"
      ]
     },
     "execution_count": 24,
     "metadata": {},
     "output_type": "execute_result"
    }
   ],
   "source": [
    "len(str1)"
   ]
  },
  {
   "cell_type": "code",
   "execution_count": null,
   "id": "61616bcf-bfca-4f0e-b86c-e433164313b0",
   "metadata": {},
   "outputs": [],
   "source": [
    "str2='yeshwanth'\n",
    "\n",
    "y   e    s    h     w    a     n     t     h\n",
    "0   1    2    3     4    5     6     7     8"
   ]
  },
  {
   "cell_type": "code",
   "execution_count": 25,
   "id": "c91fe621-28f1-4ce1-a8bc-4a1cb2996231",
   "metadata": {},
   "outputs": [
    {
     "data": {
      "text/plain": [
       "'ihwaey'"
      ]
     },
     "execution_count": 25,
     "metadata": {},
     "output_type": "execute_result"
    }
   ],
   "source": [
    "str1[2:13:2]"
   ]
  },
  {
   "cell_type": "code",
   "execution_count": 26,
   "id": "63300d06-c0ca-4fd4-a599-ef911d09f5f6",
   "metadata": {},
   "outputs": [
    {
     "data": {
      "text/plain": [
       "''"
      ]
     },
     "execution_count": 26,
     "metadata": {},
     "output_type": "execute_result"
    }
   ],
   "source": [
    "str1[2:13:-2]"
   ]
  },
  {
   "cell_type": "code",
   "execution_count": 27,
   "id": "7fac6f79-619c-43cc-81dc-65d91c8f47b4",
   "metadata": {},
   "outputs": [
    {
     "data": {
      "text/plain": [
       "''"
      ]
     },
     "execution_count": 27,
     "metadata": {},
     "output_type": "execute_result"
    }
   ],
   "source": [
    "str1[2:-13:2]"
   ]
  },
  {
   "cell_type": "code",
   "execution_count": 28,
   "id": "208bd16e-520d-4cad-a3b9-6d7e0f6cc85a",
   "metadata": {},
   "outputs": [
    {
     "data": {
      "text/plain": [
       "''"
      ]
     },
     "execution_count": 28,
     "metadata": {},
     "output_type": "execute_result"
    }
   ],
   "source": [
    "str1[2:-13:-2]"
   ]
  },
  {
   "cell_type": "code",
   "execution_count": 29,
   "id": "7ee81add-9fdd-4486-8975-c00e3ef41640",
   "metadata": {},
   "outputs": [
    {
     "data": {
      "text/plain": [
       "''"
      ]
     },
     "execution_count": 29,
     "metadata": {},
     "output_type": "execute_result"
    }
   ],
   "source": [
    "str1[-2:13:2]"
   ]
  },
  {
   "cell_type": "code",
   "execution_count": 30,
   "id": "471f3ee3-d88b-44cc-bc8d-3fa741a6bbcc",
   "metadata": {},
   "outputs": [
    {
     "data": {
      "text/plain": [
       "''"
      ]
     },
     "execution_count": 30,
     "metadata": {},
     "output_type": "execute_result"
    }
   ],
   "source": [
    "str1[-2:-13:2]"
   ]
  },
  {
   "cell_type": "code",
   "execution_count": 31,
   "id": "a27e4de3-06b1-47c4-83bb-1a7485318e49",
   "metadata": {},
   "outputs": [
    {
     "data": {
      "text/plain": [
       "'o r o '"
      ]
     },
     "execution_count": 31,
     "metadata": {},
     "output_type": "execute_result"
    }
   ],
   "source": [
    "str1[-2:-13:-2]"
   ]
  },
  {
   "cell_type": "code",
   "execution_count": 32,
   "id": "8249babb-3fd1-4f63-9e87-c8dfa9840f34",
   "metadata": {},
   "outputs": [
    {
     "data": {
      "text/plain": [
       "''"
      ]
     },
     "execution_count": 32,
     "metadata": {},
     "output_type": "execute_result"
    }
   ],
   "source": [
    "str1[13:2:2]"
   ]
  },
  {
   "cell_type": "code",
   "execution_count": 33,
   "id": "adeed682-d2a9-4f40-bf41-3b0d7b3be6c4",
   "metadata": {},
   "outputs": [
    {
     "data": {
      "text/plain": [
       "''"
      ]
     },
     "execution_count": 33,
     "metadata": {},
     "output_type": "execute_result"
    }
   ],
   "source": [
    "str1[-13:2:2]"
   ]
  },
  {
   "cell_type": "code",
   "execution_count": 34,
   "id": "ba468198-14e2-47c1-96e3-85e6da8e326f",
   "metadata": {},
   "outputs": [
    {
     "data": {
      "text/plain": [
       "'ihwaey'"
      ]
     },
     "execution_count": 34,
     "metadata": {},
     "output_type": "execute_result"
    }
   ],
   "source": [
    "str1[-13:-2:2]"
   ]
  },
  {
   "cell_type": "code",
   "execution_count": 35,
   "id": "cc1bed29-b572-4076-a9a0-8a63b853e53a",
   "metadata": {},
   "outputs": [
    {
     "data": {
      "text/plain": [
       "''"
      ]
     },
     "execution_count": 35,
     "metadata": {},
     "output_type": "execute_result"
    }
   ],
   "source": [
    "str1[-13:-2:-2]"
   ]
  },
  {
   "cell_type": "code",
   "execution_count": 36,
   "id": "7964057b-0465-424e-8292-941ae3b05607",
   "metadata": {},
   "outputs": [
    {
     "data": {
      "text/plain": [
       "''"
      ]
     },
     "execution_count": 36,
     "metadata": {},
     "output_type": "execute_result"
    }
   ],
   "source": [
    "str1[-13:2:-2]"
   ]
  },
  {
   "cell_type": "code",
   "execution_count": 37,
   "id": "afe48463-6302-4ca2-bbe1-c8bdbb5fa5c4",
   "metadata": {},
   "outputs": [
    {
     "data": {
      "text/plain": [
       "''"
      ]
     },
     "execution_count": 37,
     "metadata": {},
     "output_type": "execute_result"
    }
   ],
   "source": [
    "str1[2:-13]"
   ]
  },
  {
   "cell_type": "code",
   "execution_count": 38,
   "id": "f7bc62d3-9d9f-49f3-8adb-9049b4b1ea01",
   "metadata": {},
   "outputs": [
    {
     "data": {
      "text/plain": [
       "'i'"
      ]
     },
     "execution_count": 38,
     "metadata": {},
     "output_type": "execute_result"
    }
   ],
   "source": [
    "str1[2:3:2]"
   ]
  },
  {
   "cell_type": "code",
   "execution_count": 39,
   "id": "34cb74ef-ff65-4e25-914f-a487ef1ac1ce",
   "metadata": {},
   "outputs": [
    {
     "data": {
      "text/plain": [
       "''"
      ]
     },
     "execution_count": 39,
     "metadata": {},
     "output_type": "execute_result"
    }
   ],
   "source": [
    "str1[2:2:2]"
   ]
  },
  {
   "cell_type": "code",
   "execution_count": 40,
   "id": "34fe82cc-cac2-4365-a833-a75cd7e2f3de",
   "metadata": {},
   "outputs": [
    {
     "data": {
      "text/plain": [
       "'ih'"
      ]
     },
     "execution_count": 40,
     "metadata": {},
     "output_type": "execute_result"
    }
   ],
   "source": [
    "# -15   -14    -13    -12   -11   -10   -9   -8   -7    -6     -5    -4     -3     -2     -1\n",
    "# h      a      i             h     o    w         a     r      e            y      o      u\n",
    "# 0      1      2       3     4     5    6    7    8    9      10     11    12     13     14\n",
    "str1='hai how are you'\n",
    "str1[2:6:2]"
   ]
  },
  {
   "cell_type": "code",
   "execution_count": 41,
   "id": "d88e8e2f-7e96-497c-b11d-20ed4032b1d5",
   "metadata": {},
   "outputs": [
    {
     "data": {
      "text/plain": [
       "'i'"
      ]
     },
     "execution_count": 41,
     "metadata": {},
     "output_type": "execute_result"
    }
   ],
   "source": [
    "str1[2:6:4]"
   ]
  },
  {
   "cell_type": "code",
   "execution_count": 42,
   "id": "02fa93d5-2074-4757-85af-f79b4b6485cd",
   "metadata": {},
   "outputs": [
    {
     "data": {
      "text/plain": [
       "'hai how are you'"
      ]
     },
     "execution_count": 42,
     "metadata": {},
     "output_type": "execute_result"
    }
   ],
   "source": [
    "str1[:]"
   ]
  },
  {
   "cell_type": "code",
   "execution_count": 44,
   "id": "d9790da2-61b2-4e36-b010-70606dd56736",
   "metadata": {},
   "outputs": [
    {
     "data": {
      "text/plain": [
       "'hai how are you'"
      ]
     },
     "execution_count": 44,
     "metadata": {},
     "output_type": "execute_result"
    }
   ],
   "source": [
    "str1[::]"
   ]
  },
  {
   "cell_type": "code",
   "execution_count": 45,
   "id": "841d8f8d-32a1-4300-af70-9f6143e4595e",
   "metadata": {},
   "outputs": [
    {
     "data": {
      "text/plain": [
       "'uoy era woh iah'"
      ]
     },
     "execution_count": 45,
     "metadata": {},
     "output_type": "execute_result"
    }
   ],
   "source": [
    "str1[::-1]"
   ]
  },
  {
   "cell_type": "code",
   "execution_count": 46,
   "id": "472919c0-cf52-4223-bcf0-726dcc67a342",
   "metadata": {},
   "outputs": [
    {
     "data": {
      "text/plain": [
       "'uyeaw'"
      ]
     },
     "execution_count": 46,
     "metadata": {},
     "output_type": "execute_result"
    }
   ],
   "source": [
    "str1[:5:-2]"
   ]
  },
  {
   "cell_type": "markdown",
   "id": "42d60d3c-c9d9-40d2-aa16-9dfc2a42bb0b",
   "metadata": {},
   "source": [
    "## =====================Part - 2=========================="
   ]
  },
  {
   "cell_type": "markdown",
   "id": "b1377331-0e2f-4f1d-bc63-3bc786fea2fb",
   "metadata": {},
   "source": [
    "## methods"
   ]
  },
  {
   "cell_type": "code",
   "execution_count": null,
   "id": "cf88cc17-58cc-4753-8199-f2a479d7981d",
   "metadata": {},
   "outputs": [],
   "source": [
    "- strings lists tupple dictionary every data type has its own methods\n",
    "- we already seen that packages has different methods\n",
    "- for example random packages : randint method\n",
    "- math packages : sqrt\n",
    "- in the same way string also have methods\n",
    "- in order to see methods for the packages\n",
    "    - we are importing the packages\n",
    "    - we are applying dir\n",
    "- in the similar way in order to see the methods of string we need "
   ]
  },
  {
   "cell_type": "code",
   "execution_count": 47,
   "id": "bdf16f43-3b6f-4a71-8927-9531038f823b",
   "metadata": {},
   "outputs": [
    {
     "data": {
      "text/plain": [
       "['__add__',\n",
       " '__class__',\n",
       " '__contains__',\n",
       " '__delattr__',\n",
       " '__dir__',\n",
       " '__doc__',\n",
       " '__eq__',\n",
       " '__format__',\n",
       " '__ge__',\n",
       " '__getattribute__',\n",
       " '__getitem__',\n",
       " '__getnewargs__',\n",
       " '__getstate__',\n",
       " '__gt__',\n",
       " '__hash__',\n",
       " '__init__',\n",
       " '__init_subclass__',\n",
       " '__iter__',\n",
       " '__le__',\n",
       " '__len__',\n",
       " '__lt__',\n",
       " '__mod__',\n",
       " '__mul__',\n",
       " '__ne__',\n",
       " '__new__',\n",
       " '__reduce__',\n",
       " '__reduce_ex__',\n",
       " '__repr__',\n",
       " '__rmod__',\n",
       " '__rmul__',\n",
       " '__setattr__',\n",
       " '__sizeof__',\n",
       " '__str__',\n",
       " '__subclasshook__',\n",
       " 'capitalize',\n",
       " 'casefold',\n",
       " 'center',\n",
       " 'count',\n",
       " 'encode',\n",
       " 'endswith',\n",
       " 'expandtabs',\n",
       " 'find',\n",
       " 'format',\n",
       " 'format_map',\n",
       " 'index',\n",
       " 'isalnum',\n",
       " 'isalpha',\n",
       " 'isascii',\n",
       " 'isdecimal',\n",
       " 'isdigit',\n",
       " 'isidentifier',\n",
       " 'islower',\n",
       " 'isnumeric',\n",
       " 'isprintable',\n",
       " 'isspace',\n",
       " 'istitle',\n",
       " 'isupper',\n",
       " 'join',\n",
       " 'ljust',\n",
       " 'lower',\n",
       " 'lstrip',\n",
       " 'maketrans',\n",
       " 'partition',\n",
       " 'removeprefix',\n",
       " 'removesuffix',\n",
       " 'replace',\n",
       " 'rfind',\n",
       " 'rindex',\n",
       " 'rjust',\n",
       " 'rpartition',\n",
       " 'rsplit',\n",
       " 'rstrip',\n",
       " 'split',\n",
       " 'splitlines',\n",
       " 'startswith',\n",
       " 'strip',\n",
       " 'swapcase',\n",
       " 'title',\n",
       " 'translate',\n",
       " 'upper',\n",
       " 'zfill']"
      ]
     },
     "execution_count": 47,
     "metadata": {},
     "output_type": "execute_result"
    }
   ],
   "source": [
    "dir('')\n",
    "# dir('hai')\n",
    "# str1=apple\n",
    "# dir(str1)"
   ]
  },
  {
   "cell_type": "code",
   "execution_count": null,
   "id": "d711384b-e14e-471b-b1b1-b369be171415",
   "metadata": {},
   "outputs": [],
   "source": [
    "- lower\n",
    "- upper\n",
    "- capitalize\n",
    "- title\n",
    "- casefold\n",
    "- center"
   ]
  },
  {
   "cell_type": "code",
   "execution_count": null,
   "id": "0edd6667-e1eb-4411-8144-cbef3617f2ae",
   "metadata": {},
   "outputs": [],
   "source": [
    "str1='hai how are you'"
   ]
  },
  {
   "cell_type": "code",
   "execution_count": null,
   "id": "84e6ec5f-5f89-45d0-a91e-63e33c6fa841",
   "metadata": {},
   "outputs": [],
   "source": [
    "type(str1)\n",
    "help(str1.upper"
   ]
  },
  {
   "cell_type": "code",
   "execution_count": 48,
   "id": "0041cdf7-5037-4625-8451-28e6db1b3e0c",
   "metadata": {},
   "outputs": [
    {
     "data": {
      "text/plain": [
       "'HAI HOW ARE YOU'"
      ]
     },
     "execution_count": 48,
     "metadata": {},
     "output_type": "execute_result"
    }
   ],
   "source": [
    "str1.upper()"
   ]
  },
  {
   "cell_type": "code",
   "execution_count": 49,
   "id": "4f29adfc-8e2f-40f8-ad05-8c32be10566a",
   "metadata": {},
   "outputs": [
    {
     "data": {
      "text/plain": [
       "<function str.upper()>"
      ]
     },
     "execution_count": 49,
     "metadata": {},
     "output_type": "execute_result"
    }
   ],
   "source": [
    "str1.upper"
   ]
  },
  {
   "cell_type": "code",
   "execution_count": 50,
   "id": "3686a28a-f365-4dbb-b3c5-f17040bb8f85",
   "metadata": {},
   "outputs": [
    {
     "data": {
      "text/plain": [
       "'HAI HOW ARE YOU'"
      ]
     },
     "execution_count": 50,
     "metadata": {},
     "output_type": "execute_result"
    }
   ],
   "source": [
    "str1.upper()"
   ]
  },
  {
   "cell_type": "markdown",
   "id": "5fc139e3-7afd-4c80-a106-7cdc12e4e4f6",
   "metadata": {},
   "source": [
    "**lower**"
   ]
  },
  {
   "cell_type": "code",
   "execution_count": 53,
   "id": "33d7a8ed-889f-4d54-b83a-8f8613c84db4",
   "metadata": {},
   "outputs": [
    {
     "name": "stdout",
     "output_type": "stream",
     "text": [
      "Help on built-in function lower:\n",
      "\n",
      "lower() method of builtins.str instance\n",
      "    Return a copy of the string converted to lowercase.\n",
      "\n"
     ]
    }
   ],
   "source": [
    "help(str1.lower)"
   ]
  },
  {
   "cell_type": "code",
   "execution_count": 51,
   "id": "352f16f5-8488-46c1-a645-2a32aa366cc4",
   "metadata": {},
   "outputs": [
    {
     "data": {
      "text/plain": [
       "'hai how are you'"
      ]
     },
     "execution_count": 51,
     "metadata": {},
     "output_type": "execute_result"
    }
   ],
   "source": [
    "str1.lower()"
   ]
  },
  {
   "cell_type": "code",
   "execution_count": 52,
   "id": "efb7cc76-b63d-4336-9ee9-ae3fab8170ce",
   "metadata": {},
   "outputs": [
    {
     "data": {
      "text/plain": [
       "'hai how are you'"
      ]
     },
     "execution_count": 52,
     "metadata": {},
     "output_type": "execute_result"
    }
   ],
   "source": [
    "str1.casefold()"
   ]
  },
  {
   "cell_type": "markdown",
   "id": "cf46afae-7af8-4975-9920-bdac6bd2389b",
   "metadata": {},
   "source": [
    "**capitalize**"
   ]
  },
  {
   "cell_type": "code",
   "execution_count": 54,
   "id": "e1ea97b0-f5fd-4541-ad82-631f1003dbfe",
   "metadata": {},
   "outputs": [
    {
     "data": {
      "text/plain": [
       "'Hai how are you'"
      ]
     },
     "execution_count": 54,
     "metadata": {},
     "output_type": "execute_result"
    }
   ],
   "source": [
    "str1.capitalize()"
   ]
  },
  {
   "cell_type": "markdown",
   "id": "61010389-280a-4141-80ad-8d76fff91af7",
   "metadata": {},
   "source": [
    "**casefold**"
   ]
  },
  {
   "cell_type": "code",
   "execution_count": 55,
   "id": "4fddb1d4-8988-436a-bfdb-6e95db628f5b",
   "metadata": {},
   "outputs": [
    {
     "data": {
      "text/plain": [
       "'hai how are you'"
      ]
     },
     "execution_count": 55,
     "metadata": {},
     "output_type": "execute_result"
    }
   ],
   "source": [
    "str1.casefold()"
   ]
  },
  {
   "cell_type": "markdown",
   "id": "5b7041e2-05b8-45cd-a47a-218e408518f9",
   "metadata": {},
   "source": [
    "**title**"
   ]
  },
  {
   "cell_type": "code",
   "execution_count": 56,
   "id": "cf5631e8-ece0-4cd2-916f-0a42edbc162d",
   "metadata": {},
   "outputs": [
    {
     "data": {
      "text/plain": [
       "'Hai How Are You'"
      ]
     },
     "execution_count": 56,
     "metadata": {},
     "output_type": "execute_result"
    }
   ],
   "source": [
    "str1.title()"
   ]
  },
  {
   "cell_type": "code",
   "execution_count": null,
   "id": "3aa0fe59-6b1d-4c27-8f75-dc64028461b9",
   "metadata": {},
   "outputs": [],
   "source": [
    "# str1='hai how are you'\n",
    "# o/p = 'Hai How Are You'\n",
    "# without using any methods\n",
    "# one more level : "
   ]
  },
  {
   "cell_type": "code",
   "execution_count": 57,
   "id": "6973622d-a654-4572-9260-df2b51808515",
   "metadata": {},
   "outputs": [
    {
     "data": {
      "text/plain": [
       "'  hai how are you   '"
      ]
     },
     "execution_count": 57,
     "metadata": {},
     "output_type": "execute_result"
    }
   ],
   "source": [
    "str1.center(20)"
   ]
  },
  {
   "cell_type": "code",
   "execution_count": 58,
   "id": "2b29ed0c-6e1b-4f47-b1d1-343708260a3b",
   "metadata": {},
   "outputs": [
    {
     "data": {
      "text/plain": [
       "20"
      ]
     },
     "execution_count": 58,
     "metadata": {},
     "output_type": "execute_result"
    }
   ],
   "source": [
    "len(str1.center(20))"
   ]
  },
  {
   "cell_type": "markdown",
   "id": "41276cb8-fec0-4908-9d95-7715e94192cf",
   "metadata": {},
   "source": [
    "- center has two arguments\n",
    "    - width\n",
    "    - fill char\n",
    "- original string already : 15 letters\n",
    "- we want to create a new string with 20 letters\n",
    "- remaining 5 letters bt default empty\n",
    "- we can fill with character also"
   ]
  },
  {
   "cell_type": "code",
   "execution_count": 59,
   "id": "62b0d2ce-d4d0-4689-9c93-6f46907b655f",
   "metadata": {},
   "outputs": [
    {
     "data": {
      "text/plain": [
       "'*****hai how are you******'"
      ]
     },
     "execution_count": 59,
     "metadata": {},
     "output_type": "execute_result"
    }
   ],
   "source": [
    "str1.center(26,'*')"
   ]
  },
  {
   "cell_type": "code",
   "execution_count": 60,
   "id": "e796e17a-d025-4b7e-8a30-1ec8b64ca992",
   "metadata": {},
   "outputs": [
    {
     "ename": "TypeError",
     "evalue": "center expected at least 1 argument, got 0",
     "output_type": "error",
     "traceback": [
      "\u001b[1;31m---------------------------------------------------------------------------\u001b[0m",
      "\u001b[1;31mTypeError\u001b[0m                                 Traceback (most recent call last)",
      "Cell \u001b[1;32mIn[60], line 1\u001b[0m\n\u001b[1;32m----> 1\u001b[0m str1\u001b[38;5;241m.\u001b[39mcenter()\n",
      "\u001b[1;31mTypeError\u001b[0m: center expected at least 1 argument, got 0"
     ]
    }
   ],
   "source": [
    "str1.center()"
   ]
  },
  {
   "cell_type": "code",
   "execution_count": 1,
   "id": "dd1d0207-64a1-4b3d-b976-a559f8307113",
   "metadata": {},
   "outputs": [
    {
     "data": {
      "text/plain": [
       "True"
      ]
     },
     "execution_count": 1,
     "metadata": {},
     "output_type": "execute_result"
    }
   ],
   "source": [
    "str1='HELLO'\n",
    "str1.isupper()"
   ]
  },
  {
   "cell_type": "code",
   "execution_count": 2,
   "id": "ff977bd4-cd85-4785-b103-24dfff560211",
   "metadata": {},
   "outputs": [
    {
     "data": {
      "text/plain": [
       "False"
      ]
     },
     "execution_count": 2,
     "metadata": {},
     "output_type": "execute_result"
    }
   ],
   "source": [
    "str1='HELLO'\n",
    "str1.istitle()"
   ]
  },
  {
   "cell_type": "code",
   "execution_count": 3,
   "id": "db7e4d2d-f493-45bc-b68e-f67e711c2bb1",
   "metadata": {},
   "outputs": [
    {
     "data": {
      "text/plain": [
       "False"
      ]
     },
     "execution_count": 3,
     "metadata": {},
     "output_type": "execute_result"
    }
   ],
   "source": [
    "str1='Hello'\n",
    "str1.isupper()"
   ]
  },
  {
   "cell_type": "code",
   "execution_count": 4,
   "id": "b3a55ac1-4b16-4386-9797-3fa1f4135270",
   "metadata": {},
   "outputs": [
    {
     "data": {
      "text/plain": [
       "False"
      ]
     },
     "execution_count": 4,
     "metadata": {},
     "output_type": "execute_result"
    }
   ],
   "source": [
    "str1='hello'\n",
    "str1.isupper()"
   ]
  },
  {
   "cell_type": "markdown",
   "id": "fd7e00fb-f717-48d3-b7f3-25eeff4e977d",
   "metadata": {},
   "source": [
    "**Index-find**"
   ]
  },
  {
   "cell_type": "markdown",
   "id": "b53c57db-6c01-42e0-bda1-d51e3e83efdb",
   "metadata": {},
   "source": [
    "**index**"
   ]
  },
  {
   "cell_type": "code",
   "execution_count": null,
   "id": "35c367ec-ea06-433b-bed0-b5cfa9c3acf7",
   "metadata": {},
   "outputs": [],
   "source": [
    "- index says that it eill give the index of any letter in given string\n",
    "- we already seen about count: count will give how many letters are there in a string\n",
    "    - at what index you want to count\n",
    "    - between indexes also we can count the letters\n",
    "- index meaning it will provide the index\n",
    "- imagine that there same letters repeated\n",
    "- how can we find the next index"
   ]
  },
  {
   "cell_type": "code",
   "execution_count": 1,
   "id": "0299de1b-1960-4611-b474-281debe65996",
   "metadata": {},
   "outputs": [
    {
     "data": {
      "text/plain": [
       "1"
      ]
     },
     "execution_count": 1,
     "metadata": {},
     "output_type": "execute_result"
    }
   ],
   "source": [
    "#   0   1   2    3    4     5     6      7      8      9     10\n",
    "#   h   a   i         h     a     i             h      a      i\n",
    "# -11  -10  -9  -8   -7    -6     -5     -4    -3     -2     -1\n",
    "\n",
    "# i always a return a lowest index\n",
    "str1='hai hai hai'\n",
    "str1.index('a')      # among all the indexes the lowest index is '1'"
   ]
  },
  {
   "cell_type": "code",
   "execution_count": 6,
   "id": "7a287af8-9ff8-446c-8778-58f9cdf8bf7c",
   "metadata": {},
   "outputs": [
    {
     "data": {
      "text/plain": [
       "5"
      ]
     },
     "execution_count": 6,
     "metadata": {},
     "output_type": "execute_result"
    }
   ],
   "source": [
    "# i want to know next 'a' index 3rd index the lowest index is '5'\n",
    "str1='hai hai hai'\n",
    "str1.index('a',3)"
   ]
  },
  {
   "cell_type": "code",
   "execution_count": 7,
   "id": "8fc35697-ac55-482c-a788-73a3c20993c0",
   "metadata": {},
   "outputs": [
    {
     "data": {
      "text/plain": [
       "5"
      ]
     },
     "execution_count": 7,
     "metadata": {},
     "output_type": "execute_result"
    }
   ],
   "source": [
    "# i want to know next 'a' index between 3rd and 7th indexes lowest is '5' only\n",
    "str1='hai hai hai'\n",
    "str1.index('a',3,7)"
   ]
  },
  {
   "cell_type": "code",
   "execution_count": 8,
   "id": "22431166-aeac-47ed-9c97-26d2a89c9269",
   "metadata": {},
   "outputs": [
    {
     "data": {
      "text/plain": [
       "9"
      ]
     },
     "execution_count": 8,
     "metadata": {},
     "output_type": "execute_result"
    }
   ],
   "source": [
    "str1='hai hai hai'\n",
    "str1.index('a',-3,-1)"
   ]
  },
  {
   "cell_type": "code",
   "execution_count": 9,
   "id": "e1bbb329-97f5-4457-802e-581fdb3f2c8e",
   "metadata": {},
   "outputs": [
    {
     "ename": "ValueError",
     "evalue": "substring not found",
     "output_type": "error",
     "traceback": [
      "\u001b[1;31m---------------------------------------------------------------------------\u001b[0m",
      "\u001b[1;31mValueError\u001b[0m                                Traceback (most recent call last)",
      "Cell \u001b[1;32mIn[9], line 2\u001b[0m\n\u001b[0;32m      1\u001b[0m str1\u001b[38;5;241m=\u001b[39m\u001b[38;5;124m'\u001b[39m\u001b[38;5;124mhai hai hai\u001b[39m\u001b[38;5;124m'\u001b[39m\n\u001b[1;32m----> 2\u001b[0m \u001b[38;5;28mprint\u001b[39m(str1\u001b[38;5;241m.\u001b[39mindex(\u001b[38;5;124m'\u001b[39m\u001b[38;5;124ma\u001b[39m\u001b[38;5;124m'\u001b[39m,\u001b[38;5;241m-\u001b[39m\u001b[38;5;241m9\u001b[39m,\u001b[38;5;241m-\u001b[39m\u001b[38;5;241m6\u001b[39m))\n",
      "\u001b[1;31mValueError\u001b[0m: substring not found"
     ]
    }
   ],
   "source": [
    "str1='hai hai hai'\n",
    "print(str1.index('a',-9,-6))"
   ]
  },
  {
   "cell_type": "code",
   "execution_count": 10,
   "id": "b7472e7d-6547-4d81-bf7f-85718bdac011",
   "metadata": {},
   "outputs": [
    {
     "data": {
      "text/plain": [
       "3"
      ]
     },
     "execution_count": 10,
     "metadata": {},
     "output_type": "execute_result"
    }
   ],
   "source": [
    "str1='hai hai hai'\n",
    "str1.count('a')"
   ]
  },
  {
   "cell_type": "code",
   "execution_count": 11,
   "id": "ff1f5cc6-b43b-44fe-b09b-c7346ef08035",
   "metadata": {},
   "outputs": [
    {
     "data": {
      "text/plain": [
       "2"
      ]
     },
     "execution_count": 11,
     "metadata": {},
     "output_type": "execute_result"
    }
   ],
   "source": [
    "str1='hai hai hai'\n",
    "str1.count('a',3)"
   ]
  },
  {
   "cell_type": "code",
   "execution_count": 12,
   "id": "9cfb9b3e-398b-4d55-8262-89151fc8addc",
   "metadata": {},
   "outputs": [
    {
     "data": {
      "text/plain": [
       "2"
      ]
     },
     "execution_count": 12,
     "metadata": {},
     "output_type": "execute_result"
    }
   ],
   "source": [
    "str1='hai hai hai'\n",
    "str1.count('a',3,10)"
   ]
  },
  {
   "cell_type": "code",
   "execution_count": 13,
   "id": "a74b884e-e681-4178-8a4b-4085d69c2f09",
   "metadata": {},
   "outputs": [
    {
     "name": "stdout",
     "output_type": "stream",
     "text": [
      "3\n"
     ]
    }
   ],
   "source": [
    "str1='hai hai hai'\n",
    "print(str1.count('a'))"
   ]
  },
  {
   "cell_type": "code",
   "execution_count": 14,
   "id": "e706dd0a-605f-4ef5-be88-d4cfca5fe4eb",
   "metadata": {},
   "outputs": [
    {
     "name": "stdout",
     "output_type": "stream",
     "text": [
      "2\n"
     ]
    }
   ],
   "source": [
    "str1='hai hai hai'\n",
    "print(str1.count('a',3))"
   ]
  },
  {
   "cell_type": "code",
   "execution_count": 15,
   "id": "31eb39d2-de07-4dcb-838b-4ebce54e77e0",
   "metadata": {},
   "outputs": [
    {
     "name": "stdout",
     "output_type": "stream",
     "text": [
      "1\n"
     ]
    }
   ],
   "source": [
    "str1='hai hai hai'\n",
    "print(str1.count('a',3,7))"
   ]
  },
  {
   "cell_type": "code",
   "execution_count": 16,
   "id": "9107fdb9-48ea-41b3-ab94-416a7c51ded5",
   "metadata": {},
   "outputs": [
    {
     "name": "stdout",
     "output_type": "stream",
     "text": [
      "1\n",
      "5\n",
      "5\n"
     ]
    }
   ],
   "source": [
    "str1='hai hai hai'\n",
    "print(str1.index('a'))\n",
    "print(str1.index('a',3))\n",
    "print(str1.index('a',3,7))"
   ]
  },
  {
   "cell_type": "code",
   "execution_count": 17,
   "id": "676a7c52-110d-41c6-9eb1-5beed4c24bee",
   "metadata": {},
   "outputs": [
    {
     "name": "stdout",
     "output_type": "stream",
     "text": [
      "1\n",
      "5\n",
      "9\n"
     ]
    }
   ],
   "source": [
    "str1='hai hai hai'\n",
    "# i want to know all indexes of 'a'\n",
    "for i in range(len(str1)):\n",
    "    if str1[i]=='a':\n",
    "        print(i)"
   ]
  },
  {
   "cell_type": "code",
   "execution_count": 21,
   "id": "aee95d38-9232-40c8-879e-eebc517cfc61",
   "metadata": {},
   "outputs": [
    {
     "name": "stdout",
     "output_type": "stream",
     "text": [
      "1\n",
      "5\n",
      "9\n",
      "13\n"
     ]
    }
   ],
   "source": [
    "#   0   1   2    3    4     5     6      7      8      9     10     11    12     13     14\n",
    "#   h   a   i         h     a     i             h      a      i            h     a       i\n",
    "\n",
    "str1='hai hai hai hai'\n",
    "i1=str1.index('a')\n",
    "print(i1)\n",
    "i2=str1.index('a',i1+1)    # i1+1     2\n",
    "print(i2)\n",
    "i3=str1.index('a',i2+1)     #  i2+1   6\n",
    "print(i3)\n",
    "i4=str1.index('a',i3+1)      # i3+1 or next a\n",
    "print(i4)"
   ]
  },
  {
   "cell_type": "code",
   "execution_count": null,
   "id": "a46177bf-d80f-44c5-9814-054e26c8076e",
   "metadata": {},
   "outputs": [],
   "source": [
    "# home work implement above in for loop"
   ]
  },
  {
   "cell_type": "markdown",
   "id": "efd83662-d5a3-4e07-8a07-565479e7cedc",
   "metadata": {},
   "source": [
    "**find**"
   ]
  },
  {
   "cell_type": "code",
   "execution_count": 25,
   "id": "f7995f51-dcfa-416f-bd2e-cbbffa398e64",
   "metadata": {},
   "outputs": [
    {
     "name": "stdout",
     "output_type": "stream",
     "text": [
      "1\n",
      "5\n",
      "9\n",
      "13\n"
     ]
    }
   ],
   "source": [
    "#   0     1    2    3    4     5    6    7    8     9    10    11   12   13    14\n",
    "#   h     a    i         h     a    i         h     a     i          h    a     i\n",
    "#  -15  -14  -13  -12  -11   -10   -9   -8   -7    -6    -5    -4   -3   -2    -1\n",
    "\n",
    "\n",
    "str1='hai hai hai hai'\n",
    "i1=str1.find('a')\n",
    "print(i1)\n",
    "i2=str1.find('a',i1+1)    # i1+1     2\n",
    "print(i2)\n",
    "i3=str1.find('a',i2+1)     #  i2+1   6\n",
    "print(i3)\n",
    "i4=str1.find('a',i3+1)      # i3+1 or next a\n",
    "print(i4)"
   ]
  },
  {
   "cell_type": "code",
   "execution_count": 24,
   "id": "f3b3826f-38c4-40fe-964e-44582c710baa",
   "metadata": {},
   "outputs": [
    {
     "name": "stdout",
     "output_type": "stream",
     "text": [
      "1\n"
     ]
    }
   ],
   "source": [
    "str1='hai hai hai hai'\n",
    "i1=str1.find('a')\n",
    "print(i1)"
   ]
  },
  {
   "cell_type": "code",
   "execution_count": 9,
   "id": "85b99db0-7f09-4387-91c4-81a02203309f",
   "metadata": {},
   "outputs": [
    {
     "name": "stdout",
     "output_type": "stream",
     "text": [
      "4\n",
      "7\n",
      "17\n",
      "20\n",
      "0\n",
      "15\n"
     ]
    }
   ],
   "source": [
    "# -22 -21 -20 -19    -18  -17  -16   -15  -14 -13  -12  -11  -10   -9   -8   -7   -6   -5   -4   -3   -2    -1\n",
    "#  u   m   e    s     h         c     h    a   n    d     r    a         k    u    s    h    w    a    h     a\n",
    "#  0   1   2   3     4     5    6     7    8   9   10    11    12   13   14  15   16   17   18   19   20    21\n",
    "str1='umesh chandra kushwaha'\n",
    "i1=str1.find('h')\n",
    "print(i1)\n",
    "i2=str1.find('h',i1+1)\n",
    "print(i2)\n",
    "i3=str1.find('h',i2+1)\n",
    "print(i3)\n",
    "i4=str1.find('h',i3+1)\n",
    "print(i4)\n",
    "i5=str1.find('u')\n",
    "print(i5)\n",
    "i6=str1.find('u',i5+1)\n",
    "print(i6)\n"
   ]
  },
  {
   "cell_type": "code",
   "execution_count": 29,
   "id": "db9071ea-0b65-4568-9073-dbdc4049d48d",
   "metadata": {},
   "outputs": [
    {
     "name": "stdout",
     "output_type": "stream",
     "text": [
      "1\n",
      "5\n",
      "9\n",
      "-1\n"
     ]
    }
   ],
   "source": [
    "str1='hai hai hai'\n",
    "i1=str1.find('a')\n",
    "print(i1)\n",
    "i2=str1.find('a',i1+1)    # i1+1     2\n",
    "print(i2)\n",
    "i3=str1.find('a',i2+1)     #  i2+1   6\n",
    "print(i3)\n",
    "i4=str1.find('a',i3+1)      # i3+1 or next a\n",
    "print(i4)"
   ]
  },
  {
   "cell_type": "code",
   "execution_count": null,
   "id": "6850a0f4-b4d1-4ab1-998a-2a75f72f95d5",
   "metadata": {},
   "outputs": [],
   "source": [
    "str1.index()\n",
    "str1.find()"
   ]
  },
  {
   "cell_type": "code",
   "execution_count": 31,
   "id": "064d90a0-6f8c-41cc-ac0c-1712ed360dd6",
   "metadata": {},
   "outputs": [
    {
     "data": {
      "text/plain": [
       "0"
      ]
     },
     "execution_count": 31,
     "metadata": {},
     "output_type": "execute_result"
    }
   ],
   "source": [
    "str1='hai hai hai'\n",
    "str1.count('z')"
   ]
  },
  {
   "cell_type": "code",
   "execution_count": 33,
   "id": "ba1921c2-cf09-424e-9d06-6f7e25662c13",
   "metadata": {},
   "outputs": [
    {
     "ename": "TypeError",
     "evalue": "slice indices must be integers or None or have an __index__ method",
     "output_type": "error",
     "traceback": [
      "\u001b[1;31m---------------------------------------------------------------------------\u001b[0m",
      "\u001b[1;31mTypeError\u001b[0m                                 Traceback (most recent call last)",
      "Cell \u001b[1;32mIn[33], line 2\u001b[0m\n\u001b[0;32m      1\u001b[0m str1\u001b[38;5;241m=\u001b[39m\u001b[38;5;124m'\u001b[39m\u001b[38;5;124mhai hai hai\u001b[39m\u001b[38;5;124m'\u001b[39m\n\u001b[1;32m----> 2\u001b[0m str1\u001b[38;5;241m.\u001b[39mcount(\u001b[38;5;124m'\u001b[39m\u001b[38;5;124mz\u001b[39m\u001b[38;5;124m'\u001b[39m,\u001b[38;5;124m'\u001b[39m\u001b[38;5;124mZ\u001b[39m\u001b[38;5;124m'\u001b[39m)\n",
      "\u001b[1;31mTypeError\u001b[0m: slice indices must be integers or None or have an __index__ method"
     ]
    }
   ],
   "source": [
    "str1='hai hai hai'\n",
    "str1.count('z','Z')"
   ]
  },
  {
   "cell_type": "code",
   "execution_count": 34,
   "id": "c986fc80-df4e-4a3b-98a0-955047904a67",
   "metadata": {},
   "outputs": [
    {
     "data": {
      "text/plain": [
       "'hai hai hai'"
      ]
     },
     "execution_count": 34,
     "metadata": {},
     "output_type": "execute_result"
    }
   ],
   "source": [
    "str1='hai hai hai'\n",
    "str1.replace('z','Z')"
   ]
  },
  {
   "cell_type": "code",
   "execution_count": null,
   "id": "b428983e-95b9-4827-b157-240e65d35377",
   "metadata": {},
   "outputs": [],
   "source": [
    "- if substring not found\n",
    "- count method will give zero\n",
    "- replace method will give original string\n",
    "- index will sub dtring not found error\n",
    "- find will give -1"
   ]
  },
  {
   "cell_type": "code",
   "execution_count": null,
   "id": "32ae6523-4f32-4120-9bcf-2aa7b03f3dd0",
   "metadata": {},
   "outputs": [],
   "source": [
    "str1='omkar.nallagoni@cognizant.com\n",
    "#  first name= omkar\n",
    "#   second name = nallagoni\n",
    "#   company name= cognizant\n",
    "str2='virat.kohli@rcb.com\n",
    "str3='rohit.sharma@mi.com\n",
    "str4='a.b@c.com\n",
    "\n",
    "# idea: find the trigger \n",
    "# for first name .\n",
    "#second name  .  and @\n",
    "# company name   @  and second\n",
    "\n",
    "# i1 = first dot index\n",
    "# i2 = @ index\n",
    "#  i3= second index"
   ]
  },
  {
   "cell_type": "code",
   "execution_count": 44,
   "id": "89c09682-7a86-493a-8aad-acd1f13cda91",
   "metadata": {},
   "outputs": [
    {
     "data": {
      "text/plain": [
       "('omkar', 'nallagoni', 'cognizant')"
      ]
     },
     "execution_count": 44,
     "metadata": {},
     "output_type": "execute_result"
    }
   ],
   "source": [
    "str1='omkar.nallagoni@cognizant.com'\n",
    "i1=str1.index('.')\n",
    "i2=str1.index('@')\n",
    "i3=str1.index('.',i1+1)\n",
    "first_name=str1[:i1]\n",
    "second_name=str1[i1+1:i2]\n",
    "cname=str1[i2+1:i3]\n",
    "first_name,second_name,cname"
   ]
  },
  {
   "cell_type": "code",
   "execution_count": null,
   "id": "5f5f8105-663e-4436-ace0-1e05d35f2585",
   "metadata": {},
   "outputs": [],
   "source": [
    "- split\n",
    "- strip/lstrip/rstrip\n",
    "- startswith/endswith"
   ]
  },
  {
   "cell_type": "code",
   "execution_count": 47,
   "id": "1e9dae03-a816-4771-a997-b55286c4511c",
   "metadata": {},
   "outputs": [
    {
     "data": {
      "text/plain": [
       "('virat', 'kohli', 'rcb')"
      ]
     },
     "execution_count": 47,
     "metadata": {},
     "output_type": "execute_result"
    }
   ],
   "source": [
    "str2='virat.kohli@rcb.com'\n",
    "i1=str2.index('.')\n",
    "i2=str2.index('@')\n",
    "i3=str2.index('.',i1+1)\n",
    "first_name=str2[:i1]\n",
    "second_name=str2[i1+1:i2]\n",
    "team_name=str2[i2+1:i3]\n",
    "first_name,second_name,team_name"
   ]
  },
  {
   "cell_type": "code",
   "execution_count": 49,
   "id": "24a7a935-7a3f-4fd6-bc54-719790735e42",
   "metadata": {},
   "outputs": [
    {
     "data": {
      "text/plain": [
       "('rohit', 'sharma', 'mi')"
      ]
     },
     "execution_count": 49,
     "metadata": {},
     "output_type": "execute_result"
    }
   ],
   "source": [
    "str3='rohit.sharma@mi.com'\n",
    "i1=str3.index('.')\n",
    "i2=str3.index('@')\n",
    "i3=str3.index('.',i1+1)\n",
    "first_name=str3[:i1]\n",
    "second_name=str3[i1+1:i2]\n",
    "team_name=str3[i2+1:i3]\n",
    "first_name,second_name,team_name"
   ]
  },
  {
   "cell_type": "code",
   "execution_count": 50,
   "id": "f0e31873-2e29-4737-a0b3-d2f0a23c342b",
   "metadata": {},
   "outputs": [
    {
     "data": {
      "text/plain": [
       "('a', 'b', 'c')"
      ]
     },
     "execution_count": 50,
     "metadata": {},
     "output_type": "execute_result"
    }
   ],
   "source": [
    "str4='a.b@c.com'\n",
    "i1=str4.index('.')\n",
    "i2=str4.index('@')\n",
    "i3=str3.index('.',i1+1)\n",
    "first_letter=str4[:i1]\n",
    "second_letter=str4[i1+1:i2]\n",
    "third_letter=str4[i2+1:i3]\n",
    "first_letter,second_letter,third_letter"
   ]
  },
  {
   "cell_type": "code",
   "execution_count": null,
   "id": "c5ea8312-5553-46e0-b48f-90b6a859234a",
   "metadata": {},
   "outputs": [],
   "source": []
  }
 ],
 "metadata": {
  "kernelspec": {
   "display_name": "Python 3 (ipykernel)",
   "language": "python",
   "name": "python3"
  },
  "language_info": {
   "codemirror_mode": {
    "name": "ipython",
    "version": 3
   },
   "file_extension": ".py",
   "mimetype": "text/x-python",
   "name": "python",
   "nbconvert_exporter": "python",
   "pygments_lexer": "ipython3",
   "version": "3.11.7"
  }
 },
 "nbformat": 4,
 "nbformat_minor": 5
}
