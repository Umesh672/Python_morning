{
 "cells": [
  {
   "cell_type": "code",
   "execution_count": 1,
   "id": "3af0df88-80ca-4c57-968b-f3940fe72351",
   "metadata": {},
   "outputs": [
    {
     "name": "stdin",
     "output_type": "stream",
     "text": [
      " 100\n"
     ]
    },
    {
     "data": {
      "text/plain": [
       "'100'"
      ]
     },
     "execution_count": 1,
     "metadata": {},
     "output_type": "execute_result"
    }
   ],
   "source": [
    "input()"
   ]
  },
  {
   "cell_type": "code",
   "execution_count": 2,
   "id": "7e6d8934-82c7-46d9-a1b2-6baf3cab0ea1",
   "metadata": {},
   "outputs": [
    {
     "name": "stdin",
     "output_type": "stream",
     "text": [
      " 10\n",
      " 20\n",
      " 30\n"
     ]
    },
    {
     "data": {
      "text/plain": [
       "'30'"
      ]
     },
     "execution_count": 2,
     "metadata": {},
     "output_type": "execute_result"
    }
   ],
   "source": [
    "input()\n",
    "input()\n",
    "input()"
   ]
  },
  {
   "cell_type": "code",
   "execution_count": 3,
   "id": "6ea099d0-177d-450c-af72-72d6c7f780b3",
   "metadata": {},
   "outputs": [
    {
     "name": "stdin",
     "output_type": "stream",
     "text": [
      "enter the number1: 10\n",
      "enter the number2: 20\n",
      "enter the number3: 30\n"
     ]
    },
    {
     "data": {
      "text/plain": [
       "'30'"
      ]
     },
     "execution_count": 3,
     "metadata": {},
     "output_type": "execute_result"
    }
   ],
   "source": [
    "input(\"enter the number1:\")\n",
    "input(\"enter the number2:\")\n",
    "input(\"enter the number3:\")"
   ]
  },
  {
   "cell_type": "code",
   "execution_count": 5,
   "id": "2e088312-f30e-4e96-97d0-29c2f9030ae4",
   "metadata": {},
   "outputs": [
    {
     "name": "stdin",
     "output_type": "stream",
     "text": [
      "enter the number1: 10\n",
      "enter the number2: 20\n"
     ]
    }
   ],
   "source": [
    "num=input(\"enter the number1:\")\n",
    "num=input(\"enter the number2:\")"
   ]
  },
  {
   "cell_type": "markdown",
   "id": "034f25fd-d32d-4105-884f-90354d1c128d",
   "metadata": {},
   "source": [
    "**note**\n",
    "- input always give the string data type only\n",
    "- in order to ferform math calculations we need to convert into numerical format i.e. int or float"
   ]
  },
  {
   "cell_type": "code",
   "execution_count": null,
   "id": "b97d0955-b898-485a-9172-2ef1a0fc455e",
   "metadata": {},
   "outputs": [],
   "source": [
    "a=input(\"enter the number1:\")"
   ]
  },
  {
   "cell_type": "code",
   "execution_count": 15,
   "id": "e6e565cd-1e1e-49ce-80c5-62e6a3110b6c",
   "metadata": {},
   "outputs": [
    {
     "name": "stdin",
     "output_type": "stream",
     "text": [
      "enter the number1: 10\n",
      "enter the number2: 20\n"
     ]
    },
    {
     "name": "stdout",
     "output_type": "stream",
     "text": [
      "the addition of 10 and 20 is 30\n"
     ]
    }
   ],
   "source": [
    "num1=int(input(\"enter the number1:\"))\n",
    "num2=int(input(\"enter the number2:\"))\n",
    "add=num1+num2\n",
    "print(f\"the addition of {num1} and {num2} is {add}\")"
   ]
  },
  {
   "cell_type": "code",
   "execution_count": null,
   "id": "f64d3866-4d3c-48b1-98cb-ddb6167c664a",
   "metadata": {},
   "outputs": [],
   "source": [
    "num=input(\"enter the number1:\")\n",
    "num=input(\"enter the number1:\")\n",
    "int(num)+int(num)"
   ]
  },
  {
   "cell_type": "code",
   "execution_count": null,
   "id": "6219b332-8311-4919-9e4e-ba12ecb26e2b",
   "metadata": {},
   "outputs": [],
   "source": [
    "$eval$\n",
    "eval means evaluate\n",
    "eval will take the what ever number we enter, eval will convert to correspondig data type"
   ]
  },
  {
   "cell_type": "code",
   "execution_count": null,
   "id": "11453e11-f3a4-4809-934f-539db77a0b9e",
   "metadata": {},
   "outputs": [],
   "source": [
    "eval()"
   ]
  },
  {
   "cell_type": "code",
   "execution_count": null,
   "id": "e97b51bf-ffe8-4306-ae79-0425622954b9",
   "metadata": {},
   "outputs": [],
   "source": [
    "# write a profram ask the user enter 3 number calculate average\n",
    "# wap ask the user enter 2  number find the subtraction, add. multiply\n",
    "# wap ask the user enter radius value find the area of circle\n",
    "# wap ask the user bill amount\n",
    "# wap ask the user how much tip you want pay in percentage\n",
    "# calculate total bill\n",
    "# wap ask the user bill amount in dollars\n",
    "# ask the user one dollar\n",
    "# print the bill amount in rupees\n",
    "# enter the base height aclculate area of triangle\n",
    "# ask enter length and breadth calculate area of rectangle\n"
   ]
  },
  {
   "cell_type": "code",
   "execution_count": 10,
   "id": "54455202-0921-4437-a461-83a298474a4e",
   "metadata": {},
   "outputs": [
    {
     "name": "stdin",
     "output_type": "stream",
     "text": [
      "enter the number1: 10\n",
      "enter the number2: 20\n",
      "enter the number3: 30\n"
     ]
    },
    {
     "name": "stdout",
     "output_type": "stream",
     "text": [
      "average of the three number is: 20.0\n"
     ]
    }
   ],
   "source": [
    "a=eval(input(\"enter the number1:\"))\n",
    "b=eval(input(\"enter the number2:\"))\n",
    "c=eval(input(\"enter the number3:\"))\n",
    "average=(a+b+c)/3\n",
    "print(\"average of the three number is:\",average)"
   ]
  },
  {
   "cell_type": "code",
   "execution_count": 9,
   "id": "63fb4dd2-5006-4689-9dd9-b15b2565a29b",
   "metadata": {},
   "outputs": [
    {
     "name": "stdin",
     "output_type": "stream",
     "text": [
      "enter the number1: 10\n",
      "enter the number2: 20\n",
      "enter the number3: 30\n"
     ]
    },
    {
     "name": "stdout",
     "output_type": "stream",
     "text": [
      "average of the three number is: {20.0}\n"
     ]
    }
   ],
   "source": [
    "a=eval(input(\"enter the number1:\"))\n",
    "b=eval(input(\"enter the number2:\"))\n",
    "c=eval(input(\"enter the number3:\"))\n",
    "average=(a+b+c)/3\n",
    "print(f\"average of the three number is:\",{average})"
   ]
  },
  {
   "cell_type": "code",
   "execution_count": 12,
   "id": "d4c4443b-6f4a-492c-bda7-9b1be9a3fa55",
   "metadata": {},
   "outputs": [
    {
     "name": "stdin",
     "output_type": "stream",
     "text": [
      "enter the radius: 12\n",
      "enter the pi_value: 3.14\n"
     ]
    },
    {
     "name": "stdout",
     "output_type": "stream",
     "text": [
      "area of circle: 452.15999999999997\n"
     ]
    }
   ],
   "source": [
    "radius=eval(input(\"enter the radius:\"))\n",
    "pi_value=eval(input(\"enter the pi_value:\"))\n",
    "area=pi_value*radius*radius\n",
    "print(\"area of circle:\",area)"
   ]
  },
  {
   "cell_type": "code",
   "execution_count": 13,
   "id": "2f5b7ab6-c6da-469a-9519-264f20c12a4a",
   "metadata": {},
   "outputs": [
    {
     "name": "stdin",
     "output_type": "stream",
     "text": [
      "enter the radius: 12\n",
      "enter the pi_value: 3.14\n"
     ]
    },
    {
     "name": "stdout",
     "output_type": "stream",
     "text": [
      "area of circle: {452.15999999999997}\n"
     ]
    }
   ],
   "source": [
    "radius=eval(input(\"enter the radius:\"))\n",
    "pi_value=eval(input(\"enter the pi_value:\"))\n",
    "area=pi_value*radius*radius\n",
    "print(f\"area of circle:\",{area})"
   ]
  },
  {
   "cell_type": "code",
   "execution_count": 22,
   "id": "41e8ccc8-659c-4ee4-9e90-98bcef155dda",
   "metadata": {},
   "outputs": [
    {
     "name": "stdin",
     "output_type": "stream",
     "text": [
      "enter the number1: 10\n",
      "enter the number2: 30\n"
     ]
    },
    {
     "name": "stdout",
     "output_type": "stream",
     "text": [
      "Addition of 10 and 30 is 40.\n"
     ]
    }
   ],
   "source": [
    "num1=eval(input(\"enter the number1:\"))\n",
    "num2=eval(input(\"enter the number2:\"))\n",
    "Add=num1+num2\n",
    "print(f\"Addition of {num1} and {num2} is {Add}.\")"
   ]
  },
  {
   "cell_type": "code",
   "execution_count": 33,
   "id": "406e1f9a-7b8a-4d84-9e3c-2ea95289dc4f",
   "metadata": {},
   "outputs": [
    {
     "name": "stdin",
     "output_type": "stream",
     "text": [
      "enter the number1: 10\n",
      "enter the number2: 30\n"
     ]
    },
    {
     "name": "stdout",
     "output_type": "stream",
     "text": [
      "Subtraction of 10 and 30 is -20.\n"
     ]
    }
   ],
   "source": [
    "num1=eval(input(\"enter the number1:\"))\n",
    "num2=eval(input(\"enter the number2:\"))\n",
    "Subtract=num1-num2\n",
    "print(f\"Subtraction of {num1} and {num2} is {Subtract}.\")"
   ]
  },
  {
   "cell_type": "code",
   "execution_count": 34,
   "id": "1ad4857c-070f-4354-8ce3-e9e5825872c0",
   "metadata": {},
   "outputs": [
    {
     "name": "stdin",
     "output_type": "stream",
     "text": [
      "enter the number1: 12\n",
      "enter the number2: 12\n"
     ]
    },
    {
     "name": "stdout",
     "output_type": "stream",
     "text": [
      "Multiplication of 12 and 12 is 144.\n"
     ]
    }
   ],
   "source": [
    "num1=eval(input(\"enter the number1:\"))\n",
    "num2=eval(input(\"enter the number2:\"))\n",
    "Multiply=num1*num2\n",
    "print(f\"Multiplication of {num1} and {num2} is {Multiply}.\")"
   ]
  },
  {
   "cell_type": "code",
   "execution_count": 35,
   "id": "ce62e8e2-d451-42bd-9115-6579e2537b90",
   "metadata": {},
   "outputs": [
    {
     "name": "stdin",
     "output_type": "stream",
     "text": [
      "enter the number1: 50\n",
      "enter the number2: 5\n"
     ]
    },
    {
     "name": "stdout",
     "output_type": "stream",
     "text": [
      "Division of 50 and 5 is 10.0.\n"
     ]
    }
   ],
   "source": [
    "num1=eval(input(\"enter the number1:\"))\n",
    "num2=eval(input(\"enter the number2:\"))\n",
    "Divide=num1/num2\n",
    "print(f\"Division of {num1} and {num2} is {Divide}.\")"
   ]
  },
  {
   "cell_type": "code",
   "execution_count": 30,
   "id": "60221e7d-99ff-43e4-9f27-57a9f14ab1fc",
   "metadata": {},
   "outputs": [
    {
     "name": "stdin",
     "output_type": "stream",
     "text": [
      "enter the number1: 12\n",
      "enter the number2: 23\n"
     ]
    },
    {
     "name": "stdout",
     "output_type": "stream",
     "text": [
      "Addition of Two numbers is: 35\n"
     ]
    }
   ],
   "source": [
    "num1=eval(input(\"enter the number1:\"))\n",
    "num2=eval(input(\"enter the number2:\"))\n",
    "Add=num1+num2\n",
    "print(\"Addition of Two numbers is:\", Add)"
   ]
  },
  {
   "cell_type": "code",
   "execution_count": 37,
   "id": "2884356d-f6f0-45aa-9712-95e0f0bca218",
   "metadata": {},
   "outputs": [
    {
     "name": "stdin",
     "output_type": "stream",
     "text": [
      "enter the number1: 12\n",
      "enter the number2: 13\n"
     ]
    },
    {
     "name": "stdout",
     "output_type": "stream",
     "text": [
      "Multiplication of Two numbers is: 156\n"
     ]
    }
   ],
   "source": [
    "num1=eval(input(\"enter the number1:\"))\n",
    "num2=eval(input(\"enter the number2:\"))\n",
    "Multiply=num1*num2\n",
    "print(\"Multiplication of Two numbers is:\", Multiply)"
   ]
  },
  {
   "cell_type": "code",
   "execution_count": 42,
   "id": "36fe20b8-aeda-436f-b513-354621239a33",
   "metadata": {},
   "outputs": [
    {
     "name": "stdin",
     "output_type": "stream",
     "text": [
      "enter the number1: 14\n",
      "enter the number2: 60\n"
     ]
    },
    {
     "name": "stdout",
     "output_type": "stream",
     "text": [
      "Subtraction of Two numbers is: -46\n"
     ]
    }
   ],
   "source": [
    "num1=eval(input(\"enter the number1:\"))\n",
    "num2=eval(input(\"enter the number2:\"))\n",
    "Subtract=num1-num2\n",
    "print(\"Subtraction of Two numbers is:\", Subtract)"
   ]
  },
  {
   "cell_type": "code",
   "execution_count": 43,
   "id": "17ef31d1-0a05-4ead-b702-bc3916ee1ce5",
   "metadata": {},
   "outputs": [
    {
     "name": "stdin",
     "output_type": "stream",
     "text": [
      "enter the number1: 60\n",
      "enter the number2: 12\n"
     ]
    },
    {
     "name": "stdout",
     "output_type": "stream",
     "text": [
      "Division of Two numbers is: 5.0\n"
     ]
    }
   ],
   "source": [
    "num1=eval(input(\"enter the number1:\"))\n",
    "num2=eval(input(\"enter the number2:\"))\n",
    "Divide=num1/num2\n",
    "print(\"Division of Two numbers is:\", Divide)"
   ]
  },
  {
   "cell_type": "code",
   "execution_count": 1,
   "id": "d1cba011-364e-458b-9c6c-d4b2bca676cd",
   "metadata": {},
   "outputs": [
    {
     "name": "stdin",
     "output_type": "stream",
     "text": [
      "enter the radius: 12\n",
      "enter the pi: 3.14\n"
     ]
    },
    {
     "name": "stdout",
     "output_type": "stream",
     "text": [
      "area of circle is:452.15999999999997\n"
     ]
    }
   ],
   "source": [
    "radius=eval(input(\"enter the radius:\"))\n",
    "pi_value=eval(input(\"enter the pi:\"))\n",
    "area=pi_value*radius*radius\n",
    "print(f\"area of circle is:{area}\")"
   ]
  },
  {
   "cell_type": "code",
   "execution_count": 1,
   "id": "1f7c3922-6088-4448-bf9b-f860e1ed4c1e",
   "metadata": {},
   "outputs": [
    {
     "name": "stdin",
     "output_type": "stream",
     "text": [
      "enter the radius: 12\n",
      "enter the pi: 3.14\n"
     ]
    },
    {
     "name": "stdout",
     "output_type": "stream",
     "text": [
      "Area of circle is:452.15999999999997\n",
      "Area of circle is:452.15999999999997\n"
     ]
    }
   ],
   "source": [
    "radius=eval(input(\"enter the radius:\"))\n",
    "pi_value=eval(input(\"enter the pi:\"))\n",
    "area=pi_value*radius*radius\n",
    "print(\"Area of circle is:{}\".format(area))\n",
    "print(f\"Area of circle is:{area}\")"
   ]
  },
  {
   "cell_type": "code",
   "execution_count": 47,
   "id": "0a47c7b5-2262-496f-ac29-360bb9169de9",
   "metadata": {},
   "outputs": [
    {
     "name": "stdin",
     "output_type": "stream",
     "text": [
      "enter the radius: 12\n",
      "enter the pi: 3.14\n"
     ]
    },
    {
     "name": "stdout",
     "output_type": "stream",
     "text": [
      "Area of circle is:452.15999999999997\n",
      "Area of circle is:452.15999999999997\n"
     ]
    }
   ],
   "source": [
    "radius=eval(input(\"enter the radius:\"))\n",
    "pi_value=eval(input(\"enter the pi:\"))\n",
    "area=pi_value*radius*radius\n",
    "print(\"Area of circle is:{}\".format(area))\n",
    "print(f\"Area of circle is:{area}\")"
   ]
  },
  {
   "cell_type": "code",
   "execution_count": 1,
   "id": "be9cd12d-436d-4e52-bcd0-23c49362d8af",
   "metadata": {},
   "outputs": [
    {
     "name": "stdin",
     "output_type": "stream",
     "text": [
      "enter the radius: 12\n",
      "enter the pi: 3.14\n"
     ]
    },
    {
     "name": "stdout",
     "output_type": "stream",
     "text": [
      "Area of circle is:452.15999999999997\n",
      "Area of circle 12 and 3.14 is:452.15999999999997\n"
     ]
    }
   ],
   "source": [
    "radius=eval(input(\"enter the radius:\"))\n",
    "pi_value=eval(input(\"enter the pi:\"))\n",
    "area=pi_value*radius*radius\n",
    "print(\"Area of circle is:{}\".format(area))\n",
    "print(f\"Area of circle {radius} and {pi_value} is:{area}\")"
   ]
  },
  {
   "cell_type": "code",
   "execution_count": null,
   "id": "091d1ccc-69e2-4c8f-8632-4c60ee8d1d18",
   "metadata": {},
   "outputs": [],
   "source": []
  }
 ],
 "metadata": {
  "kernelspec": {
   "display_name": "Python 3 (ipykernel)",
   "language": "python",
   "name": "python3"
  },
  "language_info": {
   "codemirror_mode": {
    "name": "ipython",
    "version": 3
   },
   "file_extension": ".py",
   "mimetype": "text/x-python",
   "name": "python",
   "nbconvert_exporter": "python",
   "pygments_lexer": "ipython3",
   "version": "3.11.7"
  }
 },
 "nbformat": 4,
 "nbformat_minor": 5
}
